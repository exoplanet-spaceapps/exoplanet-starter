{
 "cells": [
  {
   "cell_type": "markdown",
   "metadata": {},
   "source": [
    "# 02 · BLS Baseline\n",
    "以 Lightkurve 下載光曲線 → 去趨勢 → BLS → 摺疊與視覺化"
   ]
  },
  {
   "cell_type": "code",
   "metadata": {},
   "source": "# 環境設定與依賴安裝（Colab）\nimport sys, subprocess, pkgutil\n\ndef pipi(*pkgs):\n    \"\"\"安裝套件的輔助函式\"\"\"\n    subprocess.check_call([sys.executable, \"-m\", \"pip\", \"install\", \"-q\", *pkgs])\n\n# 安裝必要套件（避免 numpy 2.0 相容性問題）\nprint(\"🚀 正在安裝依賴套件...\")\ntry:\n    import numpy as np\n    import lightkurve as lk\n    print(\"✅ 基礎套件已安裝\")\nexcept Exception:\n    pipi(\"numpy<2\", \"lightkurve\", \"astroquery\", \"scikit-learn\", \"matplotlib\", \"wotan\", \"transitleastsquares\")\n    print(\"✅ 依賴套件安裝完成\")\n\n# 檢查 GPU 資訊\nimport torch if 'torch' in [m.name for m in pkgutil.iter_modules()] else None\nif torch is not None and torch.cuda.is_available():\n    gpu_name = torch.cuda.get_device_name(0)\n    print(f\"🖥️ GPU 型號: {gpu_name}\")\n    print(f\"   記憶體: {torch.cuda.get_device_properties(0).total_memory / 1024**3:.2f} GB\")\n    \n    # 如果是 NVIDIA L4，提供 BF16 優化建議\n    if \"L4\" in gpu_name:\n        print(\"💡 偵測到 NVIDIA L4 GPU - 支援高效能 BF16 運算\")\n        print(\"   建議在訓練時使用 torch.autocast('cuda', dtype=torch.bfloat16)\")\nelse:\n    try:\n        # 使用 nvidia-smi 檢查 GPU\n        result = subprocess.run(['nvidia-smi', '--query-gpu=name', '--format=csv,noheader'], \n                              capture_output=True, text=True, check=False)\n        if result.returncode == 0:\n            gpu_name = result.stdout.strip()\n            print(f\"🖥️ GPU 型號: {gpu_name}\")\n            if \"L4\" in gpu_name:\n                print(\"💡 偵測到 NVIDIA L4 GPU - 支援高效能 BF16 運算\")\n    except:\n        print(\"⚠️ 未偵測到 GPU，將使用 CPU 運算\")\n\nprint(\"\\n環境設定完成！\")",
   "outputs": [],
   "execution_count": null
  },
  {
   "cell_type": "code",
   "metadata": {},
   "source": [
    "import lightkurve as lk, numpy as np, matplotlib.pyplot as plt\n",
    "target = \"TIC 25155310\"  # 可更換\n",
    "sr = lk.search_lightcurve(target, mission=\"TESS\", author=\"SPOC\")\n",
    "lc = sr.download().remove_nans()\n",
    "flat = lc.flatten(window_length=401)\n",
    "bls = flat.to_periodogram(method=\"bls\", minimum_period=0.5, maximum_period=20)\n",
    "period = bls.period_at_max_power\n",
    "t0     = bls.transit_time_at_max_power\n",
    "dur    = bls.duration_at_max_power\n",
    "snr    = bls.max_power\n",
    "period, t0, dur, snr"
   ],
   "outputs": [],
   "execution_count": null
  },
  {
   "cell_type": "code",
   "metadata": {},
   "source": [
    "ax = bls.plot(); ax.set_title(\"BLS Power Spectrum\");"
   ],
   "outputs": [],
   "execution_count": null
  },
  {
   "cell_type": "code",
   "metadata": {},
   "source": [
    "# 摺疊光曲線\n",
    "folded = flat.fold(period, t0)\n",
    "ax = folded.plot()\n",
    "ax.set_title(f\"Folded Light Curve (P={period.value:.3f} d)\");"
   ],
   "outputs": [],
   "execution_count": null
  }
 ],
 "metadata": {
  "kernelspec": {
   "display_name": "Python 3",
   "language": "python",
   "name": "python3"
  },
  "language_info": {
   "name": "python",
   "version": "3.x"
  },
  "colab": {
   "provenance": []
  }
 },
 "nbformat": 4,
 "nbformat_minor": 5
}