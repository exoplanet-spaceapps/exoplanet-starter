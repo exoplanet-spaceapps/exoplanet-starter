{
 "cells": [
  {
   "cell_type": "markdown",
   "id": "e7d5e390",
   "metadata": {
    "papermill": {
     "duration": 0.006466,
     "end_time": "2025-09-30T00:16:13.300165",
     "exception": false,
     "start_time": "2025-09-30T00:16:13.293699",
     "status": "completed"
    },
    "tags": []
   },
   "source": [
    "# 03 Injection Training - MINIMAL VERSION\n",
    "\n",
    "**Purpose**: Train supervised exoplanet detection model with proper cell execution order.\n",
    "\n",
    "**Fixed Issues**:\n",
    "- ✅ All imports in one cell\n",
    "- ✅ `feature_cols` defined BEFORE use\n",
    "- ✅ Proper DataFrame indexing with `.iloc[]`\n",
    "- ✅ Removed broken calibration cells\n",
    "- ✅ Removed visualization cells with undefined variables\n",
    "\n",
    "**Workflow**: Load Data → Extract Features → Train → Save Model"
   ]
  },
  {
   "cell_type": "markdown",
   "id": "b4374ac9",
   "metadata": {
    "papermill": {
     "duration": 0.004091,
     "end_time": "2025-09-30T00:16:13.308798",
     "exception": false,
     "start_time": "2025-09-30T00:16:13.304707",
     "status": "completed"
    },
    "tags": []
   },
   "source": [
    "## Cell 1: Installation (Colab Only)"
   ]
  },
  {
   "cell_type": "code",
   "execution_count": 1,
   "id": "82b6e5cc",
   "metadata": {
    "execution": {
     "iopub.execute_input": "2025-09-30T00:16:13.317488Z",
     "iopub.status.busy": "2025-09-30T00:16:13.317190Z",
     "iopub.status.idle": "2025-09-30T00:16:13.323538Z",
     "shell.execute_reply": "2025-09-30T00:16:13.322807Z"
    },
    "papermill": {
     "duration": 0.011212,
     "end_time": "2025-09-30T00:16:13.324800",
     "exception": false,
     "start_time": "2025-09-30T00:16:13.313588",
     "status": "completed"
    },
    "tags": []
   },
   "outputs": [
    {
     "name": "stdout",
     "output_type": "stream",
     "text": [
      "✅ Running locally, skipping installation\n"
     ]
    }
   ],
   "source": [
    "# Run this cell ONLY if on Google Colab\n",
    "import sys\n",
    "if 'google.colab' in sys.modules:\n",
    "    print(\"📦 Installing dependencies for Colab...\")\n",
    "    !pip install -q numpy==1.26.4 'scipy<1.13' astropy lightkurve pandas scikit-learn xgboost joblib\n",
    "    !pip install -q transitleastsquares\n",
    "    print(\"✅ Installation complete\")\n",
    "    print(\"⚠️ RESTART RUNTIME NOW, then continue from Cell 2\")\n",
    "else:\n",
    "    print(\"✅ Running locally, skipping installation\")"
   ]
  },
  {
   "cell_type": "markdown",
   "id": "bd777254",
   "metadata": {
    "papermill": {
     "duration": 0.005904,
     "end_time": "2025-09-30T00:16:13.334483",
     "exception": false,
     "start_time": "2025-09-30T00:16:13.328579",
     "status": "completed"
    },
    "tags": []
   },
   "source": [
    "## Cell 2: All Imports"
   ]
  },
  {
   "cell_type": "code",
   "execution_count": 2,
   "id": "6d371e2c",
   "metadata": {
    "execution": {
     "iopub.execute_input": "2025-09-30T00:16:13.344284Z",
     "iopub.status.busy": "2025-09-30T00:16:13.343390Z",
     "iopub.status.idle": "2025-09-30T00:16:22.848126Z",
     "shell.execute_reply": "2025-09-30T00:16:22.846831Z"
    },
    "papermill": {
     "duration": 9.512176,
     "end_time": "2025-09-30T00:16:22.850609",
     "exception": false,
     "start_time": "2025-09-30T00:16:13.338433",
     "status": "completed"
    },
    "tags": []
   },
   "outputs": [
    {
     "name": "stderr",
     "output_type": "stream",
     "text": [
      "C:\\Users\\thc1006\\AppData\\Roaming\\Python\\Python313\\site-packages\\lightkurve\\prf\\__init__.py:7: UserWarning: Warning: the tpfmodel submodule is not available without oktopus installed, which requires a current version of autograd. See #1452 for details.\n",
      "  warnings.warn(\n"
     ]
    },
    {
     "name": "stdout",
     "output_type": "stream",
     "text": [
      "✅ All imports successful\n",
      "   NumPy: 2.3.1\n",
      "   Pandas: 2.3.1\n",
      "   XGBoost: 3.0.5\n",
      "   Lightkurve: 2.5.1\n"
     ]
    }
   ],
   "source": [
    "# Standard library\n",
    "import os\n",
    "import sys\n",
    "import warnings\n",
    "from pathlib import Path\n",
    "from typing import Dict, List, Tuple, Optional\n",
    "\n",
    "# Scientific computing\n",
    "import numpy as np\n",
    "import pandas as pd\n",
    "\n",
    "# Machine learning\n",
    "from sklearn.model_selection import StratifiedGroupKFold\n",
    "from sklearn.pipeline import Pipeline\n",
    "from sklearn.impute import SimpleImputer\n",
    "from sklearn.preprocessing import StandardScaler\n",
    "from sklearn.metrics import average_precision_score, roc_auc_score\n",
    "import xgboost as xgb\n",
    "import joblib\n",
    "\n",
    "# Astronomy\n",
    "import lightkurve as lk\n",
    "from astropy.timeseries import BoxLeastSquares\n",
    "from transitleastsquares import transitleastsquares\n",
    "\n",
    "# Suppress warnings\n",
    "warnings.filterwarnings('ignore')\n",
    "\n",
    "# Set random seed\n",
    "np.random.seed(42)\n",
    "\n",
    "print(\"✅ All imports successful\")\n",
    "print(f\"   NumPy: {np.__version__}\")\n",
    "print(f\"   Pandas: {pd.__version__}\")\n",
    "print(f\"   XGBoost: {xgb.__version__}\")\n",
    "print(f\"   Lightkurve: {lk.__version__}\")"
   ]
  },
  {
   "cell_type": "markdown",
   "id": "934dc23e",
   "metadata": {
    "papermill": {
     "duration": 0.004882,
     "end_time": "2025-09-30T00:16:22.859927",
     "exception": false,
     "start_time": "2025-09-30T00:16:22.855045",
     "status": "completed"
    },
    "tags": []
   },
   "source": [
    "## Cell 3: Setup Paths and Helper Functions"
   ]
  },
  {
   "cell_type": "code",
   "execution_count": 3,
   "id": "44d8135f",
   "metadata": {
    "execution": {
     "iopub.execute_input": "2025-09-30T00:16:22.872938Z",
     "iopub.status.busy": "2025-09-30T00:16:22.871729Z",
     "iopub.status.idle": "2025-09-30T00:16:22.884089Z",
     "shell.execute_reply": "2025-09-30T00:16:22.882933Z"
    },
    "papermill": {
     "duration": 0.02002,
     "end_time": "2025-09-30T00:16:22.885711",
     "exception": false,
     "start_time": "2025-09-30T00:16:22.865691",
     "status": "completed"
    },
    "tags": []
   },
   "outputs": [
    {
     "name": "stdout",
     "output_type": "stream",
     "text": [
      "✅ Paths configured:\n",
      "   Base: C:\\Users\\thc1006\\Desktop\\dev\\exoplanet-starter\n",
      "   Data: C:\\Users\\thc1006\\Desktop\\dev\\exoplanet-starter\\data\n",
      "   Models: C:\\Users\\thc1006\\Desktop\\dev\\exoplanet-starter\\models\n",
      "\n",
      "✅ Helper functions defined\n"
     ]
    }
   ],
   "source": [
    "# Setup paths\n",
    "if 'google.colab' in sys.modules:\n",
    "    from google.colab import drive\n",
    "    drive.mount('/content/drive', force_remount=False)\n",
    "    BASE_DIR = Path('/content/drive/MyDrive/spaceapps-exoplanet')\n",
    "    BASE_DIR.mkdir(parents=True, exist_ok=True)\n",
    "else:\n",
    "    BASE_DIR = Path(os.getcwd()).parent\n",
    "\n",
    "DATA_DIR = BASE_DIR / 'data'\n",
    "MODEL_DIR = BASE_DIR / 'models'\n",
    "MODEL_DIR.mkdir(parents=True, exist_ok=True)\n",
    "\n",
    "print(f\"✅ Paths configured:\")\n",
    "print(f\"   Base: {BASE_DIR}\")\n",
    "print(f\"   Data: {DATA_DIR}\")\n",
    "print(f\"   Models: {MODEL_DIR}\")\n",
    "\n",
    "# Helper: Get XGBoost GPU params\n",
    "def get_xgboost_gpu_params() -> Dict:\n",
    "    \"\"\"Check GPU availability and return XGBoost parameters.\"\"\"\n",
    "    try:\n",
    "        import torch\n",
    "        if torch.cuda.is_available():\n",
    "            print(\"✅ GPU detected, using tree_method='hist' with GPU\")\n",
    "            return {'tree_method': 'hist', 'device': 'cuda'}\n",
    "    except ImportError:\n",
    "        pass\n",
    "    print(\"ℹ️ No GPU, using tree_method='hist' with CPU\")\n",
    "    return {'tree_method': 'hist'}\n",
    "\n",
    "# Helper: Create pipeline\n",
    "def create_exoplanet_pipeline(\n",
    "    numerical_features: List[str],\n",
    "    xgb_params: Dict = None,\n",
    "    n_estimators: int = 100,\n",
    "    max_depth: int = 6,\n",
    "    learning_rate: float = 0.1,\n",
    "    random_state: int = 42\n",
    ") -> Pipeline:\n",
    "    \"\"\"Create sklearn Pipeline with preprocessing and XGBoost.\"\"\"\n",
    "    if xgb_params is None:\n",
    "        xgb_params = {}\n",
    "    \n",
    "    pipeline = Pipeline([\n",
    "        ('imputer', SimpleImputer(strategy='median')),\n",
    "        ('scaler', StandardScaler()),\n",
    "        ('classifier', xgb.XGBClassifier(\n",
    "            n_estimators=n_estimators,\n",
    "            max_depth=max_depth,\n",
    "            learning_rate=learning_rate,\n",
    "            random_state=random_state,\n",
    "            eval_metric='logloss',\n",
    "            **xgb_params\n",
    "        ))\n",
    "    ])\n",
    "    return pipeline\n",
    "\n",
    "print(\"\\n✅ Helper functions defined\")"
   ]
  },
  {
   "cell_type": "markdown",
   "id": "f7a40bb8",
   "metadata": {
    "papermill": {
     "duration": 0.006319,
     "end_time": "2025-09-30T00:16:22.897865",
     "exception": false,
     "start_time": "2025-09-30T00:16:22.891546",
     "status": "completed"
    },
    "tags": []
   },
   "source": [
    "## Cell 4: Load Data"
   ]
  },
  {
   "cell_type": "code",
   "execution_count": 4,
   "id": "af61a5c5",
   "metadata": {
    "execution": {
     "iopub.execute_input": "2025-09-30T00:16:22.909934Z",
     "iopub.status.busy": "2025-09-30T00:16:22.909495Z",
     "iopub.status.idle": "2025-09-30T00:16:23.010098Z",
     "shell.execute_reply": "2025-09-30T00:16:23.008801Z"
    },
    "papermill": {
     "duration": 0.109439,
     "end_time": "2025-09-30T00:16:23.012039",
     "exception": false,
     "start_time": "2025-09-30T00:16:22.902600",
     "status": "completed"
    },
    "tags": []
   },
   "outputs": [
    {
     "name": "stdout",
     "output_type": "stream",
     "text": [
      "✅ Loaded supervised dataset: C:\\Users\\thc1006\\Desktop\\dev\\exoplanet-starter\\data\\supervised_dataset.csv\n",
      "   Total samples: 11979\n",
      "   Original columns: ['label', 'source', 'toi', 'tid', 'target_id', 'period', 'depth', 'duration', 'kepid']\n",
      "\n",
      "🔧 Applying column mappings...\n",
      "   ✅ Mapped 'tid' → 'tic_id'\n",
      "   ✅ Generated 'sample_id' from index\n",
      "   ✅ Set default 'sector' = 1\n",
      "   ✅ Calculated 'epoch' from period\n",
      "\n",
      "✅ Column mapping complete\n",
      "   Updated columns: ['label', 'source', 'toi', 'tid', 'target_id', 'period', 'depth', 'duration', 'kepid', 'tic_id', 'sample_id', 'sector', 'epoch']\n",
      "\n",
      "First few rows after mapping:\n",
      "       sample_id       tic_id  sector    period  duration     epoch  \\\n",
      "0  SAMPLE_000000   88863718.0       1  1.931646  3.166000  0.965823   \n",
      "1  SAMPLE_000001   65212867.0       1  6.998921  3.953000  3.499460   \n",
      "2  SAMPLE_000002  107782586.0       1  1.960028  2.006526  0.980014   \n",
      "3  SAMPLE_000003  231663901.0       1  1.430370  1.616599  0.715185   \n",
      "4  SAMPLE_000004  114018671.0       1  2.470498  2.191000  1.235249   \n",
      "\n",
      "          depth  label  \n",
      "0   1286.000000      1  \n",
      "1   2840.000000      1  \n",
      "2   1707.627269      1  \n",
      "3  18960.712294      1  \n",
      "4    250.000000      1  \n",
      "\n",
      "✅ All required columns present\n",
      "   Positive samples: 5944 (49.62%)\n",
      "   Negative samples: 6035 (50.38%)\n"
     ]
    }
   ],
   "source": [
    "# Load supervised dataset\n",
    "supervised_path = DATA_DIR / 'supervised_dataset.csv'\n",
    "\n",
    "if not supervised_path.exists():\n",
    "    raise FileNotFoundError(f\"❌ Dataset not found: {supervised_path}\")\n",
    "\n",
    "samples_df = pd.read_csv(supervised_path)\n",
    "\n",
    "print(f\"✅ Loaded supervised dataset: {supervised_path}\")\n",
    "print(f\"   Total samples: {len(samples_df)}\")\n",
    "print(f\"   Original columns: {list(samples_df.columns)}\")\n",
    "\n",
    "# ==== COLUMN MAPPING FIX ====\n",
    "# Map existing columns to expected schema\n",
    "print(\"\\n🔧 Applying column mappings...\")\n",
    "\n",
    "# Map tid → tic_id (TIC ID is in 'tid' or 'target_id' column)\n",
    "if 'tic_id' not in samples_df.columns:\n",
    "    if 'tid' in samples_df.columns:\n",
    "        samples_df['tic_id'] = samples_df['tid']\n",
    "        print(\"   ✅ Mapped 'tid' → 'tic_id'\")\n",
    "    elif 'target_id' in samples_df.columns:\n",
    "        samples_df['tic_id'] = samples_df['target_id']\n",
    "        print(\"   ✅ Mapped 'target_id' → 'tic_id'\")\n",
    "\n",
    "# Generate sample_id from index\n",
    "if 'sample_id' not in samples_df.columns:\n",
    "    samples_df['sample_id'] = [f\"SAMPLE_{i:06d}\" for i in range(len(samples_df))]\n",
    "    print(\"   ✅ Generated 'sample_id' from index\")\n",
    "\n",
    "# Set default sector (TESS observing sector)\n",
    "if 'sector' not in samples_df.columns:\n",
    "    samples_df['sector'] = 1  # Default to sector 1, can be refined later\n",
    "    print(\"   ✅ Set default 'sector' = 1\")\n",
    "\n",
    "# Calculate epoch (transit mid-point, approximate as period/2 if not available)\n",
    "if 'epoch' not in samples_df.columns:\n",
    "    if 'period' in samples_df.columns:\n",
    "        samples_df['epoch'] = samples_df['period'] * 0.5\n",
    "        print(\"   ✅ Calculated 'epoch' from period\")\n",
    "    else:\n",
    "        samples_df['epoch'] = 0.0\n",
    "        print(\"   ⚠️ Set default 'epoch' = 0.0\")\n",
    "\n",
    "print(f\"\\n✅ Column mapping complete\")\n",
    "print(f\"   Updated columns: {list(samples_df.columns)}\")\n",
    "print(f\"\\nFirst few rows after mapping:\")\n",
    "print(samples_df[['sample_id', 'tic_id', 'sector', 'period', 'duration', 'epoch', 'depth', 'label']].head())\n",
    "\n",
    "# Verify required columns\n",
    "required_cols = ['sample_id', 'tic_id', 'sector', 'period', 'duration', 'epoch', 'depth', 'label']\n",
    "missing_cols = [col for col in required_cols if col not in samples_df.columns]\n",
    "if missing_cols:\n",
    "    print(f\"\\n❌ Still missing columns: {missing_cols}\")\n",
    "    raise ValueError(f\"Missing required columns after mapping: {missing_cols}\")\n",
    "else:\n",
    "    print(f\"\\n✅ All required columns present\")\n",
    "    print(f\"   Positive samples: {samples_df['label'].sum()} ({samples_df['label'].mean():.2%})\")\n",
    "    print(f\"   Negative samples: {(~samples_df['label'].astype(bool)).sum()} ({(~samples_df['label'].astype(bool)).mean():.2%})\")"
   ]
  },
  {
   "cell_type": "markdown",
   "id": "a365bc25",
   "metadata": {
    "papermill": {
     "duration": 0.005492,
     "end_time": "2025-09-30T00:16:23.025550",
     "exception": false,
     "start_time": "2025-09-30T00:16:23.020058",
     "status": "completed"
    },
    "tags": []
   },
   "source": [
    "## Cell 5: Feature Extraction Function"
   ]
  },
  {
   "cell_type": "code",
   "execution_count": 5,
   "id": "eeecf2c5",
   "metadata": {
    "execution": {
     "iopub.execute_input": "2025-09-30T00:16:23.036985Z",
     "iopub.status.busy": "2025-09-30T00:16:23.036087Z",
     "iopub.status.idle": "2025-09-30T00:16:23.052805Z",
     "shell.execute_reply": "2025-09-30T00:16:23.051760Z"
    },
    "papermill": {
     "duration": 0.024212,
     "end_time": "2025-09-30T00:16:23.054484",
     "exception": false,
     "start_time": "2025-09-30T00:16:23.030272",
     "status": "completed"
    },
    "tags": []
   },
   "outputs": [
    {
     "name": "stdout",
     "output_type": "stream",
     "text": [
      "✅ Feature extraction functions defined"
     ]
    },
    {
     "name": "stdout",
     "output_type": "stream",
     "text": [
      "\n"
     ]
    }
   ],
   "source": [
    "def extract_features_from_lightcurve(\n",
    "    time: np.ndarray,\n",
    "    flux: np.ndarray,\n",
    "    period: float,\n",
    "    duration: float,\n",
    "    epoch: float,\n",
    "    depth: float\n",
    ") -> Dict[str, float]:\n",
    "    \"\"\"Extract BLS/TLS features from light curve.\"\"\"\n",
    "    features = {}\n",
    "    \n",
    "    # Basic statistics\n",
    "    features['flux_mean'] = np.nanmean(flux)\n",
    "    features['flux_std'] = np.nanstd(flux)\n",
    "    features['flux_median'] = np.nanmedian(flux)\n",
    "    features['flux_mad'] = np.nanmedian(np.abs(flux - np.nanmedian(flux)))\n",
    "    \n",
    "    # Input parameters\n",
    "    features['input_period'] = period\n",
    "    features['input_duration'] = duration\n",
    "    features['input_depth'] = depth\n",
    "    features['input_epoch'] = epoch\n",
    "    \n",
    "    # BLS analysis\n",
    "    try:\n",
    "        bls = BoxLeastSquares(time, flux)\n",
    "        periods = np.linspace(0.5, 15.0, 5000)\n",
    "        durations = np.linspace(0.05, 0.5, 10)\n",
    "        bls_result = bls.power(periods, durations)\n",
    "        \n",
    "        features['bls_power'] = float(bls_result.power.max())\n",
    "        features['bls_period'] = float(bls_result.period[np.argmax(bls_result.power)])\n",
    "        features['bls_duration'] = float(bls_result.duration[np.argmax(bls_result.power)])\n",
    "        features['bls_depth'] = float(bls_result.depth[np.argmax(bls_result.power)])\n",
    "    except Exception as e:\n",
    "        print(f\"⚠️ BLS failed: {e}\")\n",
    "        features['bls_power'] = 0.0\n",
    "        features['bls_period'] = period\n",
    "        features['bls_duration'] = duration\n",
    "        features['bls_depth'] = depth\n",
    "    \n",
    "    # TLS analysis\n",
    "    try:\n",
    "        tls_result = transitleastsquares(time, flux)\n",
    "        tls_power = tls_result.power(period_min=0.5, period_max=15.0, n_transits_min=2)\n",
    "        \n",
    "        features['tls_power'] = float(tls_power['power'].max())\n",
    "        features['tls_period'] = float(tls_power['period'])\n",
    "        features['tls_duration'] = float(tls_power['duration'])\n",
    "        features['tls_depth'] = float(tls_power['depth'])\n",
    "        features['tls_snr'] = float(tls_power.get('snr', 0.0))\n",
    "    except Exception as e:\n",
    "        print(f\"⚠️ TLS failed: {e}\")\n",
    "        features['tls_power'] = 0.0\n",
    "        features['tls_period'] = period\n",
    "        features['tls_duration'] = duration\n",
    "        features['tls_depth'] = depth\n",
    "        features['tls_snr'] = 0.0\n",
    "    \n",
    "    return features\n",
    "\n",
    "def extract_features_batch(\n",
    "    samples_df: pd.DataFrame,\n",
    "    max_samples: Optional[int] = None\n",
    ") -> pd.DataFrame:\n",
    "    \"\"\"Extract features for batch of samples.\"\"\"\n",
    "    if max_samples:\n",
    "        samples_df = samples_df.head(max_samples)\n",
    "    \n",
    "    all_features = []\n",
    "    \n",
    "    for idx, row in samples_df.iterrows():\n",
    "        try:\n",
    "            # FIX: Convert tic_id to integer (remove .0 decimal)\n",
    "            tic_id = int(float(row['tic_id']))\n",
    "            sector = int(row['sector'])\n",
    "            \n",
    "            # Download light curve with integer TIC ID\n",
    "            lc_collection = lk.search_lightcurve(\n",
    "                f\"TIC {tic_id}\",  # ✅ Integer format\n",
    "                sector=sector,\n",
    "                author='SPOC'\n",
    "            ).download_all()\n",
    "            \n",
    "            if lc_collection is None or len(lc_collection) == 0:\n",
    "                print(f\"⚠️ No data for TIC {tic_id} sector {sector}\")\n",
    "                continue\n",
    "            \n",
    "            lc = lc_collection[0].remove_nans().normalize()\n",
    "            time = lc.time.value\n",
    "            flux = lc.flux.value\n",
    "            \n",
    "            # Extract features\n",
    "            features = extract_features_from_lightcurve(\n",
    "                time, flux,\n",
    "                row['period'], row['duration'],\n",
    "                row['epoch'], row['depth']\n",
    "            )\n",
    "            \n",
    "            features['sample_id'] = row['sample_id']\n",
    "            features['label'] = row['label']\n",
    "            all_features.append(features)\n",
    "            \n",
    "            if len(all_features) % 10 == 0:\n",
    "                print(f\"✓ Processed {len(all_features)} samples\")\n",
    "                \n",
    "        except Exception as e:\n",
    "            print(f\"❌ Error processing {row['sample_id']}: {e}\")\n",
    "            continue\n",
    "    \n",
    "    features_df = pd.DataFrame(all_features)\n",
    "    print(f\"\\n✅ Feature extraction complete: {len(features_df)} samples\")\n",
    "    return features_df\n",
    "\n",
    "print(\"✅ Feature extraction functions defined\")"
   ]
  },
  {
   "cell_type": "markdown",
   "id": "8c3ebdeb",
   "metadata": {
    "papermill": {
     "duration": 0.003927,
     "end_time": "2025-09-30T00:16:23.063209",
     "exception": false,
     "start_time": "2025-09-30T00:16:23.059282",
     "status": "completed"
    },
    "tags": []
   },
   "source": [
    "## Cell 6: Extract Features (CRITICAL - Defines feature_cols)"
   ]
  },
  {
   "cell_type": "code",
   "execution_count": 6,
   "id": "1807dca8",
   "metadata": {
    "execution": {
     "iopub.execute_input": "2025-09-30T00:16:23.078389Z",
     "iopub.status.busy": "2025-09-30T00:16:23.077843Z"
    },
    "papermill": {
     "duration": null,
     "end_time": null,
     "exception": false,
     "start_time": "2025-09-30T00:16:23.068553",
     "status": "running"
    },
    "tags": []
   },
   "outputs": [
    {
     "name": "stdout",
     "output_type": "stream",
     "text": [
      "🚀 Starting feature extraction..."
     ]
    },
    {
     "name": "stdout",
     "output_type": "stream",
     "text": [
      "\n",
      "⚠️ This may take 10-30 minutes depending on number of samples\n",
      "\n"
     ]
    },
    {
     "name": "stderr",
     "output_type": "stream",
     "text": [
      "No data found for target \"TIC 88863718\".\n"
     ]
    },
    {
     "name": "stdout",
     "output_type": "stream",
     "text": [
      "⚠️ No data for TIC 88863718 sector 1\n"
     ]
    },
    {
     "name": "stderr",
     "output_type": "stream",
     "text": [
      "No data found for target \"TIC 65212867\".\n"
     ]
    },
    {
     "name": "stdout",
     "output_type": "stream",
     "text": [
      "⚠️ No data for TIC 65212867 sector 1\n"
     ]
    },
    {
     "name": "stderr",
     "output_type": "stream",
     "text": [
      "No data found for target \"TIC 107782586\".\n"
     ]
    },
    {
     "name": "stdout",
     "output_type": "stream",
     "text": [
      "⚠️ No data for TIC 107782586 sector 1\n"
     ]
    },
    {
     "name": "stdout",
     "output_type": "stream",
     "text": [
      "⚠️ BLS failed: The maximum transit duration must be shorter than the minimum period\n"
     ]
    },
    {
     "name": "stdout",
     "output_type": "stream",
     "text": [
      "Transit Least Squares TLS 1.32 (5 Apr 2024)\n"
     ]
    },
    {
     "name": "stdout",
     "output_type": "stream",
     "text": [
      "Creating model cache for 38 durations\n",
      "Searching 18276 data points, 2554 periods from 0.601 to 13.94 days\n",
      "Using all 8 CPU threads\n"
     ]
    },
    {
     "name": "stderr",
     "output_type": "stream",
     "text": [
      "\r",
      "  0%|          | 0/2554 periods | 00:00<?"
     ]
    },
    {
     "name": "stderr",
     "output_type": "stream",
     "text": [
      "\r",
      "  0%|          | 1/2554 periods | 00:09<6:58:58"
     ]
    },
    {
     "name": "stderr",
     "output_type": "stream",
     "text": [
      "\r",
      "  1%|          | 17/2554 periods | 00:09<17:42 "
     ]
    },
    {
     "name": "stderr",
     "output_type": "stream",
     "text": [
      "\r",
      "  2%|▏         | 43/2554 periods | 00:10<05:32"
     ]
    },
    {
     "name": "stderr",
     "output_type": "stream",
     "text": [
      "\r",
      "  3%|▎         | 71/2554 periods | 00:10<02:44"
     ]
    },
    {
     "name": "stderr",
     "output_type": "stream",
     "text": [
      "\r",
      "  4%|▍         | 99/2554 periods | 00:10<01:37"
     ]
    },
    {
     "name": "stderr",
     "output_type": "stream",
     "text": [
      "\r",
      "  5%|▍         | 127/2554 periods | 00:10<01:03"
     ]
    },
    {
     "name": "stderr",
     "output_type": "stream",
     "text": [
      "\r",
      "  6%|▌         | 153/2554 periods | 00:10<00:45"
     ]
    },
    {
     "name": "stderr",
     "output_type": "stream",
     "text": [
      "\r",
      "  7%|▋         | 180/2554 periods | 00:10<00:32"
     ]
    },
    {
     "name": "stderr",
     "output_type": "stream",
     "text": [
      "\r",
      "  8%|▊         | 207/2554 periods | 00:10<00:25"
     ]
    },
    {
     "name": "stderr",
     "output_type": "stream",
     "text": [
      "\r",
      "  9%|▉         | 233/2554 periods | 00:10<00:19"
     ]
    },
    {
     "name": "stderr",
     "output_type": "stream",
     "text": [
      "\r",
      " 10%|█         | 259/2554 periods | 00:10<00:16"
     ]
    },
    {
     "name": "stderr",
     "output_type": "stream",
     "text": [
      "\r",
      " 11%|█         | 285/2554 periods | 00:10<00:14"
     ]
    },
    {
     "name": "stderr",
     "output_type": "stream",
     "text": [
      "\r",
      " 12%|█▏        | 312/2554 periods | 00:11<00:12"
     ]
    },
    {
     "name": "stderr",
     "output_type": "stream",
     "text": [
      "\r",
      " 13%|█▎        | 338/2554 periods | 00:11<00:11"
     ]
    },
    {
     "name": "stderr",
     "output_type": "stream",
     "text": [
      "\r",
      " 14%|█▍        | 366/2554 periods | 00:11<00:10"
     ]
    },
    {
     "name": "stderr",
     "output_type": "stream",
     "text": [
      "\r",
      " 15%|█▌        | 393/2554 periods | 00:11<00:09"
     ]
    },
    {
     "name": "stderr",
     "output_type": "stream",
     "text": [
      "\r",
      " 16%|█▋        | 419/2554 periods | 00:11<00:09"
     ]
    },
    {
     "name": "stderr",
     "output_type": "stream",
     "text": [
      "\r",
      " 17%|█▋        | 445/2554 periods | 00:11<00:08"
     ]
    },
    {
     "name": "stderr",
     "output_type": "stream",
     "text": [
      "\r",
      " 18%|█▊        | 471/2554 periods | 00:11<00:08"
     ]
    },
    {
     "name": "stderr",
     "output_type": "stream",
     "text": [
      "\r",
      " 19%|█▉        | 496/2554 periods | 00:11<00:08"
     ]
    },
    {
     "name": "stderr",
     "output_type": "stream",
     "text": [
      "\r",
      " 21%|██        | 527/2554 periods | 00:11<00:07"
     ]
    },
    {
     "name": "stderr",
     "output_type": "stream",
     "text": [
      "\r",
      " 22%|██▏       | 555/2554 periods | 00:12<00:07"
     ]
    },
    {
     "name": "stderr",
     "output_type": "stream",
     "text": [
      "\r",
      " 23%|██▎       | 586/2554 periods | 00:12<00:07"
     ]
    },
    {
     "name": "stderr",
     "output_type": "stream",
     "text": [
      "\r",
      " 24%|██▍       | 616/2554 periods | 00:12<00:06"
     ]
    },
    {
     "name": "stderr",
     "output_type": "stream",
     "text": [
      "\r",
      " 25%|██▌       | 645/2554 periods | 00:12<00:06"
     ]
    },
    {
     "name": "stderr",
     "output_type": "stream",
     "text": [
      "\r",
      " 26%|██▋       | 673/2554 periods | 00:12<00:06"
     ]
    },
    {
     "name": "stderr",
     "output_type": "stream",
     "text": [
      "\r",
      " 27%|██▋       | 701/2554 periods | 00:12<00:06"
     ]
    },
    {
     "name": "stderr",
     "output_type": "stream",
     "text": [
      "\r",
      " 29%|██▊       | 729/2554 periods | 00:12<00:07"
     ]
    },
    {
     "name": "stderr",
     "output_type": "stream",
     "text": [
      "\r",
      " 30%|██▉       | 758/2554 periods | 00:12<00:06"
     ]
    },
    {
     "name": "stderr",
     "output_type": "stream",
     "text": [
      "\r",
      " 31%|███       | 786/2554 periods | 00:12<00:06"
     ]
    },
    {
     "name": "stderr",
     "output_type": "stream",
     "text": [
      "\r",
      " 32%|███▏      | 813/2554 periods | 00:12<00:06"
     ]
    },
    {
     "name": "stderr",
     "output_type": "stream",
     "text": [
      "\r",
      " 33%|███▎      | 840/2554 periods | 00:13<00:06"
     ]
    },
    {
     "name": "stderr",
     "output_type": "stream",
     "text": [
      "\r",
      " 34%|███▍      | 870/2554 periods | 00:13<00:06"
     ]
    },
    {
     "name": "stderr",
     "output_type": "stream",
     "text": [
      "\r",
      " 35%|███▌      | 897/2554 periods | 00:13<00:06"
     ]
    },
    {
     "name": "stderr",
     "output_type": "stream",
     "text": [
      "\r",
      " 36%|███▌      | 924/2554 periods | 00:13<00:06"
     ]
    },
    {
     "name": "stderr",
     "output_type": "stream",
     "text": [
      "\r",
      " 37%|███▋      | 951/2554 periods | 00:13<00:06"
     ]
    },
    {
     "name": "stderr",
     "output_type": "stream",
     "text": [
      "\r",
      " 38%|███▊      | 977/2554 periods | 00:13<00:06"
     ]
    },
    {
     "name": "stderr",
     "output_type": "stream",
     "text": [
      "\r",
      " 39%|███▉      | 1003/2554 periods | 00:13<00:06"
     ]
    },
    {
     "name": "stderr",
     "output_type": "stream",
     "text": [
      "\r",
      " 40%|████      | 1030/2554 periods | 00:13<00:05"
     ]
    },
    {
     "name": "stderr",
     "output_type": "stream",
     "text": [
      "\r",
      " 42%|████▏     | 1060/2554 periods | 00:13<00:05"
     ]
    },
    {
     "name": "stderr",
     "output_type": "stream",
     "text": [
      "\r",
      " 43%|████▎     | 1088/2554 periods | 00:14<00:05"
     ]
    },
    {
     "name": "stderr",
     "output_type": "stream",
     "text": [
      "\r",
      " 44%|████▎     | 1115/2554 periods | 00:14<00:05"
     ]
    },
    {
     "name": "stderr",
     "output_type": "stream",
     "text": [
      "\r",
      " 45%|████▍     | 1142/2554 periods | 00:14<00:05"
     ]
    },
    {
     "name": "stderr",
     "output_type": "stream",
     "text": [
      "\r",
      " 46%|████▌     | 1168/2554 periods | 00:14<00:05"
     ]
    },
    {
     "name": "stderr",
     "output_type": "stream",
     "text": [
      "\r",
      " 47%|████▋     | 1193/2554 periods | 00:14<00:05"
     ]
    },
    {
     "name": "stderr",
     "output_type": "stream",
     "text": [
      "\r",
      " 48%|████▊     | 1217/2554 periods | 00:14<00:05"
     ]
    },
    {
     "name": "stderr",
     "output_type": "stream",
     "text": [
      "\r",
      " 49%|████▉     | 1246/2554 periods | 00:14<00:05"
     ]
    },
    {
     "name": "stderr",
     "output_type": "stream",
     "text": [
      "\r",
      " 50%|████▉     | 1272/2554 periods | 00:14<00:05"
     ]
    },
    {
     "name": "stderr",
     "output_type": "stream",
     "text": [
      "\r",
      " 51%|█████     | 1298/2554 periods | 00:14<00:05"
     ]
    },
    {
     "name": "stderr",
     "output_type": "stream",
     "text": [
      "\r",
      " 52%|█████▏    | 1325/2554 periods | 00:15<00:04"
     ]
    },
    {
     "name": "stderr",
     "output_type": "stream",
     "text": [
      "\r",
      " 53%|█████▎    | 1354/2554 periods | 00:15<00:04"
     ]
    },
    {
     "name": "stderr",
     "output_type": "stream",
     "text": [
      "\r",
      " 54%|█████▍    | 1383/2554 periods | 00:15<00:04"
     ]
    },
    {
     "name": "stderr",
     "output_type": "stream",
     "text": [
      "\r",
      " 55%|█████▌    | 1412/2554 periods | 00:15<00:04"
     ]
    },
    {
     "name": "stderr",
     "output_type": "stream",
     "text": [
      "\r",
      " 56%|█████▋    | 1439/2554 periods | 00:15<00:04"
     ]
    },
    {
     "name": "stderr",
     "output_type": "stream",
     "text": [
      "\r",
      " 57%|█████▋    | 1466/2554 periods | 00:15<00:04"
     ]
    },
    {
     "name": "stderr",
     "output_type": "stream",
     "text": [
      "\r",
      " 59%|█████▊    | 1495/2554 periods | 00:15<00:03"
     ]
    },
    {
     "name": "stderr",
     "output_type": "stream",
     "text": [
      "\r",
      " 60%|█████▉    | 1523/2554 periods | 00:15<00:03"
     ]
    },
    {
     "name": "stderr",
     "output_type": "stream",
     "text": [
      "\r",
      " 61%|██████    | 1552/2554 periods | 00:15<00:03"
     ]
    },
    {
     "name": "stderr",
     "output_type": "stream",
     "text": [
      "\r",
      " 62%|██████▏   | 1580/2554 periods | 00:15<00:03"
     ]
    },
    {
     "name": "stderr",
     "output_type": "stream",
     "text": [
      "\r",
      " 63%|██████▎   | 1607/2554 periods | 00:16<00:03"
     ]
    },
    {
     "name": "stderr",
     "output_type": "stream",
     "text": [
      "\r",
      " 64%|██████▍   | 1633/2554 periods | 00:16<00:03"
     ]
    },
    {
     "name": "stderr",
     "output_type": "stream",
     "text": [
      "\r",
      " 65%|██████▍   | 1657/2554 periods | 00:16<00:04"
     ]
    },
    {
     "name": "stderr",
     "output_type": "stream",
     "text": [
      "\r",
      " 66%|██████▌   | 1680/2554 periods | 00:16<00:04"
     ]
    },
    {
     "name": "stderr",
     "output_type": "stream",
     "text": [
      "\r",
      " 67%|██████▋   | 1702/2554 periods | 00:16<00:04"
     ]
    },
    {
     "name": "stderr",
     "output_type": "stream",
     "text": [
      "\r",
      " 68%|██████▊   | 1729/2554 periods | 00:16<00:03"
     ]
    },
    {
     "name": "stderr",
     "output_type": "stream",
     "text": [
      "\r",
      " 69%|██████▊   | 1753/2554 periods | 00:16<00:03"
     ]
    },
    {
     "name": "stderr",
     "output_type": "stream",
     "text": [
      "\r",
      " 70%|██████▉   | 1783/2554 periods | 00:16<00:03"
     ]
    },
    {
     "name": "stderr",
     "output_type": "stream",
     "text": [
      "\r",
      " 71%|███████   | 1808/2554 periods | 00:17<00:03"
     ]
    },
    {
     "name": "stderr",
     "output_type": "stream",
     "text": [
      "\r",
      " 72%|███████▏  | 1833/2554 periods | 00:17<00:03"
     ]
    },
    {
     "name": "stderr",
     "output_type": "stream",
     "text": [
      "\r",
      " 73%|███████▎  | 1857/2554 periods | 00:17<00:02"
     ]
    },
    {
     "name": "stderr",
     "output_type": "stream",
     "text": [
      "\r",
      " 74%|███████▎  | 1881/2554 periods | 00:17<00:02"
     ]
    },
    {
     "name": "stderr",
     "output_type": "stream",
     "text": [
      "\r",
      " 75%|███████▍  | 1908/2554 periods | 00:17<00:02"
     ]
    },
    {
     "name": "stderr",
     "output_type": "stream",
     "text": [
      "\r",
      " 76%|███████▌  | 1933/2554 periods | 00:17<00:02"
     ]
    },
    {
     "name": "stderr",
     "output_type": "stream",
     "text": [
      "\r",
      " 77%|███████▋  | 1958/2554 periods | 00:17<00:02"
     ]
    },
    {
     "name": "stderr",
     "output_type": "stream",
     "text": [
      "\r",
      " 78%|███████▊  | 1986/2554 periods | 00:17<00:02"
     ]
    },
    {
     "name": "stderr",
     "output_type": "stream",
     "text": [
      "\r",
      " 79%|███████▉  | 2017/2554 periods | 00:17<00:02"
     ]
    },
    {
     "name": "stderr",
     "output_type": "stream",
     "text": [
      "\r",
      " 80%|████████  | 2045/2554 periods | 00:17<00:01"
     ]
    },
    {
     "name": "stderr",
     "output_type": "stream",
     "text": [
      "\r",
      " 81%|████████  | 2074/2554 periods | 00:18<00:01"
     ]
    },
    {
     "name": "stderr",
     "output_type": "stream",
     "text": [
      "\r",
      " 82%|████████▏ | 2102/2554 periods | 00:18<00:01"
     ]
    },
    {
     "name": "stderr",
     "output_type": "stream",
     "text": [
      "\r",
      " 83%|████████▎ | 2132/2554 periods | 00:18<00:01"
     ]
    },
    {
     "name": "stderr",
     "output_type": "stream",
     "text": [
      "\r",
      " 85%|████████▍ | 2164/2554 periods | 00:18<00:01"
     ]
    },
    {
     "name": "stderr",
     "output_type": "stream",
     "text": [
      "\r",
      " 86%|████████▌ | 2193/2554 periods | 00:18<00:01"
     ]
    },
    {
     "name": "stderr",
     "output_type": "stream",
     "text": [
      "\r",
      " 87%|████████▋ | 2221/2554 periods | 00:18<00:01"
     ]
    },
    {
     "name": "stderr",
     "output_type": "stream",
     "text": [
      "\r",
      " 88%|████████▊ | 2248/2554 periods | 00:18<00:01"
     ]
    },
    {
     "name": "stderr",
     "output_type": "stream",
     "text": [
      "\r",
      " 89%|████████▉ | 2281/2554 periods | 00:18<00:00"
     ]
    },
    {
     "name": "stderr",
     "output_type": "stream",
     "text": [
      "\r",
      " 90%|█████████ | 2311/2554 periods | 00:18<00:00"
     ]
    },
    {
     "name": "stderr",
     "output_type": "stream",
     "text": [
      "\r",
      " 92%|█████████▏| 2341/2554 periods | 00:18<00:00"
     ]
    },
    {
     "name": "stderr",
     "output_type": "stream",
     "text": [
      "\r",
      " 93%|█████████▎| 2370/2554 periods | 00:19<00:00"
     ]
    },
    {
     "name": "stderr",
     "output_type": "stream",
     "text": [
      "\r",
      " 94%|█████████▍| 2399/2554 periods | 00:19<00:00"
     ]
    },
    {
     "name": "stderr",
     "output_type": "stream",
     "text": [
      "\r",
      " 95%|█████████▌| 2428/2554 periods | 00:19<00:00"
     ]
    },
    {
     "name": "stderr",
     "output_type": "stream",
     "text": [
      "\r",
      " 96%|█████████▋| 2460/2554 periods | 00:19<00:00"
     ]
    },
    {
     "name": "stderr",
     "output_type": "stream",
     "text": [
      "\r",
      " 97%|█████████▋| 2489/2554 periods | 00:19<00:00"
     ]
    },
    {
     "name": "stderr",
     "output_type": "stream",
     "text": [
      "\r",
      " 99%|█████████▊| 2518/2554 periods | 00:19<00:00"
     ]
    },
    {
     "name": "stderr",
     "output_type": "stream",
     "text": [
      "\r",
      "100%|█████████▉| 2545/2554 periods | 00:19<00:00"
     ]
    },
    {
     "name": "stderr",
     "output_type": "stream",
     "text": [
      "\r",
      "100%|██████████| 2554/2554 periods | 00:19<00:00"
     ]
    },
    {
     "name": "stderr",
     "output_type": "stream",
     "text": [
      "\n"
     ]
    },
    {
     "name": "stdout",
     "output_type": "stream",
     "text": [
      "Searching for best T0 for period 1.43088 days\n"
     ]
    },
    {
     "name": "stderr",
     "output_type": "stream",
     "text": [
      "No data found for target \"TIC 114018671\".\n"
     ]
    },
    {
     "name": "stdout",
     "output_type": "stream",
     "text": [
      "⚠️ No data for TIC 114018671 sector 1\n"
     ]
    },
    {
     "name": "stderr",
     "output_type": "stream",
     "text": [
      "No data found for target \"TIC 341420329\".\n"
     ]
    },
    {
     "name": "stdout",
     "output_type": "stream",
     "text": [
      "⚠️ No data for TIC 341420329 sector 1\n"
     ]
    },
    {
     "name": "stdout",
     "output_type": "stream",
     "text": [
      "⚠️ BLS failed: The maximum transit duration must be shorter than the minimum period\n"
     ]
    },
    {
     "name": "stdout",
     "output_type": "stream",
     "text": [
      "Transit Least Squares TLS 1.32 (5 Apr 2024)\n",
      "Creating model cache for 38 durations\n",
      "Searching 18278 data points, 2554 periods from 0.601 to 13.94 days\n",
      "Using all 8 CPU threads\n"
     ]
    },
    {
     "name": "stderr",
     "output_type": "stream",
     "text": [
      "\r",
      "  0%|          | 0/2554 periods | 00:00<?"
     ]
    },
    {
     "name": "stderr",
     "output_type": "stream",
     "text": [
      "\r",
      "  0%|          | 1/2554 periods | 00:06<4:49:30"
     ]
    },
    {
     "name": "stderr",
     "output_type": "stream",
     "text": [
      "\r",
      "  0%|          | 6/2554 periods | 00:06<36:17  "
     ]
    },
    {
     "name": "stderr",
     "output_type": "stream",
     "text": [
      "\r",
      "  1%|          | 20/2554 periods | 00:07<08:15"
     ]
    },
    {
     "name": "stderr",
     "output_type": "stream",
     "text": [
      "\r",
      "  1%|▏         | 36/2554 periods | 00:07<03:46"
     ]
    },
    {
     "name": "stderr",
     "output_type": "stream",
     "text": [
      "\r",
      "  2%|▏         | 49/2554 periods | 00:07<02:24"
     ]
    },
    {
     "name": "stderr",
     "output_type": "stream",
     "text": [
      "\r",
      "  3%|▎         | 64/2554 periods | 00:07<01:33"
     ]
    },
    {
     "name": "stderr",
     "output_type": "stream",
     "text": [
      "\r",
      "  3%|▎         | 80/2554 periods | 00:07<01:04"
     ]
    },
    {
     "name": "stderr",
     "output_type": "stream",
     "text": [
      "\r",
      "  4%|▍         | 102/2554 periods | 00:07<00:41"
     ]
    },
    {
     "name": "stderr",
     "output_type": "stream",
     "text": [
      "\r",
      "  5%|▍         | 126/2554 periods | 00:07<00:28"
     ]
    },
    {
     "name": "stderr",
     "output_type": "stream",
     "text": [
      "\r",
      "  6%|▌         | 154/2554 periods | 00:07<00:20"
     ]
    },
    {
     "name": "stderr",
     "output_type": "stream",
     "text": [
      "\r",
      "  7%|▋         | 182/2554 periods | 00:07<00:16"
     ]
    },
    {
     "name": "stderr",
     "output_type": "stream",
     "text": [
      "\r",
      "  8%|▊         | 210/2554 periods | 00:07<00:13"
     ]
    },
    {
     "name": "stderr",
     "output_type": "stream",
     "text": [
      "\r",
      "  9%|▉         | 238/2554 periods | 00:08<00:11"
     ]
    },
    {
     "name": "stderr",
     "output_type": "stream",
     "text": [
      "\r",
      " 10%|█         | 267/2554 periods | 00:08<00:10"
     ]
    },
    {
     "name": "stderr",
     "output_type": "stream",
     "text": [
      "\r",
      " 12%|█▏        | 295/2554 periods | 00:08<00:09"
     ]
    },
    {
     "name": "stderr",
     "output_type": "stream",
     "text": [
      "\r",
      " 13%|█▎        | 322/2554 periods | 00:08<00:09"
     ]
    },
    {
     "name": "stderr",
     "output_type": "stream",
     "text": [
      "\r",
      " 14%|█▎        | 349/2554 periods | 00:08<00:08"
     ]
    },
    {
     "name": "stderr",
     "output_type": "stream",
     "text": [
      "\r",
      " 15%|█▍        | 381/2554 periods | 00:08<00:08"
     ]
    },
    {
     "name": "stderr",
     "output_type": "stream",
     "text": [
      "\r",
      " 16%|█▌        | 411/2554 periods | 00:08<00:07"
     ]
    },
    {
     "name": "stderr",
     "output_type": "stream",
     "text": [
      "\r",
      " 17%|█▋        | 443/2554 periods | 00:08<00:07"
     ]
    },
    {
     "name": "stderr",
     "output_type": "stream",
     "text": [
      "\r",
      " 18%|█▊        | 472/2554 periods | 00:08<00:07"
     ]
    },
    {
     "name": "stderr",
     "output_type": "stream",
     "text": [
      "\r",
      " 20%|█▉        | 501/2554 periods | 00:08<00:07"
     ]
    },
    {
     "name": "stderr",
     "output_type": "stream",
     "text": [
      "\r",
      " 21%|██        | 530/2554 periods | 00:09<00:07"
     ]
    },
    {
     "name": "stderr",
     "output_type": "stream",
     "text": [
      "\r",
      " 22%|██▏       | 559/2554 periods | 00:09<00:07"
     ]
    },
    {
     "name": "stderr",
     "output_type": "stream",
     "text": [
      "\r",
      " 23%|██▎       | 590/2554 periods | 00:09<00:06"
     ]
    },
    {
     "name": "stderr",
     "output_type": "stream",
     "text": [
      "\r",
      " 24%|██▍       | 619/2554 periods | 00:09<00:07"
     ]
    },
    {
     "name": "stderr",
     "output_type": "stream",
     "text": [
      "\r",
      " 25%|██▌       | 647/2554 periods | 00:09<00:06"
     ]
    },
    {
     "name": "stderr",
     "output_type": "stream",
     "text": [
      "\r",
      " 27%|██▋       | 678/2554 periods | 00:09<00:06"
     ]
    },
    {
     "name": "stderr",
     "output_type": "stream",
     "text": [
      "\r",
      " 28%|██▊       | 713/2554 periods | 00:09<00:06"
     ]
    },
    {
     "name": "stderr",
     "output_type": "stream",
     "text": [
      "\r",
      " 29%|██▉       | 744/2554 periods | 00:09<00:05"
     ]
    },
    {
     "name": "stderr",
     "output_type": "stream",
     "text": [
      "\r",
      " 30%|███       | 775/2554 periods | 00:09<00:06"
     ]
    },
    {
     "name": "stderr",
     "output_type": "stream",
     "text": [
      "\r",
      " 31%|███▏      | 804/2554 periods | 00:10<00:06"
     ]
    },
    {
     "name": "stderr",
     "output_type": "stream",
     "text": [
      "\r",
      " 33%|███▎      | 831/2554 periods | 00:10<00:07"
     ]
    },
    {
     "name": "stderr",
     "output_type": "stream",
     "text": [
      "\r",
      " 34%|███▎      | 856/2554 periods | 00:10<00:07"
     ]
    },
    {
     "name": "stderr",
     "output_type": "stream",
     "text": [
      "\r",
      " 34%|███▍      | 881/2554 periods | 00:10<00:07"
     ]
    },
    {
     "name": "stderr",
     "output_type": "stream",
     "text": [
      "\r",
      " 36%|███▌      | 910/2554 periods | 00:10<00:06"
     ]
    },
    {
     "name": "stderr",
     "output_type": "stream",
     "text": [
      "\r",
      " 37%|███▋      | 940/2554 periods | 00:10<00:06"
     ]
    },
    {
     "name": "stderr",
     "output_type": "stream",
     "text": [
      "\r",
      " 38%|███▊      | 973/2554 periods | 00:10<00:05"
     ]
    },
    {
     "name": "stderr",
     "output_type": "stream",
     "text": [
      "\r",
      " 39%|███▉      | 1003/2554 periods | 00:10<00:05"
     ]
    },
    {
     "name": "stderr",
     "output_type": "stream",
     "text": [
      "\r",
      " 41%|████      | 1035/2554 periods | 00:10<00:05"
     ]
    },
    {
     "name": "stderr",
     "output_type": "stream",
     "text": [
      "\r",
      " 42%|████▏     | 1071/2554 periods | 00:11<00:04"
     ]
    },
    {
     "name": "stderr",
     "output_type": "stream",
     "text": [
      "\r",
      " 43%|████▎     | 1102/2554 periods | 00:11<00:04"
     ]
    },
    {
     "name": "stderr",
     "output_type": "stream",
     "text": [
      "\r",
      " 44%|████▍     | 1133/2554 periods | 00:11<00:04"
     ]
    },
    {
     "name": "stderr",
     "output_type": "stream",
     "text": [
      "\r",
      " 46%|████▌     | 1164/2554 periods | 00:11<00:04"
     ]
    },
    {
     "name": "stderr",
     "output_type": "stream",
     "text": [
      "\r",
      " 47%|████▋     | 1194/2554 periods | 00:11<00:04"
     ]
    },
    {
     "name": "stderr",
     "output_type": "stream",
     "text": [
      "\r",
      " 48%|████▊     | 1223/2554 periods | 00:11<00:04"
     ]
    },
    {
     "name": "stderr",
     "output_type": "stream",
     "text": [
      "\r",
      " 49%|████▉     | 1254/2554 periods | 00:11<00:04"
     ]
    },
    {
     "name": "stderr",
     "output_type": "stream",
     "text": [
      "\r",
      " 50%|█████     | 1284/2554 periods | 00:11<00:04"
     ]
    },
    {
     "name": "stderr",
     "output_type": "stream",
     "text": [
      "\r",
      " 51%|█████▏    | 1313/2554 periods | 00:11<00:04"
     ]
    },
    {
     "name": "stderr",
     "output_type": "stream",
     "text": [
      "\r",
      " 53%|█████▎    | 1344/2554 periods | 00:12<00:04"
     ]
    },
    {
     "name": "stderr",
     "output_type": "stream",
     "text": [
      "\r",
      " 54%|█████▍    | 1376/2554 periods | 00:12<00:04"
     ]
    },
    {
     "name": "stderr",
     "output_type": "stream",
     "text": [
      "\r",
      " 55%|█████▌    | 1406/2554 periods | 00:12<00:04"
     ]
    },
    {
     "name": "stderr",
     "output_type": "stream",
     "text": [
      "\r",
      " 56%|█████▌    | 1435/2554 periods | 00:12<00:04"
     ]
    },
    {
     "name": "stderr",
     "output_type": "stream",
     "text": [
      "\r",
      " 57%|█████▋    | 1468/2554 periods | 00:12<00:03"
     ]
    },
    {
     "name": "stderr",
     "output_type": "stream",
     "text": [
      "\r",
      " 59%|█████▊    | 1498/2554 periods | 00:12<00:03"
     ]
    },
    {
     "name": "stderr",
     "output_type": "stream",
     "text": [
      "\r",
      " 60%|█████▉    | 1528/2554 periods | 00:12<00:03"
     ]
    },
    {
     "name": "stderr",
     "output_type": "stream",
     "text": [
      "\r",
      " 61%|██████    | 1560/2554 periods | 00:12<00:03"
     ]
    },
    {
     "name": "stderr",
     "output_type": "stream",
     "text": [
      "\r",
      " 62%|██████▏   | 1590/2554 periods | 00:12<00:03"
     ]
    },
    {
     "name": "stderr",
     "output_type": "stream",
     "text": [
      "\r",
      " 64%|██████▎   | 1623/2554 periods | 00:12<00:03"
     ]
    },
    {
     "name": "stderr",
     "output_type": "stream",
     "text": [
      "\r",
      " 65%|██████▍   | 1653/2554 periods | 00:13<00:03"
     ]
    },
    {
     "name": "stderr",
     "output_type": "stream",
     "text": [
      "\r",
      " 66%|██████▌   | 1684/2554 periods | 00:13<00:02"
     ]
    },
    {
     "name": "stderr",
     "output_type": "stream",
     "text": [
      "\r",
      " 67%|██████▋   | 1716/2554 periods | 00:13<00:02"
     ]
    },
    {
     "name": "stderr",
     "output_type": "stream",
     "text": [
      "\r",
      " 68%|██████▊   | 1747/2554 periods | 00:13<00:02"
     ]
    },
    {
     "name": "stderr",
     "output_type": "stream",
     "text": [
      "\r",
      " 70%|██████▉   | 1777/2554 periods | 00:13<00:02"
     ]
    },
    {
     "name": "stderr",
     "output_type": "stream",
     "text": [
      "\r",
      " 71%|███████   | 1807/2554 periods | 00:13<00:02"
     ]
    },
    {
     "name": "stderr",
     "output_type": "stream",
     "text": [
      "\r",
      " 72%|███████▏  | 1836/2554 periods | 00:13<00:02"
     ]
    },
    {
     "name": "stderr",
     "output_type": "stream",
     "text": [
      "\r",
      " 73%|███████▎  | 1865/2554 periods | 00:13<00:02"
     ]
    },
    {
     "name": "stderr",
     "output_type": "stream",
     "text": [
      "\r",
      " 74%|███████▍  | 1893/2554 periods | 00:13<00:02"
     ]
    },
    {
     "name": "stderr",
     "output_type": "stream",
     "text": [
      "\r",
      " 75%|███████▌  | 1925/2554 periods | 00:14<00:02"
     ]
    },
    {
     "name": "stderr",
     "output_type": "stream",
     "text": [
      "\r",
      " 77%|███████▋  | 1958/2554 periods | 00:14<00:02"
     ]
    },
    {
     "name": "stderr",
     "output_type": "stream",
     "text": [
      "\r",
      " 78%|███████▊  | 1988/2554 periods | 00:14<00:01"
     ]
    },
    {
     "name": "stderr",
     "output_type": "stream",
     "text": [
      "\r",
      " 79%|███████▉  | 2018/2554 periods | 00:14<00:01"
     ]
    },
    {
     "name": "stderr",
     "output_type": "stream",
     "text": [
      "\r",
      " 80%|████████  | 2047/2554 periods | 00:14<00:02"
     ]
    },
    {
     "name": "stderr",
     "output_type": "stream",
     "text": [
      "\r",
      " 81%|████████▏ | 2078/2554 periods | 00:14<00:01"
     ]
    },
    {
     "name": "stderr",
     "output_type": "stream",
     "text": [
      "\r",
      " 83%|████████▎ | 2111/2554 periods | 00:14<00:01"
     ]
    },
    {
     "name": "stderr",
     "output_type": "stream",
     "text": [
      "\r",
      " 84%|████████▍ | 2140/2554 periods | 00:14<00:01"
     ]
    },
    {
     "name": "stderr",
     "output_type": "stream",
     "text": [
      "\r",
      " 85%|████████▌ | 2172/2554 periods | 00:14<00:01"
     ]
    },
    {
     "name": "stderr",
     "output_type": "stream",
     "text": [
      "\r",
      " 86%|████████▌ | 2201/2554 periods | 00:15<00:01"
     ]
    },
    {
     "name": "stderr",
     "output_type": "stream",
     "text": [
      "\r",
      " 87%|████████▋ | 2233/2554 periods | 00:15<00:01"
     ]
    },
    {
     "name": "stderr",
     "output_type": "stream",
     "text": [
      "\r",
      " 89%|████████▊ | 2263/2554 periods | 00:15<00:01"
     ]
    },
    {
     "name": "stderr",
     "output_type": "stream",
     "text": [
      "\r",
      " 90%|████████▉ | 2297/2554 periods | 00:15<00:00"
     ]
    },
    {
     "name": "stderr",
     "output_type": "stream",
     "text": [
      "\r",
      " 91%|█████████▏| 2332/2554 periods | 00:15<00:00"
     ]
    },
    {
     "name": "stderr",
     "output_type": "stream",
     "text": [
      "\r",
      " 93%|█████████▎| 2363/2554 periods | 00:15<00:00"
     ]
    },
    {
     "name": "stderr",
     "output_type": "stream",
     "text": [
      "\r",
      " 94%|█████████▎| 2393/2554 periods | 00:15<00:00"
     ]
    },
    {
     "name": "stderr",
     "output_type": "stream",
     "text": [
      "\r",
      " 95%|█████████▍| 2423/2554 periods | 00:15<00:00"
     ]
    },
    {
     "name": "stderr",
     "output_type": "stream",
     "text": [
      "\r",
      " 96%|█████████▌| 2453/2554 periods | 00:15<00:00"
     ]
    },
    {
     "name": "stderr",
     "output_type": "stream",
     "text": [
      "\r",
      " 97%|█████████▋| 2483/2554 periods | 00:15<00:00"
     ]
    },
    {
     "name": "stderr",
     "output_type": "stream",
     "text": [
      "\r",
      " 98%|█████████▊| 2514/2554 periods | 00:16<00:00"
     ]
    },
    {
     "name": "stderr",
     "output_type": "stream",
     "text": [
      "\r",
      "100%|█████████▉| 2544/2554 periods | 00:16<00:00"
     ]
    },
    {
     "name": "stderr",
     "output_type": "stream",
     "text": [
      "\r",
      "100%|██████████| 2554/2554 periods | 00:16<00:00"
     ]
    },
    {
     "name": "stderr",
     "output_type": "stream",
     "text": [
      "\n"
     ]
    },
    {
     "name": "stdout",
     "output_type": "stream",
     "text": [
      "Searching for best T0 for period 4.41496 days\n"
     ]
    },
    {
     "name": "stderr",
     "output_type": "stream",
     "text": [
      "No data found for target \"TIC 297967252\".\n"
     ]
    },
    {
     "name": "stdout",
     "output_type": "stream",
     "text": [
      "⚠️ No data for TIC 297967252 sector 1\n"
     ]
    },
    {
     "name": "stderr",
     "output_type": "stream",
     "text": [
      "No data found for target \"TIC 20318757\".\n"
     ]
    },
    {
     "name": "stdout",
     "output_type": "stream",
     "text": [
      "⚠️ No data for TIC 20318757 sector 1\n",
      "⚠️ No data for TIC 20318757 sector 1\n",
      "⚠️ No data for TIC 20318757 sector 1\n"
     ]
    },
    {
     "name": "stdout",
     "output_type": "stream",
     "text": [
      "⚠️ BLS failed: The maximum transit duration must be shorter than the minimum period\n"
     ]
    },
    {
     "name": "stdout",
     "output_type": "stream",
     "text": [
      "Transit Least Squares TLS 1.32 (5 Apr 2024)\n",
      "Creating model cache for 38 durations\n",
      "Searching 18182 data points, 2539 periods from 0.601 to 13.871 days\n",
      "Using all 8 CPU threads\n"
     ]
    },
    {
     "name": "stderr",
     "output_type": "stream",
     "text": [
      "\r",
      "  0%|          | 0/2539 periods | 00:00<?"
     ]
    },
    {
     "name": "stderr",
     "output_type": "stream",
     "text": [
      "\r",
      "  0%|          | 1/2539 periods | 00:08<5:41:41"
     ]
    },
    {
     "name": "stderr",
     "output_type": "stream",
     "text": [
      "\r",
      "  0%|          | 9/2539 periods | 00:08<27:53  "
     ]
    },
    {
     "name": "stderr",
     "output_type": "stream",
     "text": [
      "\r",
      "  1%|          | 19/2539 periods | 00:08<10:49"
     ]
    },
    {
     "name": "stderr",
     "output_type": "stream",
     "text": [
      "\r",
      "  1%|          | 31/2539 periods | 00:08<05:24"
     ]
    },
    {
     "name": "stderr",
     "output_type": "stream",
     "text": [
      "\r",
      "  2%|▏         | 43/2539 periods | 00:08<03:14"
     ]
    },
    {
     "name": "stderr",
     "output_type": "stream",
     "text": [
      "\r",
      "  2%|▏         | 56/2539 periods | 00:08<02:05"
     ]
    },
    {
     "name": "stderr",
     "output_type": "stream",
     "text": [
      "\r",
      "  3%|▎         | 69/2539 periods | 00:08<01:26"
     ]
    },
    {
     "name": "stderr",
     "output_type": "stream",
     "text": [
      "\r",
      "  3%|▎         | 82/2539 periods | 00:08<01:03"
     ]
    },
    {
     "name": "stderr",
     "output_type": "stream",
     "text": [
      "\r",
      "  4%|▍         | 96/2539 periods | 00:08<00:47"
     ]
    },
    {
     "name": "stderr",
     "output_type": "stream",
     "text": [
      "\r",
      "  5%|▍         | 115/2539 periods | 00:09<00:33"
     ]
    },
    {
     "name": "stderr",
     "output_type": "stream",
     "text": [
      "\r",
      "  5%|▌         | 130/2539 periods | 00:09<00:28"
     ]
    },
    {
     "name": "stderr",
     "output_type": "stream",
     "text": [
      "\r",
      "  6%|▌         | 145/2539 periods | 00:09<00:24"
     ]
    },
    {
     "name": "stderr",
     "output_type": "stream",
     "text": [
      "\r",
      "  6%|▋         | 160/2539 periods | 00:09<00:22"
     ]
    },
    {
     "name": "stderr",
     "output_type": "stream",
     "text": [
      "\r",
      "  7%|▋         | 178/2539 periods | 00:09<00:19"
     ]
    },
    {
     "name": "stderr",
     "output_type": "stream",
     "text": [
      "\r",
      "  8%|▊         | 194/2539 periods | 00:09<00:17"
     ]
    },
    {
     "name": "stderr",
     "output_type": "stream",
     "text": [
      "\r",
      "  9%|▊         | 216/2539 periods | 00:09<00:15"
     ]
    },
    {
     "name": "stderr",
     "output_type": "stream",
     "text": [
      "\r",
      "  9%|▉         | 241/2539 periods | 00:09<00:12"
     ]
    },
    {
     "name": "stderr",
     "output_type": "stream",
     "text": [
      "\r",
      " 11%|█         | 268/2539 periods | 00:09<00:11"
     ]
    },
    {
     "name": "stderr",
     "output_type": "stream",
     "text": [
      "\r",
      " 11%|█▏        | 290/2539 periods | 00:09<00:10"
     ]
    },
    {
     "name": "stderr",
     "output_type": "stream",
     "text": [
      "\r",
      " 12%|█▏        | 314/2539 periods | 00:10<00:10"
     ]
    },
    {
     "name": "stderr",
     "output_type": "stream",
     "text": [
      "\r",
      " 13%|█▎        | 338/2539 periods | 00:10<00:10"
     ]
    },
    {
     "name": "stderr",
     "output_type": "stream",
     "text": [
      "\r",
      " 14%|█▍        | 361/2539 periods | 00:10<00:10"
     ]
    },
    {
     "name": "stderr",
     "output_type": "stream",
     "text": [
      "\r",
      " 15%|█▌        | 387/2539 periods | 00:10<00:09"
     ]
    },
    {
     "name": "stderr",
     "output_type": "stream",
     "text": [
      "\r",
      " 16%|█▋        | 415/2539 periods | 00:10<00:09"
     ]
    },
    {
     "name": "stderr",
     "output_type": "stream",
     "text": [
      "\r",
      " 17%|█▋        | 444/2539 periods | 00:10<00:08"
     ]
    },
    {
     "name": "stderr",
     "output_type": "stream",
     "text": [
      "\r",
      " 18%|█▊        | 469/2539 periods | 00:10<00:08"
     ]
    },
    {
     "name": "stderr",
     "output_type": "stream",
     "text": [
      "\r",
      " 20%|█▉        | 496/2539 periods | 00:10<00:08"
     ]
    },
    {
     "name": "stderr",
     "output_type": "stream",
     "text": [
      "\r",
      " 21%|██        | 524/2539 periods | 00:10<00:08"
     ]
    },
    {
     "name": "stderr",
     "output_type": "stream",
     "text": [
      "\r",
      " 22%|██▏       | 550/2539 periods | 00:11<00:08"
     ]
    },
    {
     "name": "stderr",
     "output_type": "stream",
     "text": [
      "\r",
      " 23%|██▎       | 579/2539 periods | 00:11<00:07"
     ]
    },
    {
     "name": "stderr",
     "output_type": "stream",
     "text": [
      "\r",
      " 24%|██▍       | 605/2539 periods | 00:11<00:07"
     ]
    },
    {
     "name": "stderr",
     "output_type": "stream",
     "text": [
      "\r",
      " 25%|██▍       | 631/2539 periods | 00:11<00:07"
     ]
    },
    {
     "name": "stderr",
     "output_type": "stream",
     "text": [
      "\r",
      " 26%|██▌       | 656/2539 periods | 00:11<00:08"
     ]
    },
    {
     "name": "stderr",
     "output_type": "stream",
     "text": [
      "\r",
      " 27%|██▋       | 682/2539 periods | 00:11<00:07"
     ]
    },
    {
     "name": "stderr",
     "output_type": "stream",
     "text": [
      "\r",
      " 28%|██▊       | 707/2539 periods | 00:11<00:07"
     ]
    },
    {
     "name": "stderr",
     "output_type": "stream",
     "text": [
      "\r",
      " 29%|██▉       | 732/2539 periods | 00:11<00:07"
     ]
    },
    {
     "name": "stderr",
     "output_type": "stream",
     "text": [
      "\r",
      " 30%|██▉       | 756/2539 periods | 00:11<00:07"
     ]
    },
    {
     "name": "stderr",
     "output_type": "stream",
     "text": [
      "\r",
      " 31%|███       | 787/2539 periods | 00:12<00:06"
     ]
    },
    {
     "name": "stderr",
     "output_type": "stream",
     "text": [
      "\r",
      " 32%|███▏      | 813/2539 periods | 00:12<00:06"
     ]
    },
    {
     "name": "stderr",
     "output_type": "stream",
     "text": [
      "\r",
      " 33%|███▎      | 844/2539 periods | 00:12<00:06"
     ]
    },
    {
     "name": "stderr",
     "output_type": "stream",
     "text": [
      "\r",
      " 34%|███▍      | 871/2539 periods | 00:12<00:06"
     ]
    },
    {
     "name": "stderr",
     "output_type": "stream",
     "text": [
      "\r",
      " 35%|███▌      | 897/2539 periods | 00:12<00:06"
     ]
    },
    {
     "name": "stderr",
     "output_type": "stream",
     "text": [
      "\r",
      " 36%|███▋      | 923/2539 periods | 00:12<00:06"
     ]
    },
    {
     "name": "stderr",
     "output_type": "stream",
     "text": [
      "\r",
      " 37%|███▋      | 951/2539 periods | 00:12<00:06"
     ]
    },
    {
     "name": "stderr",
     "output_type": "stream",
     "text": [
      "\r",
      " 39%|███▊      | 982/2539 periods | 00:12<00:05"
     ]
    },
    {
     "name": "stderr",
     "output_type": "stream",
     "text": [
      "\r",
      " 40%|███▉      | 1010/2539 periods | 00:12<00:05"
     ]
    },
    {
     "name": "stderr",
     "output_type": "stream",
     "text": [
      "\r",
      " 41%|████      | 1038/2539 periods | 00:12<00:05"
     ]
    },
    {
     "name": "stderr",
     "output_type": "stream",
     "text": [
      "\r",
      " 42%|████▏     | 1066/2539 periods | 00:13<00:05"
     ]
    },
    {
     "name": "stderr",
     "output_type": "stream",
     "text": [
      "\r",
      " 43%|████▎     | 1099/2539 periods | 00:13<00:04"
     ]
    },
    {
     "name": "stderr",
     "output_type": "stream",
     "text": [
      "\r",
      " 44%|████▍     | 1129/2539 periods | 00:13<00:04"
     ]
    },
    {
     "name": "stderr",
     "output_type": "stream",
     "text": [
      "\r",
      " 46%|████▌     | 1159/2539 periods | 00:13<00:04"
     ]
    },
    {
     "name": "stderr",
     "output_type": "stream",
     "text": [
      "\r",
      " 47%|████▋     | 1188/2539 periods | 00:13<00:04"
     ]
    },
    {
     "name": "stderr",
     "output_type": "stream",
     "text": [
      "\r",
      " 48%|████▊     | 1217/2539 periods | 00:13<00:04"
     ]
    },
    {
     "name": "stderr",
     "output_type": "stream",
     "text": [
      "\r",
      " 49%|████▉     | 1246/2539 periods | 00:13<00:04"
     ]
    },
    {
     "name": "stderr",
     "output_type": "stream",
     "text": [
      "\r",
      " 50%|█████     | 1274/2539 periods | 00:13<00:04"
     ]
    },
    {
     "name": "stderr",
     "output_type": "stream",
     "text": [
      "\r",
      " 51%|█████     | 1301/2539 periods | 00:13<00:04"
     ]
    },
    {
     "name": "stderr",
     "output_type": "stream",
     "text": [
      "\r",
      " 52%|█████▏    | 1331/2539 periods | 00:14<00:04"
     ]
    },
    {
     "name": "stderr",
     "output_type": "stream",
     "text": [
      "\r",
      " 54%|█████▎    | 1362/2539 periods | 00:14<00:04"
     ]
    },
    {
     "name": "stderr",
     "output_type": "stream",
     "text": [
      "\r",
      " 55%|█████▍    | 1393/2539 periods | 00:14<00:04"
     ]
    },
    {
     "name": "stderr",
     "output_type": "stream",
     "text": [
      "\r",
      " 56%|█████▌    | 1422/2539 periods | 00:14<00:03"
     ]
    },
    {
     "name": "stderr",
     "output_type": "stream",
     "text": [
      "\r",
      " 57%|█████▋    | 1455/2539 periods | 00:14<00:03"
     ]
    },
    {
     "name": "stderr",
     "output_type": "stream",
     "text": [
      "\r",
      " 59%|█████▊    | 1487/2539 periods | 00:14<00:03"
     ]
    },
    {
     "name": "stderr",
     "output_type": "stream",
     "text": [
      "\r",
      " 60%|█████▉    | 1517/2539 periods | 00:14<00:03"
     ]
    },
    {
     "name": "stderr",
     "output_type": "stream",
     "text": [
      "\r",
      " 61%|██████    | 1548/2539 periods | 00:14<00:03"
     ]
    },
    {
     "name": "stderr",
     "output_type": "stream",
     "text": [
      "\r",
      " 62%|██████▏   | 1578/2539 periods | 00:14<00:03"
     ]
    },
    {
     "name": "stderr",
     "output_type": "stream",
     "text": [
      "\r",
      " 63%|██████▎   | 1608/2539 periods | 00:14<00:03"
     ]
    },
    {
     "name": "stderr",
     "output_type": "stream",
     "text": [
      "\r",
      " 64%|██████▍   | 1637/2539 periods | 00:15<00:03"
     ]
    },
    {
     "name": "stderr",
     "output_type": "stream",
     "text": [
      "\r",
      " 66%|██████▌   | 1668/2539 periods | 00:15<00:03"
     ]
    },
    {
     "name": "stderr",
     "output_type": "stream",
     "text": [
      "\r",
      " 67%|██████▋   | 1697/2539 periods | 00:15<00:03"
     ]
    },
    {
     "name": "stderr",
     "output_type": "stream",
     "text": [
      "\r",
      " 68%|██████▊   | 1728/2539 periods | 00:15<00:02"
     ]
    },
    {
     "name": "stderr",
     "output_type": "stream",
     "text": [
      "\r",
      " 69%|██████▉   | 1762/2539 periods | 00:15<00:02"
     ]
    },
    {
     "name": "stderr",
     "output_type": "stream",
     "text": [
      "\r",
      " 71%|███████   | 1792/2539 periods | 00:15<00:02"
     ]
    },
    {
     "name": "stderr",
     "output_type": "stream",
     "text": [
      "\r",
      " 72%|███████▏  | 1821/2539 periods | 00:15<00:02"
     ]
    },
    {
     "name": "stderr",
     "output_type": "stream",
     "text": [
      "\r",
      " 73%|███████▎  | 1850/2539 periods | 00:15<00:02"
     ]
    },
    {
     "name": "stderr",
     "output_type": "stream",
     "text": [
      "\r",
      " 74%|███████▍  | 1879/2539 periods | 00:15<00:02"
     ]
    },
    {
     "name": "stderr",
     "output_type": "stream",
     "text": [
      "\r",
      " 75%|███████▌  | 1906/2539 periods | 00:16<00:02"
     ]
    },
    {
     "name": "stderr",
     "output_type": "stream",
     "text": [
      "\r",
      " 76%|███████▌  | 1932/2539 periods | 00:16<00:02"
     ]
    },
    {
     "name": "stderr",
     "output_type": "stream",
     "text": [
      "\r",
      " 77%|███████▋  | 1961/2539 periods | 00:16<00:02"
     ]
    },
    {
     "name": "stderr",
     "output_type": "stream",
     "text": [
      "\r",
      " 78%|███████▊  | 1993/2539 periods | 00:16<00:01"
     ]
    },
    {
     "name": "stderr",
     "output_type": "stream",
     "text": [
      "\r",
      " 80%|███████▉  | 2026/2539 periods | 00:16<00:01"
     ]
    },
    {
     "name": "stderr",
     "output_type": "stream",
     "text": [
      "\r",
      " 81%|████████  | 2056/2539 periods | 00:16<00:01"
     ]
    },
    {
     "name": "stderr",
     "output_type": "stream",
     "text": [
      "\r",
      " 82%|████████▏ | 2084/2539 periods | 00:16<00:01"
     ]
    },
    {
     "name": "stderr",
     "output_type": "stream",
     "text": [
      "\r",
      " 83%|████████▎ | 2110/2539 periods | 00:16<00:01"
     ]
    },
    {
     "name": "stderr",
     "output_type": "stream",
     "text": [
      "\r",
      " 84%|████████▍ | 2134/2539 periods | 00:17<00:01"
     ]
    },
    {
     "name": "stderr",
     "output_type": "stream",
     "text": [
      "\r",
      " 85%|████████▍ | 2157/2539 periods | 00:17<00:01"
     ]
    },
    {
     "name": "stderr",
     "output_type": "stream",
     "text": [
      "\r",
      " 86%|████████▌ | 2179/2539 periods | 00:17<00:01"
     ]
    },
    {
     "name": "stderr",
     "output_type": "stream",
     "text": [
      "\r",
      " 87%|████████▋ | 2201/2539 periods | 00:17<00:01"
     ]
    },
    {
     "name": "stderr",
     "output_type": "stream",
     "text": [
      "\r",
      " 88%|████████▊ | 2223/2539 periods | 00:17<00:01"
     ]
    },
    {
     "name": "stderr",
     "output_type": "stream",
     "text": [
      "\r",
      " 88%|████████▊ | 2244/2539 periods | 00:17<00:01"
     ]
    },
    {
     "name": "stderr",
     "output_type": "stream",
     "text": [
      "\r",
      " 89%|████████▉ | 2266/2539 periods | 00:17<00:01"
     ]
    },
    {
     "name": "stderr",
     "output_type": "stream",
     "text": [
      "\r",
      " 90%|█████████ | 2287/2539 periods | 00:17<00:01"
     ]
    },
    {
     "name": "stderr",
     "output_type": "stream",
     "text": [
      "\r",
      " 91%|█████████ | 2307/2539 periods | 00:17<00:01"
     ]
    },
    {
     "name": "stderr",
     "output_type": "stream",
     "text": [
      "\r",
      " 92%|█████████▏| 2326/2539 periods | 00:18<00:01"
     ]
    },
    {
     "name": "stderr",
     "output_type": "stream",
     "text": [
      "\r",
      " 92%|█████████▏| 2344/2539 periods | 00:18<00:01"
     ]
    },
    {
     "name": "stderr",
     "output_type": "stream",
     "text": [
      "\r",
      " 93%|█████████▎| 2366/2539 periods | 00:18<00:00"
     ]
    },
    {
     "name": "stderr",
     "output_type": "stream",
     "text": [
      "\r",
      " 94%|█████████▍| 2384/2539 periods | 00:18<00:00"
     ]
    },
    {
     "name": "stderr",
     "output_type": "stream",
     "text": [
      "\r",
      " 95%|█████████▍| 2402/2539 periods | 00:18<00:00"
     ]
    },
    {
     "name": "stderr",
     "output_type": "stream",
     "text": [
      "\r",
      " 95%|█████████▌| 2420/2539 periods | 00:18<00:00"
     ]
    },
    {
     "name": "stderr",
     "output_type": "stream",
     "text": [
      "\r",
      " 96%|█████████▌| 2438/2539 periods | 00:18<00:00"
     ]
    },
    {
     "name": "stderr",
     "output_type": "stream",
     "text": [
      "\r",
      " 97%|█████████▋| 2464/2539 periods | 00:18<00:00"
     ]
    },
    {
     "name": "stderr",
     "output_type": "stream",
     "text": [
      "\r",
      " 98%|█████████▊| 2486/2539 periods | 00:18<00:00"
     ]
    },
    {
     "name": "stderr",
     "output_type": "stream",
     "text": [
      "\r",
      " 99%|█████████▉| 2510/2539 periods | 00:19<00:00"
     ]
    },
    {
     "name": "stderr",
     "output_type": "stream",
     "text": [
      "\r",
      "100%|█████████▉| 2531/2539 periods | 00:19<00:00"
     ]
    },
    {
     "name": "stderr",
     "output_type": "stream",
     "text": [
      "\r",
      "100%|██████████| 2539/2539 periods | 00:19<00:00"
     ]
    },
    {
     "name": "stderr",
     "output_type": "stream",
     "text": [
      "\n"
     ]
    },
    {
     "name": "stdout",
     "output_type": "stream",
     "text": [
      "Searching for best T0 for period 3.54650 days\n"
     ]
    },
    {
     "name": "stderr",
     "output_type": "stream",
     "text": [
      "No data found for target \"TIC 16288184\".\n"
     ]
    },
    {
     "name": "stdout",
     "output_type": "stream",
     "text": [
      "⚠️ No data for TIC 16288184 sector 1\n"
     ]
    },
    {
     "name": "stdout",
     "output_type": "stream",
     "text": [
      "⚠️ BLS failed: The maximum transit duration must be shorter than the minimum period\n"
     ]
    },
    {
     "name": "stdout",
     "output_type": "stream",
     "text": [
      "Transit Least Squares TLS 1.32 (5 Apr 2024)\n",
      "Creating model cache for 38 durations\n",
      "Searching 18276 data points, 2554 periods from 0.601 to 13.94 days\n",
      "Using all 8 CPU threads\n"
     ]
    },
    {
     "name": "stderr",
     "output_type": "stream",
     "text": [
      "\r",
      "  0%|          | 0/2554 periods | 00:00<?"
     ]
    },
    {
     "name": "stderr",
     "output_type": "stream",
     "text": [
      "\r",
      "  0%|          | 1/2554 periods | 00:08<5:45:21"
     ]
    },
    {
     "name": "stderr",
     "output_type": "stream",
     "text": [
      "\r",
      "  0%|          | 5/2554 periods | 00:08<52:20  "
     ]
    },
    {
     "name": "stderr",
     "output_type": "stream",
     "text": [
      "\r",
      "  1%|          | 14/2554 periods | 00:08<14:19"
     ]
    },
    {
     "name": "stderr",
     "output_type": "stream",
     "text": [
      "\r",
      "  1%|          | 24/2554 periods | 00:08<06:51"
     ]
    },
    {
     "name": "stderr",
     "output_type": "stream",
     "text": [
      "\r",
      "  1%|▏         | 35/2554 periods | 00:08<03:53"
     ]
    },
    {
     "name": "stderr",
     "output_type": "stream",
     "text": [
      "\r",
      "  2%|▏         | 47/2554 periods | 00:08<02:24"
     ]
    },
    {
     "name": "stderr",
     "output_type": "stream",
     "text": [
      "\r",
      "  2%|▏         | 60/2554 periods | 00:08<01:35"
     ]
    },
    {
     "name": "stderr",
     "output_type": "stream",
     "text": [
      "\r",
      "  3%|▎         | 72/2554 periods | 00:08<01:10"
     ]
    },
    {
     "name": "stderr",
     "output_type": "stream",
     "text": [
      "\r",
      "  3%|▎         | 86/2554 periods | 00:08<00:52"
     ]
    },
    {
     "name": "stderr",
     "output_type": "stream",
     "text": [
      "\r",
      "  4%|▍         | 97/2554 periods | 00:09<00:43"
     ]
    },
    {
     "name": "stderr",
     "output_type": "stream",
     "text": [
      "\r",
      "  4%|▍         | 108/2554 periods | 00:09<00:37"
     ]
    },
    {
     "name": "stderr",
     "output_type": "stream",
     "text": [
      "\r",
      "  5%|▍         | 119/2554 periods | 00:09<00:34"
     ]
    },
    {
     "name": "stderr",
     "output_type": "stream",
     "text": [
      "\r",
      "  5%|▌         | 131/2554 periods | 00:09<00:30"
     ]
    },
    {
     "name": "stderr",
     "output_type": "stream",
     "text": [
      "\r",
      "  6%|▌         | 142/2554 periods | 00:09<00:28"
     ]
    },
    {
     "name": "stderr",
     "output_type": "stream",
     "text": [
      "\r",
      "  6%|▌         | 155/2554 periods | 00:09<00:26"
     ]
    },
    {
     "name": "stderr",
     "output_type": "stream",
     "text": [
      "\r",
      "  7%|▋         | 169/2554 periods | 00:09<00:24"
     ]
    },
    {
     "name": "stderr",
     "output_type": "stream",
     "text": [
      "\r",
      "  7%|▋         | 184/2554 periods | 00:09<00:21"
     ]
    },
    {
     "name": "stderr",
     "output_type": "stream",
     "text": [
      "\r",
      "  8%|▊         | 201/2554 periods | 00:09<00:19"
     ]
    },
    {
     "name": "stderr",
     "output_type": "stream",
     "text": [
      "\r",
      "  9%|▊         | 219/2554 periods | 00:10<00:17"
     ]
    },
    {
     "name": "stderr",
     "output_type": "stream",
     "text": [
      "\r",
      "  9%|▉         | 238/2554 periods | 00:10<00:15"
     ]
    },
    {
     "name": "stderr",
     "output_type": "stream",
     "text": [
      "\r",
      " 10%|█         | 261/2554 periods | 00:10<00:13"
     ]
    },
    {
     "name": "stderr",
     "output_type": "stream",
     "text": [
      "\r",
      " 11%|█▏        | 288/2554 periods | 00:10<00:11"
     ]
    },
    {
     "name": "stderr",
     "output_type": "stream",
     "text": [
      "\r",
      " 12%|█▏        | 314/2554 periods | 00:10<00:10"
     ]
    },
    {
     "name": "stderr",
     "output_type": "stream",
     "text": [
      "\r",
      " 13%|█▎        | 341/2554 periods | 00:10<00:09"
     ]
    },
    {
     "name": "stderr",
     "output_type": "stream",
     "text": [
      "\r",
      " 14%|█▍        | 366/2554 periods | 00:10<00:09"
     ]
    },
    {
     "name": "stderr",
     "output_type": "stream",
     "text": [
      "\r",
      " 15%|█▌        | 393/2554 periods | 00:10<00:09"
     ]
    },
    {
     "name": "stderr",
     "output_type": "stream",
     "text": [
      "\r",
      " 16%|█▋        | 418/2554 periods | 00:10<00:09"
     ]
    },
    {
     "name": "stderr",
     "output_type": "stream",
     "text": [
      "\r",
      " 17%|█▋        | 446/2554 periods | 00:11<00:08"
     ]
    },
    {
     "name": "stderr",
     "output_type": "stream",
     "text": [
      "\r",
      " 19%|█▊        | 475/2554 periods | 00:11<00:08"
     ]
    },
    {
     "name": "stderr",
     "output_type": "stream",
     "text": [
      "\r",
      " 20%|█▉        | 501/2554 periods | 00:11<00:08"
     ]
    },
    {
     "name": "stderr",
     "output_type": "stream",
     "text": [
      "\r",
      " 21%|██        | 530/2554 periods | 00:11<00:07"
     ]
    },
    {
     "name": "stderr",
     "output_type": "stream",
     "text": [
      "\r",
      " 22%|██▏       | 557/2554 periods | 00:11<00:07"
     ]
    },
    {
     "name": "stderr",
     "output_type": "stream",
     "text": [
      "\r",
      " 23%|██▎       | 584/2554 periods | 00:11<00:07"
     ]
    },
    {
     "name": "stderr",
     "output_type": "stream",
     "text": [
      "\r",
      " 24%|██▍       | 611/2554 periods | 00:11<00:07"
     ]
    },
    {
     "name": "stderr",
     "output_type": "stream",
     "text": [
      "\r",
      " 25%|██▍       | 637/2554 periods | 00:11<00:07"
     ]
    },
    {
     "name": "stderr",
     "output_type": "stream",
     "text": [
      "\r",
      " 26%|██▌       | 663/2554 periods | 00:11<00:07"
     ]
    },
    {
     "name": "stderr",
     "output_type": "stream",
     "text": [
      "\r",
      " 27%|██▋       | 688/2554 periods | 00:12<00:07"
     ]
    },
    {
     "name": "stderr",
     "output_type": "stream",
     "text": [
      "\r",
      " 28%|██▊       | 715/2554 periods | 00:12<00:07"
     ]
    },
    {
     "name": "stderr",
     "output_type": "stream",
     "text": [
      "\r",
      " 29%|██▉       | 741/2554 periods | 00:12<00:08"
     ]
    },
    {
     "name": "stderr",
     "output_type": "stream",
     "text": [
      "\r",
      " 30%|██▉       | 764/2554 periods | 00:12<00:08"
     ]
    },
    {
     "name": "stderr",
     "output_type": "stream",
     "text": [
      "\r",
      " 31%|███       | 785/2554 periods | 00:12<00:08"
     ]
    },
    {
     "name": "stderr",
     "output_type": "stream",
     "text": [
      "\r",
      " 32%|███▏      | 811/2554 periods | 00:12<00:08"
     ]
    },
    {
     "name": "stderr",
     "output_type": "stream",
     "text": [
      "\r",
      " 33%|███▎      | 833/2554 periods | 00:12<00:08"
     ]
    },
    {
     "name": "stderr",
     "output_type": "stream",
     "text": [
      "\r",
      " 34%|███▎      | 858/2554 periods | 00:12<00:07"
     ]
    },
    {
     "name": "stderr",
     "output_type": "stream",
     "text": [
      "\r",
      " 35%|███▍      | 882/2554 periods | 00:12<00:07"
     ]
    },
    {
     "name": "stderr",
     "output_type": "stream",
     "text": [
      "\r",
      " 36%|███▌      | 909/2554 periods | 00:13<00:07"
     ]
    },
    {
     "name": "stderr",
     "output_type": "stream",
     "text": [
      "\r",
      " 37%|███▋      | 934/2554 periods | 00:13<00:06"
     ]
    },
    {
     "name": "stderr",
     "output_type": "stream",
     "text": [
      "\r",
      " 38%|███▊      | 963/2554 periods | 00:13<00:06"
     ]
    },
    {
     "name": "stderr",
     "output_type": "stream",
     "text": [
      "\r",
      " 39%|███▊      | 989/2554 periods | 00:13<00:06"
     ]
    },
    {
     "name": "stderr",
     "output_type": "stream",
     "text": [
      "\r",
      " 40%|███▉      | 1016/2554 periods | 00:13<00:06"
     ]
    },
    {
     "name": "stderr",
     "output_type": "stream",
     "text": [
      "\r",
      " 41%|████      | 1045/2554 periods | 00:13<00:05"
     ]
    },
    {
     "name": "stderr",
     "output_type": "stream",
     "text": [
      "\r",
      " 42%|████▏     | 1072/2554 periods | 00:13<00:05"
     ]
    },
    {
     "name": "stderr",
     "output_type": "stream",
     "text": [
      "\r",
      " 43%|████▎     | 1099/2554 periods | 00:13<00:05"
     ]
    },
    {
     "name": "stderr",
     "output_type": "stream",
     "text": [
      "\r",
      " 44%|████▍     | 1128/2554 periods | 00:13<00:05"
     ]
    },
    {
     "name": "stderr",
     "output_type": "stream",
     "text": [
      "\r",
      " 45%|████▌     | 1157/2554 periods | 00:13<00:05"
     ]
    },
    {
     "name": "stderr",
     "output_type": "stream",
     "text": [
      "\r",
      " 46%|████▋     | 1184/2554 periods | 00:14<00:05"
     ]
    },
    {
     "name": "stderr",
     "output_type": "stream",
     "text": [
      "\r",
      " 47%|████▋     | 1210/2554 periods | 00:14<00:05"
     ]
    },
    {
     "name": "stderr",
     "output_type": "stream",
     "text": [
      "\r",
      " 48%|████▊     | 1236/2554 periods | 00:14<00:05"
     ]
    },
    {
     "name": "stderr",
     "output_type": "stream",
     "text": [
      "\r",
      " 49%|████▉     | 1261/2554 periods | 00:14<00:05"
     ]
    },
    {
     "name": "stderr",
     "output_type": "stream",
     "text": [
      "\r",
      " 50%|█████     | 1286/2554 periods | 00:14<00:05"
     ]
    },
    {
     "name": "stderr",
     "output_type": "stream",
     "text": [
      "\r",
      " 51%|█████▏    | 1313/2554 periods | 00:14<00:05"
     ]
    },
    {
     "name": "stderr",
     "output_type": "stream",
     "text": [
      "\r",
      " 52%|█████▏    | 1337/2554 periods | 00:14<00:05"
     ]
    },
    {
     "name": "stderr",
     "output_type": "stream",
     "text": [
      "\r",
      " 53%|█████▎    | 1361/2554 periods | 00:14<00:05"
     ]
    },
    {
     "name": "stderr",
     "output_type": "stream",
     "text": [
      "\r",
      " 54%|█████▍    | 1384/2554 periods | 00:15<00:05"
     ]
    },
    {
     "name": "stderr",
     "output_type": "stream",
     "text": [
      "\r",
      " 55%|█████▌    | 1405/2554 periods | 00:15<00:05"
     ]
    },
    {
     "name": "stderr",
     "output_type": "stream",
     "text": [
      "\r",
      " 56%|█████▌    | 1434/2554 periods | 00:15<00:05"
     ]
    },
    {
     "name": "stderr",
     "output_type": "stream",
     "text": [
      "\r",
      " 57%|█████▋    | 1457/2554 periods | 00:15<00:04"
     ]
    },
    {
     "name": "stderr",
     "output_type": "stream",
     "text": [
      "\r",
      " 58%|█████▊    | 1481/2554 periods | 00:15<00:04"
     ]
    },
    {
     "name": "stderr",
     "output_type": "stream",
     "text": [
      "\r",
      " 59%|█████▉    | 1505/2554 periods | 00:15<00:04"
     ]
    },
    {
     "name": "stderr",
     "output_type": "stream",
     "text": [
      "\r",
      " 60%|█████▉    | 1528/2554 periods | 00:15<00:04"
     ]
    },
    {
     "name": "stderr",
     "output_type": "stream",
     "text": [
      "\r",
      " 61%|██████    | 1551/2554 periods | 00:15<00:04"
     ]
    },
    {
     "name": "stderr",
     "output_type": "stream",
     "text": [
      "\r",
      " 62%|██████▏   | 1574/2554 periods | 00:15<00:04"
     ]
    },
    {
     "name": "stderr",
     "output_type": "stream",
     "text": [
      "\r",
      " 63%|██████▎   | 1598/2554 periods | 00:15<00:04"
     ]
    },
    {
     "name": "stderr",
     "output_type": "stream",
     "text": [
      "\r",
      " 63%|██████▎   | 1620/2554 periods | 00:16<00:04"
     ]
    },
    {
     "name": "stderr",
     "output_type": "stream",
     "text": [
      "\r",
      " 64%|██████▍   | 1642/2554 periods | 00:16<00:04"
     ]
    },
    {
     "name": "stderr",
     "output_type": "stream",
     "text": [
      "\r",
      " 65%|██████▌   | 1665/2554 periods | 00:16<00:04"
     ]
    },
    {
     "name": "stderr",
     "output_type": "stream",
     "text": [
      "\r",
      " 66%|██████▌   | 1687/2554 periods | 00:16<00:04"
     ]
    },
    {
     "name": "stderr",
     "output_type": "stream",
     "text": [
      "\r",
      " 67%|██████▋   | 1709/2554 periods | 00:16<00:03"
     ]
    },
    {
     "name": "stderr",
     "output_type": "stream",
     "text": [
      "\r",
      " 68%|██████▊   | 1735/2554 periods | 00:16<00:03"
     ]
    },
    {
     "name": "stderr",
     "output_type": "stream",
     "text": [
      "\r",
      " 69%|██████▉   | 1761/2554 periods | 00:16<00:03"
     ]
    },
    {
     "name": "stderr",
     "output_type": "stream",
     "text": [
      "\r",
      " 70%|██████▉   | 1785/2554 periods | 00:16<00:03"
     ]
    },
    {
     "name": "stderr",
     "output_type": "stream",
     "text": [
      "\r",
      " 71%|███████   | 1808/2554 periods | 00:16<00:03"
     ]
    },
    {
     "name": "stderr",
     "output_type": "stream",
     "text": [
      "\r",
      " 72%|███████▏  | 1834/2554 periods | 00:17<00:03"
     ]
    },
    {
     "name": "stderr",
     "output_type": "stream",
     "text": [
      "\r",
      " 73%|███████▎  | 1861/2554 periods | 00:17<00:02"
     ]
    },
    {
     "name": "stderr",
     "output_type": "stream",
     "text": [
      "\r",
      " 74%|███████▍  | 1885/2554 periods | 00:17<00:02"
     ]
    },
    {
     "name": "stderr",
     "output_type": "stream",
     "text": [
      "\r",
      " 75%|███████▍  | 1910/2554 periods | 00:17<00:02"
     ]
    },
    {
     "name": "stderr",
     "output_type": "stream",
     "text": [
      "\r",
      " 76%|███████▌  | 1935/2554 periods | 00:17<00:02"
     ]
    },
    {
     "name": "stderr",
     "output_type": "stream",
     "text": [
      "\r",
      " 77%|███████▋  | 1960/2554 periods | 00:17<00:02"
     ]
    },
    {
     "name": "stderr",
     "output_type": "stream",
     "text": [
      "\r",
      " 78%|███████▊  | 1984/2554 periods | 00:17<00:02"
     ]
    },
    {
     "name": "stderr",
     "output_type": "stream",
     "text": [
      "\r",
      " 79%|███████▊  | 2008/2554 periods | 00:17<00:02"
     ]
    },
    {
     "name": "stderr",
     "output_type": "stream",
     "text": [
      "\r",
      " 80%|███████▉  | 2035/2554 periods | 00:17<00:02"
     ]
    },
    {
     "name": "stderr",
     "output_type": "stream",
     "text": [
      "\r",
      " 81%|████████  | 2060/2554 periods | 00:17<00:02"
     ]
    },
    {
     "name": "stderr",
     "output_type": "stream",
     "text": [
      "\r",
      " 82%|████████▏ | 2085/2554 periods | 00:18<00:02"
     ]
    },
    {
     "name": "stderr",
     "output_type": "stream",
     "text": [
      "\r",
      " 83%|████████▎ | 2115/2554 periods | 00:18<00:01"
     ]
    },
    {
     "name": "stderr",
     "output_type": "stream",
     "text": [
      "\r",
      " 84%|████████▍ | 2140/2554 periods | 00:18<00:01"
     ]
    },
    {
     "name": "stderr",
     "output_type": "stream",
     "text": [
      "\r",
      " 85%|████████▍ | 2164/2554 periods | 00:18<00:01"
     ]
    },
    {
     "name": "stderr",
     "output_type": "stream",
     "text": [
      "\r",
      " 86%|████████▌ | 2187/2554 periods | 00:18<00:01"
     ]
    },
    {
     "name": "stderr",
     "output_type": "stream",
     "text": [
      "\r",
      " 87%|████████▋ | 2210/2554 periods | 00:18<00:01"
     ]
    },
    {
     "name": "stderr",
     "output_type": "stream",
     "text": [
      "\r",
      " 88%|████████▊ | 2236/2554 periods | 00:18<00:01"
     ]
    },
    {
     "name": "stderr",
     "output_type": "stream",
     "text": [
      "\r",
      " 88%|████████▊ | 2259/2554 periods | 00:18<00:01"
     ]
    },
    {
     "name": "stderr",
     "output_type": "stream",
     "text": [
      "\r",
      " 89%|████████▉ | 2285/2554 periods | 00:18<00:01"
     ]
    },
    {
     "name": "stderr",
     "output_type": "stream",
     "text": [
      "\r",
      " 91%|█████████ | 2312/2554 periods | 00:19<00:01"
     ]
    },
    {
     "name": "stderr",
     "output_type": "stream",
     "text": [
      "\r",
      " 92%|█████████▏| 2338/2554 periods | 00:19<00:00"
     ]
    },
    {
     "name": "stderr",
     "output_type": "stream",
     "text": [
      "\r",
      " 93%|█████████▎| 2369/2554 periods | 00:19<00:00"
     ]
    },
    {
     "name": "stderr",
     "output_type": "stream",
     "text": [
      "\r",
      " 94%|█████████▍| 2396/2554 periods | 00:19<00:00"
     ]
    },
    {
     "name": "stderr",
     "output_type": "stream",
     "text": [
      "\r",
      " 95%|█████████▍| 2421/2554 periods | 00:19<00:00"
     ]
    },
    {
     "name": "stderr",
     "output_type": "stream",
     "text": [
      "\r",
      " 96%|█████████▌| 2447/2554 periods | 00:19<00:00"
     ]
    },
    {
     "name": "stderr",
     "output_type": "stream",
     "text": [
      "\r",
      " 97%|█████████▋| 2471/2554 periods | 00:19<00:00"
     ]
    },
    {
     "name": "stderr",
     "output_type": "stream",
     "text": [
      "\r",
      " 98%|█████████▊| 2497/2554 periods | 00:19<00:00"
     ]
    },
    {
     "name": "stderr",
     "output_type": "stream",
     "text": [
      "\r",
      " 99%|█████████▊| 2521/2554 periods | 00:20<00:00"
     ]
    },
    {
     "name": "stderr",
     "output_type": "stream",
     "text": [
      "\r",
      "100%|█████████▉| 2545/2554 periods | 00:20<00:00"
     ]
    },
    {
     "name": "stderr",
     "output_type": "stream",
     "text": [
      "\r",
      "100%|██████████| 2554/2554 periods | 00:20<00:00"
     ]
    },
    {
     "name": "stderr",
     "output_type": "stream",
     "text": [
      "\n"
     ]
    },
    {
     "name": "stdout",
     "output_type": "stream",
     "text": [
      "Searching for best T0 for period 2.18368 days\n"
     ]
    },
    {
     "name": "stderr",
     "output_type": "stream",
     "text": [
      "No data found for target \"TIC 66818296\".\n"
     ]
    },
    {
     "name": "stdout",
     "output_type": "stream",
     "text": [
      "⚠️ No data for TIC 66818296 sector 1\n"
     ]
    },
    {
     "name": "stdout",
     "output_type": "stream",
     "text": [
      "⚠️ BLS failed: The maximum transit duration must be shorter than the minimum period\n"
     ]
    },
    {
     "name": "stdout",
     "output_type": "stream",
     "text": [
      "Transit Least Squares TLS 1.32 (5 Apr 2024)\n",
      "Creating model cache for 38 durations\n",
      "Searching 18276 data points, 2554 periods from 0.601 to 13.94 days\n",
      "Using all 8 CPU threads\n"
     ]
    },
    {
     "name": "stderr",
     "output_type": "stream",
     "text": [
      "\r",
      "  0%|          | 0/2554 periods | 00:00<?"
     ]
    },
    {
     "name": "stderr",
     "output_type": "stream",
     "text": [
      "\r",
      "  0%|          | 1/2554 periods | 00:07<4:59:38"
     ]
    },
    {
     "name": "stderr",
     "output_type": "stream",
     "text": [
      "\r",
      "  0%|          | 8/2554 periods | 00:07<27:43  "
     ]
    },
    {
     "name": "stderr",
     "output_type": "stream",
     "text": [
      "\r",
      "  1%|          | 16/2554 periods | 00:07<11:27"
     ]
    },
    {
     "name": "stderr",
     "output_type": "stream",
     "text": [
      "\r",
      "  1%|▏         | 32/2554 periods | 00:07<04:23"
     ]
    },
    {
     "name": "stderr",
     "output_type": "stream",
     "text": [
      "\r",
      "  2%|▏         | 45/2554 periods | 00:07<02:40"
     ]
    },
    {
     "name": "stderr",
     "output_type": "stream",
     "text": [
      "\r",
      "  2%|▏         | 58/2554 periods | 00:07<01:46"
     ]
    },
    {
     "name": "stderr",
     "output_type": "stream",
     "text": [
      "\r",
      "  3%|▎         | 70/2554 periods | 00:07<01:18"
     ]
    },
    {
     "name": "stderr",
     "output_type": "stream",
     "text": [
      "\r",
      "  3%|▎         | 88/2554 periods | 00:07<00:51"
     ]
    },
    {
     "name": "stderr",
     "output_type": "stream",
     "text": [
      "\r",
      "  4%|▍         | 102/2554 periods | 00:07<00:40"
     ]
    },
    {
     "name": "stderr",
     "output_type": "stream",
     "text": [
      "\r",
      "  5%|▍         | 116/2554 periods | 00:07<00:33"
     ]
    },
    {
     "name": "stderr",
     "output_type": "stream",
     "text": [
      "\r",
      "  5%|▌         | 130/2554 periods | 00:08<00:29"
     ]
    },
    {
     "name": "stderr",
     "output_type": "stream",
     "text": [
      "\r",
      "  6%|▌         | 143/2554 periods | 00:08<00:26"
     ]
    },
    {
     "name": "stderr",
     "output_type": "stream",
     "text": [
      "\r",
      "  6%|▋         | 161/2554 periods | 00:08<00:21"
     ]
    },
    {
     "name": "stderr",
     "output_type": "stream",
     "text": [
      "\r",
      "  7%|▋         | 178/2554 periods | 00:08<00:19"
     ]
    },
    {
     "name": "stderr",
     "output_type": "stream",
     "text": [
      "\r",
      "  8%|▊         | 202/2554 periods | 00:08<00:15"
     ]
    },
    {
     "name": "stderr",
     "output_type": "stream",
     "text": [
      "\r",
      "  9%|▉         | 232/2554 periods | 00:08<00:12"
     ]
    },
    {
     "name": "stderr",
     "output_type": "stream",
     "text": [
      "\r",
      " 10%|█         | 258/2554 periods | 00:08<00:11"
     ]
    },
    {
     "name": "stderr",
     "output_type": "stream",
     "text": [
      "\r",
      " 11%|█▏        | 288/2554 periods | 00:08<00:09"
     ]
    },
    {
     "name": "stderr",
     "output_type": "stream",
     "text": [
      "\r",
      " 13%|█▎        | 323/2554 periods | 00:08<00:08"
     ]
    },
    {
     "name": "stderr",
     "output_type": "stream",
     "text": [
      "\r",
      " 14%|█▍        | 354/2554 periods | 00:09<00:08"
     ]
    },
    {
     "name": "stderr",
     "output_type": "stream",
     "text": [
      "\r",
      " 15%|█▌        | 395/2554 periods | 00:09<00:06"
     ]
    },
    {
     "name": "stderr",
     "output_type": "stream",
     "text": [
      "\r",
      " 17%|█▋        | 429/2554 periods | 00:09<00:06"
     ]
    },
    {
     "name": "stderr",
     "output_type": "stream",
     "text": [
      "\r",
      " 18%|█▊        | 470/2554 periods | 00:09<00:06"
     ]
    },
    {
     "name": "stderr",
     "output_type": "stream",
     "text": [
      "\r",
      " 20%|█▉        | 504/2554 periods | 00:09<00:06"
     ]
    },
    {
     "name": "stderr",
     "output_type": "stream",
     "text": [
      "\r",
      " 21%|██        | 537/2554 periods | 00:09<00:06"
     ]
    },
    {
     "name": "stderr",
     "output_type": "stream",
     "text": [
      "\r",
      " 23%|██▎       | 575/2554 periods | 00:09<00:05"
     ]
    },
    {
     "name": "stderr",
     "output_type": "stream",
     "text": [
      "\r",
      " 24%|██▍       | 612/2554 periods | 00:09<00:05"
     ]
    },
    {
     "name": "stderr",
     "output_type": "stream",
     "text": [
      "\r",
      " 26%|██▌       | 652/2554 periods | 00:09<00:05"
     ]
    },
    {
     "name": "stderr",
     "output_type": "stream",
     "text": [
      "\r",
      " 27%|██▋       | 688/2554 periods | 00:10<00:06"
     ]
    },
    {
     "name": "stderr",
     "output_type": "stream",
     "text": [
      "\r",
      " 28%|██▊       | 719/2554 periods | 00:10<00:06"
     ]
    },
    {
     "name": "stderr",
     "output_type": "stream",
     "text": [
      "\r",
      " 29%|██▉       | 748/2554 periods | 00:10<00:07"
     ]
    },
    {
     "name": "stderr",
     "output_type": "stream",
     "text": [
      "\r",
      " 30%|███       | 775/2554 periods | 00:10<00:07"
     ]
    },
    {
     "name": "stderr",
     "output_type": "stream",
     "text": [
      "\r",
      " 31%|███▏      | 801/2554 periods | 00:10<00:08"
     ]
    },
    {
     "name": "stderr",
     "output_type": "stream",
     "text": [
      "\r",
      " 32%|███▏      | 824/2554 periods | 00:10<00:08"
     ]
    },
    {
     "name": "stderr",
     "output_type": "stream",
     "text": [
      "\r",
      " 33%|███▎      | 846/2554 periods | 00:10<00:08"
     ]
    },
    {
     "name": "stderr",
     "output_type": "stream",
     "text": [
      "\r",
      " 34%|███▍      | 874/2554 periods | 00:10<00:07"
     ]
    },
    {
     "name": "stderr",
     "output_type": "stream",
     "text": [
      "\r",
      " 36%|███▌      | 909/2554 periods | 00:11<00:06"
     ]
    },
    {
     "name": "stderr",
     "output_type": "stream",
     "text": [
      "\r",
      " 37%|███▋      | 936/2554 periods | 00:11<00:06"
     ]
    },
    {
     "name": "stderr",
     "output_type": "stream",
     "text": [
      "\r",
      " 38%|███▊      | 963/2554 periods | 00:11<00:06"
     ]
    },
    {
     "name": "stderr",
     "output_type": "stream",
     "text": [
      "\r",
      " 39%|███▉      | 993/2554 periods | 00:11<00:05"
     ]
    },
    {
     "name": "stderr",
     "output_type": "stream",
     "text": [
      "\r",
      " 40%|███▉      | 1021/2554 periods | 00:11<00:05"
     ]
    },
    {
     "name": "stderr",
     "output_type": "stream",
     "text": [
      "\r",
      " 41%|████      | 1051/2554 periods | 00:11<00:05"
     ]
    },
    {
     "name": "stderr",
     "output_type": "stream",
     "text": [
      "\r",
      " 43%|████▎     | 1101/2554 periods | 00:11<00:04"
     ]
    },
    {
     "name": "stderr",
     "output_type": "stream",
     "text": [
      "\r",
      " 45%|████▍     | 1140/2554 periods | 00:11<00:04"
     ]
    },
    {
     "name": "stderr",
     "output_type": "stream",
     "text": [
      "\r",
      " 46%|████▌     | 1177/2554 periods | 00:11<00:03"
     ]
    },
    {
     "name": "stderr",
     "output_type": "stream",
     "text": [
      "\r",
      " 47%|████▋     | 1213/2554 periods | 00:12<00:03"
     ]
    },
    {
     "name": "stderr",
     "output_type": "stream",
     "text": [
      "\r",
      " 49%|████▉     | 1248/2554 periods | 00:12<00:04"
     ]
    },
    {
     "name": "stderr",
     "output_type": "stream",
     "text": [
      "\r",
      " 50%|█████     | 1281/2554 periods | 00:12<00:03"
     ]
    },
    {
     "name": "stderr",
     "output_type": "stream",
     "text": [
      "\r",
      " 51%|█████▏    | 1314/2554 periods | 00:12<00:03"
     ]
    },
    {
     "name": "stderr",
     "output_type": "stream",
     "text": [
      "\r",
      " 53%|█████▎    | 1348/2554 periods | 00:12<00:03"
     ]
    },
    {
     "name": "stderr",
     "output_type": "stream",
     "text": [
      "\r",
      " 54%|█████▍    | 1381/2554 periods | 00:12<00:03"
     ]
    },
    {
     "name": "stderr",
     "output_type": "stream",
     "text": [
      "\r",
      " 55%|█████▌    | 1414/2554 periods | 00:12<00:03"
     ]
    },
    {
     "name": "stderr",
     "output_type": "stream",
     "text": [
      "\r",
      " 57%|█████▋    | 1449/2554 periods | 00:12<00:03"
     ]
    },
    {
     "name": "stderr",
     "output_type": "stream",
     "text": [
      "\r",
      " 58%|█████▊    | 1483/2554 periods | 00:12<00:03"
     ]
    },
    {
     "name": "stderr",
     "output_type": "stream",
     "text": [
      "\r",
      " 59%|█████▉    | 1518/2554 periods | 00:12<00:03"
     ]
    },
    {
     "name": "stderr",
     "output_type": "stream",
     "text": [
      "\r",
      " 61%|██████    | 1558/2554 periods | 00:13<00:02"
     ]
    },
    {
     "name": "stderr",
     "output_type": "stream",
     "text": [
      "\r",
      " 62%|██████▏   | 1596/2554 periods | 00:13<00:02"
     ]
    },
    {
     "name": "stderr",
     "output_type": "stream",
     "text": [
      "\r",
      " 64%|██████▍   | 1632/2554 periods | 00:13<00:02"
     ]
    },
    {
     "name": "stderr",
     "output_type": "stream",
     "text": [
      "\r",
      " 66%|██████▌   | 1678/2554 periods | 00:13<00:02"
     ]
    },
    {
     "name": "stderr",
     "output_type": "stream",
     "text": [
      "\r",
      " 67%|██████▋   | 1716/2554 periods | 00:13<00:02"
     ]
    },
    {
     "name": "stderr",
     "output_type": "stream",
     "text": [
      "\r",
      " 69%|██████▉   | 1758/2554 periods | 00:13<00:02"
     ]
    },
    {
     "name": "stderr",
     "output_type": "stream",
     "text": [
      "\r",
      " 70%|███████   | 1800/2554 periods | 00:13<00:01"
     ]
    },
    {
     "name": "stderr",
     "output_type": "stream",
     "text": [
      "\r",
      " 72%|███████▏  | 1840/2554 periods | 00:13<00:01"
     ]
    },
    {
     "name": "stderr",
     "output_type": "stream",
     "text": [
      "\r",
      " 74%|███████▎  | 1879/2554 periods | 00:13<00:01"
     ]
    },
    {
     "name": "stderr",
     "output_type": "stream",
     "text": [
      "\r",
      " 75%|███████▌  | 1918/2554 periods | 00:14<00:01"
     ]
    },
    {
     "name": "stderr",
     "output_type": "stream",
     "text": [
      "\r",
      " 77%|███████▋  | 1957/2554 periods | 00:14<00:01"
     ]
    },
    {
     "name": "stderr",
     "output_type": "stream",
     "text": [
      "\r",
      " 78%|███████▊  | 1995/2554 periods | 00:14<00:01"
     ]
    },
    {
     "name": "stderr",
     "output_type": "stream",
     "text": [
      "\r",
      " 80%|███████▉  | 2033/2554 periods | 00:14<00:01"
     ]
    },
    {
     "name": "stderr",
     "output_type": "stream",
     "text": [
      "\r",
      " 81%|████████  | 2075/2554 periods | 00:14<00:01"
     ]
    },
    {
     "name": "stderr",
     "output_type": "stream",
     "text": [
      "\r",
      " 83%|████████▎ | 2113/2554 periods | 00:14<00:01"
     ]
    },
    {
     "name": "stderr",
     "output_type": "stream",
     "text": [
      "\r",
      " 84%|████████▍ | 2151/2554 periods | 00:14<00:01"
     ]
    },
    {
     "name": "stderr",
     "output_type": "stream",
     "text": [
      "\r",
      " 86%|████████▌ | 2189/2554 periods | 00:14<00:01"
     ]
    },
    {
     "name": "stderr",
     "output_type": "stream",
     "text": [
      "\r",
      " 87%|████████▋ | 2231/2554 periods | 00:14<00:00"
     ]
    },
    {
     "name": "stderr",
     "output_type": "stream",
     "text": [
      "\r",
      " 89%|████████▉ | 2273/2554 periods | 00:14<00:00"
     ]
    },
    {
     "name": "stderr",
     "output_type": "stream",
     "text": [
      "\r",
      " 91%|█████████ | 2314/2554 periods | 00:15<00:00"
     ]
    },
    {
     "name": "stderr",
     "output_type": "stream",
     "text": [
      "\r",
      " 92%|█████████▏| 2359/2554 periods | 00:15<00:00"
     ]
    },
    {
     "name": "stderr",
     "output_type": "stream",
     "text": [
      "\r",
      " 94%|█████████▍| 2401/2554 periods | 00:15<00:00"
     ]
    },
    {
     "name": "stderr",
     "output_type": "stream",
     "text": [
      "\r",
      " 96%|█████████▌| 2443/2554 periods | 00:15<00:00"
     ]
    },
    {
     "name": "stderr",
     "output_type": "stream",
     "text": [
      "\r",
      " 97%|█████████▋| 2484/2554 periods | 00:15<00:00"
     ]
    },
    {
     "name": "stderr",
     "output_type": "stream",
     "text": [
      "\r",
      " 99%|█████████▉| 2525/2554 periods | 00:15<00:00"
     ]
    },
    {
     "name": "stderr",
     "output_type": "stream",
     "text": [
      "\r",
      "100%|██████████| 2554/2554 periods | 00:15<00:00"
     ]
    },
    {
     "name": "stderr",
     "output_type": "stream",
     "text": [
      "\n"
     ]
    },
    {
     "name": "stdout",
     "output_type": "stream",
     "text": [
      "Searching for best T0 for period 9.14538 days\n"
     ]
    },
    {
     "name": "stderr",
     "output_type": "stream",
     "text": [
      "\r",
      "  0%|          | 0/6550 [00:00<?, ?it/s]"
     ]
    },
    {
     "name": "stderr",
     "output_type": "stream",
     "text": [
      "\r",
      "  3%|▎         | 166/6550 [00:00<00:04, 1445.09it/s]"
     ]
    },
    {
     "name": "stderr",
     "output_type": "stream",
     "text": [
      "\r",
      "  5%|▌         | 332/6550 [00:00<00:03, 1563.79it/s]"
     ]
    },
    {
     "name": "stderr",
     "output_type": "stream",
     "text": [
      "\r",
      "  8%|▊         | 494/6550 [00:00<00:03, 1549.16it/s]"
     ]
    },
    {
     "name": "stderr",
     "output_type": "stream",
     "text": [
      "\r",
      " 10%|█         | 660/6550 [00:00<00:03, 1512.37it/s]"
     ]
    },
    {
     "name": "stderr",
     "output_type": "stream",
     "text": [
      "\r",
      " 13%|█▎        | 846/6550 [00:00<00:03, 1630.07it/s]"
     ]
    },
    {
     "name": "stderr",
     "output_type": "stream",
     "text": [
      "\r",
      " 16%|█▌        | 1047/6550 [00:00<00:03, 1729.12it/s]"
     ]
    },
    {
     "name": "stderr",
     "output_type": "stream",
     "text": [
      "\r",
      " 19%|█▉        | 1249/6550 [00:00<00:02, 1819.43it/s]"
     ]
    },
    {
     "name": "stderr",
     "output_type": "stream",
     "text": [
      "\r",
      " 23%|██▎       | 1505/6550 [00:00<00:02, 2047.92it/s]"
     ]
    },
    {
     "name": "stderr",
     "output_type": "stream",
     "text": [
      "\r",
      " 27%|██▋       | 1801/6550 [00:00<00:02, 2327.55it/s]"
     ]
    },
    {
     "name": "stderr",
     "output_type": "stream",
     "text": [
      "\r",
      " 32%|███▏      | 2071/6550 [00:01<00:01, 2439.66it/s]"
     ]
    },
    {
     "name": "stderr",
     "output_type": "stream",
     "text": [
      "\r",
      " 36%|███▋      | 2390/6550 [00:01<00:01, 2666.62it/s]"
     ]
    },
    {
     "name": "stderr",
     "output_type": "stream",
     "text": [
      "\r",
      " 41%|████      | 2699/6550 [00:01<00:01, 2791.88it/s]"
     ]
    },
    {
     "name": "stderr",
     "output_type": "stream",
     "text": [
      "\r",
      " 45%|████▌     | 2979/6550 [00:01<00:01, 2555.27it/s]"
     ]
    },
    {
     "name": "stderr",
     "output_type": "stream",
     "text": [
      "\r",
      " 50%|█████     | 3280/6550 [00:01<00:01, 2681.55it/s]"
     ]
    },
    {
     "name": "stderr",
     "output_type": "stream",
     "text": [
      "\r",
      " 54%|█████▍    | 3552/6550 [00:01<00:01, 2579.12it/s]"
     ]
    },
    {
     "name": "stderr",
     "output_type": "stream",
     "text": [
      "\r",
      " 59%|█████▉    | 3873/6550 [00:01<00:00, 2751.98it/s]"
     ]
    },
    {
     "name": "stderr",
     "output_type": "stream",
     "text": [
      "\r",
      " 64%|██████▍   | 4198/6550 [00:01<00:00, 2894.16it/s]"
     ]
    },
    {
     "name": "stderr",
     "output_type": "stream",
     "text": [
      "\r",
      " 69%|██████▊   | 4491/6550 [00:01<00:00, 2851.48it/s]"
     ]
    },
    {
     "name": "stderr",
     "output_type": "stream",
     "text": [
      "\r",
      " 74%|███████▎  | 4825/6550 [00:01<00:00, 2991.08it/s]"
     ]
    },
    {
     "name": "stderr",
     "output_type": "stream",
     "text": [
      "\r",
      " 79%|███████▉  | 5170/6550 [00:02<00:00, 3124.35it/s]"
     ]
    },
    {
     "name": "stderr",
     "output_type": "stream",
     "text": [
      "\r",
      " 84%|████████▍ | 5529/6550 [00:02<00:00, 3261.02it/s]"
     ]
    },
    {
     "name": "stderr",
     "output_type": "stream",
     "text": [
      "\r",
      " 89%|████████▉ | 5857/6550 [00:02<00:00, 3175.31it/s]"
     ]
    },
    {
     "name": "stderr",
     "output_type": "stream",
     "text": [
      "\r",
      " 94%|█████████▍| 6176/6550 [00:02<00:00, 3076.78it/s]"
     ]
    },
    {
     "name": "stderr",
     "output_type": "stream",
     "text": [
      "\r",
      " 99%|█████████▉| 6486/6550 [00:02<00:00, 2912.17it/s]"
     ]
    },
    {
     "name": "stderr",
     "output_type": "stream",
     "text": [
      "\r",
      "100%|██████████| 6550/6550 [00:02<00:00, 2562.07it/s]"
     ]
    },
    {
     "name": "stderr",
     "output_type": "stream",
     "text": [
      "\n"
     ]
    },
    {
     "name": "stderr",
     "output_type": "stream",
     "text": [
      "No data found for target \"TIC 366989877\".\n"
     ]
    },
    {
     "name": "stdout",
     "output_type": "stream",
     "text": [
      "⚠️ No data for TIC 366989877 sector 1\n"
     ]
    },
    {
     "name": "stderr",
     "output_type": "stream",
     "text": [
      "No data found for target \"TIC 320004517\".\n"
     ]
    },
    {
     "name": "stdout",
     "output_type": "stream",
     "text": [
      "⚠️ No data for TIC 320004517 sector 1\n"
     ]
    },
    {
     "name": "stdout",
     "output_type": "stream",
     "text": [
      "⚠️ BLS failed: The maximum transit duration must be shorter than the minimum period\n"
     ]
    },
    {
     "name": "stdout",
     "output_type": "stream",
     "text": [
      "Transit Least Squares TLS 1.32 (5 Apr 2024)\n",
      "Creating model cache for 38 durations\n",
      "Searching 18277 data points, 2554 periods from 0.601 to 13.94 days\n",
      "Using all 8 CPU threads\n"
     ]
    },
    {
     "name": "stderr",
     "output_type": "stream",
     "text": [
      "\r",
      "  0%|          | 0/2554 periods | 00:00<?"
     ]
    },
    {
     "name": "stderr",
     "output_type": "stream",
     "text": [
      "\r",
      "  0%|          | 1/2554 periods | 00:05<4:11:37"
     ]
    },
    {
     "name": "stderr",
     "output_type": "stream",
     "text": [
      "\r",
      "  0%|          | 7/2554 periods | 00:06<26:57  "
     ]
    },
    {
     "name": "stderr",
     "output_type": "stream",
     "text": [
      "\r",
      "  1%|          | 16/2554 periods | 00:06<09:31"
     ]
    },
    {
     "name": "stderr",
     "output_type": "stream",
     "text": [
      "\r",
      "  1%|          | 27/2554 periods | 00:06<04:38"
     ]
    },
    {
     "name": "stderr",
     "output_type": "stream",
     "text": [
      "\r",
      "  1%|▏         | 35/2554 periods | 00:06<03:10"
     ]
    },
    {
     "name": "stderr",
     "output_type": "stream",
     "text": [
      "\r",
      "  2%|▏         | 43/2554 periods | 00:06<02:17"
     ]
    },
    {
     "name": "stderr",
     "output_type": "stream",
     "text": [
      "\r",
      "  2%|▏         | 58/2554 periods | 00:06<01:19"
     ]
    },
    {
     "name": "stderr",
     "output_type": "stream",
     "text": [
      "\r",
      "  3%|▎         | 83/2554 periods | 00:06<00:42"
     ]
    },
    {
     "name": "stderr",
     "output_type": "stream",
     "text": [
      "\r",
      "  5%|▍         | 120/2554 periods | 00:06<00:23"
     ]
    },
    {
     "name": "stderr",
     "output_type": "stream",
     "text": [
      "\r",
      "  6%|▌         | 152/2554 periods | 00:06<00:16"
     ]
    },
    {
     "name": "stderr",
     "output_type": "stream",
     "text": [
      "\r",
      "  7%|▋         | 183/2554 periods | 00:06<00:13"
     ]
    },
    {
     "name": "stderr",
     "output_type": "stream",
     "text": [
      "\r",
      "  9%|▉         | 226/2554 periods | 00:07<00:10"
     ]
    },
    {
     "name": "stderr",
     "output_type": "stream",
     "text": [
      "\r",
      " 11%|█         | 269/2554 periods | 00:07<00:08"
     ]
    },
    {
     "name": "stderr",
     "output_type": "stream",
     "text": [
      "\r",
      " 12%|█▏        | 306/2554 periods | 00:07<00:07"
     ]
    },
    {
     "name": "stderr",
     "output_type": "stream",
     "text": [
      "\r",
      " 14%|█▎        | 346/2554 periods | 00:07<00:06"
     ]
    },
    {
     "name": "stderr",
     "output_type": "stream",
     "text": [
      "\r",
      " 15%|█▌        | 392/2554 periods | 00:07<00:06"
     ]
    },
    {
     "name": "stderr",
     "output_type": "stream",
     "text": [
      "\r",
      " 17%|█▋        | 431/2554 periods | 00:07<00:05"
     ]
    },
    {
     "name": "stderr",
     "output_type": "stream",
     "text": [
      "\r",
      " 19%|█▊        | 474/2554 periods | 00:07<00:05"
     ]
    },
    {
     "name": "stderr",
     "output_type": "stream",
     "text": [
      "\r",
      " 20%|██        | 517/2554 periods | 00:07<00:05"
     ]
    },
    {
     "name": "stderr",
     "output_type": "stream",
     "text": [
      "\r",
      " 22%|██▏       | 557/2554 periods | 00:07<00:05"
     ]
    },
    {
     "name": "stderr",
     "output_type": "stream",
     "text": [
      "\r",
      " 23%|██▎       | 595/2554 periods | 00:08<00:05"
     ]
    },
    {
     "name": "stderr",
     "output_type": "stream",
     "text": [
      "\r",
      " 25%|██▍       | 631/2554 periods | 00:08<00:05"
     ]
    },
    {
     "name": "stderr",
     "output_type": "stream",
     "text": [
      "\r",
      " 26%|██▌       | 667/2554 periods | 00:08<00:05"
     ]
    },
    {
     "name": "stderr",
     "output_type": "stream",
     "text": [
      "\r",
      " 27%|██▋       | 702/2554 periods | 00:08<00:05"
     ]
    },
    {
     "name": "stderr",
     "output_type": "stream",
     "text": [
      "\r",
      " 29%|██▉       | 743/2554 periods | 00:08<00:05"
     ]
    },
    {
     "name": "stderr",
     "output_type": "stream",
     "text": [
      "\r",
      " 31%|███       | 787/2554 periods | 00:08<00:04"
     ]
    },
    {
     "name": "stderr",
     "output_type": "stream",
     "text": [
      "\r",
      " 33%|███▎      | 832/2554 periods | 00:08<00:04"
     ]
    },
    {
     "name": "stderr",
     "output_type": "stream",
     "text": [
      "\r",
      " 35%|███▍      | 883/2554 periods | 00:08<00:03"
     ]
    },
    {
     "name": "stderr",
     "output_type": "stream",
     "text": [
      "\r",
      " 36%|███▋      | 927/2554 periods | 00:08<00:03"
     ]
    },
    {
     "name": "stderr",
     "output_type": "stream",
     "text": [
      "\r",
      " 38%|███▊      | 970/2554 periods | 00:08<00:03"
     ]
    },
    {
     "name": "stderr",
     "output_type": "stream",
     "text": [
      "\r",
      " 40%|███▉      | 1012/2554 periods | 00:09<00:03"
     ]
    },
    {
     "name": "stderr",
     "output_type": "stream",
     "text": [
      "\r",
      " 41%|████      | 1053/2554 periods | 00:09<00:03"
     ]
    },
    {
     "name": "stderr",
     "output_type": "stream",
     "text": [
      "\r",
      " 43%|████▎     | 1098/2554 periods | 00:09<00:03"
     ]
    },
    {
     "name": "stderr",
     "output_type": "stream",
     "text": [
      "\r",
      " 45%|████▍     | 1140/2554 periods | 00:09<00:03"
     ]
    },
    {
     "name": "stderr",
     "output_type": "stream",
     "text": [
      "\r",
      " 46%|████▋     | 1185/2554 periods | 00:09<00:03"
     ]
    },
    {
     "name": "stderr",
     "output_type": "stream",
     "text": [
      "\r",
      " 48%|████▊     | 1227/2554 periods | 00:09<00:03"
     ]
    },
    {
     "name": "stderr",
     "output_type": "stream",
     "text": [
      "\r",
      " 50%|████▉     | 1268/2554 periods | 00:09<00:03"
     ]
    },
    {
     "name": "stderr",
     "output_type": "stream",
     "text": [
      "\r",
      " 51%|█████▏    | 1312/2554 periods | 00:09<00:03"
     ]
    },
    {
     "name": "stderr",
     "output_type": "stream",
     "text": [
      "\r",
      " 53%|█████▎    | 1355/2554 periods | 00:09<00:02"
     ]
    },
    {
     "name": "stderr",
     "output_type": "stream",
     "text": [
      "\r",
      " 55%|█████▍    | 1397/2554 periods | 00:10<00:03"
     ]
    },
    {
     "name": "stderr",
     "output_type": "stream",
     "text": [
      "\r",
      " 56%|█████▌    | 1436/2554 periods | 00:10<00:03"
     ]
    },
    {
     "name": "stderr",
     "output_type": "stream",
     "text": [
      "\r",
      " 58%|█████▊    | 1472/2554 periods | 00:10<00:03"
     ]
    },
    {
     "name": "stderr",
     "output_type": "stream",
     "text": [
      "\r",
      " 60%|█████▉    | 1528/2554 periods | 00:10<00:02"
     ]
    },
    {
     "name": "stderr",
     "output_type": "stream",
     "text": [
      "\r",
      " 62%|██████▏   | 1573/2554 periods | 00:10<00:02"
     ]
    },
    {
     "name": "stderr",
     "output_type": "stream",
     "text": [
      "\r",
      " 63%|██████▎   | 1616/2554 periods | 00:10<00:02"
     ]
    },
    {
     "name": "stderr",
     "output_type": "stream",
     "text": [
      "\r",
      " 65%|██████▍   | 1658/2554 periods | 00:10<00:02"
     ]
    },
    {
     "name": "stderr",
     "output_type": "stream",
     "text": [
      "\r",
      " 67%|██████▋   | 1699/2554 periods | 00:10<00:02"
     ]
    },
    {
     "name": "stderr",
     "output_type": "stream",
     "text": [
      "\r",
      " 68%|██████▊   | 1738/2554 periods | 00:11<00:02"
     ]
    },
    {
     "name": "stderr",
     "output_type": "stream",
     "text": [
      "\r",
      " 69%|██████▉   | 1773/2554 periods | 00:11<00:02"
     ]
    },
    {
     "name": "stderr",
     "output_type": "stream",
     "text": [
      "\r",
      " 71%|███████   | 1817/2554 periods | 00:11<00:02"
     ]
    },
    {
     "name": "stderr",
     "output_type": "stream",
     "text": [
      "\r",
      " 73%|███████▎  | 1860/2554 periods | 00:11<00:01"
     ]
    },
    {
     "name": "stderr",
     "output_type": "stream",
     "text": [
      "\r",
      " 75%|███████▍  | 1907/2554 periods | 00:11<00:01"
     ]
    },
    {
     "name": "stderr",
     "output_type": "stream",
     "text": [
      "\r",
      " 76%|███████▋  | 1948/2554 periods | 00:11<00:01"
     ]
    },
    {
     "name": "stderr",
     "output_type": "stream",
     "text": [
      "\r",
      " 78%|███████▊  | 1990/2554 periods | 00:11<00:01"
     ]
    },
    {
     "name": "stderr",
     "output_type": "stream",
     "text": [
      "\r",
      " 80%|███████▉  | 2033/2554 periods | 00:11<00:01"
     ]
    },
    {
     "name": "stderr",
     "output_type": "stream",
     "text": [
      "\r",
      " 81%|████████▏ | 2079/2554 periods | 00:11<00:01"
     ]
    },
    {
     "name": "stderr",
     "output_type": "stream",
     "text": [
      "\r",
      " 83%|████████▎ | 2123/2554 periods | 00:11<00:01"
     ]
    },
    {
     "name": "stderr",
     "output_type": "stream",
     "text": [
      "\r",
      " 85%|████████▌ | 2172/2554 periods | 00:12<00:00"
     ]
    },
    {
     "name": "stderr",
     "output_type": "stream",
     "text": [
      "\r",
      " 87%|████████▋ | 2216/2554 periods | 00:12<00:00"
     ]
    },
    {
     "name": "stderr",
     "output_type": "stream",
     "text": [
      "\r",
      " 89%|████████▊ | 2262/2554 periods | 00:12<00:00"
     ]
    },
    {
     "name": "stderr",
     "output_type": "stream",
     "text": [
      "\r",
      " 90%|█████████ | 2306/2554 periods | 00:12<00:00"
     ]
    },
    {
     "name": "stderr",
     "output_type": "stream",
     "text": [
      "\r",
      " 92%|█████████▏| 2350/2554 periods | 00:12<00:00"
     ]
    },
    {
     "name": "stderr",
     "output_type": "stream",
     "text": [
      "\r",
      " 94%|█████████▍| 2395/2554 periods | 00:12<00:00"
     ]
    },
    {
     "name": "stderr",
     "output_type": "stream",
     "text": [
      "\r",
      " 95%|█████████▌| 2437/2554 periods | 00:12<00:00"
     ]
    },
    {
     "name": "stderr",
     "output_type": "stream",
     "text": [
      "\r",
      " 97%|█████████▋| 2477/2554 periods | 00:12<00:00"
     ]
    },
    {
     "name": "stderr",
     "output_type": "stream",
     "text": [
      "\r",
      " 98%|█████████▊| 2515/2554 periods | 00:12<00:00"
     ]
    },
    {
     "name": "stderr",
     "output_type": "stream",
     "text": [
      "\r",
      "100%|██████████| 2554/2554 periods | 00:13<00:00"
     ]
    },
    {
     "name": "stderr",
     "output_type": "stream",
     "text": [
      "\n"
     ]
    },
    {
     "name": "stdout",
     "output_type": "stream",
     "text": [
      "Searching for best T0 for period 5.30383 days\n"
     ]
    },
    {
     "name": "stderr",
     "output_type": "stream",
     "text": [
      "No data found for target \"TIC 323132914\".\n"
     ]
    },
    {
     "name": "stdout",
     "output_type": "stream",
     "text": [
      "⚠️ No data for TIC 323132914 sector 1\n"
     ]
    },
    {
     "name": "stderr",
     "output_type": "stream",
     "text": [
      "No data found for target \"TIC 31553893\".\n"
     ]
    },
    {
     "name": "stdout",
     "output_type": "stream",
     "text": [
      "⚠️ No data for TIC 31553893 sector 1\n"
     ]
    },
    {
     "name": "stderr",
     "output_type": "stream",
     "text": [
      "No data found for target \"TIC 380783252\".\n"
     ]
    }
   ],
   "source": [
    "# Extract features from samples (limit to 50 for testing, remove limit for full training)\n",
    "print(\"🚀 Starting feature extraction...\")\n",
    "print(\"⚠️ This may take 10-30 minutes depending on number of samples\")\n",
    "print()\n",
    "\n",
    "# Extract features\n",
    "features_df = extract_features_batch(samples_df, max_samples=50)\n",
    "\n",
    "# CRITICAL: Define feature_cols IMMEDIATELY after extraction\n",
    "feature_cols = [col for col in features_df.columns if col not in ['sample_id', 'label']]\n",
    "\n",
    "print(f\"\\n✅ Features extracted and feature_cols defined:\")\n",
    "print(f\"   Total samples: {len(features_df)}\")\n",
    "print(f\"   Total features: {len(feature_cols)}\")\n",
    "print(f\"   Feature columns: {feature_cols[:5]}... (showing first 5)\")\n",
    "print(f\"\\nFeature statistics:\")\n",
    "print(features_df[feature_cols].describe())"
   ]
  },
  {
   "cell_type": "markdown",
   "id": "df41c732",
   "metadata": {
    "papermill": {
     "duration": null,
     "end_time": null,
     "exception": null,
     "start_time": null,
     "status": "pending"
    },
    "tags": []
   },
   "source": [
    "## Cell 7: Prepare Training Data"
   ]
  },
  {
   "cell_type": "code",
   "execution_count": null,
   "id": "3d63c64b",
   "metadata": {
    "papermill": {
     "duration": null,
     "end_time": null,
     "exception": null,
     "start_time": null,
     "status": "pending"
    },
    "tags": []
   },
   "outputs": [],
   "source": [
    "# Prepare X and y\n",
    "X = features_df[feature_cols].values\n",
    "y = features_df['label'].values\n",
    "\n",
    "# Handle invalid values\n",
    "X = np.nan_to_num(X, nan=0.0, posinf=0.0, neginf=0.0)\n",
    "\n",
    "# Create groups for cross-validation\n",
    "if 'sample_id' in features_df.columns:\n",
    "    groups = features_df['sample_id'].apply(lambda x: hash(str(x)) % 10000).values\n",
    "    print(f\"✅ Created groups from sample_id\")\n",
    "else:\n",
    "    groups = np.arange(len(y))\n",
    "    print(f\"⚠️ No sample_id, using individual groups\")\n",
    "\n",
    "print(f\"\\n📊 Training data prepared:\")\n",
    "print(f\"   X shape: {X.shape}\")\n",
    "print(f\"   y shape: {y.shape}\")\n",
    "print(f\"   Positive ratio: {y.mean():.2%}\")\n",
    "print(f\"   Unique groups: {len(np.unique(groups))}\")"
   ]
  },
  {
   "cell_type": "markdown",
   "id": "02c1a655",
   "metadata": {
    "papermill": {
     "duration": null,
     "end_time": null,
     "exception": null,
     "start_time": null,
     "status": "pending"
    },
    "tags": []
   },
   "source": [
    "## Cell 8: Cross-Validation Training"
   ]
  },
  {
   "cell_type": "code",
   "execution_count": null,
   "id": "fe5f27fd",
   "metadata": {
    "papermill": {
     "duration": null,
     "end_time": null,
     "exception": null,
     "start_time": null,
     "status": "pending"
    },
    "tags": []
   },
   "outputs": [],
   "source": [
    "# Get GPU params\n",
    "gpu_params = get_xgboost_gpu_params()\n",
    "print(f\"XGBoost params: {gpu_params}\")\n",
    "print()\n",
    "\n",
    "# Setup cross-validation\n",
    "n_splits = 5\n",
    "sgkf = StratifiedGroupKFold(n_splits=n_splits, shuffle=True, random_state=42)\n",
    "\n",
    "fold_results = []\n",
    "fold_models = []\n",
    "\n",
    "print(f\"🚀 Starting {n_splits}-Fold Cross-Validation\")\n",
    "print(\"=\" * 60)\n",
    "\n",
    "for fold_idx, (train_idx, test_idx) in enumerate(sgkf.split(X, y, groups), 1):\n",
    "    print(f\"\\nFold {fold_idx}/{n_splits}\")\n",
    "    print(\"-\" * 40)\n",
    "    \n",
    "    # Split data using .iloc[] for proper indexing\n",
    "    X_train, X_test = X[train_idx], X[test_idx]\n",
    "    y_train, y_test = y[train_idx], y[test_idx]\n",
    "    \n",
    "    # Create and train pipeline\n",
    "    pipeline = create_exoplanet_pipeline(\n",
    "        numerical_features=feature_cols,\n",
    "        xgb_params=gpu_params,\n",
    "        n_estimators=100,\n",
    "        max_depth=6,\n",
    "        learning_rate=0.1,\n",
    "        random_state=42 + fold_idx\n",
    "    )\n",
    "    \n",
    "    print(f\"Training on {len(train_idx)} samples...\")\n",
    "    pipeline.fit(X_train, y_train)\n",
    "    \n",
    "    # Predict\n",
    "    y_pred_proba = pipeline.predict_proba(X_test)[:, 1]\n",
    "    \n",
    "    # Calculate metrics\n",
    "    ap_score = average_precision_score(y_test, y_pred_proba)\n",
    "    auc_score = roc_auc_score(y_test, y_pred_proba)\n",
    "    \n",
    "    fold_results.append({\n",
    "        'fold': fold_idx,\n",
    "        'train_size': len(train_idx),\n",
    "        'test_size': len(test_idx),\n",
    "        'test_pos_ratio': y_test.mean(),\n",
    "        'auc_pr': ap_score,\n",
    "        'auc_roc': auc_score\n",
    "    })\n",
    "    \n",
    "    fold_models.append(pipeline)\n",
    "    \n",
    "    print(f\"   Train: {len(train_idx)} samples\")\n",
    "    print(f\"   Test: {len(test_idx)} samples (pos: {y_test.mean():.2%})\")\n",
    "    print(f\"   AUC-PR:  {ap_score:.4f}\")\n",
    "    print(f\"   AUC-ROC: {auc_score:.4f}\")\n",
    "\n",
    "# Summary results\n",
    "print(\"\\n\" + \"=\" * 60)\n",
    "print(\"📊 Cross-Validation Summary\")\n",
    "print(\"=\" * 60)\n",
    "\n",
    "fold_df = pd.DataFrame(fold_results)\n",
    "print(f\"\\nAUC-PR:  {fold_df['auc_pr'].mean():.4f} +/- {fold_df['auc_pr'].std():.4f}\")\n",
    "print(f\"AUC-ROC: {fold_df['auc_roc'].mean():.4f} +/- {fold_df['auc_roc'].std():.4f}\")\n",
    "print(f\"\\nDetailed results per fold:\")\n",
    "print(fold_df.to_string(index=False))\n",
    "\n",
    "# Select best model\n",
    "best_fold_idx = fold_df['auc_pr'].idxmax()\n",
    "best_model = fold_models[best_fold_idx]\n",
    "\n",
    "print(f\"\\n✅ Best model: Fold {best_fold_idx + 1} (AUC-PR: {fold_df.loc[best_fold_idx, 'auc_pr']:.4f})\")"
   ]
  },
  {
   "cell_type": "markdown",
   "id": "8060c8f0",
   "metadata": {
    "papermill": {
     "duration": null,
     "end_time": null,
     "exception": null,
     "start_time": null,
     "status": "pending"
    },
    "tags": []
   },
   "source": [
    "## Cell 9: Save Model"
   ]
  },
  {
   "cell_type": "code",
   "execution_count": null,
   "id": "7602f123",
   "metadata": {
    "papermill": {
     "duration": null,
     "end_time": null,
     "exception": null,
     "start_time": null,
     "status": "pending"
    },
    "tags": []
   },
   "outputs": [],
   "source": [
    "# Save best model\n",
    "model_path = MODEL_DIR / 'exoplanet_xgboost_pipeline.pkl'\n",
    "joblib.dump(best_model, model_path)\n",
    "\n",
    "print(f\"✅ Model saved: {model_path}\")\n",
    "print(f\"   Model size: {model_path.stat().st_size / 1024:.2f} KB\")\n",
    "\n",
    "# Save feature columns\n",
    "feature_cols_path = MODEL_DIR / 'feature_columns.txt'\n",
    "with open(feature_cols_path, 'w') as f:\n",
    "    f.write('\\n'.join(feature_cols))\n",
    "\n",
    "print(f\"✅ Feature columns saved: {feature_cols_path}\")\n",
    "\n",
    "# Save metrics\n",
    "metrics_path = MODEL_DIR / 'training_metrics.csv'\n",
    "fold_df.to_csv(metrics_path, index=False)\n",
    "\n",
    "print(f\"✅ Metrics saved: {metrics_path}\")\n",
    "\n",
    "# Save summary\n",
    "summary_path = MODEL_DIR / 'training_summary.txt'\n",
    "with open(summary_path, 'w') as f:\n",
    "    f.write(f\"Exoplanet Detection Model Training Summary\\n\")\n",
    "    f.write(f\"=========================================\\n\\n\")\n",
    "    f.write(f\"Training Date: {pd.Timestamp.now()}\\n\")\n",
    "    f.write(f\"Total Samples: {len(X)}\\n\")\n",
    "    f.write(f\"Total Features: {len(feature_cols)}\\n\")\n",
    "    f.write(f\"Positive Ratio: {y.mean():.2%}\\n\\n\")\n",
    "    f.write(f\"Cross-Validation Results (n={n_splits} folds):\\n\")\n",
    "    f.write(f\"  AUC-PR:  {fold_df['auc_pr'].mean():.4f} +/- {fold_df['auc_pr'].std():.4f}\\n\")\n",
    "    f.write(f\"  AUC-ROC: {fold_df['auc_roc'].mean():.4f} +/- {fold_df['auc_roc'].std():.4f}\\n\\n\")\n",
    "    f.write(f\"Best Model: Fold {best_fold_idx + 1}\\n\")\n",
    "    f.write(f\"  AUC-PR: {fold_df.loc[best_fold_idx, 'auc_pr']:.4f}\\n\")\n",
    "    f.write(f\"  AUC-ROC: {fold_df.loc[best_fold_idx, 'auc_roc']:.4f}\\n\")\n",
    "\n",
    "print(f\"✅ Summary saved: {summary_path}\")\n",
    "\n",
    "print(f\"\\n🎉 Training complete! All files saved to {MODEL_DIR}\")"
   ]
  },
  {
   "cell_type": "markdown",
   "id": "dc4c0ae6",
   "metadata": {
    "papermill": {
     "duration": null,
     "end_time": null,
     "exception": null,
     "start_time": null,
     "status": "pending"
    },
    "tags": []
   },
   "source": [
    "## Training Complete! 🎉\n",
    "\n",
    "### What was saved:\n",
    "1. **Model**: `exoplanet_xgboost_pipeline.pkl` - Trained XGBoost pipeline\n",
    "2. **Features**: `feature_columns.txt` - List of feature names\n",
    "3. **Metrics**: `training_metrics.csv` - Cross-validation results\n",
    "4. **Summary**: `training_summary.txt` - Training overview\n",
    "\n",
    "### Next Steps:\n",
    "- Use `04_newdata_inference.ipynb` to make predictions on new data\n",
    "- Use `05_metrics_dashboard.ipynb` to analyze model performance\n",
    "\n",
    "### Issues Fixed:\n",
    "- ✅ Cell execution order corrected\n",
    "- ✅ `feature_cols` defined before use\n",
    "- ✅ DataFrame indexing uses `.iloc[]`\n",
    "- ✅ Removed broken calibration code\n",
    "- ✅ Removed undefined variable references"
   ]
  }
 ],
 "metadata": {
  "kernelspec": {
   "display_name": "Python 3",
   "language": "python",
   "name": "python3"
  },
  "language_info": {
   "codemirror_mode": {
    "name": "ipython",
    "version": 3
   },
   "file_extension": ".py",
   "mimetype": "text/x-python",
   "name": "python",
   "nbconvert_exporter": "python",
   "pygments_lexer": "ipython3",
   "version": "3.8.0"
  },
  "papermill": {
   "default_parameters": {},
   "duration": null,
   "end_time": null,
   "environment_variables": {},
   "exception": null,
   "input_path": "03_injection_train_MINIMAL.ipynb",
   "output_path": "03_injection_train_MINIMAL_executed.ipynb",
   "parameters": {},
   "start_time": "2025-09-30T00:16:08.536129",
   "version": "2.6.0"
  }
 },
 "nbformat": 4,
 "nbformat_minor": 5
}