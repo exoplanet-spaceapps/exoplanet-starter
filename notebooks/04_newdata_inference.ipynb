{
 "cells": [
  {
   "cell_type": "markdown",
   "metadata": {},
   "source": [
    "# 04 · 新資料推論（TIC -> 機率）"
   ]
  },
  {
   "cell_type": "code",
   "metadata": {},
   "source": "# 環境設定與依賴安裝（Colab）\nimport sys, subprocess, pkgutil, joblib, json\n\ndef pipi(*pkgs):\n    \"\"\"安裝套件的輔助函式\"\"\"\n    subprocess.check_call([sys.executable, \"-m\", \"pip\", \"install\", \"-q\", *pkgs])\n\n# 安裝必要套件（避免 numpy 2.0 相容性問題）\nprint(\"🚀 正在安裝依賴套件...\")\ntry:\n    import numpy as np\n    import lightkurve as lk\n    print(\"✅ 基礎套件已安裝\")\nexcept Exception:\n    pipi(\"numpy<2\", \"lightkurve\", \"astroquery\", \"scikit-learn\", \"matplotlib\", \"joblib\")\n    print(\"✅ 依賴套件安裝完成\")\n\n# 檢查 GPU 資訊\nimport torch if 'torch' in [m.name for m in pkgutil.iter_modules()] else None\nif torch is not None and torch.cuda.is_available():\n    gpu_name = torch.cuda.get_device_name(0)\n    print(f\"🖥️ GPU 型號: {gpu_name}\")\n    print(f\"   記憶體: {torch.cuda.get_device_properties(0).total_memory / 1024**3:.2f} GB\")\n    \n    # 如果是 NVIDIA L4，提供推論優化建議\n    if \"L4\" in gpu_name:\n        print(\"💡 偵測到 NVIDIA L4 GPU - 支援高效能 BF16 推論\")\n        print(\"   若使用深度學習模型，建議使用：\")\n        print(\"   ```python\")\n        print(\"   with torch.autocast('cuda', dtype=torch.bfloat16):\")\n        print(\"       predictions = model(inputs)\")\n        print(\"   ```\")\nelse:\n    try:\n        # 使用 nvidia-smi 檢查 GPU\n        result = subprocess.run(['nvidia-smi', '--query-gpu=name', '--format=csv,noheader'], \n                              capture_output=True, text=True, check=False)\n        if result.returncode == 0:\n            gpu_name = result.stdout.strip()\n            print(f\"🖥️ GPU 型號: {gpu_name}\")\n            if \"L4\" in gpu_name:\n                print(\"💡 偵測到 NVIDIA L4 GPU - 支援高效能 BF16 推論\")\n    except:\n        print(\"⚠️ 未偵測到 GPU，將使用 CPU 進行推論\")\n\nprint(\"\\n環境設定完成！準備載入模型與推論...\")",
   "outputs": [],
   "execution_count": null
  },
  {
   "cell_type": "code",
   "metadata": {},
   "source": [
    "import lightkurve as lk, numpy as np, json, joblib\n",
    "from pathlib import Path\n",
    "model_path = \"/content/model/ranker.joblib\"\n",
    "schema_path = \"/content/model/feature_schema.json\"\n",
    "assert Path(model_path).exists(), \"請先在 03_injection_train.ipynb 產生模型\"\n",
    "pipe = joblib.load(model_path)\n",
    "schema = json.load(open(schema_path))\n"
   ],
   "outputs": [],
   "execution_count": null
  },
  {
   "cell_type": "code",
   "metadata": {},
   "source": [
    "# 參數\n",
    "TIC = \"TIC 25155310\"  # 可更換\n",
    "sr = lk.search_lightcurve(TIC, mission=\"TESS\", author=\"SPOC\")\n",
    "lc = sr.download().remove_nans()\n",
    "flat = lc.flatten(window_length=401)\n",
    "bls = flat.to_periodogram(method=\"bls\", minimum_period=0.5, maximum_period=20)\n",
    "feat = [bls.period_at_max_power.value, bls.duration_at_max_power.value, bls.max_power.value]\n",
    "import numpy as np\n",
    "prob = float(pipe.predict_proba(np.array(feat).reshape(1,-1))[:,1])\n",
    "prob"
   ],
   "outputs": [],
   "execution_count": null
  },
  {
   "cell_type": "code",
   "metadata": {},
   "source": [
    "# 視覺化\n",
    "ax = bls.plot(); ax.set_title(\"BLS Power Spectrum\")\n",
    "folded = flat.fold(bls.period_at_max_power, bls.transit_time_at_max_power)\n",
    "ax = folded.plot(); ax.set_title(\"Folded Light Curve\")"
   ],
   "outputs": [],
   "execution_count": null
  }
 ],
 "metadata": {
  "kernelspec": {
   "display_name": "Python 3",
   "language": "python",
   "name": "python3"
  },
  "language_info": {
   "name": "python",
   "version": "3.x"
  },
  "colab": {
   "provenance": []
  }
 },
 "nbformat": 4,
 "nbformat_minor": 5
}