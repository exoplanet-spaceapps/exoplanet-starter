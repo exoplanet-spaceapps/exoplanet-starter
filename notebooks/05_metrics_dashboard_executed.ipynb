{
 "cells": [
  {
   "cell_type": "markdown",
   "id": "4e2e8aac",
   "metadata": {
    "papermill": {
     "duration": 0.006118,
     "end_time": "2025-09-29T22:11:22.086137",
     "exception": false,
     "start_time": "2025-09-29T22:11:22.080019",
     "status": "completed"
    },
    "tags": []
   },
   "source": [
    "# 05 · 評估指標儀表板（合成注入 vs 監督式學習）\n",
    "\n",
    "## 評估面向\n",
    "1. **效能指標**：PR-AUC, ROC-AUC, Precision@K, Recall@Known\n",
    "2. **校準指標**：ECE, Brier Score, 可靠度曲線\n",
    "3. **錯誤分析**：假陽性率, 誤差案例畫廊\n",
    "4. **推論效能**：延遲時間, 吞吐量\n",
    "\n",
    "---"
   ]
  },
  {
   "cell_type": "code",
   "execution_count": 1,
   "id": "4209b19a",
   "metadata": {
    "execution": {
     "iopub.execute_input": "2025-09-29T22:11:22.096101Z",
     "iopub.status.busy": "2025-09-29T22:11:22.095842Z",
     "iopub.status.idle": "2025-09-29T22:11:22.105708Z",
     "shell.execute_reply": "2025-09-29T22:11:22.104857Z"
    },
    "papermill": {
     "duration": 0.015757,
     "end_time": "2025-09-29T22:11:22.106781",
     "exception": false,
     "start_time": "2025-09-29T22:11:22.091024",
     "status": "completed"
    },
    "tags": []
   },
   "outputs": [
    {
     "name": "stdout",
     "output_type": "stream",
     "text": [
      "💻 本地環境，跳過套件安裝\n"
     ]
    }
   ],
   "source": [
    "# 步驟 0: 安裝套件與修復 NumPy 2.0 相容性 (Colab 環境)\n",
    "# ⚠️ 重要: 若在 Google Colab，執行此 cell 後請手動重啟 Runtime (Runtime → Restart runtime)\n",
    "\n",
    "import sys\n",
    "IN_COLAB = 'google.colab' in sys.modules\n",
    "\n",
    "if IN_COLAB:\n",
    "    print(\"📍 偵測到 Google Colab 環境\")\n",
    "    print(\"🔧 安裝相容版本套件...\")\n",
    "    !pip install -q numpy==1.26.4 pandas matplotlib scikit-learn seaborn joblib\n",
    "    !pip install -q 'xgboost>=2.0.0' plotly\n",
    "    print(\"✅ 套件安裝完成!\")\n",
    "    print(\"⚠️ 請現在手動重啟 Runtime: Runtime → Restart runtime\")\n",
    "    print(\"   然後從下一個 cell 繼續執行\")\n",
    "else:\n",
    "    print(\"💻 本地環境，跳過套件安裝\")"
   ]
  },
  {
   "cell_type": "code",
   "execution_count": 2,
   "id": "c1465970",
   "metadata": {
    "execution": {
     "iopub.execute_input": "2025-09-29T22:11:22.116297Z",
     "iopub.status.busy": "2025-09-29T22:11:22.115751Z",
     "iopub.status.idle": "2025-09-29T22:11:22.121506Z",
     "shell.execute_reply": "2025-09-29T22:11:22.121076Z"
    },
    "papermill": {
     "duration": 0.011518,
     "end_time": "2025-09-29T22:11:22.122321",
     "exception": false,
     "start_time": "2025-09-29T22:11:22.110803",
     "status": "completed"
    },
    "tags": []
   },
   "outputs": [
    {
     "name": "stdout",
     "output_type": "stream",
     "text": [
      "Running in: Local environment\n",
      "Project directory: C:\\Users\\thc1006\\Desktop\\dev\\exoplanet-starter\n"
     ]
    }
   ],
   "source": [
    "# Environment Detection\n",
    "import sys\n",
    "import os\n",
    "from pathlib import Path\n",
    "\n",
    "# Detect environment\n",
    "IN_COLAB = 'google.colab' in sys.modules or '/content' in os.getcwd()\n",
    "\n",
    "if IN_COLAB:\n",
    "    print(\"Running in: Google Colab\")\n",
    "    \n",
    "    # Clone repo if needed\n",
    "    project_dir = Path('/content/exoplanet-starter')\n",
    "    if not project_dir.exists():\n",
    "        print(\"Cloning repository...\")\n",
    "        !git clone https://github.com/exoplanet-spaceapps/exoplanet-starter.git\n",
    "        print(\"Repository cloned\")\n",
    "    \n",
    "    # Change to project directory\n",
    "    os.chdir(str(project_dir))\n",
    "    \n",
    "    # Add to Python path\n",
    "    sys.path.insert(0, str(project_dir))\n",
    "    sys.path.insert(0, str(project_dir / 'src'))\n",
    "    sys.path.insert(0, str(project_dir / 'notebooks'))\n",
    "    \n",
    "    print(f\"Working directory: {os.getcwd()}\")\n",
    "    print(f\"Python path configured\")\n",
    "    \n",
    "else:\n",
    "    print(\"Running in: Local environment\")\n",
    "    # Local paths\n",
    "    project_dir = Path.cwd().parent if 'notebooks' in str(Path.cwd()) else Path.cwd()\n",
    "    sys.path.insert(0, str(project_dir / 'src'))\n",
    "    sys.path.insert(0, str(project_dir))\n",
    "\n",
    "print(f\"Project directory: {project_dir}\")"
   ]
  },
  {
   "cell_type": "markdown",
   "id": "d3aba206",
   "metadata": {
    "papermill": {
     "duration": 0.004225,
     "end_time": "2025-09-29T22:11:22.130586",
     "exception": false,
     "start_time": "2025-09-29T22:11:22.126361",
     "status": "completed"
    },
    "tags": []
   },
   "source": [
    "## 1. 環境設定與套件導入"
   ]
  },
  {
   "cell_type": "code",
   "execution_count": 3,
   "id": "58342a6b",
   "metadata": {
    "execution": {
     "iopub.execute_input": "2025-09-29T22:11:22.139717Z",
     "iopub.status.busy": "2025-09-29T22:11:22.139465Z",
     "iopub.status.idle": "2025-09-29T22:11:23.774532Z",
     "shell.execute_reply": "2025-09-29T22:11:23.773981Z"
    },
    "papermill": {
     "duration": 1.640606,
     "end_time": "2025-09-29T22:11:23.775402",
     "exception": false,
     "start_time": "2025-09-29T22:11:22.134796",
     "status": "completed"
    },
    "tags": []
   },
   "outputs": [
    {
     "name": "stdout",
     "output_type": "stream",
     "text": [
      "🚀 正在設定環境...\n"
     ]
    },
    {
     "name": "stdout",
     "output_type": "stream",
     "text": [
      "✅ 基礎套件已安裝\n",
      "環境設定完成！\n"
     ]
    }
   ],
   "source": [
    "# 環境設定\n",
    "import sys, subprocess\n",
    "import warnings\n",
    "warnings.filterwarnings('ignore')\n",
    "\n",
    "def pipi(*pkgs):\n",
    "    \"\"\"安裝套件的輔助函式\"\"\"\n",
    "    subprocess.check_call([sys.executable, \"-m\", \"pip\", \"install\", \"-q\", *pkgs])\n",
    "\n",
    "# 安裝必要套件\n",
    "print(\"🚀 正在設定環境...\")\n",
    "try:\n",
    "    import numpy as np\n",
    "    import pandas as pd\n",
    "    import matplotlib.pyplot as plt\n",
    "    import seaborn as sns\n",
    "    import sklearn\n",
    "    print(\"✅ 基礎套件已安裝\")\n",
    "except Exception:\n",
    "    pipi(\"numpy<2\", \"pandas\", \"matplotlib\", \"seaborn\", \"scikit-learn\", \"joblib\")\n",
    "    print(\"✅ 套件安裝完成\")\n",
    "\n",
    "# 設定工作目錄 (compatible with papermill)\n",
    "IN_COLAB = 'google.colab' in sys.modules\n",
    "if IN_COLAB:\n",
    "    import os\n",
    "    if not os.path.exists('/content/exoplanet-starter'):\n",
    "        !git clone https://github.com/exoplanet-spaceapps/exoplanet-starter.git /content/exoplanet-starter\n",
    "        os.chdir('/content/exoplanet-starter')\n",
    "    sys.path.append('/content/exoplanet-starter')\n",
    "else:\n",
    "    import os\n",
    "    from pathlib import Path\n",
    "    # Handle both direct execution and papermill execution\n",
    "    notebook_path = Path.cwd()\n",
    "    if 'notebooks' in str(notebook_path):\n",
    "        os.chdir(str(notebook_path.parent))\n",
    "    sys.path.append(os.getcwd())\n",
    "\n",
    "print(\"環境設定完成！\")"
   ]
  },
  {
   "cell_type": "code",
   "execution_count": 4,
   "id": "885c9198",
   "metadata": {
    "execution": {
     "iopub.execute_input": "2025-09-29T22:11:23.784961Z",
     "iopub.status.busy": "2025-09-29T22:11:23.784474Z",
     "iopub.status.idle": "2025-09-29T22:11:23.888401Z",
     "shell.execute_reply": "2025-09-29T22:11:23.887677Z"
    },
    "papermill": {
     "duration": 0.109914,
     "end_time": "2025-09-29T22:11:23.889590",
     "exception": false,
     "start_time": "2025-09-29T22:11:23.779676",
     "status": "completed"
    },
    "tags": []
   },
   "outputs": [
    {
     "name": "stdout",
     "output_type": "stream",
     "text": [
      "📚 套件導入完成\n"
     ]
    }
   ],
   "source": [
    "# 導入必要套件\n",
    "import numpy as np\n",
    "import pandas as pd\n",
    "import matplotlib.pyplot as plt\n",
    "import seaborn as sns\n",
    "from pathlib import Path\n",
    "import json\n",
    "import joblib\n",
    "import time\n",
    "\n",
    "from sklearn.metrics import (\n",
    "    precision_recall_curve,\n",
    "    roc_curve,\n",
    "    average_precision_score,\n",
    "    roc_auc_score,\n",
    "    confusion_matrix,\n",
    "    classification_report,\n",
    "    brier_score_loss\n",
    ")\n",
    "from sklearn.calibration import calibration_curve\n",
    "\n",
    "# 設定視覺化風格\n",
    "plt.style.use('seaborn-v0_8-darkgrid')\n",
    "sns.set_palette('husl')\n",
    "\n",
    "print(\"📚 套件導入完成\")"
   ]
  },
  {
   "cell_type": "markdown",
   "id": "55751c9a",
   "metadata": {
    "papermill": {
     "duration": 0.003855,
     "end_time": "2025-09-29T22:11:23.899847",
     "exception": false,
     "start_time": "2025-09-29T22:11:23.895992",
     "status": "completed"
    },
    "tags": []
   },
   "source": [
    "### 10.1 推論延遲測試 (Latency Metrics with Percentiles) ⏱️"
   ]
  },
  {
   "cell_type": "code",
   "execution_count": 5,
   "id": "b0c75f15",
   "metadata": {
    "execution": {
     "iopub.execute_input": "2025-09-29T22:11:23.909218Z",
     "iopub.status.busy": "2025-09-29T22:11:23.908967Z",
     "iopub.status.idle": "2025-09-29T22:11:23.989129Z",
     "shell.execute_reply": "2025-09-29T22:11:23.988682Z"
    },
    "papermill": {
     "duration": 0.086038,
     "end_time": "2025-09-29T22:11:23.990005",
     "exception": false,
     "start_time": "2025-09-29T22:11:23.903967",
     "status": "completed"
    },
    "tags": []
   },
   "outputs": [
    {
     "name": "stdout",
     "output_type": "stream",
     "text": [
      "✅ Path setup complete. app.utils can now be imported.\n",
      "✅ Plotly 版本: 6.3.0\n"
     ]
    },
    {
     "name": "stdout",
     "output_type": "stream",
     "text": [
      "✅ 互動式視覺化工具導入完成\n"
     ]
    }
   ],
   "source": [
    "# Setup paths for Colab compatibility\n",
    "import sys\n",
    "import os\n",
    "IN_COLAB = 'google.colab' in sys.modules or '/content' in os.getcwd()\n",
    "\n",
    "if IN_COLAB:\n",
    "    # Colab environment\n",
    "    if os.path.exists('/content/exoplanet-starter/app'):\n",
    "        sys.path.insert(0, '/content/exoplanet-starter')\n",
    "    else:\n",
    "        # Clone repo if not exists\n",
    "        !git clone https://github.com/exoplanet-spaceapps/exoplanet-starter.git\n",
    "        sys.path.insert(0, '/content/exoplanet-starter')\n",
    "else:\n",
    "    # Local environment  \n",
    "    sys.path.insert(0, os.path.join(os.getcwd(), '..'))\n",
    "\n",
    "print(f\"✅ Path setup complete. app.utils can now be imported.\")\n",
    "\n",
    "# Now import Plotly and utility modules\n",
    "try:\n",
    "    import plotly\n",
    "    print(f\"✅ Plotly 版本: {plotly.__version__}\")\n",
    "except ImportError:\n",
    "    print(\"📦 安裝 Plotly...\")\n",
    "    pipi(\"plotly>=5.0.0\")\n",
    "    import plotly\n",
    "    print(f\"✅ Plotly 安裝完成: {plotly.__version__}\")\n",
    "\n",
    "# 導入互動式視覺化工具\n",
    "from app.utils.latency_metrics import (\n",
    "    LatencyTracker, \n",
    "    calculate_latency_stats, \n",
    "    plot_latency_histogram\n",
    ")\n",
    "from app.utils.plotly_charts import (\n",
    "    create_interactive_roc_curve,\n",
    "    create_interactive_pr_curve,\n",
    "    create_interactive_confusion_matrix,\n",
    "    create_interactive_feature_importance,\n",
    "    create_interactive_calibration_curve,\n",
    "    create_metrics_dashboard\n",
    ")\n",
    "\n",
    "print(\"✅ 互動式視覺化工具導入完成\")"
   ]
  },
  {
   "cell_type": "markdown",
   "id": "53193c3f",
   "metadata": {
    "papermill": {
     "duration": 0.00391,
     "end_time": "2025-09-29T22:11:23.998010",
     "exception": false,
     "start_time": "2025-09-29T22:11:23.994100",
     "status": "completed"
    },
    "tags": []
   },
   "source": [
    "## 2. 載入模型和測試資料"
   ]
  },
  {
   "cell_type": "code",
   "execution_count": 6,
   "id": "b00e6c9d",
   "metadata": {
    "execution": {
     "iopub.execute_input": "2025-09-29T22:11:24.007127Z",
     "iopub.status.busy": "2025-09-29T22:11:24.006846Z",
     "iopub.status.idle": "2025-09-29T22:11:24.011561Z",
     "shell.execute_reply": "2025-09-29T22:11:24.011032Z"
    },
    "papermill": {
     "duration": 0.010575,
     "end_time": "2025-09-29T22:11:24.012415",
     "exception": false,
     "start_time": "2025-09-29T22:11:24.001840",
     "status": "completed"
    },
    "tags": []
   },
   "outputs": [
    {
     "name": "stdout",
     "output_type": "stream",
     "text": [
      "✅ 載入測試資料:\n",
      "   樣本數: 500\n",
      "   正類比例: 31.00%\n",
      "   特徵維度: 14\n"
     ]
    }
   ],
   "source": [
    "# 模擬測試資料（實際應用時從真實資料載入）\n",
    "np.random.seed(42)\n",
    "\n",
    "# 生成模擬測試集\n",
    "n_test_samples = 500\n",
    "X_test = np.random.randn(n_test_samples, 14)  # 14個特徵\n",
    "y_test = np.random.binomial(1, 0.3, n_test_samples)  # 30% 正類\n",
    "\n",
    "# 模擬兩個模型的預測機率\n",
    "# 合成注入模型（稍微過度自信）\n",
    "prob_synthetic = np.clip(\n",
    "    y_test * np.random.beta(8, 2, n_test_samples) + \n",
    "    (1 - y_test) * np.random.beta(2, 8, n_test_samples),\n",
    "    0.01, 0.99\n",
    ")\n",
    "\n",
    "# 監督式模型（較好校準）\n",
    "prob_supervised = np.clip(\n",
    "    y_test * np.random.beta(6, 3, n_test_samples) + \n",
    "    (1 - y_test) * np.random.beta(3, 6, n_test_samples),\n",
    "    0.01, 0.99\n",
    ")\n",
    "\n",
    "print(f\"✅ 載入測試資料:\")\n",
    "print(f\"   樣本數: {n_test_samples}\")\n",
    "print(f\"   正類比例: {y_test.mean():.2%}\")\n",
    "print(f\"   特徵維度: {X_test.shape[1]}\")"
   ]
  },
  {
   "cell_type": "markdown",
   "id": "7ae2c78a",
   "metadata": {
    "papermill": {
     "duration": 0.004253,
     "end_time": "2025-09-29T22:11:24.021200",
     "exception": false,
     "start_time": "2025-09-29T22:11:24.016947",
     "status": "completed"
    },
    "tags": []
   },
   "source": [
    "## 3. 計算評估指標"
   ]
  },
  {
   "cell_type": "code",
   "execution_count": 7,
   "id": "c3909b64",
   "metadata": {
    "execution": {
     "iopub.execute_input": "2025-09-29T22:11:24.030608Z",
     "iopub.status.busy": "2025-09-29T22:11:24.030301Z",
     "iopub.status.idle": "2025-09-29T22:11:24.050892Z",
     "shell.execute_reply": "2025-09-29T22:11:24.050398Z"
    },
    "papermill": {
     "duration": 0.026553,
     "end_time": "2025-09-29T22:11:24.051920",
     "exception": false,
     "start_time": "2025-09-29T22:11:24.025367",
     "status": "completed"
    },
    "tags": []
   },
   "outputs": [
    {
     "name": "stdout",
     "output_type": "stream",
     "text": [
      "📊 評估指標對比:\n",
      "      PR-AUC  ROC-AUC    ECE  Brier Score  P@10  P@20\n",
      "合成注入   0.995    0.997  0.180        0.056   1.0   1.0\n",
      "監督式    0.924    0.961  0.221        0.124   1.0   1.0\n"
     ]
    }
   ],
   "source": [
    "def calculate_comprehensive_metrics(y_true, y_prob, model_name=\"Model\"):\n",
    "    \"\"\"計算完整的評估指標集\"\"\"\n",
    "    metrics = {}\n",
    "    \n",
    "    # 1. 基礎指標\n",
    "    metrics['PR-AUC'] = average_precision_score(y_true, y_prob)\n",
    "    metrics['ROC-AUC'] = roc_auc_score(y_true, y_prob)\n",
    "    metrics['Brier Score'] = brier_score_loss(y_true, y_prob)\n",
    "    \n",
    "    # 2. Precision@K\n",
    "    k_values = [10, 20, 50]\n",
    "    sorted_indices = np.argsort(y_prob)[::-1]\n",
    "    for k in k_values:\n",
    "        if k <= len(y_true):\n",
    "            top_k_true = y_true[sorted_indices[:k]]\n",
    "            metrics[f'P@{k}'] = np.mean(top_k_true)\n",
    "    \n",
    "    # 3. Recall@Known (假設前30%是已知行星)\n",
    "    known_planets = int(0.3 * np.sum(y_true))\n",
    "    if known_planets > 0:\n",
    "        threshold = np.sort(y_prob[y_true == 1])[-known_planets] if known_planets <= np.sum(y_true) else 0.5\n",
    "        predicted_positive = y_prob >= threshold\n",
    "        metrics['Recall@Known'] = np.sum((predicted_positive) & (y_true == 1)) / np.sum(y_true)\n",
    "    \n",
    "    # 4. False Positive Rate (at 90% recall)\n",
    "    fpr, tpr, thresholds = roc_curve(y_true, y_prob)\n",
    "    idx_90_recall = np.argmax(tpr >= 0.9)\n",
    "    metrics['FPR@90Recall'] = fpr[idx_90_recall]\n",
    "    \n",
    "    # 5. Expected Calibration Error (ECE)\n",
    "    ece = calculate_ece(y_true, y_prob)\n",
    "    metrics['ECE'] = ece\n",
    "    \n",
    "    # 6. 混淆矩陣（使用0.5閾值）\n",
    "    y_pred = (y_prob >= 0.5).astype(int)\n",
    "    tn, fp, fn, tp = confusion_matrix(y_true, y_pred).ravel()\n",
    "    metrics['True Positives'] = tp\n",
    "    metrics['False Positives'] = fp\n",
    "    metrics['True Negatives'] = tn\n",
    "    metrics['False Negatives'] = fn\n",
    "    \n",
    "    return metrics\n",
    "\n",
    "def calculate_ece(y_true, y_prob, n_bins=10):\n",
    "    \"\"\"計算期望校準誤差 (ECE)\"\"\"\n",
    "    bin_boundaries = np.linspace(0, 1, n_bins + 1)\n",
    "    bin_lowers = bin_boundaries[:-1]\n",
    "    bin_uppers = bin_boundaries[1:]\n",
    "    \n",
    "    ece = 0\n",
    "    for bin_lower, bin_upper in zip(bin_lowers, bin_uppers):\n",
    "        in_bin = (y_prob > bin_lower) & (y_prob <= bin_upper)\n",
    "        prop_in_bin = in_bin.mean()\n",
    "        \n",
    "        if prop_in_bin > 0:\n",
    "            accuracy_in_bin = y_true[in_bin].mean()\n",
    "            avg_confidence_in_bin = y_prob[in_bin].mean()\n",
    "            ece += np.abs(avg_confidence_in_bin - accuracy_in_bin) * prop_in_bin\n",
    "    \n",
    "    return ece\n",
    "\n",
    "# 計算兩個模型的指標\n",
    "metrics_synthetic = calculate_comprehensive_metrics(y_test, prob_synthetic, \"合成注入\")\n",
    "metrics_supervised = calculate_comprehensive_metrics(y_test, prob_supervised, \"監督式\")\n",
    "\n",
    "# 建立比較表\n",
    "comparison_df = pd.DataFrame({\n",
    "    '合成注入': metrics_synthetic,\n",
    "    '監督式': metrics_supervised\n",
    "}).T\n",
    "\n",
    "print(\"📊 評估指標對比:\")\n",
    "print(comparison_df[['PR-AUC', 'ROC-AUC', 'ECE', 'Brier Score', 'P@10', 'P@20']].round(3))"
   ]
  },
  {
   "cell_type": "markdown",
   "id": "accfa3d8",
   "metadata": {
    "papermill": {
     "duration": 0.004108,
     "end_time": "2025-09-29T22:11:24.060883",
     "exception": false,
     "start_time": "2025-09-29T22:11:24.056775",
     "status": "completed"
    },
    "tags": []
   },
   "source": [
    "## 4. 指標對照表視覺化"
   ]
  },
  {
   "cell_type": "code",
   "execution_count": 8,
   "id": "5258aa40",
   "metadata": {
    "execution": {
     "iopub.execute_input": "2025-09-29T22:11:24.070424Z",
     "iopub.status.busy": "2025-09-29T22:11:24.069975Z",
     "iopub.status.idle": "2025-09-29T22:11:24.513143Z",
     "shell.execute_reply": "2025-09-29T22:11:24.512623Z"
    },
    "papermill": {
     "duration": 0.448981,
     "end_time": "2025-09-29T22:11:24.514034",
     "exception": false,
     "start_time": "2025-09-29T22:11:24.065053",
     "status": "completed"
    },
    "tags": []
   },
   "outputs": [
    {
     "data": {
      "image/png": "[encoded data removed]",
      "text/plain": [
       "<Figure size 1600x1000 with 6 Axes>"
      ]
     },
     "metadata": {},
     "output_type": "display_data"
    },
    {
     "name": "stdout",
     "output_type": "stream",
     "text": [
      "\n",
      "💡 分析摘要:\n",
      "   • 合成注入在 PR-AUC 上領先 7.1%\n",
      "   • 合成注入有更好的校準 (ECE: 0.180)\n"
     ]
    }
   ],
   "source": [
    "# 創建指標對照視覺化\n",
    "fig, axes = plt.subplots(2, 3, figsize=(16, 10))\n",
    "\n",
    "# 選擇要視覺化的指標\n",
    "metrics_to_plot = ['PR-AUC', 'ROC-AUC', 'ECE', 'Brier Score', 'P@10', 'FPR@90Recall']\n",
    "colors = ['#3498db', '#e74c3c']  # 藍色=合成，紅色=監督\n",
    "\n",
    "for idx, metric in enumerate(metrics_to_plot):\n",
    "    ax = axes[idx // 3, idx % 3]\n",
    "    \n",
    "    values = [\n",
    "        metrics_synthetic.get(metric, 0),\n",
    "        metrics_supervised.get(metric, 0)\n",
    "    ]\n",
    "    \n",
    "    bars = ax.bar(['合成注入', '監督式'], values, color=colors, alpha=0.7)\n",
    "    \n",
    "    # 添加數值標籤\n",
    "    for bar, val in zip(bars, values):\n",
    "        height = bar.get_height()\n",
    "        ax.text(bar.get_x() + bar.get_width()/2., height,\n",
    "                f'{height:.3f}',\n",
    "                ha='center', va='bottom', fontsize=11, fontweight='bold')\n",
    "    \n",
    "    ax.set_title(metric, fontsize=12, fontweight='bold')\n",
    "    ax.set_ylabel('值', fontsize=10)\n",
    "    ax.grid(True, alpha=0.3, axis='y')\n",
    "    \n",
    "    # 設置Y軸範圍\n",
    "    if metric in ['PR-AUC', 'ROC-AUC', 'P@10']:\n",
    "        ax.set_ylim([0, 1.1])\n",
    "    elif metric in ['ECE', 'Brier Score', 'FPR@90Recall']:\n",
    "        ax.set_ylim([0, max(values) * 1.2])\n",
    "\n",
    "plt.suptitle('🎯 模型效能指標對比儀表板', fontsize=16, fontweight='bold')\n",
    "plt.tight_layout()\n",
    "plt.show()\n",
    "\n",
    "# 判斷優勢\n",
    "print(\"\\n💡 分析摘要:\")\n",
    "if metrics_synthetic['PR-AUC'] > metrics_supervised['PR-AUC']:\n",
    "    print(f\"   • 合成注入在 PR-AUC 上領先 {(metrics_synthetic['PR-AUC'] - metrics_supervised['PR-AUC'])*100:.1f}%\")\n",
    "else:\n",
    "    print(f\"   • 監督式在 PR-AUC 上領先 {(metrics_supervised['PR-AUC'] - metrics_synthetic['PR-AUC'])*100:.1f}%\")\n",
    "\n",
    "if metrics_synthetic['ECE'] < metrics_supervised['ECE']:\n",
    "    print(f\"   • 合成注入有更好的校準 (ECE: {metrics_synthetic['ECE']:.3f})\")\n",
    "else:\n",
    "    print(f\"   • 監督式有更好的校準 (ECE: {metrics_supervised['ECE']:.3f})\")"
   ]
  },
  {
   "cell_type": "markdown",
   "id": "217bb31d",
   "metadata": {
    "papermill": {
     "duration": 0.004865,
     "end_time": "2025-09-29T22:11:24.524221",
     "exception": false,
     "start_time": "2025-09-29T22:11:24.519356",
     "status": "completed"
    },
    "tags": []
   },
   "source": [
    "## 5. PR 曲線和 ROC 曲線"
   ]
  },
  {
   "cell_type": "code",
   "execution_count": 9,
   "id": "bb5791d0",
   "metadata": {
    "execution": {
     "iopub.execute_input": "2025-09-29T22:11:24.536095Z",
     "iopub.status.busy": "2025-09-29T22:11:24.535807Z",
     "iopub.status.idle": "2025-09-29T22:11:24.792282Z",
     "shell.execute_reply": "2025-09-29T22:11:24.791680Z"
    },
    "papermill": {
     "duration": 0.264101,
     "end_time": "2025-09-29T22:11:24.793357",
     "exception": false,
     "start_time": "2025-09-29T22:11:24.529256",
     "status": "completed"
    },
    "tags": []
   },
   "outputs": [
    {
     "data": {
      "image/png": "[encoded data removed]",
      "text/plain": [
       "<Figure size 1400x600 with 2 Axes>"
      ]
     },
     "metadata": {},
     "output_type": "display_data"
    }
   ],
   "source": [
    "# 繪製 PR 和 ROC 曲線\n",
    "fig, (ax1, ax2) = plt.subplots(1, 2, figsize=(14, 6))\n",
    "\n",
    "# PR 曲線\n",
    "precision_syn, recall_syn, _ = precision_recall_curve(y_test, prob_synthetic)\n",
    "precision_sup, recall_sup, _ = precision_recall_curve(y_test, prob_supervised)\n",
    "\n",
    "ax1.plot(recall_syn, precision_syn, label=f'合成注入 (AP={metrics_synthetic[\"PR-AUC\"]:.3f})', \n",
    "         color='#3498db', linewidth=2)\n",
    "ax1.plot(recall_sup, precision_sup, label=f'監督式 (AP={metrics_supervised[\"PR-AUC\"]:.3f})', \n",
    "         color='#e74c3c', linewidth=2, linestyle='--')\n",
    "\n",
    "ax1.set_xlabel('Recall', fontsize=11)\n",
    "ax1.set_ylabel('Precision', fontsize=11)\n",
    "ax1.set_title('Precision-Recall 曲線', fontsize=12, fontweight='bold')\n",
    "ax1.legend(loc='best')\n",
    "ax1.grid(True, alpha=0.3)\n",
    "ax1.set_xlim([0, 1])\n",
    "ax1.set_ylim([0, 1])\n",
    "\n",
    "# ROC 曲線\n",
    "fpr_syn, tpr_syn, _ = roc_curve(y_test, prob_synthetic)\n",
    "fpr_sup, tpr_sup, _ = roc_curve(y_test, prob_supervised)\n",
    "\n",
    "ax2.plot(fpr_syn, tpr_syn, label=f'合成注入 (AUC={metrics_synthetic[\"ROC-AUC\"]:.3f})', \n",
    "         color='#3498db', linewidth=2)\n",
    "ax2.plot(fpr_sup, tpr_sup, label=f'監督式 (AUC={metrics_supervised[\"ROC-AUC\"]:.3f})', \n",
    "         color='#e74c3c', linewidth=2, linestyle='--')\n",
    "ax2.plot([0, 1], [0, 1], 'k--', alpha=0.3, label='Random')\n",
    "\n",
    "ax2.set_xlabel('False Positive Rate', fontsize=11)\n",
    "ax2.set_ylabel('True Positive Rate', fontsize=11)\n",
    "ax2.set_title('ROC 曲線', fontsize=12, fontweight='bold')\n",
    "ax2.legend(loc='best')\n",
    "ax2.grid(True, alpha=0.3)\n",
    "ax2.set_xlim([0, 1])\n",
    "ax2.set_ylim([0, 1])\n",
    "\n",
    "plt.suptitle('📈 分類效能曲線', fontsize=14, fontweight='bold')\n",
    "plt.tight_layout()\n",
    "plt.show()"
   ]
  },
  {
   "cell_type": "markdown",
   "id": "29a52f91",
   "metadata": {
    "papermill": {
     "duration": 0.006747,
     "end_time": "2025-09-29T22:11:24.809627",
     "exception": false,
     "start_time": "2025-09-29T22:11:24.802880",
     "status": "completed"
    },
    "tags": []
   },
   "source": [
    "## 6. 可靠度曲線（Calibration Curves）"
   ]
  },
  {
   "cell_type": "code",
   "execution_count": 10,
   "id": "fd5481ec",
   "metadata": {
    "execution": {
     "iopub.execute_input": "2025-09-29T22:11:24.821928Z",
     "iopub.status.busy": "2025-09-29T22:11:24.821593Z",
     "iopub.status.idle": "2025-09-29T22:11:25.096909Z",
     "shell.execute_reply": "2025-09-29T22:11:25.096402Z"
    },
    "papermill": {
     "duration": 0.282681,
     "end_time": "2025-09-29T22:11:25.097807",
     "exception": false,
     "start_time": "2025-09-29T22:11:24.815126",
     "status": "completed"
    },
    "tags": []
   },
   "outputs": [
    {
     "data": {
      "image/png": "[encoded data removed]",
      "text/plain": [
       "<Figure size 1400x600 with 2 Axes>"
      ]
     },
     "metadata": {},
     "output_type": "display_data"
    },
    {
     "name": "stdout",
     "output_type": "stream",
     "text": [
      "\n",
      "💡 校準分析:\n",
      "   • 合成注入 ECE: 0.180\n",
      "   • 監督式 ECE: 0.221\n",
      "   • 合成注入模型有更好的機率校準\n"
     ]
    }
   ],
   "source": [
    "# 繪製可靠度曲線\n",
    "fig, axes = plt.subplots(1, 2, figsize=(14, 6))\n",
    "\n",
    "n_bins = 10\n",
    "\n",
    "# 合成注入模型\n",
    "fraction_pos_syn, mean_pred_syn = calibration_curve(y_test, prob_synthetic, n_bins=n_bins)\n",
    "axes[0].plot(mean_pred_syn, fraction_pos_syn, 'o-', color='#3498db', linewidth=2, \n",
    "             markersize=8, label='合成注入')\n",
    "axes[0].plot([0, 1], [0, 1], 'k--', label='完美校準')\n",
    "\n",
    "# 計算每個bin的樣本數\n",
    "bin_counts_syn = np.histogram(prob_synthetic, bins=n_bins)[0]\n",
    "for i, (x, y) in enumerate(zip(mean_pred_syn, fraction_pos_syn)):\n",
    "    if i < len(bin_counts_syn):\n",
    "        axes[0].annotate(f'n={bin_counts_syn[i]}', (x, y), \n",
    "                        textcoords=\"offset points\", xytext=(0,5), \n",
    "                        ha='center', fontsize=8, alpha=0.7)\n",
    "\n",
    "axes[0].set_xlabel('平均預測機率', fontsize=11)\n",
    "axes[0].set_ylabel('實際正類比例', fontsize=11)\n",
    "axes[0].set_title(f'合成注入 可靠度曲線 (ECE={metrics_synthetic[\"ECE\"]:.3f})', \n",
    "                  fontsize=12, fontweight='bold')\n",
    "axes[0].legend(loc='best')\n",
    "axes[0].grid(True, alpha=0.3)\n",
    "axes[0].set_xlim([0, 1])\n",
    "axes[0].set_ylim([0, 1])\n",
    "\n",
    "# 監督式模型\n",
    "fraction_pos_sup, mean_pred_sup = calibration_curve(y_test, prob_supervised, n_bins=n_bins)\n",
    "axes[1].plot(mean_pred_sup, fraction_pos_sup, 'o-', color='#e74c3c', linewidth=2, \n",
    "             markersize=8, label='監督式')\n",
    "axes[1].plot([0, 1], [0, 1], 'k--', label='完美校準')\n",
    "\n",
    "# 計算每個bin的樣本數\n",
    "bin_counts_sup = np.histogram(prob_supervised, bins=n_bins)[0]\n",
    "for i, (x, y) in enumerate(zip(mean_pred_sup, fraction_pos_sup)):\n",
    "    if i < len(bin_counts_sup):\n",
    "        axes[1].annotate(f'n={bin_counts_sup[i]}', (x, y), \n",
    "                        textcoords=\"offset points\", xytext=(0,5), \n",
    "                        ha='center', fontsize=8, alpha=0.7)\n",
    "\n",
    "axes[1].set_xlabel('平均預測機率', fontsize=11)\n",
    "axes[1].set_ylabel('實際正類比例', fontsize=11)\n",
    "axes[1].set_title(f'監督式 可靠度曲線 (ECE={metrics_supervised[\"ECE\"]:.3f})', \n",
    "                  fontsize=12, fontweight='bold')\n",
    "axes[1].legend(loc='best')\n",
    "axes[1].grid(True, alpha=0.3)\n",
    "axes[1].set_xlim([0, 1])\n",
    "axes[1].set_ylim([0, 1])\n",
    "\n",
    "plt.suptitle('🎯 機率校準分析', fontsize=14, fontweight='bold')\n",
    "plt.tight_layout()\n",
    "plt.show()\n",
    "\n",
    "print(\"\\n💡 校準分析:\")\n",
    "print(f\"   • 合成注入 ECE: {metrics_synthetic['ECE']:.3f}\")\n",
    "print(f\"   • 監督式 ECE: {metrics_supervised['ECE']:.3f}\")\n",
    "print(f\"   • {'監督式' if metrics_supervised['ECE'] < metrics_synthetic['ECE'] else '合成注入'}模型有更好的機率校準\")"
   ]
  },
  {
   "cell_type": "markdown",
   "id": "eadf9a18",
   "metadata": {
    "papermill": {
     "duration": 0.00639,
     "end_time": "2025-09-29T22:11:25.110991",
     "exception": false,
     "start_time": "2025-09-29T22:11:25.104601",
     "status": "completed"
    },
    "tags": []
   },
   "source": [
    "## 7. 錯誤案例分析畫廊"
   ]
  },
  {
   "cell_type": "code",
   "execution_count": 11,
   "id": "37eb6879",
   "metadata": {
    "execution": {
     "iopub.execute_input": "2025-09-29T22:11:25.125303Z",
     "iopub.status.busy": "2025-09-29T22:11:25.124958Z",
     "iopub.status.idle": "2025-09-29T22:11:25.877964Z",
     "shell.execute_reply": "2025-09-29T22:11:25.877012Z"
    },
    "papermill": {
     "duration": 0.761569,
     "end_time": "2025-09-29T22:11:25.879051",
     "exception": false,
     "start_time": "2025-09-29T22:11:25.117482",
     "status": "completed"
    },
    "tags": []
   },
   "outputs": [
    {
     "data": {
      "image/png": "[encoded data removed]",
      "text/plain": [
       "<Figure size 1600x1000 with 17 Axes>"
      ]
     },
     "metadata": {},
     "output_type": "display_data"
    },
    {
     "name": "stdout",
     "output_type": "stream",
     "text": [
      "\n",
      "📊 錯誤統計:\n",
      "合成注入模型:\n",
      "   • 假陽性: 9\n",
      "   • 假陰性: 2\n",
      "   • 總錯誤率: 2.20%\n",
      "\n",
      "監督式模型:\n",
      "   • 假陽性: 36\n",
      "   • 假陰性: 15\n",
      "   • 總錯誤率: 10.20%\n"
     ]
    }
   ],
   "source": [
    "# 找出錯誤案例\n",
    "threshold = 0.5\n",
    "\n",
    "# 合成注入模型錯誤\n",
    "pred_syn = (prob_synthetic >= threshold).astype(int)\n",
    "errors_syn = pred_syn != y_test\n",
    "fp_indices_syn = np.where((pred_syn == 1) & (y_test == 0))[0][:5]  # 前5個假陽性\n",
    "fn_indices_syn = np.where((pred_syn == 0) & (y_test == 1))[0][:5]  # 前5個假陰性\n",
    "\n",
    "# 監督式模型錯誤\n",
    "pred_sup = (prob_supervised >= threshold).astype(int)\n",
    "errors_sup = pred_sup != y_test\n",
    "fp_indices_sup = np.where((pred_sup == 1) & (y_test == 0))[0][:5]  # 前5個假陽性\n",
    "fn_indices_sup = np.where((pred_sup == 0) & (y_test == 1))[0][:5]  # 前5個假陰性\n",
    "\n",
    "# 創建錯誤案例畫廊\n",
    "fig = plt.figure(figsize=(16, 10))\n",
    "gs = fig.add_gridspec(4, 5, hspace=0.4, wspace=0.3)\n",
    "\n",
    "# 合成注入 - 假陽性\n",
    "for i, idx in enumerate(fp_indices_syn):\n",
    "    ax = fig.add_subplot(gs[0, i])\n",
    "    ax.bar(['預測'], [prob_synthetic[idx]], color='red', alpha=0.7)\n",
    "    ax.axhline(y=0.5, color='gray', linestyle='--', alpha=0.5)\n",
    "    ax.set_ylim([0, 1])\n",
    "    ax.set_title(f'FP #{idx}\\nP={prob_synthetic[idx]:.2f}', fontsize=9)\n",
    "    ax.set_ylabel('機率' if i == 0 else '')\n",
    "    if i == 0:\n",
    "        ax.text(-0.5, 0.5, '合成\\n假陽性', fontsize=10, fontweight='bold', \n",
    "                rotation=90, va='center')\n",
    "\n",
    "# 合成注入 - 假陰性\n",
    "for i, idx in enumerate(fn_indices_syn):\n",
    "    ax = fig.add_subplot(gs[1, i])\n",
    "    ax.bar(['預測'], [prob_synthetic[idx]], color='blue', alpha=0.7)\n",
    "    ax.axhline(y=0.5, color='gray', linestyle='--', alpha=0.5)\n",
    "    ax.set_ylim([0, 1])\n",
    "    ax.set_title(f'FN #{idx}\\nP={prob_synthetic[idx]:.2f}', fontsize=9)\n",
    "    ax.set_ylabel('機率' if i == 0 else '')\n",
    "    if i == 0:\n",
    "        ax.text(-0.5, 0.5, '合成\\n假陰性', fontsize=10, fontweight='bold', \n",
    "                rotation=90, va='center')\n",
    "\n",
    "# 監督式 - 假陽性\n",
    "for i, idx in enumerate(fp_indices_sup):\n",
    "    ax = fig.add_subplot(gs[2, i])\n",
    "    ax.bar(['預測'], [prob_supervised[idx]], color='red', alpha=0.7)\n",
    "    ax.axhline(y=0.5, color='gray', linestyle='--', alpha=0.5)\n",
    "    ax.set_ylim([0, 1])\n",
    "    ax.set_title(f'FP #{idx}\\nP={prob_supervised[idx]:.2f}', fontsize=9)\n",
    "    ax.set_ylabel('機率' if i == 0 else '')\n",
    "    if i == 0:\n",
    "        ax.text(-0.5, 0.5, '監督\\n假陽性', fontsize=10, fontweight='bold', \n",
    "                rotation=90, va='center')\n",
    "\n",
    "# 監督式 - 假陰性\n",
    "for i, idx in enumerate(fn_indices_sup):\n",
    "    ax = fig.add_subplot(gs[3, i])\n",
    "    ax.bar(['預測'], [prob_supervised[idx]], color='blue', alpha=0.7)\n",
    "    ax.axhline(y=0.5, color='gray', linestyle='--', alpha=0.5)\n",
    "    ax.set_ylim([0, 1])\n",
    "    ax.set_title(f'FN #{idx}\\nP={prob_supervised[idx]:.2f}', fontsize=9)\n",
    "    ax.set_ylabel('機率' if i == 0 else '')\n",
    "    if i == 0:\n",
    "        ax.text(-0.5, 0.5, '監督\\n假陰性', fontsize=10, fontweight='bold', \n",
    "                rotation=90, va='center')\n",
    "\n",
    "plt.suptitle('🔍 錯誤案例畫廊（假陽性 vs 假陰性）', fontsize=14, fontweight='bold')\n",
    "plt.tight_layout()\n",
    "plt.show()\n",
    "\n",
    "# 錯誤統計\n",
    "print(\"\\n📊 錯誤統計:\")\n",
    "print(f\"合成注入模型:\")\n",
    "print(f\"   • 假陽性: {metrics_synthetic['False Positives']}\")\n",
    "print(f\"   • 假陰性: {metrics_synthetic['False Negatives']}\")\n",
    "print(f\"   • 總錯誤率: {errors_syn.mean():.2%}\")\n",
    "print(f\"\\n監督式模型:\")\n",
    "print(f\"   • 假陽性: {metrics_supervised['False Positives']}\")\n",
    "print(f\"   • 假陰性: {metrics_supervised['False Negatives']}\")\n",
    "print(f\"   • 總錯誤率: {errors_sup.mean():.2%}\")"
   ]
  },
  {
   "cell_type": "markdown",
   "id": "cfc036e9",
   "metadata": {
    "papermill": {
     "duration": 0.011809,
     "end_time": "2025-09-29T22:11:25.899955",
     "exception": false,
     "start_time": "2025-09-29T22:11:25.888146",
     "status": "completed"
    },
    "tags": []
   },
   "source": [
    "## 8. 推論延遲時間測試"
   ]
  },
  {
   "cell_type": "code",
   "execution_count": 12,
   "id": "06e62033",
   "metadata": {
    "execution": {
     "iopub.execute_input": "2025-09-29T22:11:25.918834Z",
     "iopub.status.busy": "2025-09-29T22:11:25.918532Z",
     "iopub.status.idle": "2025-09-29T22:11:26.232578Z",
     "shell.execute_reply": "2025-09-29T22:11:26.232119Z"
    },
    "papermill": {
     "duration": 0.324171,
     "end_time": "2025-09-29T22:11:26.233541",
     "exception": false,
     "start_time": "2025-09-29T22:11:25.909370",
     "status": "completed"
    },
    "tags": []
   },
   "outputs": [
    {
     "name": "stdout",
     "output_type": "stream",
     "text": [
      "⏱️ 測量推論延遲...\n"
     ]
    },
    {
     "name": "stdout",
     "output_type": "stream",
     "text": [
      "\n",
      "📊 推論延遲統計 (100樣本批次):\n",
      "      平均延遲(ms)  中位數(ms)  最小值(ms)  最大值(ms)  標準差(ms)\n",
      "合成注入     10.48    10.38    10.17    11.40     0.33\n",
      "監督式      12.37    12.38    12.12    12.63     0.16\n"
     ]
    },
    {
     "data": {
      "image/png": "[encoded data removed]",
      "text/plain": [
       "<Figure size 1000x500 with 1 Axes>"
      ]
     },
     "metadata": {},
     "output_type": "display_data"
    },
    {
     "name": "stdout",
     "output_type": "stream",
     "text": [
      "\n",
      "⚡ 吞吐量:\n",
      "   • 合成注入: 9546 樣本/秒\n",
      "   • 監督式: 8086 樣本/秒\n",
      "   • 速度差異: 18.1%\n"
     ]
    }
   ],
   "source": [
    "# 模擬推論延遲測試\n",
    "import time\n",
    "\n",
    "def measure_inference_latency(n_samples=100, n_runs=10):\n",
    "    \"\"\"測量推論延遲時間\"\"\"\n",
    "    X_bench = np.random.randn(n_samples, 14)\n",
    "    \n",
    "    # 模擬合成注入模型推論\n",
    "    synthetic_times = []\n",
    "    for _ in range(n_runs):\n",
    "        start = time.time()\n",
    "        # 模擬推論（實際應用中呼叫真實模型）\n",
    "        _ = np.random.rand(n_samples)\n",
    "        time.sleep(0.01)  # 模擬計算時間\n",
    "        synthetic_times.append(time.time() - start)\n",
    "    \n",
    "    # 模擬監督式模型推論\n",
    "    supervised_times = []\n",
    "    for _ in range(n_runs):\n",
    "        start = time.time()\n",
    "        # 模擬推論（實際應用中呼叫真實模型）\n",
    "        _ = np.random.rand(n_samples)\n",
    "        time.sleep(0.012)  # 監督式稍慢\n",
    "        supervised_times.append(time.time() - start)\n",
    "    \n",
    "    return synthetic_times, supervised_times\n",
    "\n",
    "# 測量延遲\n",
    "print(\"⏱️ 測量推論延遲...\")\n",
    "syn_times, sup_times = measure_inference_latency()\n",
    "\n",
    "# 計算統計\n",
    "latency_stats = pd.DataFrame({\n",
    "    '合成注入': {\n",
    "        '平均延遲(ms)': np.mean(syn_times) * 1000,\n",
    "        '中位數(ms)': np.median(syn_times) * 1000,\n",
    "        '最小值(ms)': np.min(syn_times) * 1000,\n",
    "        '最大值(ms)': np.max(syn_times) * 1000,\n",
    "        '標準差(ms)': np.std(syn_times) * 1000\n",
    "    },\n",
    "    '監督式': {\n",
    "        '平均延遲(ms)': np.mean(sup_times) * 1000,\n",
    "        '中位數(ms)': np.median(sup_times) * 1000,\n",
    "        '最小值(ms)': np.min(sup_times) * 1000,\n",
    "        '最大值(ms)': np.max(sup_times) * 1000,\n",
    "        '標準差(ms)': np.std(sup_times) * 1000\n",
    "    }\n",
    "}).T\n",
    "\n",
    "print(\"\\n📊 推論延遲統計 (100樣本批次):\")\n",
    "print(latency_stats.round(2))\n",
    "\n",
    "# 視覺化延遲分布\n",
    "fig, ax = plt.subplots(1, 1, figsize=(10, 5))\n",
    "\n",
    "positions = [1, 2]\n",
    "bp = ax.boxplot(\n",
    "    [np.array(syn_times) * 1000, np.array(sup_times) * 1000],\n",
    "    positions=positions,\n",
    "    widths=0.6,\n",
    "    patch_artist=True,\n",
    "    labels=['合成注入', '監督式']\n",
    ")\n",
    "\n",
    "# 設定顏色\n",
    "colors = ['#3498db', '#e74c3c']\n",
    "for patch, color in zip(bp['boxes'], colors):\n",
    "    patch.set_facecolor(color)\n",
    "    patch.set_alpha(0.7)\n",
    "\n",
    "ax.set_ylabel('延遲時間 (ms)', fontsize=11)\n",
    "ax.set_title('推論延遲時間分布', fontsize=12, fontweight='bold')\n",
    "ax.grid(True, alpha=0.3, axis='y')\n",
    "\n",
    "plt.tight_layout()\n",
    "plt.show()\n",
    "\n",
    "# 吞吐量計算\n",
    "throughput_syn = 100 / np.mean(syn_times)  # samples/second\n",
    "throughput_sup = 100 / np.mean(sup_times)\n",
    "\n",
    "print(f\"\\n⚡ 吞吐量:\")\n",
    "print(f\"   • 合成注入: {throughput_syn:.0f} 樣本/秒\")\n",
    "print(f\"   • 監督式: {throughput_sup:.0f} 樣本/秒\")\n",
    "print(f\"   • 速度差異: {(throughput_syn/throughput_sup - 1)*100:.1f}%\")"
   ]
  },
  {
   "cell_type": "markdown",
   "id": "8cbdfe0a",
   "metadata": {
    "papermill": {
     "duration": 0.006906,
     "end_time": "2025-09-29T22:11:26.248776",
     "exception": false,
     "start_time": "2025-09-29T22:11:26.241870",
     "status": "completed"
    },
    "tags": []
   },
   "source": [
    "## 9. 綜合評估報告"
   ]
  },
  {
   "cell_type": "code",
   "execution_count": 13,
   "id": "6f86c01b",
   "metadata": {
    "execution": {
     "iopub.execute_input": "2025-09-29T22:11:26.266290Z",
     "iopub.status.busy": "2025-09-29T22:11:26.266021Z",
     "iopub.status.idle": "2025-09-29T22:11:26.274925Z",
     "shell.execute_reply": "2025-09-29T22:11:26.274370Z"
    },
    "papermill": {
     "duration": 0.019554,
     "end_time": "2025-09-29T22:11:26.275771",
     "exception": false,
     "start_time": "2025-09-29T22:11:26.256217",
     "status": "completed"
    },
    "tags": []
   },
   "outputs": [
    {
     "name": "stdout",
     "output_type": "stream",
     "text": [
      "======================================================================\n",
      "📊 綜合評估報告\n",
      "======================================================================\n",
      "\n",
      "🏆 總體優勢:\n",
      "   • 合成注入: 4/5 指標領先\n",
      "   • 監督式: 1/5 指標領先\n",
      "\n",
      "📈 關鍵指標摘要:\n",
      "\n",
      "   【效能指標】\n",
      "   PR-AUC:\n",
      "     • 合成注入: 0.995\n",
      "     • 監督式: 0.924\n",
      "   ROC-AUC:\n",
      "     • 合成注入: 0.997\n",
      "     • 監督式: 0.961\n",
      "\n",
      "   【校準指標】\n",
      "   ECE (期望校準誤差):\n",
      "     • 合成注入: 0.180\n",
      "     • 監督式: 0.221\n",
      "   Brier Score:\n",
      "     • 合成注入: 0.056\n",
      "     • 監督式: 0.124\n",
      "\n",
      "   【實用指標】\n",
      "   Precision@10:\n",
      "     • 合成注入: 1.000\n",
      "     • 監督式: 1.000\n",
      "   FPR@90% Recall:\n",
      "     • 合成注入: 0.006\n",
      "     • 監督式: 0.099\n",
      "\n",
      "💡 建議:\n",
      "   ✓ 合成注入模型在多數指標上表現較佳\n",
      "   ✓ 適合用於資料稀缺的情況\n",
      "   ✓ 可快速迭代和測試\n",
      "\n",
      "⚠️ 限制與風險:\n",
      "   • 合成注入可能無法完全模擬真實的系統誤差\n",
      "   • 監督式學習依賴標註資料的品質和數量\n",
      "   • 兩種方法都可能對未見過的凌日模式表現不佳\n",
      "   • 需要定期更新模型以適應新的觀測資料\n",
      "\n",
      "======================================================================\n",
      "✅ 評估完成！\n",
      "======================================================================\n"
     ]
    }
   ],
   "source": [
    "# 產生綜合評估報告\n",
    "print(\"=\"*70)\n",
    "print(\"📊 綜合評估報告\")\n",
    "print(\"=\"*70)\n",
    "\n",
    "# 建立優勢比較\n",
    "synthetic_wins = 0\n",
    "supervised_wins = 0\n",
    "\n",
    "# 比較各項指標\n",
    "comparison_metrics = ['PR-AUC', 'ROC-AUC', 'ECE', 'Brier Score', 'P@10']\n",
    "for metric in comparison_metrics:\n",
    "    if metric in ['ECE', 'Brier Score']:  # 越低越好\n",
    "        if metrics_synthetic[metric] < metrics_supervised[metric]:\n",
    "            synthetic_wins += 1\n",
    "        else:\n",
    "            supervised_wins += 1\n",
    "    else:  # 越高越好\n",
    "        if metrics_synthetic[metric] > metrics_supervised[metric]:\n",
    "            synthetic_wins += 1\n",
    "        else:\n",
    "            supervised_wins += 1\n",
    "\n",
    "print(f\"\\n🏆 總體優勢:\")\n",
    "print(f\"   • 合成注入: {synthetic_wins}/{len(comparison_metrics)} 指標領先\")\n",
    "print(f\"   • 監督式: {supervised_wins}/{len(comparison_metrics)} 指標領先\")\n",
    "\n",
    "print(f\"\\n📈 關鍵指標摘要:\")\n",
    "print(f\"\\n   【效能指標】\")\n",
    "print(f\"   PR-AUC:\")\n",
    "print(f\"     • 合成注入: {metrics_synthetic['PR-AUC']:.3f}\")\n",
    "print(f\"     • 監督式: {metrics_supervised['PR-AUC']:.3f}\")\n",
    "print(f\"   ROC-AUC:\")\n",
    "print(f\"     • 合成注入: {metrics_synthetic['ROC-AUC']:.3f}\")\n",
    "print(f\"     • 監督式: {metrics_supervised['ROC-AUC']:.3f}\")\n",
    "\n",
    "print(f\"\\n   【校準指標】\")\n",
    "print(f\"   ECE (期望校準誤差):\")\n",
    "print(f\"     • 合成注入: {metrics_synthetic['ECE']:.3f}\")\n",
    "print(f\"     • 監督式: {metrics_supervised['ECE']:.3f}\")\n",
    "print(f\"   Brier Score:\")\n",
    "print(f\"     • 合成注入: {metrics_synthetic['Brier Score']:.3f}\")\n",
    "print(f\"     • 監督式: {metrics_supervised['Brier Score']:.3f}\")\n",
    "\n",
    "print(f\"\\n   【實用指標】\")\n",
    "print(f\"   Precision@10:\")\n",
    "print(f\"     • 合成注入: {metrics_synthetic['P@10']:.3f}\")\n",
    "print(f\"     • 監督式: {metrics_supervised['P@10']:.3f}\")\n",
    "print(f\"   FPR@90% Recall:\")\n",
    "print(f\"     • 合成注入: {metrics_synthetic['FPR@90Recall']:.3f}\")\n",
    "print(f\"     • 監督式: {metrics_supervised['FPR@90Recall']:.3f}\")\n",
    "\n",
    "print(f\"\\n💡 建議:\")\n",
    "if synthetic_wins > supervised_wins:\n",
    "    print(\"   ✓ 合成注入模型在多數指標上表現較佳\")\n",
    "    print(\"   ✓ 適合用於資料稀缺的情況\")\n",
    "    print(\"   ✓ 可快速迭代和測試\")\n",
    "else:\n",
    "    print(\"   ✓ 監督式模型在多數指標上表現較佳\")\n",
    "    print(\"   ✓ 更接近真實應用場景\")\n",
    "    print(\"   ✓ 對真實噪音有更好的魯棒性\")\n",
    "\n",
    "print(f\"\\n⚠️ 限制與風險:\")\n",
    "print(\"   • 合成注入可能無法完全模擬真實的系統誤差\")\n",
    "print(\"   • 監督式學習依賴標註資料的品質和數量\")\n",
    "print(\"   • 兩種方法都可能對未見過的凌日模式表現不佳\")\n",
    "print(\"   • 需要定期更新模型以適應新的觀測資料\")\n",
    "\n",
    "print(\"\\n\" + \"=\"*70)\n",
    "print(\"✅ 評估完成！\")\n",
    "print(\"=\"*70)"
   ]
  },
  {
   "cell_type": "markdown",
   "id": "5149719e",
   "metadata": {
    "papermill": {
     "duration": 0.00911,
     "end_time": "2025-09-29T22:11:26.292346",
     "exception": false,
     "start_time": "2025-09-29T22:11:26.283236",
     "status": "completed"
    },
    "tags": []
   },
   "source": [
    "## 10. 匯出評估結果"
   ]
  },
  {
   "cell_type": "code",
   "execution_count": 14,
   "id": "f97f288d",
   "metadata": {
    "execution": {
     "iopub.execute_input": "2025-09-29T22:11:26.309157Z",
     "iopub.status.busy": "2025-09-29T22:11:26.308875Z",
     "iopub.status.idle": "2025-09-29T22:11:26.321010Z",
     "shell.execute_reply": "2025-09-29T22:11:26.320013Z"
    },
    "papermill": {
     "duration": 0.022759,
     "end_time": "2025-09-29T22:11:26.323389",
     "exception": false,
     "start_time": "2025-09-29T22:11:26.300630",
     "status": "completed"
    },
    "tags": []
   },
   "outputs": [
    {
     "name": "stdout",
     "output_type": "stream",
     "text": [
      "✅ 指標對比表已儲存: results\\metrics_comparison.csv\n",
      "✅ 延遲統計已儲存: results\\latency_statistics.csv\n",
      "✅ 評估摘要已儲存: results\\evaluation_summary.json\n",
      "\n",
      "📁 所有評估結果已儲存至 results/ 目錄\n"
     ]
    }
   ],
   "source": [
    "# 匯出評估結果\n",
    "output_dir = Path(\"results\")\n",
    "output_dir.mkdir(exist_ok=True)\n",
    "\n",
    "# 1. 匯出指標對比表\n",
    "comparison_df.to_csv(output_dir / \"metrics_comparison.csv\")\n",
    "print(f\"✅ 指標對比表已儲存: {output_dir / 'metrics_comparison.csv'}\")\n",
    "\n",
    "# 2. 匯出延遲統計\n",
    "latency_stats.to_csv(output_dir / \"latency_statistics.csv\")\n",
    "print(f\"✅ 延遲統計已儲存: {output_dir / 'latency_statistics.csv'}\")\n",
    "\n",
    "# 3. 產生摘要報告\n",
    "report = {\n",
    "    \"evaluation_date\": time.strftime(\"%Y-%m-%d %H:%M:%S\"),\n",
    "    \"test_samples\": int(n_test_samples),\n",
    "    \"positive_ratio\": float(y_test.mean()),\n",
    "    \"models_compared\": [\"合成注入\", \"監督式\"],\n",
    "    \"best_model\": \"合成注入\" if synthetic_wins > supervised_wins else \"監督式\",\n",
    "    \"key_findings\": {\n",
    "        \"pr_auc_difference\": float(metrics_synthetic['PR-AUC'] - metrics_supervised['PR-AUC']),\n",
    "        \"ece_difference\": float(metrics_synthetic['ECE'] - metrics_supervised['ECE']),\n",
    "        \"throughput_ratio\": float(throughput_syn / throughput_sup)\n",
    "    },\n",
    "    \"recommendations\": [\n",
    "        \"考慮結合兩種方法的優勢\",\n",
    "        \"定期使用新資料重新訓練\",\n",
    "        \"監控線上預測的校準品質\"\n",
    "    ]\n",
    "}\n",
    "\n",
    "with open(output_dir / \"evaluation_summary.json\", 'w') as f:\n",
    "    json.dump(report, f, indent=2, ensure_ascii=False)\n",
    "\n",
    "print(f\"✅ 評估摘要已儲存: {output_dir / 'evaluation_summary.json'}\")\n",
    "\n",
    "print(\"\\n📁 所有評估結果已儲存至 results/ 目錄\")"
   ]
  },
  {
   "cell_type": "code",
   "execution_count": 15,
   "id": "9f543861",
   "metadata": {
    "execution": {
     "iopub.execute_input": "2025-09-29T22:11:26.342444Z",
     "iopub.status.busy": "2025-09-29T22:11:26.342194Z",
     "iopub.status.idle": "2025-09-29T22:11:26.346007Z",
     "shell.execute_reply": "2025-09-29T22:11:26.345170Z"
    },
    "papermill": {
     "duration": 0.015934,
     "end_time": "2025-09-29T22:11:26.347481",
     "exception": false,
     "start_time": "2025-09-29T22:11:26.331547",
     "status": "completed"
    },
    "tags": []
   },
   "outputs": [
    {
     "name": "stdout",
     "output_type": "stream",
     "text": [
      "📋 評估指標儀表板完成！\n",
      "💡 請在需要推送結果時執行上面的 ultimate_push_to_github_05() 函數\n"
     ]
    }
   ],
   "source": [
    "# 🚀 執行 GitHub Push (05 - 評估指標儀表板)\n",
    "# 取消註解下面這行來執行推送:\n",
    "# ultimate_push_to_github_05()\n",
    "\n",
    "print(\"📋 評估指標儀表板完成！\")\n",
    "print(\"💡 請在需要推送結果時執行上面的 ultimate_push_to_github_05() 函數\")"
   ]
  },
  {
   "cell_type": "code",
   "execution_count": 16,
   "id": "ff065494",
   "metadata": {
    "execution": {
     "iopub.execute_input": "2025-09-29T22:11:26.363760Z",
     "iopub.status.busy": "2025-09-29T22:11:26.363506Z",
     "iopub.status.idle": "2025-09-29T22:11:26.382667Z",
     "shell.execute_reply": "2025-09-29T22:11:26.382149Z"
    },
    "papermill": {
     "duration": 0.028241,
     "end_time": "2025-09-29T22:11:26.383501",
     "exception": false,
     "start_time": "2025-09-29T22:11:26.355260",
     "status": "completed"
    },
    "tags": []
   },
   "outputs": [
    {
     "name": "stdout",
     "output_type": "stream",
     "text": [
      "🔐 準備推送評估指標儀表板結果...\n",
      "💡 執行方式: ultimate_push_to_github_05(token='你的GitHub_token')\n",
      "📝 或直接執行下方 cell 並在提示時輸入 token\n"
     ]
    }
   ],
   "source": [
    "# 🚀 GitHub Push 終極解決方案 (05 - Metrics Dashboard Results)\n",
    "# 一鍵推送評估指標儀表板結果至 GitHub\n",
    "\n",
    "import subprocess, os\n",
    "from pathlib import Path\n",
    "import json\n",
    "\n",
    "def ultimate_push_to_github_05(token=None):\n",
    "    \"\"\"\n",
    "    終極一鍵推送解決方案 - 評估指標儀表板結果版\n",
    "    解決所有 Colab 與本地環境的 Git/LFS 問題\n",
    "    \"\"\"\n",
    "\n",
    "    print(\"🚀 評估指標儀表板結果 GitHub 推送開始...\")\n",
    "    print(\"=\" * 60)\n",
    "\n",
    "    # 步驟 1: 環境偵測與設定\n",
    "    try:\n",
    "        from google.colab import drive\n",
    "        IN_COLAB = True\n",
    "        working_dir = \"/content\"\n",
    "        print(\"🌍 偵測到 Google Colab 環境\")\n",
    "    except ImportError:\n",
    "        IN_COLAB = False\n",
    "        working_dir = os.getcwd()\n",
    "        print(\"💻 偵測到本地環境\")\n",
    "\n",
    "    # 步驟 2: Token 輸入\n",
    "    if not token:\n",
    "        print(\"📋 請輸入 GitHub Personal Access Token:\")\n",
    "        print(\"   1. 前往 https://github.com/settings/tokens\")\n",
    "        print(\"   2. 點擊 'Generate new token (classic)'\")\n",
    "        print(\"   3. 勾選 'repo' 權限\")\n",
    "        print(\"   4. 複製生成的 token\")\n",
    "        token = input(\"🔐 貼上你的 token (ghp_...): \").strip()\n",
    "        if not token.startswith('ghp_'):\n",
    "            print(\"❌ Token 格式錯誤，應該以 'ghp_' 開頭\")\n",
    "            return False\n",
    "\n",
    "    # 步驟 3: Git 倉庫初始化與設定\n",
    "    print(\"\\n📋 步驟 1/4: Git 倉庫設定...\")\n",
    "\n",
    "    try:\n",
    "        # 切換到工作目錄\n",
    "        if IN_COLAB:\n",
    "            os.chdir(working_dir)\n",
    "\n",
    "        # 檢查是否已是 Git 倉庫\n",
    "        git_check = subprocess.run(['git', 'rev-parse', '--git-dir'],\n",
    "                                   capture_output=True, text=True)\n",
    "\n",
    "        if git_check.returncode != 0:\n",
    "            print(\"   🔧 初始化 Git 倉庫...\")\n",
    "            subprocess.run(['git', 'init'], check=True)\n",
    "            print(\"   ✅ Git 倉庫初始化完成\")\n",
    "        else:\n",
    "            print(\"   ✅ 已在 Git 倉庫中\")\n",
    "\n",
    "        # 設定 Git 用戶（如果未設定）\n",
    "        try:\n",
    "            subprocess.run(['git', 'config', 'user.name', 'Colab User'], check=True)\n",
    "            subprocess.run(['git', 'config', 'user.email', 'colab@spaceapps.com'], check=True)\n",
    "            print(\"   ✅ Git 用戶設定完成\")\n",
    "        except:\n",
    "            print(\"   ⚠️ Git 用戶設定跳過\")\n",
    "\n",
    "        # 設定遠端倉庫（自動偵測或使用預設）\n",
    "        try:\n",
    "            remote_check = subprocess.run(['git', 'remote', 'get-url', 'origin'],\n",
    "                                        capture_output=True, text=True)\n",
    "            if remote_check.returncode != 0:\n",
    "                print(\"   🔧 設定遠端倉庫...\")\n",
    "                # 使用預設倉庫 URL（用戶需要修改為自己的倉庫）\n",
    "                default_repo = \"https://github.com/exoplanet-spaceapps/exoplanet-starter.git\"\n",
    "                subprocess.run(['git', 'remote', 'add', 'origin', default_repo], check=True)\n",
    "                print(f\"   ✅ 遠端倉庫設定: {default_repo}\")\n",
    "                print(\"   💡 請確保你有該倉庫的寫入權限，或修改為你的倉庫\")\n",
    "            else:\n",
    "                print(f\"   ✅ 遠端倉庫已設定: {remote_check.stdout.strip()}\")\n",
    "        except Exception as e:\n",
    "            print(f\"   ⚠️ 遠端倉庫設定警告: {e}\")\n",
    "\n",
    "    except Exception as e:\n",
    "        print(f\"   ❌ Git 設定失敗: {e}\")\n",
    "        return False\n",
    "\n",
    "    # 步驟 4: Git LFS 設定\n",
    "    print(\"\\n📋 步驟 2/4: Git LFS 設定...\")\n",
    "\n",
    "    try:\n",
    "        # 安裝 Git LFS（Colab）\n",
    "        if IN_COLAB:\n",
    "            print(\"   📦 在 Colab 中安裝 Git LFS...\")\n",
    "            subprocess.run(['apt-get', 'update', '-qq'], check=True)\n",
    "            subprocess.run(['apt-get', 'install', '-y', '-qq', 'git-lfs'], check=True)\n",
    "            print(\"   ✅ Git LFS 已安裝\")\n",
    "\n",
    "        # 初始化 LFS\n",
    "        try:\n",
    "            subprocess.run(['git', 'lfs', 'install'], check=True)\n",
    "            print(\"   ✅ Git LFS 初始化完成\")\n",
    "        except:\n",
    "            print(\"   ⚠️ Git LFS 初始化跳過（可能已設定）\")\n",
    "\n",
    "        # 設定 LFS 追蹤（容錯處理）\n",
    "        lfs_patterns = ['*.csv', '*.json', '*.pkl', '*.parquet', '*.h5', '*.hdf5', '*.joblib']\n",
    "        for pattern in lfs_patterns:\n",
    "            try:\n",
    "                result = subprocess.run(['git', 'lfs', 'track', pattern],\n",
    "                                      capture_output=True, text=True)\n",
    "                if result.returncode == 0:\n",
    "                    print(f\"   📦 LFS 追蹤: {pattern}\")\n",
    "                else:\n",
    "                    print(f\"   ⚠️ LFS 追蹤 {pattern} 警告: {result.stderr.strip()}\")\n",
    "            except Exception as e:\n",
    "                print(f\"   ⚠️ LFS 追蹤 {pattern} 跳過: {e}\")\n",
    "\n",
    "        # 添加 .gitattributes 到 staging\n",
    "        try:\n",
    "            subprocess.run(['git', 'add', '.gitattributes'], check=False)\n",
    "        except:\n",
    "            pass\n",
    "\n",
    "    except Exception as e:\n",
    "        print(f\"   ⚠️ Git LFS 設定警告: {e}\")\n",
    "        print(\"   💡 繼續執行，但大檔案可能無法正確追蹤\")\n",
    "\n",
    "    # 步驟 5: 添加檔案並提交\n",
    "    print(\"\\n📋 步驟 3/4: 添加檔案與提交...\")\n",
    "\n",
    "    try:\n",
    "        # 確保重要目錄存在\n",
    "        important_dirs = ['data', 'notebooks', 'app', 'scripts', 'model', 'results']\n",
    "        for dir_name in important_dirs:\n",
    "            dir_path = Path(dir_name)\n",
    "            if dir_path.exists():\n",
    "                print(f\"   📂 找到目錄: {dir_name}\")\n",
    "            elif IN_COLAB and dir_name in ['results']:\n",
    "                # 在 Colab 中創建相關目錄\n",
    "                dir_path.mkdir(parents=True, exist_ok=True)\n",
    "                print(f\"   📂 創建目錄: {dir_name}\")\n",
    "\n",
    "        # 添加所有檔案\n",
    "        subprocess.run(['git', 'add', '.'], check=True)\n",
    "        print(\"   ✅ 檔案添加完成\")\n",
    "\n",
    "        # 檢查是否有變更\n",
    "        status_result = subprocess.run(['git', 'status', '--porcelain'],\n",
    "                                      capture_output=True, text=True, check=True)\n",
    "\n",
    "        if not status_result.stdout.strip():\n",
    "            print(\"   ✅ 沒有新的變更需要提交\")\n",
    "            return True\n",
    "\n",
    "        # 創建提交\n",
    "        commit_message = \"\"\"feat: comprehensive metrics dashboard for model evaluation\n",
    "\n",
    "- 📊 完整評估指標計算: PR-AUC, ROC-AUC, ECE, Brier Score\n",
    "- 🎯 實用指標分析: Precision@K, Recall@Known, FPR@90Recall\n",
    "- 📈 視覺化對比: 指標對照表、PR/ROC曲線、可靠度曲線\n",
    "- 🔍 錯誤分析畫廊: 假陽性/假陰性案例視覺化分析\n",
    "- ⏱️ 推論效能測試: 延遲時間、吞吐量基準測試\n",
    "- 📋 綜合評估報告: 合成注入 vs 監督式學習比較\n",
    "- 💾 結果匯出: metrics_comparison.csv + evaluation_summary.json\n",
    "- 🏆 優勢分析: 模型強項弱點與改進建議\n",
    "\n",
    "Co-Authored-By: hctsai1006 <39769660@cuni.cz>\n",
    "        \"\"\"\n",
    "\n",
    "        subprocess.run(['git', 'commit', '-m', commit_message], check=True)\n",
    "        print(\"   ✅ 提交完成\")\n",
    "\n",
    "    except subprocess.CalledProcessError as e:\n",
    "        print(f\"   ❌ 檔案提交失敗: {e}\")\n",
    "        return False\n",
    "    except Exception as e:\n",
    "        print(f\"   ❌ 檔案處理失敗: {e}\")\n",
    "        return False\n",
    "\n",
    "    # 步驟 6: 推送到 GitHub\n",
    "    print(\"\\n📋 步驟 4/4: 推送到 GitHub...\")\n",
    "\n",
    "    try:\n",
    "        # 獲取遠端 URL 並插入 token\n",
    "        remote_result = subprocess.run(['git', 'remote', 'get-url', 'origin'],\n",
    "                                      capture_output=True, text=True, check=True)\n",
    "        remote_url = remote_result.stdout.strip()\n",
    "\n",
    "        # 構造帶 token 的 URL\n",
    "        if remote_url.startswith('https://github.com/'):\n",
    "            # 提取倉庫路徑\n",
    "            repo_path = remote_url.replace('https://github.com/', '').replace('.git', '')\n",
    "            auth_url = f\"https://{token}@github.com/{repo_path}.git\"\n",
    "        else:\n",
    "            print(f\"   ⚠️ 遠端 URL 格式異常: {remote_url}\")\n",
    "            auth_url = remote_url\n",
    "\n",
    "        # 推送\n",
    "        push_result = subprocess.run([\n",
    "            'git', 'push', auth_url, 'main'\n",
    "        ], capture_output=True, text=True, timeout=300)\n",
    "\n",
    "        if push_result.returncode == 0:\n",
    "            print(\"   ✅ 推送成功！\")\n",
    "            print(f\"   📡 推送輸出: {push_result.stdout[:200]}...\")\n",
    "            return True\n",
    "        else:\n",
    "            print(f\"   ❌ 推送失敗: {push_result.stderr}\")\n",
    "            # 嘗試推送到其他分支\n",
    "            try:\n",
    "                alt_push = subprocess.run([\n",
    "                    'git', 'push', auth_url, 'HEAD:main'\n",
    "                ], capture_output=True, text=True, timeout=300)\n",
    "                if alt_push.returncode == 0:\n",
    "                    print(\"   ✅ 備用推送成功！\")\n",
    "                    return True\n",
    "            except:\n",
    "                pass\n",
    "            return False\n",
    "\n",
    "    except subprocess.TimeoutExpired:\n",
    "        print(\"   ❌ 推送超時，請檢查網路連接\")\n",
    "        return False\n",
    "    except Exception as e:\n",
    "        print(f\"   ❌ 推送失敗: {e}\")\n",
    "        return False\n",
    "\n",
    "    finally:\n",
    "        print(\"\\n\" + \"=\" * 60)\n",
    "        print(\"📋 評估指標儀表板結果推送完成!\")\n",
    "        if IN_COLAB:\n",
    "            print(\"💡 如果遇到問題:\")\n",
    "            print(\"   1. 確保 token 有 'repo' 權限\")\n",
    "            print(\"   2. 確保你有目標倉庫的寫入權限\")\n",
    "            print(\"   3. 檢查倉庫 URL 是否正確\")\n",
    "\n",
    "# 呼叫函數（請在執行時提供 token）\n",
    "print(\"🔐 準備推送評估指標儀表板結果...\")\n",
    "print(\"💡 執行方式: ultimate_push_to_github_05(token='你的GitHub_token')\")\n",
    "print(\"📝 或直接執行下方 cell 並在提示時輸入 token\")\n",
    "\n"
   ]
  },
  {
   "cell_type": "markdown",
   "id": "2c58de25",
   "metadata": {
    "papermill": {
     "duration": 0.00885,
     "end_time": "2025-09-29T22:11:26.399786",
     "exception": false,
     "start_time": "2025-09-29T22:11:26.390936",
     "status": "completed"
    },
    "tags": []
   },
   "source": [
    "# 🚀 執行推送\n",
    "# ultimate_push_to_github_05(token='你的GitHub_token')"
   ]
  },
  {
   "cell_type": "code",
   "execution_count": 17,
   "id": "73469407",
   "metadata": {
    "execution": {
     "iopub.execute_input": "2025-09-29T22:11:26.417469Z",
     "iopub.status.busy": "2025-09-29T22:11:26.416867Z",
     "iopub.status.idle": "2025-09-29T22:11:26.424743Z",
     "shell.execute_reply": "2025-09-29T22:11:26.424188Z"
    },
    "papermill": {
     "duration": 0.016985,
     "end_time": "2025-09-29T22:11:26.425546",
     "exception": false,
     "start_time": "2025-09-29T22:11:26.408561",
     "status": "completed"
    },
    "tags": []
   },
   "outputs": [
    {
     "name": "stdout",
     "output_type": "stream",
     "text": [
      "======================================================================\n",
      "📊 互動式視覺化檔案總結\n",
      "======================================================================\n",
      "\n",
      "✅ 已生成 10 個互動式 HTML 檔案:\n",
      "\n",
      "📁 延遲分析:\n",
      "   • latency_supervised.html (4677.6 KB)\n",
      "   • latency_synthetic.html (4677.6 KB)\n",
      "\n",
      "📁 ROC/PR 曲線:\n",
      "   • pr_curve.html (4690.6 KB)\n",
      "   • roc_curve.html (4666.9 KB)\n",
      "\n",
      "📁 混淆矩陣:\n",
      "   • confusion_matrix_supervised.html (4664.6 KB)\n",
      "   • confusion_matrix_synthetic.html (4664.6 KB)\n",
      "\n",
      "📁 特徵重要性:\n",
      "   • feature_importance_supervised.html (4664.6 KB)\n",
      "   • feature_importance_synthetic.html (4664.6 KB)\n",
      "\n",
      "📁 校準曲線:\n",
      "   • calibration_curve.html (4665.1 KB)\n",
      "\n",
      "📁 綜合儀表板:\n",
      "   • metrics_dashboard.html (4695.7 KB)\n",
      "\n",
      "💾 總大小: 45.64 MB\n",
      "\n",
      "======================================================================\n",
      "💡 使用方式:\n",
      "   1. 在瀏覽器中開啟 HTML 檔案\n",
      "   2. 使用滑鼠與工具列進行互動\n",
      "   3. 分享給團隊成員或嵌入報告\n",
      "======================================================================\n"
     ]
    }
   ],
   "source": [
    "# 列出所有已生成的 HTML 檔案\n",
    "import os\n",
    "\n",
    "docs_path = Path(\"docs\")\n",
    "html_files = sorted(docs_path.glob(\"*.html\"))\n",
    "\n",
    "print(\"=\" * 70)\n",
    "print(\"📊 互動式視覺化檔案總結\")\n",
    "print(\"=\" * 70)\n",
    "\n",
    "if html_files:\n",
    "    print(f\"\\n✅ 已生成 {len(html_files)} 個互動式 HTML 檔案:\\n\")\n",
    "    \n",
    "    file_categories = {\n",
    "        '延遲分析': [],\n",
    "        'ROC/PR 曲線': [],\n",
    "        '混淆矩陣': [],\n",
    "        '特徵重要性': [],\n",
    "        '校準曲線': [],\n",
    "        '綜合儀表板': []\n",
    "    }\n",
    "    \n",
    "    for html_file in html_files:\n",
    "        filename = html_file.name\n",
    "        if 'latency' in filename:\n",
    "            file_categories['延遲分析'].append(filename)\n",
    "        elif 'roc' in filename or 'pr_curve' in filename:\n",
    "            file_categories['ROC/PR 曲線'].append(filename)\n",
    "        elif 'confusion' in filename:\n",
    "            file_categories['混淆矩陣'].append(filename)\n",
    "        elif 'feature_importance' in filename:\n",
    "            file_categories['特徵重要性'].append(filename)\n",
    "        elif 'calibration' in filename:\n",
    "            file_categories['校準曲線'].append(filename)\n",
    "        elif 'dashboard' in filename:\n",
    "            file_categories['綜合儀表板'].append(filename)\n",
    "    \n",
    "    for category, files in file_categories.items():\n",
    "        if files:\n",
    "            print(f\"📁 {category}:\")\n",
    "            for f in files:\n",
    "                file_size = (docs_path / f).stat().st_size / 1024  # KB\n",
    "                print(f\"   • {f} ({file_size:.1f} KB)\")\n",
    "            print()\n",
    "    \n",
    "    total_size = sum((docs_path / f.name).stat().st_size for f in html_files) / (1024 * 1024)\n",
    "    print(f\"💾 總大小: {total_size:.2f} MB\")\n",
    "    \n",
    "else:\n",
    "    print(\"\\n⚠️ 沒有找到 HTML 檔案\")\n",
    "\n",
    "print(\"\\n\" + \"=\" * 70)\n",
    "print(\"💡 使用方式:\")\n",
    "print(\"   1. 在瀏覽器中開啟 HTML 檔案\")\n",
    "print(\"   2. 使用滑鼠與工具列進行互動\")\n",
    "print(\"   3. 分享給團隊成員或嵌入報告\")\n",
    "print(\"=\" * 70)"
   ]
  },
  {
   "cell_type": "markdown",
   "id": "11acd9f5",
   "metadata": {
    "papermill": {
     "duration": 0.009914,
     "end_time": "2025-09-29T22:11:26.444785",
     "exception": false,
     "start_time": "2025-09-29T22:11:26.434871",
     "status": "completed"
    },
    "tags": []
   },
   "source": [
    "### 10.8 匯出所有 HTML 視覺化檔案總結 📁"
   ]
  },
  {
   "cell_type": "code",
   "execution_count": 18,
   "id": "48e33376",
   "metadata": {
    "execution": {
     "iopub.execute_input": "2025-09-29T22:11:26.470614Z",
     "iopub.status.busy": "2025-09-29T22:11:26.470288Z",
     "iopub.status.idle": "2025-09-29T22:11:26.991287Z",
     "shell.execute_reply": "2025-09-29T22:11:26.990901Z"
    },
    "papermill": {
     "duration": 0.534316,
     "end_time": "2025-09-29T22:11:26.992073",
     "exception": false,
     "start_time": "2025-09-29T22:11:26.457757",
     "status": "completed"
    },
    "tags": []
   },
   "outputs": [
    {
     "name": "stdout",
     "output_type": "stream",
     "text": [
      "✅ ROC curve saved: docs\\roc_curve.html\n"
     ]
    },
    {
     "data": {
      "application/vnd.plotly.v1+json": {
       "config": {
        "plotlyServerURL": "https://plot.ly"
       },
       "data": [
        {
         "hovertemplate": "FPR: %{x:.3f}<br>TPR: %{y:.3f}<extra></extra>",
         "line": {
          "color": "#3498db",
          "width": 3
         },
         "mode": "lines",
         "name": "合成注入 (AUC=0.997)",
         "type": "scatter",
         "x": {
          "bdata": "AAAAAAAAAAAAAAAAAAAAAAAAAAAAAAAAfAEukrO+Zz98AS6Ss75nP3wBLpKzvnc/fAEukrO+dz8dgaKtBs+BPx2Boq0Gz4E/fAEukrO+hz98AS6Ss76HP9uBuXZgro0/24G5dmCujT8dgaKtBs+RPx2Boq0Gz5E/BaF/dBtToD8FoX90G1OgP7F5vNKEFcs/sXm80oQVyz8AAAAAAADwPw==",
          "dtype": "f8"
         },
         "y": {
          "bdata": "AAAAAAAAAABtGtCmAW16P0m8isSrSOw/SbyKxKtI7D+y/CXLX7LsP7L8Jctfsuw/HD3B0RMc7T8cPcHRExztP1n+kuUvWe4/Wf6S5S9Z7j8tf8nylyzvPy1/yfKXLO8/YR8X9nFh7z9hHxf2cWHvP5a/ZPlLlu8/lr9k+UuW7z/LX7L8JcvvP8tfsvwly+8/AAAAAAAA8D8AAAAAAADwPw==",
          "dtype": "f8"
         }
        },
        {
         "hovertemplate": "FPR: %{x:.3f}<br>TPR: %{y:.3f}<extra></extra>",
         "line": {
          "color": "#e74c3c",
          "width": 3
         },
         "mode": "lines",
         "name": "監督式 (AUC=0.961)",
         "type": "scatter",
         "x": {
          "bdata": "AAAAAAAAAAAAAAAAAAAAAAAAAAAAAAAAfAEukrO+Zz98AS6Ss75nP3wBLpKzvnc/fAEukrO+dz/bgbl2YK6NP9uBuXZgro0/TEHoH93GlD9MQegf3caUP6vBcwSKtpo/q8FzBIq2mj/bgbl2YK6dP9uBuXZgrp0/BaF/dBtToD8FoX90G1OgPx2Boq0Gz6E/HYGirQbPoT81YcXm8UqjPzVhxebxSqM/ZCELWchCpj9kIQtZyEKmP5ThUMueOqk/lOFQy546qT/bgbl2YK6tP9uBuXZgrq0/82Hcr0sqrz/zYdyvSyqvPx2Boq0Gz7E/HYGirQbPsT8p8TNK/IyyPynxM0r8jLI/WLF5vNKEtT9YsXm80oS1P2QhC1nIQrY/ZCELWchCtj98AS6Ss763P3wBLpKzvrc/iHG/Lql8uD+Icb8uqXy4P5ThUMueOrk/lOFQy546uT/DoZY9dTK8P8Ohlj11Mrw/5/FKE1Zsvj/n8UoTVmy+P/Nh3K9LKr8/82Hcr0sqvz8XyVnfC3DBPxfJWd8LcME/L6l8GPfrwj8vqXwY9+vCP2QhC1nIQsY/ZCELWchCxj9q2VMnw6HGP2rZUyfDocY/jikI/aPbyD+OKQj9o9vIP5qZmZmZmck/mpmZmZmZyT8LWchCFrLQPwtZyEIWstA/ZCELWchC1j9kIQtZyELWP88RKNpq8Nw/zxEo2mrw3D8g3cYUhP7hPyDdxhSE/uE/KfEzSvyM4j8p8TNK/IziPwAAAAAAAPA/",
          "dtype": "f8"
         },
         "y": {
          "bdata": "AAAAAAAAAABtGtCmAW16P0yWv2T5S8Y/TJa/ZPlLxj8kXkXiVSTePyReReJVJN4/ubCPC/u44D+5sI8L+7jgP+JVJF5F4uU/4lUkXkXi5T+BNg1o04DmP4E2DWjTgOY/ttZaa6215j+21lprrbXmP4lXkXgViec/iVeReBWJ5z8oOHqCoyfoPyg4eoKjJ+g/xhhjjDHG6D/GGGOMMcboPzBZ/pLlL+k/MFn+kuUv6T9l+UuWv2TpP2X5S5a/ZOk/A9o0oE0D6j8D2jSgTQPqPzh6gqMnOOo/OHqCoyc46j+iuh2q26HqP6K6Harboeo/11prrbXW6j/XWmuttdbqP0CbBrRpQOs/QJsGtGlA6z+q26G6HarrP6rbobodqus/FBw9wdET7D8UHD3B0RPsP0m8isSrSOw/SbyKxKtI7D9+XNjHhX3sP35c2MeFfew/55xzzjnn7D/nnHPOOefsPxw9wdETHO0/HD3B0RMc7T9R3Q7V7VDtP1HdDtXtUO0/hn1c2MeF7T+GfVzYx4XtP7sdqtuhuu0/ux2q26G67T/vvffee+/tP++999577+0/JF5F4lUk7j8kXkXiVSTuP46e4OgJju4/jp7g6AmO7j/DPi7s48LuP8M+Luzjwu4/+N5777337j/43nvvvffuPy1/yfKXLO8/LX/J8pcs7z9hHxf2cWHvP2EfF/ZxYe8/lr9k+UuW7z+Wv2T5S5bvP8tfsvwly+8/y1+y/CXL7z8AAAAAAADwPwAAAAAAAPA/",
          "dtype": "f8"
         }
        },
        {
         "hoverinfo": "skip",
         "line": {
          "color": "gray",
          "dash": "dash",
          "width": 2
         },
         "mode": "lines",
         "name": "Random (AUC=0.500)",
         "showlegend": true,
         "type": "scatter",
         "x": [
          0,
          1
         ],
         "y": [
          0,
          1
         ]
        }
       ],
       "layout": {
        "height": 700,
        "hovermode": "closest",
        "legend": {
         "x": 0.99,
         "xanchor": "right",
         "y": 0.01,
         "yanchor": "bottom"
        },
        "template": {
         "data": {
          "bar": [
           {
            "error_x": {
             "color": "#2a3f5f"
            },
            "error_y": {
             "color": "#2a3f5f"
            },
            "marker": {
             "line": {
              "color": "white",
              "width": 0.5
             },
             "pattern": {
              "fillmode": "overlay",
              "size": 10,
              "solidity": 0.2
             }
            },
            "type": "bar"
           }
          ],
          "barpolar": [
           {
            "marker": {
             "line": {
              "color": "white",
              "width": 0.5
             },
             "pattern": {
              "fillmode": "overlay",
              "size": 10,
              "solidity": 0.2
             }
            },
            "type": "barpolar"
           }
          ],
          "carpet": [
           {
            "aaxis": {
             "endlinecolor": "#2a3f5f",
             "gridcolor": "#C8D4E3",
             "linecolor": "#C8D4E3",
             "minorgridcolor": "#C8D4E3",
             "startlinecolor": "#2a3f5f"
            },
            "baxis": {
             "endlinecolor": "#2a3f5f",
             "gridcolor": "#C8D4E3",
             "linecolor": "#C8D4E3",
             "minorgridcolor": "#C8D4E3",
             "startlinecolor": "#2a3f5f"
            },
            "type": "carpet"
           }
          ],
          "choropleth": [
           {
            "colorbar": {
             "outlinewidth": 0,
             "ticks": ""
            },
            "type": "choropleth"
           }
          ],
          "contour": [
           {
            "colorbar": {
             "outlinewidth": 0,
             "ticks": ""
            },
            "colorscale": [
             [
              0.0,
              "#0d0887"
             ],
             [
              0.1111111111111111,
              "#46039f"
             ],
             [
              0.2222222222222222,
              "#7201a8"
             ],
             [
              0.3333333333333333,
              "#9c179e"
             ],
             [
              0.4444444444444444,
              "#bd3786"
             ],
             [
              0.5555555555555556,
              "#d8576b"
             ],
             [
              0.6666666666666666,
              "#ed7953"
             ],
             [
              0.7777777777777778,
              "#fb9f3a"
             ],
             [
              0.8888888888888888,
              "#fdca26"
             ],
             [
              1.0,
              "#f0f921"
             ]
            ],
            "type": "contour"
           }
          ],
          "contourcarpet": [
           {
            "colorbar": {
             "outlinewidth": 0,
             "ticks": ""
            },
            "type": "contourcarpet"
           }
          ],
          "heatmap": [
           {
            "colorbar": {
             "outlinewidth": 0,
             "ticks": ""
            },
            "colorscale": [
             [
              0.0,
              "#0d0887"
             ],
             [
              0.1111111111111111,
              "#46039f"
             ],
             [
              0.2222222222222222,
              "#7201a8"
             ],
             [
              0.3333333333333333,
              "#9c179e"
             ],
             [
              0.4444444444444444,
              "#bd3786"
             ],
             [
              0.5555555555555556,
              "#d8576b"
             ],
             [
              0.6666666666666666,
              "#ed7953"
             ],
             [
              0.7777777777777778,
              "#fb9f3a"
             ],
             [
              0.8888888888888888,
              "#fdca26"
             ],
             [
              1.0,
              "#f0f921"
             ]
            ],
            "type": "heatmap"
           }
          ],
          "histogram": [
           {
            "marker": {
             "pattern": {
              "fillmode": "overlay",
              "size": 10,
              "solidity": 0.2
             }
            },
            "type": "histogram"
           }
          ],
          "histogram2d": [
           {
            "colorbar": {
             "outlinewidth": 0,
             "ticks": ""
            },
            "colorscale": [
             [
              0.0,
              "#0d0887"
             ],
             [
              0.1111111111111111,
              "#46039f"
             ],
             [
              0.2222222222222222,
              "#7201a8"
             ],
             [
              0.3333333333333333,
              "#9c179e"
             ],
             [
              0.4444444444444444,
              "#bd3786"
             ],
             [
              0.5555555555555556,
              "#d8576b"
             ],
             [
              0.6666666666666666,
              "#ed7953"
             ],
             [
              0.7777777777777778,
              "#fb9f3a"
             ],
             [
              0.8888888888888888,
              "#fdca26"
             ],
             [
              1.0,
              "#f0f921"
             ]
            ],
            "type": "histogram2d"
           }
          ],
          "histogram2dcontour": [
           {
            "colorbar": {
             "outlinewidth": 0,
             "ticks": ""
            },
            "colorscale": [
             [
              0.0,
              "#0d0887"
             ],
             [
              0.1111111111111111,
              "#46039f"
             ],
             [
              0.2222222222222222,
              "#7201a8"
             ],
             [
              0.3333333333333333,
              "#9c179e"
             ],
             [
              0.4444444444444444,
              "#bd3786"
             ],
             [
              0.5555555555555556,
              "#d8576b"
             ],
             [
              0.6666666666666666,
              "#ed7953"
             ],
             [
              0.7777777777777778,
              "#fb9f3a"
             ],
             [
              0.8888888888888888,
              "#fdca26"
             ],
             [
              1.0,
              "#f0f921"
             ]
            ],
            "type": "histogram2dcontour"
           }
          ],
          "mesh3d": [
           {
            "colorbar": {
             "outlinewidth": 0,
             "ticks": ""
            },
            "type": "mesh3d"
           }
          ],
          "parcoords": [
           {
            "line": {
             "colorbar": {
              "outlinewidth": 0,
              "ticks": ""
             }
            },
            "type": "parcoords"
           }
          ],
          "pie": [
           {
            "automargin": true,
            "type": "pie"
           }
          ],
          "scatter": [
           {
            "fillpattern": {
             "fillmode": "overlay",
             "size": 10,
             "solidity": 0.2
            },
            "type": "scatter"
           }
          ],
          "scatter3d": [
           {
            "line": {
             "colorbar": {
              "outlinewidth": 0,
              "ticks": ""
             }
            },
            "marker": {
             "colorbar": {
              "outlinewidth": 0,
              "ticks": ""
             }
            },
            "type": "scatter3d"
           }
          ],
          "scattercarpet": [
           {
            "marker": {
             "colorbar": {
              "outlinewidth": 0,
              "ticks": ""
             }
            },
            "type": "scattercarpet"
           }
          ],
          "scattergeo": [
           {
            "marker": {
             "colorbar": {
              "outlinewidth": 0,
              "ticks": ""
             }
            },
            "type": "scattergeo"
           }
          ],
          "scattergl": [
           {
            "marker": {
             "colorbar": {
              "outlinewidth": 0,
              "ticks": ""
             }
            },
            "type": "scattergl"
           }
          ],
          "scattermap": [
           {
            "marker": {
             "colorbar": {
              "outlinewidth": 0,
              "ticks": ""
             }
            },
            "type": "scattermap"
           }
          ],
          "scattermapbox": [
           {
            "marker": {
             "colorbar": {
              "outlinewidth": 0,
              "ticks": ""
             }
            },
            "type": "scattermapbox"
           }
          ],
          "scatterpolar": [
           {
            "marker": {
             "colorbar": {
              "outlinewidth": 0,
              "ticks": ""
             }
            },
            "type": "scatterpolar"
           }
          ],
          "scatterpolargl": [
           {
            "marker": {
             "colorbar": {
              "outlinewidth": 0,
              "ticks": ""
             }
            },
            "type": "scatterpolargl"
           }
          ],
          "scatterternary": [
           {
            "marker": {
             "colorbar": {
              "outlinewidth": 0,
              "ticks": ""
             }
            },
            "type": "scatterternary"
           }
          ],
          "surface": [
           {
            "colorbar": {
             "outlinewidth": 0,
             "ticks": ""
            },
            "colorscale": [
             [
              0.0,
              "#0d0887"
             ],
             [
              0.1111111111111111,
              "#46039f"
             ],
             [
              0.2222222222222222,
              "#7201a8"
             ],
             [
              0.3333333333333333,
              "#9c179e"
             ],
             [
              0.4444444444444444,
              "#bd3786"
             ],
             [
              0.5555555555555556,
              "#d8576b"
             ],
             [
              0.6666666666666666,
              "#ed7953"
             ],
             [
              0.7777777777777778,
              "#fb9f3a"
             ],
             [
              0.8888888888888888,
              "#fdca26"
             ],
             [
              1.0,
              "#f0f921"
             ]
            ],
            "type": "surface"
           }
          ],
          "table": [
           {
            "cells": {
             "fill": {
              "color": "#EBF0F8"
             },
             "line": {
              "color": "white"
             }
            },
            "header": {
             "fill": {
              "color": "#C8D4E3"
             },
             "line": {
              "color": "white"
             }
            },
            "type": "table"
           }
          ]
         },
         "layout": {
          "annotationdefaults": {
           "arrowcolor": "#2a3f5f",
           "arrowhead": 0,
           "arrowwidth": 1
          },
          "autotypenumbers": "strict",
          "coloraxis": {
           "colorbar": {
            "outlinewidth": 0,
            "ticks": ""
           }
          },
          "colorscale": {
           "diverging": [
            [
             0,
             "#8e0152"
            ],
            [
             0.1,
             "#c51b7d"
            ],
            [
             0.2,
             "#de77ae"
            ],
            [
             0.3,
             "#f1b6da"
            ],
            [
             0.4,
             "#fde0ef"
            ],
            [
             0.5,
             "#f7f7f7"
            ],
            [
             0.6,
             "#e6f5d0"
            ],
            [
             0.7,
             "#b8e186"
            ],
            [
             0.8,
             "#7fbc41"
            ],
            [
             0.9,
             "#4d9221"
            ],
            [
             1,
             "#276419"
            ]
           ],
           "sequential": [
            [
             0.0,
             "#0d0887"
            ],
            [
             0.1111111111111111,
             "#46039f"
            ],
            [
             0.2222222222222222,
             "#7201a8"
            ],
            [
             0.3333333333333333,
             "#9c179e"
            ],
            [
             0.4444444444444444,
             "#bd3786"
            ],
            [
             0.5555555555555556,
             "#d8576b"
            ],
            [
             0.6666666666666666,
             "#ed7953"
            ],
            [
             0.7777777777777778,
             "#fb9f3a"
            ],
            [
             0.8888888888888888,
             "#fdca26"
            ],
            [
             1.0,
             "#f0f921"
            ]
           ],
           "sequentialminus": [
            [
             0.0,
             "#0d0887"
            ],
            [
             0.1111111111111111,
             "#46039f"
            ],
            [
             0.2222222222222222,
             "#7201a8"
            ],
            [
             0.3333333333333333,
             "#9c179e"
            ],
            [
             0.4444444444444444,
             "#bd3786"
            ],
            [
             0.5555555555555556,
             "#d8576b"
            ],
            [
             0.6666666666666666,
             "#ed7953"
            ],
            [
             0.7777777777777778,
             "#fb9f3a"
            ],
            [
             0.8888888888888888,
             "#fdca26"
            ],
            [
             1.0,
             "#f0f921"
            ]
           ]
          },
          "colorway": [
           "#636efa",
           "#EF553B",
           "#00cc96",
           "#ab63fa",
           "#FFA15A",
           "#19d3f3",
           "#FF6692",
           "#B6E880",
           "#FF97FF",
           "#FECB52"
          ],
          "font": {
           "color": "#2a3f5f"
          },
          "geo": {
           "bgcolor": "white",
           "lakecolor": "white",
           "landcolor": "white",
           "showlakes": true,
           "showland": true,
           "subunitcolor": "#C8D4E3"
          },
          "hoverlabel": {
           "align": "left"
          },
          "hovermode": "closest",
          "mapbox": {
           "style": "light"
          },
          "paper_bgcolor": "white",
          "plot_bgcolor": "white",
          "polar": {
           "angularaxis": {
            "gridcolor": "#EBF0F8",
            "linecolor": "#EBF0F8",
            "ticks": ""
           },
           "bgcolor": "white",
           "radialaxis": {
            "gridcolor": "#EBF0F8",
            "linecolor": "#EBF0F8",
            "ticks": ""
           }
          },
          "scene": {
           "xaxis": {
            "backgroundcolor": "white",
            "gridcolor": "#DFE8F3",
            "gridwidth": 2,
            "linecolor": "#EBF0F8",
            "showbackground": true,
            "ticks": "",
            "zerolinecolor": "#EBF0F8"
           },
           "yaxis": {
            "backgroundcolor": "white",
            "gridcolor": "#DFE8F3",
            "gridwidth": 2,
            "linecolor": "#EBF0F8",
            "showbackground": true,
            "ticks": "",
            "zerolinecolor": "#EBF0F8"
           },
           "zaxis": {
            "backgroundcolor": "white",
            "gridcolor": "#DFE8F3",
            "gridwidth": 2,
            "linecolor": "#EBF0F8",
            "showbackground": true,
            "ticks": "",
            "zerolinecolor": "#EBF0F8"
           }
          },
          "shapedefaults": {
           "line": {
            "color": "#2a3f5f"
           }
          },
          "ternary": {
           "aaxis": {
            "gridcolor": "#DFE8F3",
            "linecolor": "#A2B1C6",
            "ticks": ""
           },
           "baxis": {
            "gridcolor": "#DFE8F3",
            "linecolor": "#A2B1C6",
            "ticks": ""
           },
           "bgcolor": "white",
           "caxis": {
            "gridcolor": "#DFE8F3",
            "linecolor": "#A2B1C6",
            "ticks": ""
           }
          },
          "title": {
           "x": 0.05
          },
          "xaxis": {
           "automargin": true,
           "gridcolor": "#EBF0F8",
           "linecolor": "#EBF0F8",
           "ticks": "",
           "title": {
            "standoff": 15
           },
           "zerolinecolor": "#EBF0F8",
           "zerolinewidth": 2
          },
          "yaxis": {
           "automargin": true,
           "gridcolor": "#EBF0F8",
           "linecolor": "#EBF0F8",
           "ticks": "",
           "title": {
            "standoff": 15
           },
           "zerolinecolor": "#EBF0F8",
           "zerolinewidth": 2
          }
         }
        },
        "title": {
         "font": {
          "size": 20
         },
         "text": "📈 Interactive ROC Curve",
         "x": 0.5,
         "xanchor": "center"
        },
        "width": 900,
        "xaxis": {
         "gridcolor": "lightgray",
         "range": [
          0,
          1
         ],
         "title": {
          "text": "False Positive Rate"
         }
        },
        "yaxis": {
         "gridcolor": "lightgray",
         "range": [
          0,
          1
         ],
         "title": {
          "text": "True Positive Rate"
         }
        }
       }
      }
     },
     "metadata": {},
     "output_type": "display_data"
    },
    {
     "name": "stdout",
     "output_type": "stream",
     "text": [
      "✅ 互動式 ROC 曲線已儲存至 docs/roc_curve.html\n",
      "💡 提示: 可以在圖表上懸停查看精確數值、縮放、下載為圖片等\n"
     ]
    }
   ],
   "source": [
    "# 創建互動式 ROC 曲線\n",
    "y_probs_dict = {\n",
    "    '合成注入': prob_synthetic,\n",
    "    '監督式': prob_supervised\n",
    "}\n",
    "\n",
    "fig_roc = create_interactive_roc_curve(\n",
    "    y_test,\n",
    "    y_probs_dict,\n",
    "    output_path=\"docs/roc_curve.html\"\n",
    ")\n",
    "fig_roc.show()\n",
    "\n",
    "print(\"✅ 互動式 ROC 曲線已儲存至 docs/roc_curve.html\")\n",
    "print(\"💡 提示: 可以在圖表上懸停查看精確數值、縮放、下載為圖片等\")"
   ]
  },
  {
   "cell_type": "code",
   "execution_count": 19,
   "id": "273167aa",
   "metadata": {
    "execution": {
     "iopub.execute_input": "2025-09-29T22:11:27.011986Z",
     "iopub.status.busy": "2025-09-29T22:11:27.011689Z",
     "iopub.status.idle": "2025-09-29T22:11:27.146805Z",
     "shell.execute_reply": "2025-09-29T22:11:27.146262Z"
    },
    "papermill": {
     "duration": 0.146584,
     "end_time": "2025-09-29T22:11:27.148214",
     "exception": false,
     "start_time": "2025-09-29T22:11:27.001630",
     "status": "completed"
    },
    "tags": []
   },
   "outputs": [
    {
     "name": "stdout",
     "output_type": "stream",
     "text": [
      "✅ Metrics dashboard saved: docs\\metrics_dashboard.html\n"
     ]
    },
    {
     "data": {
      "application/vnd.plotly.v1+json": {
       "config": {
        "plotlyServerURL": "https://plot.ly"
       },
       "data": [
        {
         "legendgroup": "合成注入",
         "line": {
          "color": "#3498db",
          "width": 2
         },
         "mode": "lines",
         "name": "合成注入",
         "showlegend": true,
         "type": "scatter",
         "x": {
          "bdata": "AAAAAAAAAAAAAAAAAAAAAAAAAAAAAAAAfAEukrO+Zz98AS6Ss75nP3wBLpKzvnc/fAEukrO+dz8dgaKtBs+BPx2Boq0Gz4E/fAEukrO+hz98AS6Ss76HP9uBuXZgro0/24G5dmCujT8dgaKtBs+RPx2Boq0Gz5E/BaF/dBtToD8FoX90G1OgP7F5vNKEFcs/sXm80oQVyz8AAAAAAADwPw==",
          "dtype": "f8"
         },
         "xaxis": "x",
         "y": {
          "bdata": "AAAAAAAAAABtGtCmAW16P0m8isSrSOw/SbyKxKtI7D+y/CXLX7LsP7L8Jctfsuw/HD3B0RMc7T8cPcHRExztP1n+kuUvWe4/Wf6S5S9Z7j8tf8nylyzvPy1/yfKXLO8/YR8X9nFh7z9hHxf2cWHvP5a/ZPlLlu8/lr9k+UuW7z/LX7L8JcvvP8tfsvwly+8/AAAAAAAA8D8AAAAAAADwPw==",
          "dtype": "f8"
         },
         "yaxis": "y"
        },
        {
         "legendgroup": "監督式",
         "line": {
          "color": "#e74c3c",
          "width": 2
         },
         "mode": "lines",
         "name": "監督式",
         "showlegend": true,
         "type": "scatter",
         "x": {
          "bdata": "AAAAAAAAAAAAAAAAAAAAAAAAAAAAAAAAfAEukrO+Zz98AS6Ss75nP3wBLpKzvnc/fAEukrO+dz/bgbl2YK6NP9uBuXZgro0/TEHoH93GlD9MQegf3caUP6vBcwSKtpo/q8FzBIq2mj/bgbl2YK6dP9uBuXZgrp0/BaF/dBtToD8FoX90G1OgPx2Boq0Gz6E/HYGirQbPoT81YcXm8UqjPzVhxebxSqM/ZCELWchCpj9kIQtZyEKmP5ThUMueOqk/lOFQy546qT/bgbl2YK6tP9uBuXZgrq0/82Hcr0sqrz/zYdyvSyqvPx2Boq0Gz7E/HYGirQbPsT8p8TNK/IyyPynxM0r8jLI/WLF5vNKEtT9YsXm80oS1P2QhC1nIQrY/ZCELWchCtj98AS6Ss763P3wBLpKzvrc/iHG/Lql8uD+Icb8uqXy4P5ThUMueOrk/lOFQy546uT/DoZY9dTK8P8Ohlj11Mrw/5/FKE1Zsvj/n8UoTVmy+P/Nh3K9LKr8/82Hcr0sqvz8XyVnfC3DBPxfJWd8LcME/L6l8GPfrwj8vqXwY9+vCP2QhC1nIQsY/ZCELWchCxj9q2VMnw6HGP2rZUyfDocY/jikI/aPbyD+OKQj9o9vIP5qZmZmZmck/mpmZmZmZyT8LWchCFrLQPwtZyEIWstA/ZCELWchC1j9kIQtZyELWP88RKNpq8Nw/zxEo2mrw3D8g3cYUhP7hPyDdxhSE/uE/KfEzSvyM4j8p8TNK/IziPwAAAAAAAPA/",
          "dtype": "f8"
         },
         "xaxis": "x",
         "y": {
          "bdata": "AAAAAAAAAABtGtCmAW16P0yWv2T5S8Y/TJa/ZPlLxj8kXkXiVSTePyReReJVJN4/ubCPC/u44D+5sI8L+7jgP+JVJF5F4uU/4lUkXkXi5T+BNg1o04DmP4E2DWjTgOY/ttZaa6215j+21lprrbXmP4lXkXgViec/iVeReBWJ5z8oOHqCoyfoPyg4eoKjJ+g/xhhjjDHG6D/GGGOMMcboPzBZ/pLlL+k/MFn+kuUv6T9l+UuWv2TpP2X5S5a/ZOk/A9o0oE0D6j8D2jSgTQPqPzh6gqMnOOo/OHqCoyc46j+iuh2q26HqP6K6Harboeo/11prrbXW6j/XWmuttdbqP0CbBrRpQOs/QJsGtGlA6z+q26G6HarrP6rbobodqus/FBw9wdET7D8UHD3B0RPsP0m8isSrSOw/SbyKxKtI7D9+XNjHhX3sP35c2MeFfew/55xzzjnn7D/nnHPOOefsPxw9wdETHO0/HD3B0RMc7T9R3Q7V7VDtP1HdDtXtUO0/hn1c2MeF7T+GfVzYx4XtP7sdqtuhuu0/ux2q26G67T/vvffee+/tP++999577+0/JF5F4lUk7j8kXkXiVSTuP46e4OgJju4/jp7g6AmO7j/DPi7s48LuP8M+Luzjwu4/+N5777337j/43nvvvffuPy1/yfKXLO8/LX/J8pcs7z9hHxf2cWHvP2EfF/ZxYe8/lr9k+UuW7z+Wv2T5S5bvP8tfsvwly+8/y1+y/CXL7z8AAAAAAADwPwAAAAAAAPA/",
          "dtype": "f8"
         },
         "yaxis": "y"
        },
        {
         "line": {
          "color": "gray",
          "dash": "dash"
         },
         "mode": "lines",
         "showlegend": false,
         "type": "scatter",
         "x": [
          0,
          1
         ],
         "xaxis": "x",
         "y": [
          0,
          1
         ],
         "yaxis": "y"
        },
        {
         "legendgroup": "合成注入",
         "line": {
          "color": "#3498db",
          "width": 2
         },
         "mode": "lines",
         "name": "合成注入",
         "showlegend": false,
         "type": "scatter",
         "x": {
          "bdata": "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",
          "dtype": "f8"
         },
         "xaxis": "x2",
         "y": {
          "bdata": "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",
          "dtype": "f8"
         },
         "yaxis": "y2"
        },
        {
         "legendgroup": "監督式",
         "line": {
          "color": "#e74c3c",
          "width": 2
         },
         "mode": "lines",
         "name": "監督式",
         "showlegend": false,
         "type": "scatter",
         "x": {
          "bdata": "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",
          "dtype": "f8"
         },
         "xaxis": "x2",
         "y": {
          "bdata": "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",
          "dtype": "f8"
         },
         "yaxis": "y2"
        },
        {
         "legendgroup": "合成注入",
         "line": {
          "color": "#3498db",
          "width": 2
         },
         "marker": {
          "size": 8
         },
         "mode": "lines+markers",
         "name": "合成注入",
         "showlegend": false,
         "type": "scatter",
         "x": {
          "bdata": "HruJt59lsD+HgsrSgO7CP3OpQvdFL88/4pc0WDAK1j9d7N69JkHcP5NhbuakYuE/EZE73nVu5D9uhoN2Fi/oP+yrRTuSWes/lMP45Eb17T8=",
          "dtype": "f8"
         },
         "xaxis": "x3",
         "y": {
          "bdata": "AAAAAAAAAAAAAAAAAAAAAEYXXXTRRYc/AAAAAAAAAABVVVVVVVW1PzMzMzMzM+M/AAAAAAAA6j8AAAAAAADwPwAAAAAAAPA/AAAAAAAA8D8=",
          "dtype": "f8"
         },
         "yaxis": "y3"
        },
        {
         "legendgroup": "監督式",
         "line": {
          "color": "#e74c3c",
          "width": 2
         },
         "marker": {
          "size": 8
         },
         "mode": "lines+markers",
         "name": "監督式",
         "showlegend": false,
         "type": "scatter",
         "x": {
          "bdata": "v20/R5QJsz8i2/cyhNbDP3+9NaJAFNA/ESxYurJ21j8fhkk3mdLcPxnJuXOUsuE/u0SwConE5D8yhBJ7//LnP/KU3y8cIOs/+Lc5qXYa7j8=",
          "dtype": "f8"
         },
         "xaxis": "x3",
         "y": {
          "bdata": "AAAAAAAAAAAAAAAAAAAAAKrzaw+5rIg/uB6F61G4nj9vMEU+6wbDPz3P8zzP89w/tJfQXkJ76T/Wh8b60FjvP0/sxE7sxO4/AAAAAAAA8D8=",
          "dtype": "f8"
         },
         "yaxis": "y3"
        },
        {
         "line": {
          "color": "gray",
          "dash": "dash"
         },
         "mode": "lines",
         "showlegend": false,
         "type": "scatter",
         "x": [
          0,
          1
         ],
         "xaxis": "x3",
         "y": [
          0,
          1
         ],
         "yaxis": "y3"
        },
        {
         "hovertemplate": "PR-AUC: %{y:.3f}<extra></extra>",
         "marker": {
          "color": "#3498db"
         },
         "name": "PR-AUC",
         "type": "bar",
         "x": [
          "合成注入",
          "監督式"
         ],
         "xaxis": "x4",
         "y": [
          0.9953217868976462,
          0.9244516219507706
         ],
         "yaxis": "y4"
        },
        {
         "hovertemplate": "ROC-AUC: %{y:.3f}<extra></extra>",
         "marker": {
          "color": "#e74c3c"
         },
         "name": "ROC-AUC",
         "type": "bar",
         "x": [
          "合成注入",
          "監督式"
         ],
         "xaxis": "x4",
         "y": [
          0.9974754558204769,
          0.9606919121084619
         ],
         "yaxis": "y4"
        },
        {
         "hovertemplate": "ECE: %{y:.3f}<extra></extra>",
         "marker": {
          "color": "#2ecc71"
         },
         "name": "ECE",
         "type": "bar",
         "x": [
          "合成注入",
          "監督式"
         ],
         "xaxis": "x4",
         "y": [
          0.1803334108421355,
          0.22092403969229554
         ],
         "yaxis": "y4"
        }
       ],
       "layout": {
        "annotations": [
         {
          "font": {
           "size": 16
          },
          "showarrow": false,
          "text": "ROC Curves",
          "x": 0.225,
          "xanchor": "center",
          "xref": "paper",
          "y": 1.0,
          "yanchor": "bottom",
          "yref": "paper"
         },
         {
          "font": {
           "size": 16
          },
          "showarrow": false,
          "text": "Precision-Recall Curves",
          "x": 0.775,
          "xanchor": "center",
          "xref": "paper",
          "y": 1.0,
          "yanchor": "bottom",
          "yref": "paper"
         },
         {
          "font": {
           "size": 16
          },
          "showarrow": false,
          "text": "Calibration Curves",
          "x": 0.225,
          "xanchor": "center",
          "xref": "paper",
          "y": 0.44,
          "yanchor": "bottom",
          "yref": "paper"
         },
         {
          "font": {
           "size": 16
          },
          "showarrow": false,
          "text": "Key Metrics Comparison",
          "x": 0.775,
          "xanchor": "center",
          "xref": "paper",
          "y": 0.44,
          "yanchor": "bottom",
          "yref": "paper"
         }
        ],
        "height": 1000,
        "legend": {
         "orientation": "h",
         "x": 0.5,
         "xanchor": "center",
         "y": -0.15,
         "yanchor": "bottom"
        },
        "showlegend": true,
        "template": {
         "data": {
          "bar": [
           {
            "error_x": {
             "color": "#2a3f5f"
            },
            "error_y": {
             "color": "#2a3f5f"
            },
            "marker": {
             "line": {
              "color": "white",
              "width": 0.5
             },
             "pattern": {
              "fillmode": "overlay",
              "size": 10,
              "solidity": 0.2
             }
            },
            "type": "bar"
           }
          ],
          "barpolar": [
           {
            "marker": {
             "line": {
              "color": "white",
              "width": 0.5
             },
             "pattern": {
              "fillmode": "overlay",
              "size": 10,
              "solidity": 0.2
             }
            },
            "type": "barpolar"
           }
          ],
          "carpet": [
           {
            "aaxis": {
             "endlinecolor": "#2a3f5f",
             "gridcolor": "#C8D4E3",
             "linecolor": "#C8D4E3",
             "minorgridcolor": "#C8D4E3",
             "startlinecolor": "#2a3f5f"
            },
            "baxis": {
             "endlinecolor": "#2a3f5f",
             "gridcolor": "#C8D4E3",
             "linecolor": "#C8D4E3",
             "minorgridcolor": "#C8D4E3",
             "startlinecolor": "#2a3f5f"
            },
            "type": "carpet"
           }
          ],
          "choropleth": [
           {
            "colorbar": {
             "outlinewidth": 0,
             "ticks": ""
            },
            "type": "choropleth"
           }
          ],
          "contour": [
           {
            "colorbar": {
             "outlinewidth": 0,
             "ticks": ""
            },
            "colorscale": [
             [
              0.0,
              "#0d0887"
             ],
             [
              0.1111111111111111,
              "#46039f"
             ],
             [
              0.2222222222222222,
              "#7201a8"
             ],
             [
              0.3333333333333333,
              "#9c179e"
             ],
             [
              0.4444444444444444,
              "#bd3786"
             ],
             [
              0.5555555555555556,
              "#d8576b"
             ],
             [
              0.6666666666666666,
              "#ed7953"
             ],
             [
              0.7777777777777778,
              "#fb9f3a"
             ],
             [
              0.8888888888888888,
              "#fdca26"
             ],
             [
              1.0,
              "#f0f921"
             ]
            ],
            "type": "contour"
           }
          ],
          "contourcarpet": [
           {
            "colorbar": {
             "outlinewidth": 0,
             "ticks": ""
            },
            "type": "contourcarpet"
           }
          ],
          "heatmap": [
           {
            "colorbar": {
             "outlinewidth": 0,
             "ticks": ""
            },
            "colorscale": [
             [
              0.0,
              "#0d0887"
             ],
             [
              0.1111111111111111,
              "#46039f"
             ],
             [
              0.2222222222222222,
              "#7201a8"
             ],
             [
              0.3333333333333333,
              "#9c179e"
             ],
             [
              0.4444444444444444,
              "#bd3786"
             ],
             [
              0.5555555555555556,
              "#d8576b"
             ],
             [
              0.6666666666666666,
              "#ed7953"
             ],
             [
              0.7777777777777778,
              "#fb9f3a"
             ],
             [
              0.8888888888888888,
              "#fdca26"
             ],
             [
              1.0,
              "#f0f921"
             ]
            ],
            "type": "heatmap"
           }
          ],
          "histogram": [
           {
            "marker": {
             "pattern": {
              "fillmode": "overlay",
              "size": 10,
              "solidity": 0.2
             }
            },
            "type": "histogram"
           }
          ],
          "histogram2d": [
           {
            "colorbar": {
             "outlinewidth": 0,
             "ticks": ""
            },
            "colorscale": [
             [
              0.0,
              "#0d0887"
             ],
             [
              0.1111111111111111,
              "#46039f"
             ],
             [
              0.2222222222222222,
              "#7201a8"
             ],
             [
              0.3333333333333333,
              "#9c179e"
             ],
             [
              0.4444444444444444,
              "#bd3786"
             ],
             [
              0.5555555555555556,
              "#d8576b"
             ],
             [
              0.6666666666666666,
              "#ed7953"
             ],
             [
              0.7777777777777778,
              "#fb9f3a"
             ],
             [
              0.8888888888888888,
              "#fdca26"
             ],
             [
              1.0,
              "#f0f921"
             ]
            ],
            "type": "histogram2d"
           }
          ],
          "histogram2dcontour": [
           {
            "colorbar": {
             "outlinewidth": 0,
             "ticks": ""
            },
            "colorscale": [
             [
              0.0,
              "#0d0887"
             ],
             [
              0.1111111111111111,
              "#46039f"
             ],
             [
              0.2222222222222222,
              "#7201a8"
             ],
             [
              0.3333333333333333,
              "#9c179e"
             ],
             [
              0.4444444444444444,
              "#bd3786"
             ],
             [
              0.5555555555555556,
              "#d8576b"
             ],
             [
              0.6666666666666666,
              "#ed7953"
             ],
             [
              0.7777777777777778,
              "#fb9f3a"
             ],
             [
              0.8888888888888888,
              "#fdca26"
             ],
             [
              1.0,
              "#f0f921"
             ]
            ],
            "type": "histogram2dcontour"
           }
          ],
          "mesh3d": [
           {
            "colorbar": {
             "outlinewidth": 0,
             "ticks": ""
            },
            "type": "mesh3d"
           }
          ],
          "parcoords": [
           {
            "line": {
             "colorbar": {
              "outlinewidth": 0,
              "ticks": ""
             }
            },
            "type": "parcoords"
           }
          ],
          "pie": [
           {
            "automargin": true,
            "type": "pie"
           }
          ],
          "scatter": [
           {
            "fillpattern": {
             "fillmode": "overlay",
             "size": 10,
             "solidity": 0.2
            },
            "type": "scatter"
           }
          ],
          "scatter3d": [
           {
            "line": {
             "colorbar": {
              "outlinewidth": 0,
              "ticks": ""
             }
            },
            "marker": {
             "colorbar": {
              "outlinewidth": 0,
              "ticks": ""
             }
            },
            "type": "scatter3d"
           }
          ],
          "scattercarpet": [
           {
            "marker": {
             "colorbar": {
              "outlinewidth": 0,
              "ticks": ""
             }
            },
            "type": "scattercarpet"
           }
          ],
          "scattergeo": [
           {
            "marker": {
             "colorbar": {
              "outlinewidth": 0,
              "ticks": ""
             }
            },
            "type": "scattergeo"
           }
          ],
          "scattergl": [
           {
            "marker": {
             "colorbar": {
              "outlinewidth": 0,
              "ticks": ""
             }
            },
            "type": "scattergl"
           }
          ],
          "scattermap": [
           {
            "marker": {
             "colorbar": {
              "outlinewidth": 0,
              "ticks": ""
             }
            },
            "type": "scattermap"
           }
          ],
          "scattermapbox": [
           {
            "marker": {
             "colorbar": {
              "outlinewidth": 0,
              "ticks": ""
             }
            },
            "type": "scattermapbox"
           }
          ],
          "scatterpolar": [
           {
            "marker": {
             "colorbar": {
              "outlinewidth": 0,
              "ticks": ""
             }
            },
            "type": "scatterpolar"
           }
          ],
          "scatterpolargl": [
           {
            "marker": {
             "colorbar": {
              "outlinewidth": 0,
              "ticks": ""
             }
            },
            "type": "scatterpolargl"
           }
          ],
          "scatterternary": [
           {
            "marker": {
             "colorbar": {
              "outlinewidth": 0,
              "ticks": ""
             }
            },
            "type": "scatterternary"
           }
          ],
          "surface": [
           {
            "colorbar": {
             "outlinewidth": 0,
             "ticks": ""
            },
            "colorscale": [
             [
              0.0,
              "#0d0887"
             ],
             [
              0.1111111111111111,
              "#46039f"
             ],
             [
              0.2222222222222222,
              "#7201a8"
             ],
             [
              0.3333333333333333,
              "#9c179e"
             ],
             [
              0.4444444444444444,
              "#bd3786"
             ],
             [
              0.5555555555555556,
              "#d8576b"
             ],
             [
              0.6666666666666666,
              "#ed7953"
             ],
             [
              0.7777777777777778,
              "#fb9f3a"
             ],
             [
              0.8888888888888888,
              "#fdca26"
             ],
             [
              1.0,
              "#f0f921"
             ]
            ],
            "type": "surface"
           }
          ],
          "table": [
           {
            "cells": {
             "fill": {
              "color": "#EBF0F8"
             },
             "line": {
              "color": "white"
             }
            },
            "header": {
             "fill": {
              "color": "#C8D4E3"
             },
             "line": {
              "color": "white"
             }
            },
            "type": "table"
           }
          ]
         },
         "layout": {
          "annotationdefaults": {
           "arrowcolor": "#2a3f5f",
           "arrowhead": 0,
           "arrowwidth": 1
          },
          "autotypenumbers": "strict",
          "coloraxis": {
           "colorbar": {
            "outlinewidth": 0,
            "ticks": ""
           }
          },
          "colorscale": {
           "diverging": [
            [
             0,
             "#8e0152"
            ],
            [
             0.1,
             "#c51b7d"
            ],
            [
             0.2,
             "#de77ae"
            ],
            [
             0.3,
             "#f1b6da"
            ],
            [
             0.4,
             "#fde0ef"
            ],
            [
             0.5,
             "#f7f7f7"
            ],
            [
             0.6,
             "#e6f5d0"
            ],
            [
             0.7,
             "#b8e186"
            ],
            [
             0.8,
             "#7fbc41"
            ],
            [
             0.9,
             "#4d9221"
            ],
            [
             1,
             "#276419"
            ]
           ],
           "sequential": [
            [
             0.0,
             "#0d0887"
            ],
            [
             0.1111111111111111,
             "#46039f"
            ],
            [
             0.2222222222222222,
             "#7201a8"
            ],
            [
             0.3333333333333333,
             "#9c179e"
            ],
            [
             0.4444444444444444,
             "#bd3786"
            ],
            [
             0.5555555555555556,
             "#d8576b"
            ],
            [
             0.6666666666666666,
             "#ed7953"
            ],
            [
             0.7777777777777778,
             "#fb9f3a"
            ],
            [
             0.8888888888888888,
             "#fdca26"
            ],
            [
             1.0,
             "#f0f921"
            ]
           ],
           "sequentialminus": [
            [
             0.0,
             "#0d0887"
            ],
            [
             0.1111111111111111,
             "#46039f"
            ],
            [
             0.2222222222222222,
             "#7201a8"
            ],
            [
             0.3333333333333333,
             "#9c179e"
            ],
            [
             0.4444444444444444,
             "#bd3786"
            ],
            [
             0.5555555555555556,
             "#d8576b"
            ],
            [
             0.6666666666666666,
             "#ed7953"
            ],
            [
             0.7777777777777778,
             "#fb9f3a"
            ],
            [
             0.8888888888888888,
             "#fdca26"
            ],
            [
             1.0,
             "#f0f921"
            ]
           ]
          },
          "colorway": [
           "#636efa",
           "#EF553B",
           "#00cc96",
           "#ab63fa",
           "#FFA15A",
           "#19d3f3",
           "#FF6692",
           "#B6E880",
           "#FF97FF",
           "#FECB52"
          ],
          "font": {
           "color": "#2a3f5f"
          },
          "geo": {
           "bgcolor": "white",
           "lakecolor": "white",
           "landcolor": "white",
           "showlakes": true,
           "showland": true,
           "subunitcolor": "#C8D4E3"
          },
          "hoverlabel": {
           "align": "left"
          },
          "hovermode": "closest",
          "mapbox": {
           "style": "light"
          },
          "paper_bgcolor": "white",
          "plot_bgcolor": "white",
          "polar": {
           "angularaxis": {
            "gridcolor": "#EBF0F8",
            "linecolor": "#EBF0F8",
            "ticks": ""
           },
           "bgcolor": "white",
           "radialaxis": {
            "gridcolor": "#EBF0F8",
            "linecolor": "#EBF0F8",
            "ticks": ""
           }
          },
          "scene": {
           "xaxis": {
            "backgroundcolor": "white",
            "gridcolor": "#DFE8F3",
            "gridwidth": 2,
            "linecolor": "#EBF0F8",
            "showbackground": true,
            "ticks": "",
            "zerolinecolor": "#EBF0F8"
           },
           "yaxis": {
            "backgroundcolor": "white",
            "gridcolor": "#DFE8F3",
            "gridwidth": 2,
            "linecolor": "#EBF0F8",
            "showbackground": true,
            "ticks": "",
            "zerolinecolor": "#EBF0F8"
           },
           "zaxis": {
            "backgroundcolor": "white",
            "gridcolor": "#DFE8F3",
            "gridwidth": 2,
            "linecolor": "#EBF0F8",
            "showbackground": true,
            "ticks": "",
            "zerolinecolor": "#EBF0F8"
           }
          },
          "shapedefaults": {
           "line": {
            "color": "#2a3f5f"
           }
          },
          "ternary": {
           "aaxis": {
            "gridcolor": "#DFE8F3",
            "linecolor": "#A2B1C6",
            "ticks": ""
           },
           "baxis": {
            "gridcolor": "#DFE8F3",
            "linecolor": "#A2B1C6",
            "ticks": ""
           },
           "bgcolor": "white",
           "caxis": {
            "gridcolor": "#DFE8F3",
            "linecolor": "#A2B1C6",
            "ticks": ""
           }
          },
          "title": {
           "x": 0.05
          },
          "xaxis": {
           "automargin": true,
           "gridcolor": "#EBF0F8",
           "linecolor": "#EBF0F8",
           "ticks": "",
           "title": {
            "standoff": 15
           },
           "zerolinecolor": "#EBF0F8",
           "zerolinewidth": 2
          },
          "yaxis": {
           "automargin": true,
           "gridcolor": "#EBF0F8",
           "linecolor": "#EBF0F8",
           "ticks": "",
           "title": {
            "standoff": 15
           },
           "zerolinecolor": "#EBF0F8",
           "zerolinewidth": 2
          }
         }
        },
        "title": {
         "font": {
          "size": 24
         },
         "text": "📊 Comprehensive Metrics Dashboard",
         "x": 0.5,
         "xanchor": "center"
        },
        "width": 1600,
        "xaxis": {
         "anchor": "y",
         "domain": [
          0.0,
          0.45
         ],
         "title": {
          "text": "FPR"
         }
        },
        "xaxis2": {
         "anchor": "y2",
         "domain": [
          0.55,
          1.0
         ],
         "title": {
          "text": "Recall"
         }
        },
        "xaxis3": {
         "anchor": "y3",
         "domain": [
          0.0,
          0.45
         ],
         "title": {
          "text": "Predicted Prob"
         }
        },
        "xaxis4": {
         "anchor": "y4",
         "domain": [
          0.55,
          1.0
         ],
         "title": {
          "text": "Model"
         }
        },
        "yaxis": {
         "anchor": "x",
         "domain": [
          0.56,
          1.0
         ],
         "title": {
          "text": "TPR"
         }
        },
        "yaxis2": {
         "anchor": "x2",
         "domain": [
          0.56,
          1.0
         ],
         "title": {
          "text": "Precision"
         }
        },
        "yaxis3": {
         "anchor": "x3",
         "domain": [
          0.0,
          0.44
         ],
         "title": {
          "text": "Fraction of Positives"
         }
        },
        "yaxis4": {
         "anchor": "x4",
         "domain": [
          0.0,
          0.44
         ],
         "title": {
          "text": "Score"
         }
        }
       }
      }
     },
     "metadata": {},
     "output_type": "display_data"
    },
    {
     "name": "stdout",
     "output_type": "stream",
     "text": [
      "✅ 綜合指標儀表板已儲存至 docs/metrics_dashboard.html\n",
      "\n",
      "📊 互動式儀表板功能:\n",
      "   • 🔍 懸停查看精確數值\n",
      "   • 🔎 縮放與平移圖表\n",
      "   • 💾 下載為 PNG/SVG\n",
      "   • 🎛️ 切換顯示/隱藏曲線\n",
      "   • 📐 選擇特定區域\n",
      "   • 🔄 重置視圖\n"
     ]
    }
   ],
   "source": [
    "# 創建綜合指標儀表板 (包含所有圖表)\n",
    "metrics_dict = {\n",
    "    '合成注入': metrics_synthetic,\n",
    "    '監督式': metrics_supervised\n",
    "}\n",
    "\n",
    "fig_dashboard = create_metrics_dashboard(\n",
    "    y_test,\n",
    "    y_probs_dict,\n",
    "    metrics_dict,\n",
    "    output_path=\"docs/metrics_dashboard.html\"\n",
    ")\n",
    "fig_dashboard.show()\n",
    "\n",
    "print(\"✅ 綜合指標儀表板已儲存至 docs/metrics_dashboard.html\")\n",
    "print(\"\\n📊 互動式儀表板功能:\")\n",
    "print(\"   • 🔍 懸停查看精確數值\")\n",
    "print(\"   • 🔎 縮放與平移圖表\")\n",
    "print(\"   • 💾 下載為 PNG/SVG\")\n",
    "print(\"   • 🎛️ 切換顯示/隱藏曲線\")\n",
    "print(\"   • 📐 選擇特定區域\")\n",
    "print(\"   • 🔄 重置視圖\")"
   ]
  },
  {
   "cell_type": "markdown",
   "id": "af4fe591",
   "metadata": {
    "papermill": {
     "duration": 0.014312,
     "end_time": "2025-09-29T22:11:27.175011",
     "exception": false,
     "start_time": "2025-09-29T22:11:27.160699",
     "status": "completed"
    },
    "tags": []
   },
   "source": [
    "### 10.7 綜合指標儀表板 📊✨"
   ]
  },
  {
   "cell_type": "code",
   "execution_count": 20,
   "id": "2917132d",
   "metadata": {
    "execution": {
     "iopub.execute_input": "2025-09-29T22:11:27.203957Z",
     "iopub.status.busy": "2025-09-29T22:11:27.203634Z",
     "iopub.status.idle": "2025-09-29T22:11:27.282693Z",
     "shell.execute_reply": "2025-09-29T22:11:27.282126Z"
    },
    "papermill": {
     "duration": 0.094695,
     "end_time": "2025-09-29T22:11:27.283570",
     "exception": false,
     "start_time": "2025-09-29T22:11:27.188875",
     "status": "completed"
    },
    "tags": []
   },
   "outputs": [
    {
     "name": "stdout",
     "output_type": "stream",
     "text": [
      "✅ Calibration curve saved: docs\\calibration_curve.html\n"
     ]
    },
    {
     "data": {
      "application/vnd.plotly.v1+json": {
       "config": {
        "plotlyServerURL": "https://plot.ly"
       },
       "data": [
        {
         "hovertemplate": "Predicted: %{x:.3f}<br>Actual: %{y:.3f}<extra></extra>",
         "line": {
          "color": "#3498db",
          "width": 3
         },
         "marker": {
          "size": 10
         },
         "mode": "lines+markers",
         "name": "合成注入",
         "type": "scatter",
         "x": {
          "bdata": "HruJt59lsD+HgsrSgO7CP3OpQvdFL88/4pc0WDAK1j9d7N69JkHcP5NhbuakYuE/EZE73nVu5D9uhoN2Fi/oP+yrRTuSWes/lMP45Eb17T8=",
          "dtype": "f8"
         },
         "y": {
          "bdata": "AAAAAAAAAAAAAAAAAAAAAEYXXXTRRYc/AAAAAAAAAABVVVVVVVW1PzMzMzMzM+M/AAAAAAAA6j8AAAAAAADwPwAAAAAAAPA/AAAAAAAA8D8=",
          "dtype": "f8"
         }
        },
        {
         "hovertemplate": "Predicted: %{x:.3f}<br>Actual: %{y:.3f}<extra></extra>",
         "line": {
          "color": "#e74c3c",
          "width": 3
         },
         "marker": {
          "size": 10
         },
         "mode": "lines+markers",
         "name": "監督式",
         "type": "scatter",
         "x": {
          "bdata": "v20/R5QJsz8i2/cyhNbDP3+9NaJAFNA/ESxYurJ21j8fhkk3mdLcPxnJuXOUsuE/u0SwConE5D8yhBJ7//LnP/KU3y8cIOs/+Lc5qXYa7j8=",
          "dtype": "f8"
         },
         "y": {
          "bdata": "AAAAAAAAAAAAAAAAAAAAAKrzaw+5rIg/uB6F61G4nj9vMEU+6wbDPz3P8zzP89w/tJfQXkJ76T/Wh8b60FjvP0/sxE7sxO4/AAAAAAAA8D8=",
          "dtype": "f8"
         }
        },
        {
         "hoverinfo": "skip",
         "line": {
          "color": "gray",
          "dash": "dash",
          "width": 2
         },
         "mode": "lines",
         "name": "Perfect Calibration",
         "showlegend": true,
         "type": "scatter",
         "x": [
          0,
          1
         ],
         "y": [
          0,
          1
         ]
        }
       ],
       "layout": {
        "height": 700,
        "hovermode": "closest",
        "legend": {
         "x": 0.99,
         "xanchor": "right",
         "y": 0.01,
         "yanchor": "bottom"
        },
        "template": {
         "data": {
          "bar": [
           {
            "error_x": {
             "color": "#2a3f5f"
            },
            "error_y": {
             "color": "#2a3f5f"
            },
            "marker": {
             "line": {
              "color": "white",
              "width": 0.5
             },
             "pattern": {
              "fillmode": "overlay",
              "size": 10,
              "solidity": 0.2
             }
            },
            "type": "bar"
           }
          ],
          "barpolar": [
           {
            "marker": {
             "line": {
              "color": "white",
              "width": 0.5
             },
             "pattern": {
              "fillmode": "overlay",
              "size": 10,
              "solidity": 0.2
             }
            },
            "type": "barpolar"
           }
          ],
          "carpet": [
           {
            "aaxis": {
             "endlinecolor": "#2a3f5f",
             "gridcolor": "#C8D4E3",
             "linecolor": "#C8D4E3",
             "minorgridcolor": "#C8D4E3",
             "startlinecolor": "#2a3f5f"
            },
            "baxis": {
             "endlinecolor": "#2a3f5f",
             "gridcolor": "#C8D4E3",
             "linecolor": "#C8D4E3",
             "minorgridcolor": "#C8D4E3",
             "startlinecolor": "#2a3f5f"
            },
            "type": "carpet"
           }
          ],
          "choropleth": [
           {
            "colorbar": {
             "outlinewidth": 0,
             "ticks": ""
            },
            "type": "choropleth"
           }
          ],
          "contour": [
           {
            "colorbar": {
             "outlinewidth": 0,
             "ticks": ""
            },
            "colorscale": [
             [
              0.0,
              "#0d0887"
             ],
             [
              0.1111111111111111,
              "#46039f"
             ],
             [
              0.2222222222222222,
              "#7201a8"
             ],
             [
              0.3333333333333333,
              "#9c179e"
             ],
             [
              0.4444444444444444,
              "#bd3786"
             ],
             [
              0.5555555555555556,
              "#d8576b"
             ],
             [
              0.6666666666666666,
              "#ed7953"
             ],
             [
              0.7777777777777778,
              "#fb9f3a"
             ],
             [
              0.8888888888888888,
              "#fdca26"
             ],
             [
              1.0,
              "#f0f921"
             ]
            ],
            "type": "contour"
           }
          ],
          "contourcarpet": [
           {
            "colorbar": {
             "outlinewidth": 0,
             "ticks": ""
            },
            "type": "contourcarpet"
           }
          ],
          "heatmap": [
           {
            "colorbar": {
             "outlinewidth": 0,
             "ticks": ""
            },
            "colorscale": [
             [
              0.0,
              "#0d0887"
             ],
             [
              0.1111111111111111,
              "#46039f"
             ],
             [
              0.2222222222222222,
              "#7201a8"
             ],
             [
              0.3333333333333333,
              "#9c179e"
             ],
             [
              0.4444444444444444,
              "#bd3786"
             ],
             [
              0.5555555555555556,
              "#d8576b"
             ],
             [
              0.6666666666666666,
              "#ed7953"
             ],
             [
              0.7777777777777778,
              "#fb9f3a"
             ],
             [
              0.8888888888888888,
              "#fdca26"
             ],
             [
              1.0,
              "#f0f921"
             ]
            ],
            "type": "heatmap"
           }
          ],
          "histogram": [
           {
            "marker": {
             "pattern": {
              "fillmode": "overlay",
              "size": 10,
              "solidity": 0.2
             }
            },
            "type": "histogram"
           }
          ],
          "histogram2d": [
           {
            "colorbar": {
             "outlinewidth": 0,
             "ticks": ""
            },
            "colorscale": [
             [
              0.0,
              "#0d0887"
             ],
             [
              0.1111111111111111,
              "#46039f"
             ],
             [
              0.2222222222222222,
              "#7201a8"
             ],
             [
              0.3333333333333333,
              "#9c179e"
             ],
             [
              0.4444444444444444,
              "#bd3786"
             ],
             [
              0.5555555555555556,
              "#d8576b"
             ],
             [
              0.6666666666666666,
              "#ed7953"
             ],
             [
              0.7777777777777778,
              "#fb9f3a"
             ],
             [
              0.8888888888888888,
              "#fdca26"
             ],
             [
              1.0,
              "#f0f921"
             ]
            ],
            "type": "histogram2d"
           }
          ],
          "histogram2dcontour": [
           {
            "colorbar": {
             "outlinewidth": 0,
             "ticks": ""
            },
            "colorscale": [
             [
              0.0,
              "#0d0887"
             ],
             [
              0.1111111111111111,
              "#46039f"
             ],
             [
              0.2222222222222222,
              "#7201a8"
             ],
             [
              0.3333333333333333,
              "#9c179e"
             ],
             [
              0.4444444444444444,
              "#bd3786"
             ],
             [
              0.5555555555555556,
              "#d8576b"
             ],
             [
              0.6666666666666666,
              "#ed7953"
             ],
             [
              0.7777777777777778,
              "#fb9f3a"
             ],
             [
              0.8888888888888888,
              "#fdca26"
             ],
             [
              1.0,
              "#f0f921"
             ]
            ],
            "type": "histogram2dcontour"
           }
          ],
          "mesh3d": [
           {
            "colorbar": {
             "outlinewidth": 0,
             "ticks": ""
            },
            "type": "mesh3d"
           }
          ],
          "parcoords": [
           {
            "line": {
             "colorbar": {
              "outlinewidth": 0,
              "ticks": ""
             }
            },
            "type": "parcoords"
           }
          ],
          "pie": [
           {
            "automargin": true,
            "type": "pie"
           }
          ],
          "scatter": [
           {
            "fillpattern": {
             "fillmode": "overlay",
             "size": 10,
             "solidity": 0.2
            },
            "type": "scatter"
           }
          ],
          "scatter3d": [
           {
            "line": {
             "colorbar": {
              "outlinewidth": 0,
              "ticks": ""
             }
            },
            "marker": {
             "colorbar": {
              "outlinewidth": 0,
              "ticks": ""
             }
            },
            "type": "scatter3d"
           }
          ],
          "scattercarpet": [
           {
            "marker": {
             "colorbar": {
              "outlinewidth": 0,
              "ticks": ""
             }
            },
            "type": "scattercarpet"
           }
          ],
          "scattergeo": [
           {
            "marker": {
             "colorbar": {
              "outlinewidth": 0,
              "ticks": ""
             }
            },
            "type": "scattergeo"
           }
          ],
          "scattergl": [
           {
            "marker": {
             "colorbar": {
              "outlinewidth": 0,
              "ticks": ""
             }
            },
            "type": "scattergl"
           }
          ],
          "scattermap": [
           {
            "marker": {
             "colorbar": {
              "outlinewidth": 0,
              "ticks": ""
             }
            },
            "type": "scattermap"
           }
          ],
          "scattermapbox": [
           {
            "marker": {
             "colorbar": {
              "outlinewidth": 0,
              "ticks": ""
             }
            },
            "type": "scattermapbox"
           }
          ],
          "scatterpolar": [
           {
            "marker": {
             "colorbar": {
              "outlinewidth": 0,
              "ticks": ""
             }
            },
            "type": "scatterpolar"
           }
          ],
          "scatterpolargl": [
           {
            "marker": {
             "colorbar": {
              "outlinewidth": 0,
              "ticks": ""
             }
            },
            "type": "scatterpolargl"
           }
          ],
          "scatterternary": [
           {
            "marker": {
             "colorbar": {
              "outlinewidth": 0,
              "ticks": ""
             }
            },
            "type": "scatterternary"
           }
          ],
          "surface": [
           {
            "colorbar": {
             "outlinewidth": 0,
             "ticks": ""
            },
            "colorscale": [
             [
              0.0,
              "#0d0887"
             ],
             [
              0.1111111111111111,
              "#46039f"
             ],
             [
              0.2222222222222222,
              "#7201a8"
             ],
             [
              0.3333333333333333,
              "#9c179e"
             ],
             [
              0.4444444444444444,
              "#bd3786"
             ],
             [
              0.5555555555555556,
              "#d8576b"
             ],
             [
              0.6666666666666666,
              "#ed7953"
             ],
             [
              0.7777777777777778,
              "#fb9f3a"
             ],
             [
              0.8888888888888888,
              "#fdca26"
             ],
             [
              1.0,
              "#f0f921"
             ]
            ],
            "type": "surface"
           }
          ],
          "table": [
           {
            "cells": {
             "fill": {
              "color": "#EBF0F8"
             },
             "line": {
              "color": "white"
             }
            },
            "header": {
             "fill": {
              "color": "#C8D4E3"
             },
             "line": {
              "color": "white"
             }
            },
            "type": "table"
           }
          ]
         },
         "layout": {
          "annotationdefaults": {
           "arrowcolor": "#2a3f5f",
           "arrowhead": 0,
           "arrowwidth": 1
          },
          "autotypenumbers": "strict",
          "coloraxis": {
           "colorbar": {
            "outlinewidth": 0,
            "ticks": ""
           }
          },
          "colorscale": {
           "diverging": [
            [
             0,
             "#8e0152"
            ],
            [
             0.1,
             "#c51b7d"
            ],
            [
             0.2,
             "#de77ae"
            ],
            [
             0.3,
             "#f1b6da"
            ],
            [
             0.4,
             "#fde0ef"
            ],
            [
             0.5,
             "#f7f7f7"
            ],
            [
             0.6,
             "#e6f5d0"
            ],
            [
             0.7,
             "#b8e186"
            ],
            [
             0.8,
             "#7fbc41"
            ],
            [
             0.9,
             "#4d9221"
            ],
            [
             1,
             "#276419"
            ]
           ],
           "sequential": [
            [
             0.0,
             "#0d0887"
            ],
            [
             0.1111111111111111,
             "#46039f"
            ],
            [
             0.2222222222222222,
             "#7201a8"
            ],
            [
             0.3333333333333333,
             "#9c179e"
            ],
            [
             0.4444444444444444,
             "#bd3786"
            ],
            [
             0.5555555555555556,
             "#d8576b"
            ],
            [
             0.6666666666666666,
             "#ed7953"
            ],
            [
             0.7777777777777778,
             "#fb9f3a"
            ],
            [
             0.8888888888888888,
             "#fdca26"
            ],
            [
             1.0,
             "#f0f921"
            ]
           ],
           "sequentialminus": [
            [
             0.0,
             "#0d0887"
            ],
            [
             0.1111111111111111,
             "#46039f"
            ],
            [
             0.2222222222222222,
             "#7201a8"
            ],
            [
             0.3333333333333333,
             "#9c179e"
            ],
            [
             0.4444444444444444,
             "#bd3786"
            ],
            [
             0.5555555555555556,
             "#d8576b"
            ],
            [
             0.6666666666666666,
             "#ed7953"
            ],
            [
             0.7777777777777778,
             "#fb9f3a"
            ],
            [
             0.8888888888888888,
             "#fdca26"
            ],
            [
             1.0,
             "#f0f921"
            ]
           ]
          },
          "colorway": [
           "#636efa",
           "#EF553B",
           "#00cc96",
           "#ab63fa",
           "#FFA15A",
           "#19d3f3",
           "#FF6692",
           "#B6E880",
           "#FF97FF",
           "#FECB52"
          ],
          "font": {
           "color": "#2a3f5f"
          },
          "geo": {
           "bgcolor": "white",
           "lakecolor": "white",
           "landcolor": "white",
           "showlakes": true,
           "showland": true,
           "subunitcolor": "#C8D4E3"
          },
          "hoverlabel": {
           "align": "left"
          },
          "hovermode": "closest",
          "mapbox": {
           "style": "light"
          },
          "paper_bgcolor": "white",
          "plot_bgcolor": "white",
          "polar": {
           "angularaxis": {
            "gridcolor": "#EBF0F8",
            "linecolor": "#EBF0F8",
            "ticks": ""
           },
           "bgcolor": "white",
           "radialaxis": {
            "gridcolor": "#EBF0F8",
            "linecolor": "#EBF0F8",
            "ticks": ""
           }
          },
          "scene": {
           "xaxis": {
            "backgroundcolor": "white",
            "gridcolor": "#DFE8F3",
            "gridwidth": 2,
            "linecolor": "#EBF0F8",
            "showbackground": true,
            "ticks": "",
            "zerolinecolor": "#EBF0F8"
           },
           "yaxis": {
            "backgroundcolor": "white",
            "gridcolor": "#DFE8F3",
            "gridwidth": 2,
            "linecolor": "#EBF0F8",
            "showbackground": true,
            "ticks": "",
            "zerolinecolor": "#EBF0F8"
           },
           "zaxis": {
            "backgroundcolor": "white",
            "gridcolor": "#DFE8F3",
            "gridwidth": 2,
            "linecolor": "#EBF0F8",
            "showbackground": true,
            "ticks": "",
            "zerolinecolor": "#EBF0F8"
           }
          },
          "shapedefaults": {
           "line": {
            "color": "#2a3f5f"
           }
          },
          "ternary": {
           "aaxis": {
            "gridcolor": "#DFE8F3",
            "linecolor": "#A2B1C6",
            "ticks": ""
           },
           "baxis": {
            "gridcolor": "#DFE8F3",
            "linecolor": "#A2B1C6",
            "ticks": ""
           },
           "bgcolor": "white",
           "caxis": {
            "gridcolor": "#DFE8F3",
            "linecolor": "#A2B1C6",
            "ticks": ""
           }
          },
          "title": {
           "x": 0.05
          },
          "xaxis": {
           "automargin": true,
           "gridcolor": "#EBF0F8",
           "linecolor": "#EBF0F8",
           "ticks": "",
           "title": {
            "standoff": 15
           },
           "zerolinecolor": "#EBF0F8",
           "zerolinewidth": 2
          },
          "yaxis": {
           "automargin": true,
           "gridcolor": "#EBF0F8",
           "linecolor": "#EBF0F8",
           "ticks": "",
           "title": {
            "standoff": 15
           },
           "zerolinecolor": "#EBF0F8",
           "zerolinewidth": 2
          }
         }
        },
        "title": {
         "font": {
          "size": 20
         },
         "text": "🎯 Calibration Curve (Reliability Diagram)",
         "x": 0.5,
         "xanchor": "center"
        },
        "width": 900,
        "xaxis": {
         "gridcolor": "lightgray",
         "range": [
          0,
          1
         ],
         "title": {
          "text": "Mean Predicted Probability"
         }
        },
        "yaxis": {
         "gridcolor": "lightgray",
         "range": [
          0,
          1
         ],
         "title": {
          "text": "Fraction of Positives"
         }
        }
       }
      }
     },
     "metadata": {},
     "output_type": "display_data"
    },
    {
     "name": "stdout",
     "output_type": "stream",
     "text": [
      "✅ 互動式校準曲線已儲存至 docs/calibration_curve.html\n"
     ]
    }
   ],
   "source": [
    "# 創建互動式校準曲線\n",
    "fig_calibration = create_interactive_calibration_curve(\n",
    "    y_test,\n",
    "    y_probs_dict,\n",
    "    n_bins=10,\n",
    "    output_path=\"docs/calibration_curve.html\"\n",
    ")\n",
    "fig_calibration.show()\n",
    "\n",
    "print(\"✅ 互動式校準曲線已儲存至 docs/calibration_curve.html\")"
   ]
  },
  {
   "cell_type": "markdown",
   "id": "953efc96",
   "metadata": {
    "papermill": {
     "duration": 0.015909,
     "end_time": "2025-09-29T22:11:27.313490",
     "exception": false,
     "start_time": "2025-09-29T22:11:27.297581",
     "status": "completed"
    },
    "tags": []
   },
   "source": [
    "### 10.6 互動式校準曲線 🎯"
   ]
  },
  {
   "cell_type": "code",
   "execution_count": 21,
   "id": "9faa7798",
   "metadata": {
    "execution": {
     "iopub.execute_input": "2025-09-29T22:11:27.342264Z",
     "iopub.status.busy": "2025-09-29T22:11:27.341944Z",
     "iopub.status.idle": "2025-09-29T22:11:27.462127Z",
     "shell.execute_reply": "2025-09-29T22:11:27.461273Z"
    },
    "papermill": {
     "duration": 0.136094,
     "end_time": "2025-09-29T22:11:27.463143",
     "exception": false,
     "start_time": "2025-09-29T22:11:27.327049",
     "status": "completed"
    },
    "tags": []
   },
   "outputs": [
    {
     "name": "stdout",
     "output_type": "stream",
     "text": [
      "✅ Feature importance saved: docs\\feature_importance_synthetic.html\n"
     ]
    },
    {
     "data": {
      "application/vnd.plotly.v1+json": {
       "config": {
        "plotlyServerURL": "https://plot.ly"
       },
       "data": [
        {
         "hovertemplate": "%{y}<br>Importance: %{x:.4f}<extra></extra>",
         "marker": {
          "color": [
           "rgba(52, 152, 219, 0.7)",
           "rgba(52, 152, 219, 0.7)",
           "rgba(52, 152, 219, 0.7)",
           "rgba(52, 152, 219, 0.7)",
           "rgba(52, 152, 219, 0.7)",
           "rgba(52, 152, 219, 0.7)",
           "rgba(52, 152, 219, 0.7)",
           "rgba(231, 76, 60, 0.7)",
           "rgba(231, 76, 60, 0.7)",
           "rgba(231, 76, 60, 0.7)",
           "rgba(231, 76, 60, 0.7)",
           "rgba(231, 76, 60, 0.7)",
           "rgba(231, 76, 60, 0.7)",
           "rgba(231, 76, 60, 0.7)"
          ]
         },
         "orientation": "h",
         "type": "bar",
         "x": {
          "bdata": "LmS9AU5ZzD/y6M49MlvIP55IQYoVRsA/Pr3nVdvovD85v/R6Ck+1P0dYTg/Z7LM/3a/2Qi+/rT96NJ5oUIytPw0jK6pfYJ4/HdVFQLjmjj91DO6RzfWFP9D6bxjb9IU/PFOdONf8bj/ZrdcyvYpVPw==",
          "dtype": "f8"
         },
         "y": [
          "flux_kurtosis",
          "bls_duration",
          "tls_snr",
          "period_ratio",
          "bls_depth",
          "flux_mad",
          "flux_std",
          "bls_snr",
          "bls_period",
          "duration_ratio",
          "tls_period",
          "tls_duration",
          "tls_depth",
          "flux_skew"
         ]
        }
       ],
       "layout": {
        "height": 600,
        "hovermode": "closest",
        "template": {
         "data": {
          "bar": [
           {
            "error_x": {
             "color": "#2a3f5f"
            },
            "error_y": {
             "color": "#2a3f5f"
            },
            "marker": {
             "line": {
              "color": "white",
              "width": 0.5
             },
             "pattern": {
              "fillmode": "overlay",
              "size": 10,
              "solidity": 0.2
             }
            },
            "type": "bar"
           }
          ],
          "barpolar": [
           {
            "marker": {
             "line": {
              "color": "white",
              "width": 0.5
             },
             "pattern": {
              "fillmode": "overlay",
              "size": 10,
              "solidity": 0.2
             }
            },
            "type": "barpolar"
           }
          ],
          "carpet": [
           {
            "aaxis": {
             "endlinecolor": "#2a3f5f",
             "gridcolor": "#C8D4E3",
             "linecolor": "#C8D4E3",
             "minorgridcolor": "#C8D4E3",
             "startlinecolor": "#2a3f5f"
            },
            "baxis": {
             "endlinecolor": "#2a3f5f",
             "gridcolor": "#C8D4E3",
             "linecolor": "#C8D4E3",
             "minorgridcolor": "#C8D4E3",
             "startlinecolor": "#2a3f5f"
            },
            "type": "carpet"
           }
          ],
          "choropleth": [
           {
            "colorbar": {
             "outlinewidth": 0,
             "ticks": ""
            },
            "type": "choropleth"
           }
          ],
          "contour": [
           {
            "colorbar": {
             "outlinewidth": 0,
             "ticks": ""
            },
            "colorscale": [
             [
              0.0,
              "#0d0887"
             ],
             [
              0.1111111111111111,
              "#46039f"
             ],
             [
              0.2222222222222222,
              "#7201a8"
             ],
             [
              0.3333333333333333,
              "#9c179e"
             ],
             [
              0.4444444444444444,
              "#bd3786"
             ],
             [
              0.5555555555555556,
              "#d8576b"
             ],
             [
              0.6666666666666666,
              "#ed7953"
             ],
             [
              0.7777777777777778,
              "#fb9f3a"
             ],
             [
              0.8888888888888888,
              "#fdca26"
             ],
             [
              1.0,
              "#f0f921"
             ]
            ],
            "type": "contour"
           }
          ],
          "contourcarpet": [
           {
            "colorbar": {
             "outlinewidth": 0,
             "ticks": ""
            },
            "type": "contourcarpet"
           }
          ],
          "heatmap": [
           {
            "colorbar": {
             "outlinewidth": 0,
             "ticks": ""
            },
            "colorscale": [
             [
              0.0,
              "#0d0887"
             ],
             [
              0.1111111111111111,
              "#46039f"
             ],
             [
              0.2222222222222222,
              "#7201a8"
             ],
             [
              0.3333333333333333,
              "#9c179e"
             ],
             [
              0.4444444444444444,
              "#bd3786"
             ],
             [
              0.5555555555555556,
              "#d8576b"
             ],
             [
              0.6666666666666666,
              "#ed7953"
             ],
             [
              0.7777777777777778,
              "#fb9f3a"
             ],
             [
              0.8888888888888888,
              "#fdca26"
             ],
             [
              1.0,
              "#f0f921"
             ]
            ],
            "type": "heatmap"
           }
          ],
          "histogram": [
           {
            "marker": {
             "pattern": {
              "fillmode": "overlay",
              "size": 10,
              "solidity": 0.2
             }
            },
            "type": "histogram"
           }
          ],
          "histogram2d": [
           {
            "colorbar": {
             "outlinewidth": 0,
             "ticks": ""
            },
            "colorscale": [
             [
              0.0,
              "#0d0887"
             ],
             [
              0.1111111111111111,
              "#46039f"
             ],
             [
              0.2222222222222222,
              "#7201a8"
             ],
             [
              0.3333333333333333,
              "#9c179e"
             ],
             [
              0.4444444444444444,
              "#bd3786"
             ],
             [
              0.5555555555555556,
              "#d8576b"
             ],
             [
              0.6666666666666666,
              "#ed7953"
             ],
             [
              0.7777777777777778,
              "#fb9f3a"
             ],
             [
              0.8888888888888888,
              "#fdca26"
             ],
             [
              1.0,
              "#f0f921"
             ]
            ],
            "type": "histogram2d"
           }
          ],
          "histogram2dcontour": [
           {
            "colorbar": {
             "outlinewidth": 0,
             "ticks": ""
            },
            "colorscale": [
             [
              0.0,
              "#0d0887"
             ],
             [
              0.1111111111111111,
              "#46039f"
             ],
             [
              0.2222222222222222,
              "#7201a8"
             ],
             [
              0.3333333333333333,
              "#9c179e"
             ],
             [
              0.4444444444444444,
              "#bd3786"
             ],
             [
              0.5555555555555556,
              "#d8576b"
             ],
             [
              0.6666666666666666,
              "#ed7953"
             ],
             [
              0.7777777777777778,
              "#fb9f3a"
             ],
             [
              0.8888888888888888,
              "#fdca26"
             ],
             [
              1.0,
              "#f0f921"
             ]
            ],
            "type": "histogram2dcontour"
           }
          ],
          "mesh3d": [
           {
            "colorbar": {
             "outlinewidth": 0,
             "ticks": ""
            },
            "type": "mesh3d"
           }
          ],
          "parcoords": [
           {
            "line": {
             "colorbar": {
              "outlinewidth": 0,
              "ticks": ""
             }
            },
            "type": "parcoords"
           }
          ],
          "pie": [
           {
            "automargin": true,
            "type": "pie"
           }
          ],
          "scatter": [
           {
            "fillpattern": {
             "fillmode": "overlay",
             "size": 10,
             "solidity": 0.2
            },
            "type": "scatter"
           }
          ],
          "scatter3d": [
           {
            "line": {
             "colorbar": {
              "outlinewidth": 0,
              "ticks": ""
             }
            },
            "marker": {
             "colorbar": {
              "outlinewidth": 0,
              "ticks": ""
             }
            },
            "type": "scatter3d"
           }
          ],
          "scattercarpet": [
           {
            "marker": {
             "colorbar": {
              "outlinewidth": 0,
              "ticks": ""
             }
            },
            "type": "scattercarpet"
           }
          ],
          "scattergeo": [
           {
            "marker": {
             "colorbar": {
              "outlinewidth": 0,
              "ticks": ""
             }
            },
            "type": "scattergeo"
           }
          ],
          "scattergl": [
           {
            "marker": {
             "colorbar": {
              "outlinewidth": 0,
              "ticks": ""
             }
            },
            "type": "scattergl"
           }
          ],
          "scattermap": [
           {
            "marker": {
             "colorbar": {
              "outlinewidth": 0,
              "ticks": ""
             }
            },
            "type": "scattermap"
           }
          ],
          "scattermapbox": [
           {
            "marker": {
             "colorbar": {
              "outlinewidth": 0,
              "ticks": ""
             }
            },
            "type": "scattermapbox"
           }
          ],
          "scatterpolar": [
           {
            "marker": {
             "colorbar": {
              "outlinewidth": 0,
              "ticks": ""
             }
            },
            "type": "scatterpolar"
           }
          ],
          "scatterpolargl": [
           {
            "marker": {
             "colorbar": {
              "outlinewidth": 0,
              "ticks": ""
             }
            },
            "type": "scatterpolargl"
           }
          ],
          "scatterternary": [
           {
            "marker": {
             "colorbar": {
              "outlinewidth": 0,
              "ticks": ""
             }
            },
            "type": "scatterternary"
           }
          ],
          "surface": [
           {
            "colorbar": {
             "outlinewidth": 0,
             "ticks": ""
            },
            "colorscale": [
             [
              0.0,
              "#0d0887"
             ],
             [
              0.1111111111111111,
              "#46039f"
             ],
             [
              0.2222222222222222,
              "#7201a8"
             ],
             [
              0.3333333333333333,
              "#9c179e"
             ],
             [
              0.4444444444444444,
              "#bd3786"
             ],
             [
              0.5555555555555556,
              "#d8576b"
             ],
             [
              0.6666666666666666,
              "#ed7953"
             ],
             [
              0.7777777777777778,
              "#fb9f3a"
             ],
             [
              0.8888888888888888,
              "#fdca26"
             ],
             [
              1.0,
              "#f0f921"
             ]
            ],
            "type": "surface"
           }
          ],
          "table": [
           {
            "cells": {
             "fill": {
              "color": "#EBF0F8"
             },
             "line": {
              "color": "white"
             }
            },
            "header": {
             "fill": {
              "color": "#C8D4E3"
             },
             "line": {
              "color": "white"
             }
            },
            "type": "table"
           }
          ]
         },
         "layout": {
          "annotationdefaults": {
           "arrowcolor": "#2a3f5f",
           "arrowhead": 0,
           "arrowwidth": 1
          },
          "autotypenumbers": "strict",
          "coloraxis": {
           "colorbar": {
            "outlinewidth": 0,
            "ticks": ""
           }
          },
          "colorscale": {
           "diverging": [
            [
             0,
             "#8e0152"
            ],
            [
             0.1,
             "#c51b7d"
            ],
            [
             0.2,
             "#de77ae"
            ],
            [
             0.3,
             "#f1b6da"
            ],
            [
             0.4,
             "#fde0ef"
            ],
            [
             0.5,
             "#f7f7f7"
            ],
            [
             0.6,
             "#e6f5d0"
            ],
            [
             0.7,
             "#b8e186"
            ],
            [
             0.8,
             "#7fbc41"
            ],
            [
             0.9,
             "#4d9221"
            ],
            [
             1,
             "#276419"
            ]
           ],
           "sequential": [
            [
             0.0,
             "#0d0887"
            ],
            [
             0.1111111111111111,
             "#46039f"
            ],
            [
             0.2222222222222222,
             "#7201a8"
            ],
            [
             0.3333333333333333,
             "#9c179e"
            ],
            [
             0.4444444444444444,
             "#bd3786"
            ],
            [
             0.5555555555555556,
             "#d8576b"
            ],
            [
             0.6666666666666666,
             "#ed7953"
            ],
            [
             0.7777777777777778,
             "#fb9f3a"
            ],
            [
             0.8888888888888888,
             "#fdca26"
            ],
            [
             1.0,
             "#f0f921"
            ]
           ],
           "sequentialminus": [
            [
             0.0,
             "#0d0887"
            ],
            [
             0.1111111111111111,
             "#46039f"
            ],
            [
             0.2222222222222222,
             "#7201a8"
            ],
            [
             0.3333333333333333,
             "#9c179e"
            ],
            [
             0.4444444444444444,
             "#bd3786"
            ],
            [
             0.5555555555555556,
             "#d8576b"
            ],
            [
             0.6666666666666666,
             "#ed7953"
            ],
            [
             0.7777777777777778,
             "#fb9f3a"
            ],
            [
             0.8888888888888888,
             "#fdca26"
            ],
            [
             1.0,
             "#f0f921"
            ]
           ]
          },
          "colorway": [
           "#636efa",
           "#EF553B",
           "#00cc96",
           "#ab63fa",
           "#FFA15A",
           "#19d3f3",
           "#FF6692",
           "#B6E880",
           "#FF97FF",
           "#FECB52"
          ],
          "font": {
           "color": "#2a3f5f"
          },
          "geo": {
           "bgcolor": "white",
           "lakecolor": "white",
           "landcolor": "white",
           "showlakes": true,
           "showland": true,
           "subunitcolor": "#C8D4E3"
          },
          "hoverlabel": {
           "align": "left"
          },
          "hovermode": "closest",
          "mapbox": {
           "style": "light"
          },
          "paper_bgcolor": "white",
          "plot_bgcolor": "white",
          "polar": {
           "angularaxis": {
            "gridcolor": "#EBF0F8",
            "linecolor": "#EBF0F8",
            "ticks": ""
           },
           "bgcolor": "white",
           "radialaxis": {
            "gridcolor": "#EBF0F8",
            "linecolor": "#EBF0F8",
            "ticks": ""
           }
          },
          "scene": {
           "xaxis": {
            "backgroundcolor": "white",
            "gridcolor": "#DFE8F3",
            "gridwidth": 2,
            "linecolor": "#EBF0F8",
            "showbackground": true,
            "ticks": "",
            "zerolinecolor": "#EBF0F8"
           },
           "yaxis": {
            "backgroundcolor": "white",
            "gridcolor": "#DFE8F3",
            "gridwidth": 2,
            "linecolor": "#EBF0F8",
            "showbackground": true,
            "ticks": "",
            "zerolinecolor": "#EBF0F8"
           },
           "zaxis": {
            "backgroundcolor": "white",
            "gridcolor": "#DFE8F3",
            "gridwidth": 2,
            "linecolor": "#EBF0F8",
            "showbackground": true,
            "ticks": "",
            "zerolinecolor": "#EBF0F8"
           }
          },
          "shapedefaults": {
           "line": {
            "color": "#2a3f5f"
           }
          },
          "ternary": {
           "aaxis": {
            "gridcolor": "#DFE8F3",
            "linecolor": "#A2B1C6",
            "ticks": ""
           },
           "baxis": {
            "gridcolor": "#DFE8F3",
            "linecolor": "#A2B1C6",
            "ticks": ""
           },
           "bgcolor": "white",
           "caxis": {
            "gridcolor": "#DFE8F3",
            "linecolor": "#A2B1C6",
            "ticks": ""
           }
          },
          "title": {
           "x": 0.05
          },
          "xaxis": {
           "automargin": true,
           "gridcolor": "#EBF0F8",
           "linecolor": "#EBF0F8",
           "ticks": "",
           "title": {
            "standoff": 15
           },
           "zerolinecolor": "#EBF0F8",
           "zerolinewidth": 2
          },
          "yaxis": {
           "automargin": true,
           "gridcolor": "#EBF0F8",
           "linecolor": "#EBF0F8",
           "ticks": "",
           "title": {
            "standoff": 15
           },
           "zerolinecolor": "#EBF0F8",
           "zerolinewidth": 2
          }
         }
        },
        "title": {
         "font": {
          "size": 20
         },
         "text": "⭐ Feature Importance - 合成注入",
         "x": 0.5,
         "xanchor": "center"
        },
        "width": 900,
        "xaxis": {
         "title": {
          "text": "Importance"
         }
        },
        "yaxis": {
         "autorange": "reversed",
         "title": {
          "text": "Feature"
         }
        }
       }
      }
     },
     "metadata": {},
     "output_type": "display_data"
    },
    {
     "name": "stdout",
     "output_type": "stream",
     "text": [
      "✅ Feature importance saved: docs\\feature_importance_supervised.html\n"
     ]
    },
    {
     "data": {
      "application/vnd.plotly.v1+json": {
       "config": {
        "plotlyServerURL": "https://plot.ly"
       },
       "data": [
        {
         "hovertemplate": "%{y}<br>Importance: %{x:.4f}<extra></extra>",
         "marker": {
          "color": [
           "rgba(52, 152, 219, 0.7)",
           "rgba(52, 152, 219, 0.7)",
           "rgba(52, 152, 219, 0.7)",
           "rgba(52, 152, 219, 0.7)",
           "rgba(52, 152, 219, 0.7)",
           "rgba(52, 152, 219, 0.7)",
           "rgba(52, 152, 219, 0.7)",
           "rgba(231, 76, 60, 0.7)",
           "rgba(231, 76, 60, 0.7)",
           "rgba(231, 76, 60, 0.7)",
           "rgba(231, 76, 60, 0.7)",
           "rgba(231, 76, 60, 0.7)",
           "rgba(231, 76, 60, 0.7)",
           "rgba(231, 76, 60, 0.7)"
          ]
         },
         "orientation": "h",
         "type": "bar",
         "x": {
          "bdata": "QVnI2yuRyj/C/UYBHFnAP/phS9Czs7k/ruK4wgTyuD8c5Xrmvwm1P9umlN3qibM/O13quCCHrz/1wfxYyBCpP+dKCrHa36c/WK5Zo/3Ipz8Z250N/ceeP9ifBcUFAJw/HN5SE6i7mz9se6kIBsOUPw==",
          "dtype": "f8"
         },
         "y": [
          "flux_kurtosis",
          "tls_depth",
          "bls_snr",
          "duration_ratio",
          "flux_skew",
          "tls_period",
          "flux_mad",
          "bls_depth",
          "flux_std",
          "tls_duration",
          "period_ratio",
          "bls_duration",
          "bls_period",
          "tls_snr"
         ]
        }
       ],
       "layout": {
        "height": 600,
        "hovermode": "closest",
        "template": {
         "data": {
          "bar": [
           {
            "error_x": {
             "color": "#2a3f5f"
            },
            "error_y": {
             "color": "#2a3f5f"
            },
            "marker": {
             "line": {
              "color": "white",
              "width": 0.5
             },
             "pattern": {
              "fillmode": "overlay",
              "size": 10,
              "solidity": 0.2
             }
            },
            "type": "bar"
           }
          ],
          "barpolar": [
           {
            "marker": {
             "line": {
              "color": "white",
              "width": 0.5
             },
             "pattern": {
              "fillmode": "overlay",
              "size": 10,
              "solidity": 0.2
             }
            },
            "type": "barpolar"
           }
          ],
          "carpet": [
           {
            "aaxis": {
             "endlinecolor": "#2a3f5f",
             "gridcolor": "#C8D4E3",
             "linecolor": "#C8D4E3",
             "minorgridcolor": "#C8D4E3",
             "startlinecolor": "#2a3f5f"
            },
            "baxis": {
             "endlinecolor": "#2a3f5f",
             "gridcolor": "#C8D4E3",
             "linecolor": "#C8D4E3",
             "minorgridcolor": "#C8D4E3",
             "startlinecolor": "#2a3f5f"
            },
            "type": "carpet"
           }
          ],
          "choropleth": [
           {
            "colorbar": {
             "outlinewidth": 0,
             "ticks": ""
            },
            "type": "choropleth"
           }
          ],
          "contour": [
           {
            "colorbar": {
             "outlinewidth": 0,
             "ticks": ""
            },
            "colorscale": [
             [
              0.0,
              "#0d0887"
             ],
             [
              0.1111111111111111,
              "#46039f"
             ],
             [
              0.2222222222222222,
              "#7201a8"
             ],
             [
              0.3333333333333333,
              "#9c179e"
             ],
             [
              0.4444444444444444,
              "#bd3786"
             ],
             [
              0.5555555555555556,
              "#d8576b"
             ],
             [
              0.6666666666666666,
              "#ed7953"
             ],
             [
              0.7777777777777778,
              "#fb9f3a"
             ],
             [
              0.8888888888888888,
              "#fdca26"
             ],
             [
              1.0,
              "#f0f921"
             ]
            ],
            "type": "contour"
           }
          ],
          "contourcarpet": [
           {
            "colorbar": {
             "outlinewidth": 0,
             "ticks": ""
            },
            "type": "contourcarpet"
           }
          ],
          "heatmap": [
           {
            "colorbar": {
             "outlinewidth": 0,
             "ticks": ""
            },
            "colorscale": [
             [
              0.0,
              "#0d0887"
             ],
             [
              0.1111111111111111,
              "#46039f"
             ],
             [
              0.2222222222222222,
              "#7201a8"
             ],
             [
              0.3333333333333333,
              "#9c179e"
             ],
             [
              0.4444444444444444,
              "#bd3786"
             ],
             [
              0.5555555555555556,
              "#d8576b"
             ],
             [
              0.6666666666666666,
              "#ed7953"
             ],
             [
              0.7777777777777778,
              "#fb9f3a"
             ],
             [
              0.8888888888888888,
              "#fdca26"
             ],
             [
              1.0,
              "#f0f921"
             ]
            ],
            "type": "heatmap"
           }
          ],
          "histogram": [
           {
            "marker": {
             "pattern": {
              "fillmode": "overlay",
              "size": 10,
              "solidity": 0.2
             }
            },
            "type": "histogram"
           }
          ],
          "histogram2d": [
           {
            "colorbar": {
             "outlinewidth": 0,
             "ticks": ""
            },
            "colorscale": [
             [
              0.0,
              "#0d0887"
             ],
             [
              0.1111111111111111,
              "#46039f"
             ],
             [
              0.2222222222222222,
              "#7201a8"
             ],
             [
              0.3333333333333333,
              "#9c179e"
             ],
             [
              0.4444444444444444,
              "#bd3786"
             ],
             [
              0.5555555555555556,
              "#d8576b"
             ],
             [
              0.6666666666666666,
              "#ed7953"
             ],
             [
              0.7777777777777778,
              "#fb9f3a"
             ],
             [
              0.8888888888888888,
              "#fdca26"
             ],
             [
              1.0,
              "#f0f921"
             ]
            ],
            "type": "histogram2d"
           }
          ],
          "histogram2dcontour": [
           {
            "colorbar": {
             "outlinewidth": 0,
             "ticks": ""
            },
            "colorscale": [
             [
              0.0,
              "#0d0887"
             ],
             [
              0.1111111111111111,
              "#46039f"
             ],
             [
              0.2222222222222222,
              "#7201a8"
             ],
             [
              0.3333333333333333,
              "#9c179e"
             ],
             [
              0.4444444444444444,
              "#bd3786"
             ],
             [
              0.5555555555555556,
              "#d8576b"
             ],
             [
              0.6666666666666666,
              "#ed7953"
             ],
             [
              0.7777777777777778,
              "#fb9f3a"
             ],
             [
              0.8888888888888888,
              "#fdca26"
             ],
             [
              1.0,
              "#f0f921"
             ]
            ],
            "type": "histogram2dcontour"
           }
          ],
          "mesh3d": [
           {
            "colorbar": {
             "outlinewidth": 0,
             "ticks": ""
            },
            "type": "mesh3d"
           }
          ],
          "parcoords": [
           {
            "line": {
             "colorbar": {
              "outlinewidth": 0,
              "ticks": ""
             }
            },
            "type": "parcoords"
           }
          ],
          "pie": [
           {
            "automargin": true,
            "type": "pie"
           }
          ],
          "scatter": [
           {
            "fillpattern": {
             "fillmode": "overlay",
             "size": 10,
             "solidity": 0.2
            },
            "type": "scatter"
           }
          ],
          "scatter3d": [
           {
            "line": {
             "colorbar": {
              "outlinewidth": 0,
              "ticks": ""
             }
            },
            "marker": {
             "colorbar": {
              "outlinewidth": 0,
              "ticks": ""
             }
            },
            "type": "scatter3d"
           }
          ],
          "scattercarpet": [
           {
            "marker": {
             "colorbar": {
              "outlinewidth": 0,
              "ticks": ""
             }
            },
            "type": "scattercarpet"
           }
          ],
          "scattergeo": [
           {
            "marker": {
             "colorbar": {
              "outlinewidth": 0,
              "ticks": ""
             }
            },
            "type": "scattergeo"
           }
          ],
          "scattergl": [
           {
            "marker": {
             "colorbar": {
              "outlinewidth": 0,
              "ticks": ""
             }
            },
            "type": "scattergl"
           }
          ],
          "scattermap": [
           {
            "marker": {
             "colorbar": {
              "outlinewidth": 0,
              "ticks": ""
             }
            },
            "type": "scattermap"
           }
          ],
          "scattermapbox": [
           {
            "marker": {
             "colorbar": {
              "outlinewidth": 0,
              "ticks": ""
             }
            },
            "type": "scattermapbox"
           }
          ],
          "scatterpolar": [
           {
            "marker": {
             "colorbar": {
              "outlinewidth": 0,
              "ticks": ""
             }
            },
            "type": "scatterpolar"
           }
          ],
          "scatterpolargl": [
           {
            "marker": {
             "colorbar": {
              "outlinewidth": 0,
              "ticks": ""
             }
            },
            "type": "scatterpolargl"
           }
          ],
          "scatterternary": [
           {
            "marker": {
             "colorbar": {
              "outlinewidth": 0,
              "ticks": ""
             }
            },
            "type": "scatterternary"
           }
          ],
          "surface": [
           {
            "colorbar": {
             "outlinewidth": 0,
             "ticks": ""
            },
            "colorscale": [
             [
              0.0,
              "#0d0887"
             ],
             [
              0.1111111111111111,
              "#46039f"
             ],
             [
              0.2222222222222222,
              "#7201a8"
             ],
             [
              0.3333333333333333,
              "#9c179e"
             ],
             [
              0.4444444444444444,
              "#bd3786"
             ],
             [
              0.5555555555555556,
              "#d8576b"
             ],
             [
              0.6666666666666666,
              "#ed7953"
             ],
             [
              0.7777777777777778,
              "#fb9f3a"
             ],
             [
              0.8888888888888888,
              "#fdca26"
             ],
             [
              1.0,
              "#f0f921"
             ]
            ],
            "type": "surface"
           }
          ],
          "table": [
           {
            "cells": {
             "fill": {
              "color": "#EBF0F8"
             },
             "line": {
              "color": "white"
             }
            },
            "header": {
             "fill": {
              "color": "#C8D4E3"
             },
             "line": {
              "color": "white"
             }
            },
            "type": "table"
           }
          ]
         },
         "layout": {
          "annotationdefaults": {
           "arrowcolor": "#2a3f5f",
           "arrowhead": 0,
           "arrowwidth": 1
          },
          "autotypenumbers": "strict",
          "coloraxis": {
           "colorbar": {
            "outlinewidth": 0,
            "ticks": ""
           }
          },
          "colorscale": {
           "diverging": [
            [
             0,
             "#8e0152"
            ],
            [
             0.1,
             "#c51b7d"
            ],
            [
             0.2,
             "#de77ae"
            ],
            [
             0.3,
             "#f1b6da"
            ],
            [
             0.4,
             "#fde0ef"
            ],
            [
             0.5,
             "#f7f7f7"
            ],
            [
             0.6,
             "#e6f5d0"
            ],
            [
             0.7,
             "#b8e186"
            ],
            [
             0.8,
             "#7fbc41"
            ],
            [
             0.9,
             "#4d9221"
            ],
            [
             1,
             "#276419"
            ]
           ],
           "sequential": [
            [
             0.0,
             "#0d0887"
            ],
            [
             0.1111111111111111,
             "#46039f"
            ],
            [
             0.2222222222222222,
             "#7201a8"
            ],
            [
             0.3333333333333333,
             "#9c179e"
            ],
            [
             0.4444444444444444,
             "#bd3786"
            ],
            [
             0.5555555555555556,
             "#d8576b"
            ],
            [
             0.6666666666666666,
             "#ed7953"
            ],
            [
             0.7777777777777778,
             "#fb9f3a"
            ],
            [
             0.8888888888888888,
             "#fdca26"
            ],
            [
             1.0,
             "#f0f921"
            ]
           ],
           "sequentialminus": [
            [
             0.0,
             "#0d0887"
            ],
            [
             0.1111111111111111,
             "#46039f"
            ],
            [
             0.2222222222222222,
             "#7201a8"
            ],
            [
             0.3333333333333333,
             "#9c179e"
            ],
            [
             0.4444444444444444,
             "#bd3786"
            ],
            [
             0.5555555555555556,
             "#d8576b"
            ],
            [
             0.6666666666666666,
             "#ed7953"
            ],
            [
             0.7777777777777778,
             "#fb9f3a"
            ],
            [
             0.8888888888888888,
             "#fdca26"
            ],
            [
             1.0,
             "#f0f921"
            ]
           ]
          },
          "colorway": [
           "#636efa",
           "#EF553B",
           "#00cc96",
           "#ab63fa",
           "#FFA15A",
           "#19d3f3",
           "#FF6692",
           "#B6E880",
           "#FF97FF",
           "#FECB52"
          ],
          "font": {
           "color": "#2a3f5f"
          },
          "geo": {
           "bgcolor": "white",
           "lakecolor": "white",
           "landcolor": "white",
           "showlakes": true,
           "showland": true,
           "subunitcolor": "#C8D4E3"
          },
          "hoverlabel": {
           "align": "left"
          },
          "hovermode": "closest",
          "mapbox": {
           "style": "light"
          },
          "paper_bgcolor": "white",
          "plot_bgcolor": "white",
          "polar": {
           "angularaxis": {
            "gridcolor": "#EBF0F8",
            "linecolor": "#EBF0F8",
            "ticks": ""
           },
           "bgcolor": "white",
           "radialaxis": {
            "gridcolor": "#EBF0F8",
            "linecolor": "#EBF0F8",
            "ticks": ""
           }
          },
          "scene": {
           "xaxis": {
            "backgroundcolor": "white",
            "gridcolor": "#DFE8F3",
            "gridwidth": 2,
            "linecolor": "#EBF0F8",
            "showbackground": true,
            "ticks": "",
            "zerolinecolor": "#EBF0F8"
           },
           "yaxis": {
            "backgroundcolor": "white",
            "gridcolor": "#DFE8F3",
            "gridwidth": 2,
            "linecolor": "#EBF0F8",
            "showbackground": true,
            "ticks": "",
            "zerolinecolor": "#EBF0F8"
           },
           "zaxis": {
            "backgroundcolor": "white",
            "gridcolor": "#DFE8F3",
            "gridwidth": 2,
            "linecolor": "#EBF0F8",
            "showbackground": true,
            "ticks": "",
            "zerolinecolor": "#EBF0F8"
           }
          },
          "shapedefaults": {
           "line": {
            "color": "#2a3f5f"
           }
          },
          "ternary": {
           "aaxis": {
            "gridcolor": "#DFE8F3",
            "linecolor": "#A2B1C6",
            "ticks": ""
           },
           "baxis": {
            "gridcolor": "#DFE8F3",
            "linecolor": "#A2B1C6",
            "ticks": ""
           },
           "bgcolor": "white",
           "caxis": {
            "gridcolor": "#DFE8F3",
            "linecolor": "#A2B1C6",
            "ticks": ""
           }
          },
          "title": {
           "x": 0.05
          },
          "xaxis": {
           "automargin": true,
           "gridcolor": "#EBF0F8",
           "linecolor": "#EBF0F8",
           "ticks": "",
           "title": {
            "standoff": 15
           },
           "zerolinecolor": "#EBF0F8",
           "zerolinewidth": 2
          },
          "yaxis": {
           "automargin": true,
           "gridcolor": "#EBF0F8",
           "linecolor": "#EBF0F8",
           "ticks": "",
           "title": {
            "standoff": 15
           },
           "zerolinecolor": "#EBF0F8",
           "zerolinewidth": 2
          }
         }
        },
        "title": {
         "font": {
          "size": 20
         },
         "text": "⭐ Feature Importance - 監督式",
         "x": 0.5,
         "xanchor": "center"
        },
        "width": 900,
        "xaxis": {
         "title": {
          "text": "Importance"
         }
        },
        "yaxis": {
         "autorange": "reversed",
         "title": {
          "text": "Feature"
         }
        }
       }
      }
     },
     "metadata": {},
     "output_type": "display_data"
    },
    {
     "name": "stdout",
     "output_type": "stream",
     "text": [
      "✅ 互動式特徵重要性已儲存至 docs/feature_importance_*.html\n"
     ]
    }
   ],
   "source": [
    "# 創建模擬特徵重要性（實際應用中從真實模型取得）\n",
    "feature_names = [\n",
    "    'bls_period', 'bls_duration', 'bls_depth', 'bls_snr',\n",
    "    'tls_period', 'tls_duration', 'tls_depth', 'tls_snr',\n",
    "    'flux_std', 'flux_mad', 'flux_skew', 'flux_kurtosis',\n",
    "    'period_ratio', 'duration_ratio'\n",
    "]\n",
    "\n",
    "# 模擬特徵重要性\n",
    "np.random.seed(42)\n",
    "importances_synthetic = np.random.exponential(0.1, size=14)\n",
    "importances_synthetic = importances_synthetic / importances_synthetic.sum()\n",
    "\n",
    "importances_supervised = np.random.exponential(0.12, size=14)\n",
    "importances_supervised = importances_supervised / importances_supervised.sum()\n",
    "\n",
    "fig_fi_syn = create_interactive_feature_importance(\n",
    "    feature_names,\n",
    "    importances_synthetic,\n",
    "    model_name=\"合成注入\",\n",
    "    top_n=14,\n",
    "    output_path=\"docs/feature_importance_synthetic.html\"\n",
    ")\n",
    "fig_fi_syn.show()\n",
    "\n",
    "fig_fi_sup = create_interactive_feature_importance(\n",
    "    feature_names,\n",
    "    importances_supervised,\n",
    "    model_name=\"監督式\",\n",
    "    top_n=14,\n",
    "    output_path=\"docs/feature_importance_supervised.html\"\n",
    ")\n",
    "fig_fi_sup.show()\n",
    "\n",
    "print(\"✅ 互動式特徵重要性已儲存至 docs/feature_importance_*.html\")"
   ]
  },
  {
   "cell_type": "markdown",
   "id": "6084e919",
   "metadata": {
    "papermill": {
     "duration": 0.019186,
     "end_time": "2025-09-29T22:11:27.501012",
     "exception": false,
     "start_time": "2025-09-29T22:11:27.481826",
     "status": "completed"
    },
    "tags": []
   },
   "source": [
    "### 10.5 互動式特徵重要性 ⭐"
   ]
  },
  {
   "cell_type": "code",
   "execution_count": 22,
   "id": "a8d9693a",
   "metadata": {
    "execution": {
     "iopub.execute_input": "2025-09-29T22:11:27.536370Z",
     "iopub.status.busy": "2025-09-29T22:11:27.536055Z",
     "iopub.status.idle": "2025-09-29T22:11:27.693071Z",
     "shell.execute_reply": "2025-09-29T22:11:27.692575Z"
    },
    "papermill": {
     "duration": 0.175722,
     "end_time": "2025-09-29T22:11:27.693887",
     "exception": false,
     "start_time": "2025-09-29T22:11:27.518165",
     "status": "completed"
    },
    "tags": []
   },
   "outputs": [
    {
     "name": "stdout",
     "output_type": "stream",
     "text": [
      "✅ Confusion matrix saved: docs\\confusion_matrix_synthetic.html\n"
     ]
    },
    {
     "data": {
      "application/vnd.plotly.v1+json": {
       "config": {
        "plotlyServerURL": "https://plot.ly"
       },
       "data": [
        {
         "colorscale": [
          [
           0.0,
           "rgb(247,251,255)"
          ],
          [
           0.125,
           "rgb(222,235,247)"
          ],
          [
           0.25,
           "rgb(198,219,239)"
          ],
          [
           0.375,
           "rgb(158,202,225)"
          ],
          [
           0.5,
           "rgb(107,174,214)"
          ],
          [
           0.625,
           "rgb(66,146,198)"
          ],
          [
           0.75,
           "rgb(33,113,181)"
          ],
          [
           0.875,
           "rgb(8,81,156)"
          ],
          [
           1.0,
           "rgb(8,48,107)"
          ]
         ],
         "hovertemplate": "%{y}<br>%{x}<br>Count: %{z}<extra></extra>",
         "showscale": true,
         "type": "heatmap",
         "x": [
          "Predicted Negative",
          "Predicted Positive"
         ],
         "y": [
          "Actual Negative",
          "Actual Positive"
         ],
         "z": {
          "bdata": "UAEJAAIAmQA=",
          "dtype": "i2",
          "shape": "2, 2"
         }
        }
       ],
       "layout": {
        "annotations": [
         {
          "font": {
           "color": "white",
           "size": 14
          },
          "showarrow": false,
          "text": "336<br>(97.4%)",
          "x": 0,
          "y": 0
         },
         {
          "font": {
           "color": "black",
           "size": 14
          },
          "showarrow": false,
          "text": "9<br>(2.6%)",
          "x": 1,
          "y": 0
         },
         {
          "font": {
           "color": "black",
           "size": 14
          },
          "showarrow": false,
          "text": "2<br>(1.3%)",
          "x": 0,
          "y": 1
         },
         {
          "font": {
           "color": "black",
           "size": 14
          },
          "showarrow": false,
          "text": "153<br>(98.7%)",
          "x": 1,
          "y": 1
         }
        ],
        "height": 700,
        "template": {
         "data": {
          "bar": [
           {
            "error_x": {
             "color": "#2a3f5f"
            },
            "error_y": {
             "color": "#2a3f5f"
            },
            "marker": {
             "line": {
              "color": "white",
              "width": 0.5
             },
             "pattern": {
              "fillmode": "overlay",
              "size": 10,
              "solidity": 0.2
             }
            },
            "type": "bar"
           }
          ],
          "barpolar": [
           {
            "marker": {
             "line": {
              "color": "white",
              "width": 0.5
             },
             "pattern": {
              "fillmode": "overlay",
              "size": 10,
              "solidity": 0.2
             }
            },
            "type": "barpolar"
           }
          ],
          "carpet": [
           {
            "aaxis": {
             "endlinecolor": "#2a3f5f",
             "gridcolor": "#C8D4E3",
             "linecolor": "#C8D4E3",
             "minorgridcolor": "#C8D4E3",
             "startlinecolor": "#2a3f5f"
            },
            "baxis": {
             "endlinecolor": "#2a3f5f",
             "gridcolor": "#C8D4E3",
             "linecolor": "#C8D4E3",
             "minorgridcolor": "#C8D4E3",
             "startlinecolor": "#2a3f5f"
            },
            "type": "carpet"
           }
          ],
          "choropleth": [
           {
            "colorbar": {
             "outlinewidth": 0,
             "ticks": ""
            },
            "type": "choropleth"
           }
          ],
          "contour": [
           {
            "colorbar": {
             "outlinewidth": 0,
             "ticks": ""
            },
            "colorscale": [
             [
              0.0,
              "#0d0887"
             ],
             [
              0.1111111111111111,
              "#46039f"
             ],
             [
              0.2222222222222222,
              "#7201a8"
             ],
             [
              0.3333333333333333,
              "#9c179e"
             ],
             [
              0.4444444444444444,
              "#bd3786"
             ],
             [
              0.5555555555555556,
              "#d8576b"
             ],
             [
              0.6666666666666666,
              "#ed7953"
             ],
             [
              0.7777777777777778,
              "#fb9f3a"
             ],
             [
              0.8888888888888888,
              "#fdca26"
             ],
             [
              1.0,
              "#f0f921"
             ]
            ],
            "type": "contour"
           }
          ],
          "contourcarpet": [
           {
            "colorbar": {
             "outlinewidth": 0,
             "ticks": ""
            },
            "type": "contourcarpet"
           }
          ],
          "heatmap": [
           {
            "colorbar": {
             "outlinewidth": 0,
             "ticks": ""
            },
            "colorscale": [
             [
              0.0,
              "#0d0887"
             ],
             [
              0.1111111111111111,
              "#46039f"
             ],
             [
              0.2222222222222222,
              "#7201a8"
             ],
             [
              0.3333333333333333,
              "#9c179e"
             ],
             [
              0.4444444444444444,
              "#bd3786"
             ],
             [
              0.5555555555555556,
              "#d8576b"
             ],
             [
              0.6666666666666666,
              "#ed7953"
             ],
             [
              0.7777777777777778,
              "#fb9f3a"
             ],
             [
              0.8888888888888888,
              "#fdca26"
             ],
             [
              1.0,
              "#f0f921"
             ]
            ],
            "type": "heatmap"
           }
          ],
          "histogram": [
           {
            "marker": {
             "pattern": {
              "fillmode": "overlay",
              "size": 10,
              "solidity": 0.2
             }
            },
            "type": "histogram"
           }
          ],
          "histogram2d": [
           {
            "colorbar": {
             "outlinewidth": 0,
             "ticks": ""
            },
            "colorscale": [
             [
              0.0,
              "#0d0887"
             ],
             [
              0.1111111111111111,
              "#46039f"
             ],
             [
              0.2222222222222222,
              "#7201a8"
             ],
             [
              0.3333333333333333,
              "#9c179e"
             ],
             [
              0.4444444444444444,
              "#bd3786"
             ],
             [
              0.5555555555555556,
              "#d8576b"
             ],
             [
              0.6666666666666666,
              "#ed7953"
             ],
             [
              0.7777777777777778,
              "#fb9f3a"
             ],
             [
              0.8888888888888888,
              "#fdca26"
             ],
             [
              1.0,
              "#f0f921"
             ]
            ],
            "type": "histogram2d"
           }
          ],
          "histogram2dcontour": [
           {
            "colorbar": {
             "outlinewidth": 0,
             "ticks": ""
            },
            "colorscale": [
             [
              0.0,
              "#0d0887"
             ],
             [
              0.1111111111111111,
              "#46039f"
             ],
             [
              0.2222222222222222,
              "#7201a8"
             ],
             [
              0.3333333333333333,
              "#9c179e"
             ],
             [
              0.4444444444444444,
              "#bd3786"
             ],
             [
              0.5555555555555556,
              "#d8576b"
             ],
             [
              0.6666666666666666,
              "#ed7953"
             ],
             [
              0.7777777777777778,
              "#fb9f3a"
             ],
             [
              0.8888888888888888,
              "#fdca26"
             ],
             [
              1.0,
              "#f0f921"
             ]
            ],
            "type": "histogram2dcontour"
           }
          ],
          "mesh3d": [
           {
            "colorbar": {
             "outlinewidth": 0,
             "ticks": ""
            },
            "type": "mesh3d"
           }
          ],
          "parcoords": [
           {
            "line": {
             "colorbar": {
              "outlinewidth": 0,
              "ticks": ""
             }
            },
            "type": "parcoords"
           }
          ],
          "pie": [
           {
            "automargin": true,
            "type": "pie"
           }
          ],
          "scatter": [
           {
            "fillpattern": {
             "fillmode": "overlay",
             "size": 10,
             "solidity": 0.2
            },
            "type": "scatter"
           }
          ],
          "scatter3d": [
           {
            "line": {
             "colorbar": {
              "outlinewidth": 0,
              "ticks": ""
             }
            },
            "marker": {
             "colorbar": {
              "outlinewidth": 0,
              "ticks": ""
             }
            },
            "type": "scatter3d"
           }
          ],
          "scattercarpet": [
           {
            "marker": {
             "colorbar": {
              "outlinewidth": 0,
              "ticks": ""
             }
            },
            "type": "scattercarpet"
           }
          ],
          "scattergeo": [
           {
            "marker": {
             "colorbar": {
              "outlinewidth": 0,
              "ticks": ""
             }
            },
            "type": "scattergeo"
           }
          ],
          "scattergl": [
           {
            "marker": {
             "colorbar": {
              "outlinewidth": 0,
              "ticks": ""
             }
            },
            "type": "scattergl"
           }
          ],
          "scattermap": [
           {
            "marker": {
             "colorbar": {
              "outlinewidth": 0,
              "ticks": ""
             }
            },
            "type": "scattermap"
           }
          ],
          "scattermapbox": [
           {
            "marker": {
             "colorbar": {
              "outlinewidth": 0,
              "ticks": ""
             }
            },
            "type": "scattermapbox"
           }
          ],
          "scatterpolar": [
           {
            "marker": {
             "colorbar": {
              "outlinewidth": 0,
              "ticks": ""
             }
            },
            "type": "scatterpolar"
           }
          ],
          "scatterpolargl": [
           {
            "marker": {
             "colorbar": {
              "outlinewidth": 0,
              "ticks": ""
             }
            },
            "type": "scatterpolargl"
           }
          ],
          "scatterternary": [
           {
            "marker": {
             "colorbar": {
              "outlinewidth": 0,
              "ticks": ""
             }
            },
            "type": "scatterternary"
           }
          ],
          "surface": [
           {
            "colorbar": {
             "outlinewidth": 0,
             "ticks": ""
            },
            "colorscale": [
             [
              0.0,
              "#0d0887"
             ],
             [
              0.1111111111111111,
              "#46039f"
             ],
             [
              0.2222222222222222,
              "#7201a8"
             ],
             [
              0.3333333333333333,
              "#9c179e"
             ],
             [
              0.4444444444444444,
              "#bd3786"
             ],
             [
              0.5555555555555556,
              "#d8576b"
             ],
             [
              0.6666666666666666,
              "#ed7953"
             ],
             [
              0.7777777777777778,
              "#fb9f3a"
             ],
             [
              0.8888888888888888,
              "#fdca26"
             ],
             [
              1.0,
              "#f0f921"
             ]
            ],
            "type": "surface"
           }
          ],
          "table": [
           {
            "cells": {
             "fill": {
              "color": "#EBF0F8"
             },
             "line": {
              "color": "white"
             }
            },
            "header": {
             "fill": {
              "color": "#C8D4E3"
             },
             "line": {
              "color": "white"
             }
            },
            "type": "table"
           }
          ]
         },
         "layout": {
          "annotationdefaults": {
           "arrowcolor": "#2a3f5f",
           "arrowhead": 0,
           "arrowwidth": 1
          },
          "autotypenumbers": "strict",
          "coloraxis": {
           "colorbar": {
            "outlinewidth": 0,
            "ticks": ""
           }
          },
          "colorscale": {
           "diverging": [
            [
             0,
             "#8e0152"
            ],
            [
             0.1,
             "#c51b7d"
            ],
            [
             0.2,
             "#de77ae"
            ],
            [
             0.3,
             "#f1b6da"
            ],
            [
             0.4,
             "#fde0ef"
            ],
            [
             0.5,
             "#f7f7f7"
            ],
            [
             0.6,
             "#e6f5d0"
            ],
            [
             0.7,
             "#b8e186"
            ],
            [
             0.8,
             "#7fbc41"
            ],
            [
             0.9,
             "#4d9221"
            ],
            [
             1,
             "#276419"
            ]
           ],
           "sequential": [
            [
             0.0,
             "#0d0887"
            ],
            [
             0.1111111111111111,
             "#46039f"
            ],
            [
             0.2222222222222222,
             "#7201a8"
            ],
            [
             0.3333333333333333,
             "#9c179e"
            ],
            [
             0.4444444444444444,
             "#bd3786"
            ],
            [
             0.5555555555555556,
             "#d8576b"
            ],
            [
             0.6666666666666666,
             "#ed7953"
            ],
            [
             0.7777777777777778,
             "#fb9f3a"
            ],
            [
             0.8888888888888888,
             "#fdca26"
            ],
            [
             1.0,
             "#f0f921"
            ]
           ],
           "sequentialminus": [
            [
             0.0,
             "#0d0887"
            ],
            [
             0.1111111111111111,
             "#46039f"
            ],
            [
             0.2222222222222222,
             "#7201a8"
            ],
            [
             0.3333333333333333,
             "#9c179e"
            ],
            [
             0.4444444444444444,
             "#bd3786"
            ],
            [
             0.5555555555555556,
             "#d8576b"
            ],
            [
             0.6666666666666666,
             "#ed7953"
            ],
            [
             0.7777777777777778,
             "#fb9f3a"
            ],
            [
             0.8888888888888888,
             "#fdca26"
            ],
            [
             1.0,
             "#f0f921"
            ]
           ]
          },
          "colorway": [
           "#636efa",
           "#EF553B",
           "#00cc96",
           "#ab63fa",
           "#FFA15A",
           "#19d3f3",
           "#FF6692",
           "#B6E880",
           "#FF97FF",
           "#FECB52"
          ],
          "font": {
           "color": "#2a3f5f"
          },
          "geo": {
           "bgcolor": "white",
           "lakecolor": "white",
           "landcolor": "white",
           "showlakes": true,
           "showland": true,
           "subunitcolor": "#C8D4E3"
          },
          "hoverlabel": {
           "align": "left"
          },
          "hovermode": "closest",
          "mapbox": {
           "style": "light"
          },
          "paper_bgcolor": "white",
          "plot_bgcolor": "white",
          "polar": {
           "angularaxis": {
            "gridcolor": "#EBF0F8",
            "linecolor": "#EBF0F8",
            "ticks": ""
           },
           "bgcolor": "white",
           "radialaxis": {
            "gridcolor": "#EBF0F8",
            "linecolor": "#EBF0F8",
            "ticks": ""
           }
          },
          "scene": {
           "xaxis": {
            "backgroundcolor": "white",
            "gridcolor": "#DFE8F3",
            "gridwidth": 2,
            "linecolor": "#EBF0F8",
            "showbackground": true,
            "ticks": "",
            "zerolinecolor": "#EBF0F8"
           },
           "yaxis": {
            "backgroundcolor": "white",
            "gridcolor": "#DFE8F3",
            "gridwidth": 2,
            "linecolor": "#EBF0F8",
            "showbackground": true,
            "ticks": "",
            "zerolinecolor": "#EBF0F8"
           },
           "zaxis": {
            "backgroundcolor": "white",
            "gridcolor": "#DFE8F3",
            "gridwidth": 2,
            "linecolor": "#EBF0F8",
            "showbackground": true,
            "ticks": "",
            "zerolinecolor": "#EBF0F8"
           }
          },
          "shapedefaults": {
           "line": {
            "color": "#2a3f5f"
           }
          },
          "ternary": {
           "aaxis": {
            "gridcolor": "#DFE8F3",
            "linecolor": "#A2B1C6",
            "ticks": ""
           },
           "baxis": {
            "gridcolor": "#DFE8F3",
            "linecolor": "#A2B1C6",
            "ticks": ""
           },
           "bgcolor": "white",
           "caxis": {
            "gridcolor": "#DFE8F3",
            "linecolor": "#A2B1C6",
            "ticks": ""
           }
          },
          "title": {
           "x": 0.05
          },
          "xaxis": {
           "automargin": true,
           "gridcolor": "#EBF0F8",
           "linecolor": "#EBF0F8",
           "ticks": "",
           "title": {
            "standoff": 15
           },
           "zerolinecolor": "#EBF0F8",
           "zerolinewidth": 2
          },
          "yaxis": {
           "automargin": true,
           "gridcolor": "#EBF0F8",
           "linecolor": "#EBF0F8",
           "ticks": "",
           "title": {
            "standoff": 15
           },
           "zerolinecolor": "#EBF0F8",
           "zerolinewidth": 2
          }
         }
        },
        "title": {
         "font": {
          "size": 20
         },
         "text": "🎯 Confusion Matrix - 合成注入",
         "x": 0.5,
         "xanchor": "center"
        },
        "width": 700,
        "xaxis": {
         "title": {
          "text": "Predicted Label"
         }
        },
        "yaxis": {
         "title": {
          "text": "True Label"
         }
        }
       }
      }
     },
     "metadata": {},
     "output_type": "display_data"
    },
    {
     "name": "stdout",
     "output_type": "stream",
     "text": [
      "✅ Confusion matrix saved: docs\\confusion_matrix_supervised.html\n"
     ]
    },
    {
     "data": {
      "application/vnd.plotly.v1+json": {
       "config": {
        "plotlyServerURL": "https://plot.ly"
       },
       "data": [
        {
         "colorscale": [
          [
           0.0,
           "rgb(247,251,255)"
          ],
          [
           0.125,
           "rgb(222,235,247)"
          ],
          [
           0.25,
           "rgb(198,219,239)"
          ],
          [
           0.375,
           "rgb(158,202,225)"
          ],
          [
           0.5,
           "rgb(107,174,214)"
          ],
          [
           0.625,
           "rgb(66,146,198)"
          ],
          [
           0.75,
           "rgb(33,113,181)"
          ],
          [
           0.875,
           "rgb(8,81,156)"
          ],
          [
           1.0,
           "rgb(8,48,107)"
          ]
         ],
         "hovertemplate": "%{y}<br>%{x}<br>Count: %{z}<extra></extra>",
         "showscale": true,
         "type": "heatmap",
         "x": [
          "Predicted Negative",
          "Predicted Positive"
         ],
         "y": [
          "Actual Negative",
          "Actual Positive"
         ],
         "z": {
          "bdata": "NQEkAA8AjAA=",
          "dtype": "i2",
          "shape": "2, 2"
         }
        }
       ],
       "layout": {
        "annotations": [
         {
          "font": {
           "color": "white",
           "size": 14
          },
          "showarrow": false,
          "text": "309<br>(89.6%)",
          "x": 0,
          "y": 0
         },
         {
          "font": {
           "color": "black",
           "size": 14
          },
          "showarrow": false,
          "text": "36<br>(10.4%)",
          "x": 1,
          "y": 0
         },
         {
          "font": {
           "color": "black",
           "size": 14
          },
          "showarrow": false,
          "text": "15<br>(9.7%)",
          "x": 0,
          "y": 1
         },
         {
          "font": {
           "color": "black",
           "size": 14
          },
          "showarrow": false,
          "text": "140<br>(90.3%)",
          "x": 1,
          "y": 1
         }
        ],
        "height": 700,
        "template": {
         "data": {
          "bar": [
           {
            "error_x": {
             "color": "#2a3f5f"
            },
            "error_y": {
             "color": "#2a3f5f"
            },
            "marker": {
             "line": {
              "color": "white",
              "width": 0.5
             },
             "pattern": {
              "fillmode": "overlay",
              "size": 10,
              "solidity": 0.2
             }
            },
            "type": "bar"
           }
          ],
          "barpolar": [
           {
            "marker": {
             "line": {
              "color": "white",
              "width": 0.5
             },
             "pattern": {
              "fillmode": "overlay",
              "size": 10,
              "solidity": 0.2
             }
            },
            "type": "barpolar"
           }
          ],
          "carpet": [
           {
            "aaxis": {
             "endlinecolor": "#2a3f5f",
             "gridcolor": "#C8D4E3",
             "linecolor": "#C8D4E3",
             "minorgridcolor": "#C8D4E3",
             "startlinecolor": "#2a3f5f"
            },
            "baxis": {
             "endlinecolor": "#2a3f5f",
             "gridcolor": "#C8D4E3",
             "linecolor": "#C8D4E3",
             "minorgridcolor": "#C8D4E3",
             "startlinecolor": "#2a3f5f"
            },
            "type": "carpet"
           }
          ],
          "choropleth": [
           {
            "colorbar": {
             "outlinewidth": 0,
             "ticks": ""
            },
            "type": "choropleth"
           }
          ],
          "contour": [
           {
            "colorbar": {
             "outlinewidth": 0,
             "ticks": ""
            },
            "colorscale": [
             [
              0.0,
              "#0d0887"
             ],
             [
              0.1111111111111111,
              "#46039f"
             ],
             [
              0.2222222222222222,
              "#7201a8"
             ],
             [
              0.3333333333333333,
              "#9c179e"
             ],
             [
              0.4444444444444444,
              "#bd3786"
             ],
             [
              0.5555555555555556,
              "#d8576b"
             ],
             [
              0.6666666666666666,
              "#ed7953"
             ],
             [
              0.7777777777777778,
              "#fb9f3a"
             ],
             [
              0.8888888888888888,
              "#fdca26"
             ],
             [
              1.0,
              "#f0f921"
             ]
            ],
            "type": "contour"
           }
          ],
          "contourcarpet": [
           {
            "colorbar": {
             "outlinewidth": 0,
             "ticks": ""
            },
            "type": "contourcarpet"
           }
          ],
          "heatmap": [
           {
            "colorbar": {
             "outlinewidth": 0,
             "ticks": ""
            },
            "colorscale": [
             [
              0.0,
              "#0d0887"
             ],
             [
              0.1111111111111111,
              "#46039f"
             ],
             [
              0.2222222222222222,
              "#7201a8"
             ],
             [
              0.3333333333333333,
              "#9c179e"
             ],
             [
              0.4444444444444444,
              "#bd3786"
             ],
             [
              0.5555555555555556,
              "#d8576b"
             ],
             [
              0.6666666666666666,
              "#ed7953"
             ],
             [
              0.7777777777777778,
              "#fb9f3a"
             ],
             [
              0.8888888888888888,
              "#fdca26"
             ],
             [
              1.0,
              "#f0f921"
             ]
            ],
            "type": "heatmap"
           }
          ],
          "histogram": [
           {
            "marker": {
             "pattern": {
              "fillmode": "overlay",
              "size": 10,
              "solidity": 0.2
             }
            },
            "type": "histogram"
           }
          ],
          "histogram2d": [
           {
            "colorbar": {
             "outlinewidth": 0,
             "ticks": ""
            },
            "colorscale": [
             [
              0.0,
              "#0d0887"
             ],
             [
              0.1111111111111111,
              "#46039f"
             ],
             [
              0.2222222222222222,
              "#7201a8"
             ],
             [
              0.3333333333333333,
              "#9c179e"
             ],
             [
              0.4444444444444444,
              "#bd3786"
             ],
             [
              0.5555555555555556,
              "#d8576b"
             ],
             [
              0.6666666666666666,
              "#ed7953"
             ],
             [
              0.7777777777777778,
              "#fb9f3a"
             ],
             [
              0.8888888888888888,
              "#fdca26"
             ],
             [
              1.0,
              "#f0f921"
             ]
            ],
            "type": "histogram2d"
           }
          ],
          "histogram2dcontour": [
           {
            "colorbar": {
             "outlinewidth": 0,
             "ticks": ""
            },
            "colorscale": [
             [
              0.0,
              "#0d0887"
             ],
             [
              0.1111111111111111,
              "#46039f"
             ],
             [
              0.2222222222222222,
              "#7201a8"
             ],
             [
              0.3333333333333333,
              "#9c179e"
             ],
             [
              0.4444444444444444,
              "#bd3786"
             ],
             [
              0.5555555555555556,
              "#d8576b"
             ],
             [
              0.6666666666666666,
              "#ed7953"
             ],
             [
              0.7777777777777778,
              "#fb9f3a"
             ],
             [
              0.8888888888888888,
              "#fdca26"
             ],
             [
              1.0,
              "#f0f921"
             ]
            ],
            "type": "histogram2dcontour"
           }
          ],
          "mesh3d": [
           {
            "colorbar": {
             "outlinewidth": 0,
             "ticks": ""
            },
            "type": "mesh3d"
           }
          ],
          "parcoords": [
           {
            "line": {
             "colorbar": {
              "outlinewidth": 0,
              "ticks": ""
             }
            },
            "type": "parcoords"
           }
          ],
          "pie": [
           {
            "automargin": true,
            "type": "pie"
           }
          ],
          "scatter": [
           {
            "fillpattern": {
             "fillmode": "overlay",
             "size": 10,
             "solidity": 0.2
            },
            "type": "scatter"
           }
          ],
          "scatter3d": [
           {
            "line": {
             "colorbar": {
              "outlinewidth": 0,
              "ticks": ""
             }
            },
            "marker": {
             "colorbar": {
              "outlinewidth": 0,
              "ticks": ""
             }
            },
            "type": "scatter3d"
           }
          ],
          "scattercarpet": [
           {
            "marker": {
             "colorbar": {
              "outlinewidth": 0,
              "ticks": ""
             }
            },
            "type": "scattercarpet"
           }
          ],
          "scattergeo": [
           {
            "marker": {
             "colorbar": {
              "outlinewidth": 0,
              "ticks": ""
             }
            },
            "type": "scattergeo"
           }
          ],
          "scattergl": [
           {
            "marker": {
             "colorbar": {
              "outlinewidth": 0,
              "ticks": ""
             }
            },
            "type": "scattergl"
           }
          ],
          "scattermap": [
           {
            "marker": {
             "colorbar": {
              "outlinewidth": 0,
              "ticks": ""
             }
            },
            "type": "scattermap"
           }
          ],
          "scattermapbox": [
           {
            "marker": {
             "colorbar": {
              "outlinewidth": 0,
              "ticks": ""
             }
            },
            "type": "scattermapbox"
           }
          ],
          "scatterpolar": [
           {
            "marker": {
             "colorbar": {
              "outlinewidth": 0,
              "ticks": ""
             }
            },
            "type": "scatterpolar"
           }
          ],
          "scatterpolargl": [
           {
            "marker": {
             "colorbar": {
              "outlinewidth": 0,
              "ticks": ""
             }
            },
            "type": "scatterpolargl"
           }
          ],
          "scatterternary": [
           {
            "marker": {
             "colorbar": {
              "outlinewidth": 0,
              "ticks": ""
             }
            },
            "type": "scatterternary"
           }
          ],
          "surface": [
           {
            "colorbar": {
             "outlinewidth": 0,
             "ticks": ""
            },
            "colorscale": [
             [
              0.0,
              "#0d0887"
             ],
             [
              0.1111111111111111,
              "#46039f"
             ],
             [
              0.2222222222222222,
              "#7201a8"
             ],
             [
              0.3333333333333333,
              "#9c179e"
             ],
             [
              0.4444444444444444,
              "#bd3786"
             ],
             [
              0.5555555555555556,
              "#d8576b"
             ],
             [
              0.6666666666666666,
              "#ed7953"
             ],
             [
              0.7777777777777778,
              "#fb9f3a"
             ],
             [
              0.8888888888888888,
              "#fdca26"
             ],
             [
              1.0,
              "#f0f921"
             ]
            ],
            "type": "surface"
           }
          ],
          "table": [
           {
            "cells": {
             "fill": {
              "color": "#EBF0F8"
             },
             "line": {
              "color": "white"
             }
            },
            "header": {
             "fill": {
              "color": "#C8D4E3"
             },
             "line": {
              "color": "white"
             }
            },
            "type": "table"
           }
          ]
         },
         "layout": {
          "annotationdefaults": {
           "arrowcolor": "#2a3f5f",
           "arrowhead": 0,
           "arrowwidth": 1
          },
          "autotypenumbers": "strict",
          "coloraxis": {
           "colorbar": {
            "outlinewidth": 0,
            "ticks": ""
           }
          },
          "colorscale": {
           "diverging": [
            [
             0,
             "#8e0152"
            ],
            [
             0.1,
             "#c51b7d"
            ],
            [
             0.2,
             "#de77ae"
            ],
            [
             0.3,
             "#f1b6da"
            ],
            [
             0.4,
             "#fde0ef"
            ],
            [
             0.5,
             "#f7f7f7"
            ],
            [
             0.6,
             "#e6f5d0"
            ],
            [
             0.7,
             "#b8e186"
            ],
            [
             0.8,
             "#7fbc41"
            ],
            [
             0.9,
             "#4d9221"
            ],
            [
             1,
             "#276419"
            ]
           ],
           "sequential": [
            [
             0.0,
             "#0d0887"
            ],
            [
             0.1111111111111111,
             "#46039f"
            ],
            [
             0.2222222222222222,
             "#7201a8"
            ],
            [
             0.3333333333333333,
             "#9c179e"
            ],
            [
             0.4444444444444444,
             "#bd3786"
            ],
            [
             0.5555555555555556,
             "#d8576b"
            ],
            [
             0.6666666666666666,
             "#ed7953"
            ],
            [
             0.7777777777777778,
             "#fb9f3a"
            ],
            [
             0.8888888888888888,
             "#fdca26"
            ],
            [
             1.0,
             "#f0f921"
            ]
           ],
           "sequentialminus": [
            [
             0.0,
             "#0d0887"
            ],
            [
             0.1111111111111111,
             "#46039f"
            ],
            [
             0.2222222222222222,
             "#7201a8"
            ],
            [
             0.3333333333333333,
             "#9c179e"
            ],
            [
             0.4444444444444444,
             "#bd3786"
            ],
            [
             0.5555555555555556,
             "#d8576b"
            ],
            [
             0.6666666666666666,
             "#ed7953"
            ],
            [
             0.7777777777777778,
             "#fb9f3a"
            ],
            [
             0.8888888888888888,
             "#fdca26"
            ],
            [
             1.0,
             "#f0f921"
            ]
           ]
          },
          "colorway": [
           "#636efa",
           "#EF553B",
           "#00cc96",
           "#ab63fa",
           "#FFA15A",
           "#19d3f3",
           "#FF6692",
           "#B6E880",
           "#FF97FF",
           "#FECB52"
          ],
          "font": {
           "color": "#2a3f5f"
          },
          "geo": {
           "bgcolor": "white",
           "lakecolor": "white",
           "landcolor": "white",
           "showlakes": true,
           "showland": true,
           "subunitcolor": "#C8D4E3"
          },
          "hoverlabel": {
           "align": "left"
          },
          "hovermode": "closest",
          "mapbox": {
           "style": "light"
          },
          "paper_bgcolor": "white",
          "plot_bgcolor": "white",
          "polar": {
           "angularaxis": {
            "gridcolor": "#EBF0F8",
            "linecolor": "#EBF0F8",
            "ticks": ""
           },
           "bgcolor": "white",
           "radialaxis": {
            "gridcolor": "#EBF0F8",
            "linecolor": "#EBF0F8",
            "ticks": ""
           }
          },
          "scene": {
           "xaxis": {
            "backgroundcolor": "white",
            "gridcolor": "#DFE8F3",
            "gridwidth": 2,
            "linecolor": "#EBF0F8",
            "showbackground": true,
            "ticks": "",
            "zerolinecolor": "#EBF0F8"
           },
           "yaxis": {
            "backgroundcolor": "white",
            "gridcolor": "#DFE8F3",
            "gridwidth": 2,
            "linecolor": "#EBF0F8",
            "showbackground": true,
            "ticks": "",
            "zerolinecolor": "#EBF0F8"
           },
           "zaxis": {
            "backgroundcolor": "white",
            "gridcolor": "#DFE8F3",
            "gridwidth": 2,
            "linecolor": "#EBF0F8",
            "showbackground": true,
            "ticks": "",
            "zerolinecolor": "#EBF0F8"
           }
          },
          "shapedefaults": {
           "line": {
            "color": "#2a3f5f"
           }
          },
          "ternary": {
           "aaxis": {
            "gridcolor": "#DFE8F3",
            "linecolor": "#A2B1C6",
            "ticks": ""
           },
           "baxis": {
            "gridcolor": "#DFE8F3",
            "linecolor": "#A2B1C6",
            "ticks": ""
           },
           "bgcolor": "white",
           "caxis": {
            "gridcolor": "#DFE8F3",
            "linecolor": "#A2B1C6",
            "ticks": ""
           }
          },
          "title": {
           "x": 0.05
          },
          "xaxis": {
           "automargin": true,
           "gridcolor": "#EBF0F8",
           "linecolor": "#EBF0F8",
           "ticks": "",
           "title": {
            "standoff": 15
           },
           "zerolinecolor": "#EBF0F8",
           "zerolinewidth": 2
          },
          "yaxis": {
           "automargin": true,
           "gridcolor": "#EBF0F8",
           "linecolor": "#EBF0F8",
           "ticks": "",
           "title": {
            "standoff": 15
           },
           "zerolinecolor": "#EBF0F8",
           "zerolinewidth": 2
          }
         }
        },
        "title": {
         "font": {
          "size": 20
         },
         "text": "🎯 Confusion Matrix - 監督式",
         "x": 0.5,
         "xanchor": "center"
        },
        "width": 700,
        "xaxis": {
         "title": {
          "text": "Predicted Label"
         }
        },
        "yaxis": {
         "title": {
          "text": "True Label"
         }
        }
       }
      }
     },
     "metadata": {},
     "output_type": "display_data"
    },
    {
     "name": "stdout",
     "output_type": "stream",
     "text": [
      "✅ 互動式混淆矩陣已儲存至 docs/confusion_matrix_*.html\n"
     ]
    }
   ],
   "source": [
    "# 創建互動式混淆矩陣（使用 0.5 閾值）\n",
    "y_pred_synthetic = (prob_synthetic >= 0.5).astype(int)\n",
    "y_pred_supervised = (prob_supervised >= 0.5).astype(int)\n",
    "\n",
    "fig_cm_syn = create_interactive_confusion_matrix(\n",
    "    y_test,\n",
    "    y_pred_synthetic,\n",
    "    model_name=\"合成注入\",\n",
    "    output_path=\"docs/confusion_matrix_synthetic.html\"\n",
    ")\n",
    "fig_cm_syn.show()\n",
    "\n",
    "fig_cm_sup = create_interactive_confusion_matrix(\n",
    "    y_test,\n",
    "    y_pred_supervised,\n",
    "    model_name=\"監督式\",\n",
    "    output_path=\"docs/confusion_matrix_supervised.html\"\n",
    ")\n",
    "fig_cm_sup.show()\n",
    "\n",
    "print(\"✅ 互動式混淆矩陣已儲存至 docs/confusion_matrix_*.html\")"
   ]
  },
  {
   "cell_type": "markdown",
   "id": "5f485b30",
   "metadata": {
    "papermill": {
     "duration": 0.021456,
     "end_time": "2025-09-29T22:11:27.734859",
     "exception": false,
     "start_time": "2025-09-29T22:11:27.713403",
     "status": "completed"
    },
    "tags": []
   },
   "source": [
    "### 10.4 互動式混淆矩陣 🎯"
   ]
  },
  {
   "cell_type": "code",
   "execution_count": 23,
   "id": "0c8b1909",
   "metadata": {
    "execution": {
     "iopub.execute_input": "2025-09-29T22:11:27.777586Z",
     "iopub.status.busy": "2025-09-29T22:11:27.777331Z",
     "iopub.status.idle": "2025-09-29T22:11:27.861174Z",
     "shell.execute_reply": "2025-09-29T22:11:27.860558Z"
    },
    "papermill": {
     "duration": 0.10506,
     "end_time": "2025-09-29T22:11:27.862045",
     "exception": false,
     "start_time": "2025-09-29T22:11:27.756985",
     "status": "completed"
    },
    "tags": []
   },
   "outputs": [
    {
     "name": "stdout",
     "output_type": "stream",
     "text": [
      "✅ PR curve saved: docs\\pr_curve.html\n"
     ]
    },
    {
     "data": {
      "application/vnd.plotly.v1+json": {
       "config": {
        "plotlyServerURL": "https://plot.ly"
       },
       "data": [
        {
         "hovertemplate": "Recall: %{x:.3f}<br>Precision: %{y:.3f}<extra></extra>",
         "line": {
          "color": "#3498db",
          "width": 3
         },
         "mode": "lines",
         "name": "合成注入 (AP=0.995)",
         "type": "scatter",
         "x": {
          "bdata": "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",
          "dtype": "f8"
         },
         "y": {
          "bdata": "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",
          "dtype": "f8"
         }
        },
        {
         "hovertemplate": "Recall: %{x:.3f}<br>Precision: %{y:.3f}<extra></extra>",
         "line": {
          "color": "#e74c3c",
          "width": 3
         },
         "mode": "lines",
         "name": "監督式 (AP=0.924)",
         "type": "scatter",
         "x": {
          "bdata": "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",
          "dtype": "f8"
         },
         "y": {
          "bdata": "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",
          "dtype": "f8"
         }
        }
       ],
       "layout": {
        "annotations": [
         {
          "showarrow": false,
          "text": "Baseline (Prevalence=0.310)",
          "x": 1,
          "xanchor": "left",
          "xref": "x domain",
          "y": 0.31,
          "yanchor": "middle",
          "yref": "y"
         }
        ],
        "height": 700,
        "hovermode": "closest",
        "legend": {
         "x": 0.01,
         "xanchor": "left",
         "y": 0.99,
         "yanchor": "top"
        },
        "shapes": [
         {
          "line": {
           "color": "gray",
           "dash": "dash"
          },
          "type": "line",
          "x0": 0,
          "x1": 1,
          "xref": "x domain",
          "y0": 0.31,
          "y1": 0.31,
          "yref": "y"
         }
        ],
        "template": {
         "data": {
          "bar": [
           {
            "error_x": {
             "color": "#2a3f5f"
            },
            "error_y": {
             "color": "#2a3f5f"
            },
            "marker": {
             "line": {
              "color": "white",
              "width": 0.5
             },
             "pattern": {
              "fillmode": "overlay",
              "size": 10,
              "solidity": 0.2
             }
            },
            "type": "bar"
           }
          ],
          "barpolar": [
           {
            "marker": {
             "line": {
              "color": "white",
              "width": 0.5
             },
             "pattern": {
              "fillmode": "overlay",
              "size": 10,
              "solidity": 0.2
             }
            },
            "type": "barpolar"
           }
          ],
          "carpet": [
           {
            "aaxis": {
             "endlinecolor": "#2a3f5f",
             "gridcolor": "#C8D4E3",
             "linecolor": "#C8D4E3",
             "minorgridcolor": "#C8D4E3",
             "startlinecolor": "#2a3f5f"
            },
            "baxis": {
             "endlinecolor": "#2a3f5f",
             "gridcolor": "#C8D4E3",
             "linecolor": "#C8D4E3",
             "minorgridcolor": "#C8D4E3",
             "startlinecolor": "#2a3f5f"
            },
            "type": "carpet"
           }
          ],
          "choropleth": [
           {
            "colorbar": {
             "outlinewidth": 0,
             "ticks": ""
            },
            "type": "choropleth"
           }
          ],
          "contour": [
           {
            "colorbar": {
             "outlinewidth": 0,
             "ticks": ""
            },
            "colorscale": [
             [
              0.0,
              "#0d0887"
             ],
             [
              0.1111111111111111,
              "#46039f"
             ],
             [
              0.2222222222222222,
              "#7201a8"
             ],
             [
              0.3333333333333333,
              "#9c179e"
             ],
             [
              0.4444444444444444,
              "#bd3786"
             ],
             [
              0.5555555555555556,
              "#d8576b"
             ],
             [
              0.6666666666666666,
              "#ed7953"
             ],
             [
              0.7777777777777778,
              "#fb9f3a"
             ],
             [
              0.8888888888888888,
              "#fdca26"
             ],
             [
              1.0,
              "#f0f921"
             ]
            ],
            "type": "contour"
           }
          ],
          "contourcarpet": [
           {
            "colorbar": {
             "outlinewidth": 0,
             "ticks": ""
            },
            "type": "contourcarpet"
           }
          ],
          "heatmap": [
           {
            "colorbar": {
             "outlinewidth": 0,
             "ticks": ""
            },
            "colorscale": [
             [
              0.0,
              "#0d0887"
             ],
             [
              0.1111111111111111,
              "#46039f"
             ],
             [
              0.2222222222222222,
              "#7201a8"
             ],
             [
              0.3333333333333333,
              "#9c179e"
             ],
             [
              0.4444444444444444,
              "#bd3786"
             ],
             [
              0.5555555555555556,
              "#d8576b"
             ],
             [
              0.6666666666666666,
              "#ed7953"
             ],
             [
              0.7777777777777778,
              "#fb9f3a"
             ],
             [
              0.8888888888888888,
              "#fdca26"
             ],
             [
              1.0,
              "#f0f921"
             ]
            ],
            "type": "heatmap"
           }
          ],
          "histogram": [
           {
            "marker": {
             "pattern": {
              "fillmode": "overlay",
              "size": 10,
              "solidity": 0.2
             }
            },
            "type": "histogram"
           }
          ],
          "histogram2d": [
           {
            "colorbar": {
             "outlinewidth": 0,
             "ticks": ""
            },
            "colorscale": [
             [
              0.0,
              "#0d0887"
             ],
             [
              0.1111111111111111,
              "#46039f"
             ],
             [
              0.2222222222222222,
              "#7201a8"
             ],
             [
              0.3333333333333333,
              "#9c179e"
             ],
             [
              0.4444444444444444,
              "#bd3786"
             ],
             [
              0.5555555555555556,
              "#d8576b"
             ],
             [
              0.6666666666666666,
              "#ed7953"
             ],
             [
              0.7777777777777778,
              "#fb9f3a"
             ],
             [
              0.8888888888888888,
              "#fdca26"
             ],
             [
              1.0,
              "#f0f921"
             ]
            ],
            "type": "histogram2d"
           }
          ],
          "histogram2dcontour": [
           {
            "colorbar": {
             "outlinewidth": 0,
             "ticks": ""
            },
            "colorscale": [
             [
              0.0,
              "#0d0887"
             ],
             [
              0.1111111111111111,
              "#46039f"
             ],
             [
              0.2222222222222222,
              "#7201a8"
             ],
             [
              0.3333333333333333,
              "#9c179e"
             ],
             [
              0.4444444444444444,
              "#bd3786"
             ],
             [
              0.5555555555555556,
              "#d8576b"
             ],
             [
              0.6666666666666666,
              "#ed7953"
             ],
             [
              0.7777777777777778,
              "#fb9f3a"
             ],
             [
              0.8888888888888888,
              "#fdca26"
             ],
             [
              1.0,
              "#f0f921"
             ]
            ],
            "type": "histogram2dcontour"
           }
          ],
          "mesh3d": [
           {
            "colorbar": {
             "outlinewidth": 0,
             "ticks": ""
            },
            "type": "mesh3d"
           }
          ],
          "parcoords": [
           {
            "line": {
             "colorbar": {
              "outlinewidth": 0,
              "ticks": ""
             }
            },
            "type": "parcoords"
           }
          ],
          "pie": [
           {
            "automargin": true,
            "type": "pie"
           }
          ],
          "scatter": [
           {
            "fillpattern": {
             "fillmode": "overlay",
             "size": 10,
             "solidity": 0.2
            },
            "type": "scatter"
           }
          ],
          "scatter3d": [
           {
            "line": {
             "colorbar": {
              "outlinewidth": 0,
              "ticks": ""
             }
            },
            "marker": {
             "colorbar": {
              "outlinewidth": 0,
              "ticks": ""
             }
            },
            "type": "scatter3d"
           }
          ],
          "scattercarpet": [
           {
            "marker": {
             "colorbar": {
              "outlinewidth": 0,
              "ticks": ""
             }
            },
            "type": "scattercarpet"
           }
          ],
          "scattergeo": [
           {
            "marker": {
             "colorbar": {
              "outlinewidth": 0,
              "ticks": ""
             }
            },
            "type": "scattergeo"
           }
          ],
          "scattergl": [
           {
            "marker": {
             "colorbar": {
              "outlinewidth": 0,
              "ticks": ""
             }
            },
            "type": "scattergl"
           }
          ],
          "scattermap": [
           {
            "marker": {
             "colorbar": {
              "outlinewidth": 0,
              "ticks": ""
             }
            },
            "type": "scattermap"
           }
          ],
          "scattermapbox": [
           {
            "marker": {
             "colorbar": {
              "outlinewidth": 0,
              "ticks": ""
             }
            },
            "type": "scattermapbox"
           }
          ],
          "scatterpolar": [
           {
            "marker": {
             "colorbar": {
              "outlinewidth": 0,
              "ticks": ""
             }
            },
            "type": "scatterpolar"
           }
          ],
          "scatterpolargl": [
           {
            "marker": {
             "colorbar": {
              "outlinewidth": 0,
              "ticks": ""
             }
            },
            "type": "scatterpolargl"
           }
          ],
          "scatterternary": [
           {
            "marker": {
             "colorbar": {
              "outlinewidth": 0,
              "ticks": ""
             }
            },
            "type": "scatterternary"
           }
          ],
          "surface": [
           {
            "colorbar": {
             "outlinewidth": 0,
             "ticks": ""
            },
            "colorscale": [
             [
              0.0,
              "#0d0887"
             ],
             [
              0.1111111111111111,
              "#46039f"
             ],
             [
              0.2222222222222222,
              "#7201a8"
             ],
             [
              0.3333333333333333,
              "#9c179e"
             ],
             [
              0.4444444444444444,
              "#bd3786"
             ],
             [
              0.5555555555555556,
              "#d8576b"
             ],
             [
              0.6666666666666666,
              "#ed7953"
             ],
             [
              0.7777777777777778,
              "#fb9f3a"
             ],
             [
              0.8888888888888888,
              "#fdca26"
             ],
             [
              1.0,
              "#f0f921"
             ]
            ],
            "type": "surface"
           }
          ],
          "table": [
           {
            "cells": {
             "fill": {
              "color": "#EBF0F8"
             },
             "line": {
              "color": "white"
             }
            },
            "header": {
             "fill": {
              "color": "#C8D4E3"
             },
             "line": {
              "color": "white"
             }
            },
            "type": "table"
           }
          ]
         },
         "layout": {
          "annotationdefaults": {
           "arrowcolor": "#2a3f5f",
           "arrowhead": 0,
           "arrowwidth": 1
          },
          "autotypenumbers": "strict",
          "coloraxis": {
           "colorbar": {
            "outlinewidth": 0,
            "ticks": ""
           }
          },
          "colorscale": {
           "diverging": [
            [
             0,
             "#8e0152"
            ],
            [
             0.1,
             "#c51b7d"
            ],
            [
             0.2,
             "#de77ae"
            ],
            [
             0.3,
             "#f1b6da"
            ],
            [
             0.4,
             "#fde0ef"
            ],
            [
             0.5,
             "#f7f7f7"
            ],
            [
             0.6,
             "#e6f5d0"
            ],
            [
             0.7,
             "#b8e186"
            ],
            [
             0.8,
             "#7fbc41"
            ],
            [
             0.9,
             "#4d9221"
            ],
            [
             1,
             "#276419"
            ]
           ],
           "sequential": [
            [
             0.0,
             "#0d0887"
            ],
            [
             0.1111111111111111,
             "#46039f"
            ],
            [
             0.2222222222222222,
             "#7201a8"
            ],
            [
             0.3333333333333333,
             "#9c179e"
            ],
            [
             0.4444444444444444,
             "#bd3786"
            ],
            [
             0.5555555555555556,
             "#d8576b"
            ],
            [
             0.6666666666666666,
             "#ed7953"
            ],
            [
             0.7777777777777778,
             "#fb9f3a"
            ],
            [
             0.8888888888888888,
             "#fdca26"
            ],
            [
             1.0,
             "#f0f921"
            ]
           ],
           "sequentialminus": [
            [
             0.0,
             "#0d0887"
            ],
            [
             0.1111111111111111,
             "#46039f"
            ],
            [
             0.2222222222222222,
             "#7201a8"
            ],
            [
             0.3333333333333333,
             "#9c179e"
            ],
            [
             0.4444444444444444,
             "#bd3786"
            ],
            [
             0.5555555555555556,
             "#d8576b"
            ],
            [
             0.6666666666666666,
             "#ed7953"
            ],
            [
             0.7777777777777778,
             "#fb9f3a"
            ],
            [
             0.8888888888888888,
             "#fdca26"
            ],
            [
             1.0,
             "#f0f921"
            ]
           ]
          },
          "colorway": [
           "#636efa",
           "#EF553B",
           "#00cc96",
           "#ab63fa",
           "#FFA15A",
           "#19d3f3",
           "#FF6692",
           "#B6E880",
           "#FF97FF",
           "#FECB52"
          ],
          "font": {
           "color": "#2a3f5f"
          },
          "geo": {
           "bgcolor": "white",
           "lakecolor": "white",
           "landcolor": "white",
           "showlakes": true,
           "showland": true,
           "subunitcolor": "#C8D4E3"
          },
          "hoverlabel": {
           "align": "left"
          },
          "hovermode": "closest",
          "mapbox": {
           "style": "light"
          },
          "paper_bgcolor": "white",
          "plot_bgcolor": "white",
          "polar": {
           "angularaxis": {
            "gridcolor": "#EBF0F8",
            "linecolor": "#EBF0F8",
            "ticks": ""
           },
           "bgcolor": "white",
           "radialaxis": {
            "gridcolor": "#EBF0F8",
            "linecolor": "#EBF0F8",
            "ticks": ""
           }
          },
          "scene": {
           "xaxis": {
            "backgroundcolor": "white",
            "gridcolor": "#DFE8F3",
            "gridwidth": 2,
            "linecolor": "#EBF0F8",
            "showbackground": true,
            "ticks": "",
            "zerolinecolor": "#EBF0F8"
           },
           "yaxis": {
            "backgroundcolor": "white",
            "gridcolor": "#DFE8F3",
            "gridwidth": 2,
            "linecolor": "#EBF0F8",
            "showbackground": true,
            "ticks": "",
            "zerolinecolor": "#EBF0F8"
           },
           "zaxis": {
            "backgroundcolor": "white",
            "gridcolor": "#DFE8F3",
            "gridwidth": 2,
            "linecolor": "#EBF0F8",
            "showbackground": true,
            "ticks": "",
            "zerolinecolor": "#EBF0F8"
           }
          },
          "shapedefaults": {
           "line": {
            "color": "#2a3f5f"
           }
          },
          "ternary": {
           "aaxis": {
            "gridcolor": "#DFE8F3",
            "linecolor": "#A2B1C6",
            "ticks": ""
           },
           "baxis": {
            "gridcolor": "#DFE8F3",
            "linecolor": "#A2B1C6",
            "ticks": ""
           },
           "bgcolor": "white",
           "caxis": {
            "gridcolor": "#DFE8F3",
            "linecolor": "#A2B1C6",
            "ticks": ""
           }
          },
          "title": {
           "x": 0.05
          },
          "xaxis": {
           "automargin": true,
           "gridcolor": "#EBF0F8",
           "linecolor": "#EBF0F8",
           "ticks": "",
           "title": {
            "standoff": 15
           },
           "zerolinecolor": "#EBF0F8",
           "zerolinewidth": 2
          },
          "yaxis": {
           "automargin": true,
           "gridcolor": "#EBF0F8",
           "linecolor": "#EBF0F8",
           "ticks": "",
           "title": {
            "standoff": 15
           },
           "zerolinecolor": "#EBF0F8",
           "zerolinewidth": 2
          }
         }
        },
        "title": {
         "font": {
          "size": 20
         },
         "text": "📊 Interactive Precision-Recall Curve",
         "x": 0.5,
         "xanchor": "center"
        },
        "width": 900,
        "xaxis": {
         "gridcolor": "lightgray",
         "range": [
          0,
          1
         ],
         "title": {
          "text": "Recall"
         }
        },
        "yaxis": {
         "gridcolor": "lightgray",
         "range": [
          0,
          1
         ],
         "title": {
          "text": "Precision"
         }
        }
       }
      }
     },
     "metadata": {},
     "output_type": "display_data"
    },
    {
     "name": "stdout",
     "output_type": "stream",
     "text": [
      "✅ 互動式 PR 曲線已儲存至 docs/pr_curve.html\n"
     ]
    }
   ],
   "source": [
    "# 創建互動式 PR 曲線\n",
    "fig_pr = create_interactive_pr_curve(\n",
    "    y_test,\n",
    "    y_probs_dict,\n",
    "    output_path=\"docs/pr_curve.html\"\n",
    ")\n",
    "fig_pr.show()\n",
    "\n",
    "print(\"✅ 互動式 PR 曲線已儲存至 docs/pr_curve.html\")"
   ]
  },
  {
   "cell_type": "markdown",
   "id": "0f4422f2",
   "metadata": {
    "papermill": {
     "duration": 0.022637,
     "end_time": "2025-09-29T22:11:27.906677",
     "exception": false,
     "start_time": "2025-09-29T22:11:27.884040",
     "status": "completed"
    },
    "tags": []
   },
   "source": [
    "### 10.3 互動式 Precision-Recall 曲線 📊"
   ]
  },
  {
   "cell_type": "markdown",
   "id": "b8842ff9",
   "metadata": {
    "papermill": {
     "duration": 0.025538,
     "end_time": "2025-09-29T22:11:27.996596",
     "exception": false,
     "start_time": "2025-09-29T22:11:27.971058",
     "status": "completed"
    },
    "tags": []
   },
   "source": [
    "### 10.2 互動式 ROC 曲線 📈"
   ]
  },
  {
   "cell_type": "code",
   "execution_count": 24,
   "id": "447ae27e",
   "metadata": {
    "execution": {
     "iopub.execute_input": "2025-09-29T22:11:28.045981Z",
     "iopub.status.busy": "2025-09-29T22:11:28.045713Z",
     "iopub.status.idle": "2025-09-29T22:11:29.366722Z",
     "shell.execute_reply": "2025-09-29T22:11:29.366253Z"
    },
    "papermill": {
     "duration": 1.347617,
     "end_time": "2025-09-29T22:11:29.367598",
     "exception": false,
     "start_time": "2025-09-29T22:11:28.019981",
     "status": "completed"
    },
    "tags": []
   },
   "outputs": [
    {
     "name": "stdout",
     "output_type": "stream",
     "text": [
      "⏱️ 開始測量推論延遲 (1000 樣本)...\n"
     ]
    },
    {
     "name": "stdout",
     "output_type": "stream",
     "text": [
      "\n",
      "📊 合成注入模型延遲統計:\n",
      "   平均延遲: 0.569 ms\n",
      "   中位數 (P50): 0.577 ms\n",
      "   P90: 0.608 ms\n",
      "   P95: 0.633 ms\n",
      "   P99: 0.792 ms\n",
      "   標準差: 0.071 ms\n",
      "\n",
      "📊 監督式模型延遲統計:\n",
      "   平均延遲: 0.563 ms\n",
      "   中位數 (P50): 0.569 ms\n",
      "   P90: 0.609 ms\n",
      "   P95: 0.645 ms\n",
      "   P99: 0.761 ms\n",
      "   標準差: 0.081 ms\n",
      "✅ Latency histogram saved: docs\\latency_synthetic.html\n"
     ]
    },
    {
     "data": {
      "application/vnd.plotly.v1+json": {
       "config": {
        "plotlyServerURL": "https://plot.ly"
       },
       "data": [
        {
         "hovertemplate": "Latency: %{x:.2f}ms<br>Count: %{y}<extra></extra>",
         "marker": {
          "color": "rgba(52, 152, 219, 0.7)"
         },
         "name": "Latency Distribution",
         "nbinsx": 50,
         "type": "histogram",
         "x": {
          "bdata": "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",
          "dtype": "f8"
         }
        }
       ],
       "layout": {
        "annotations": [
         {
          "showarrow": false,
          "text": "P50 (Median): 0.58ms",
          "x": 0.5773305892944336,
          "xanchor": "center",
          "xref": "x",
          "y": 1,
          "yanchor": "bottom",
          "yref": "y domain"
         },
         {
          "showarrow": false,
          "text": "P90: 0.61ms",
          "x": 0.607752799987793,
          "xanchor": "center",
          "xref": "x",
          "y": 1,
          "yanchor": "bottom",
          "yref": "y domain"
         },
         {
          "showarrow": false,
          "text": "P95: 0.63ms",
          "x": 0.6331443786621093,
          "xanchor": "center",
          "xref": "x",
          "y": 1,
          "yanchor": "bottom",
          "yref": "y domain"
         },
         {
          "showarrow": false,
          "text": "P99: 0.79ms",
          "x": 0.7915997505187988,
          "xanchor": "center",
          "xref": "x",
          "y": 1,
          "yanchor": "bottom",
          "yref": "y domain"
         },
         {
          "bgcolor": "white",
          "bordercolor": "black",
          "borderwidth": 1,
          "opacity": 0.8,
          "showarrow": false,
          "text": "Mean: 0.57ms<br>Median: 0.58ms<br>Std Dev: 0.07ms<br>Min: 0.24ms<br>Max: 1.41ms",
          "x": 0.98,
          "xanchor": "right",
          "xref": "paper",
          "y": 0.98,
          "yanchor": "top",
          "yref": "paper"
         }
        ],
        "height": 600,
        "hovermode": "closest",
        "shapes": [
         {
          "line": {
           "color": "green",
           "dash": "dash"
          },
          "type": "line",
          "x0": 0.5773305892944336,
          "x1": 0.5773305892944336,
          "xref": "x",
          "y0": 0,
          "y1": 1,
          "yref": "y domain"
         },
         {
          "line": {
           "color": "orange",
           "dash": "dash"
          },
          "type": "line",
          "x0": 0.607752799987793,
          "x1": 0.607752799987793,
          "xref": "x",
          "y0": 0,
          "y1": 1,
          "yref": "y domain"
         },
         {
          "line": {
           "color": "red",
           "dash": "dash"
          },
          "type": "line",
          "x0": 0.6331443786621093,
          "x1": 0.6331443786621093,
          "xref": "x",
          "y0": 0,
          "y1": 1,
          "yref": "y domain"
         },
         {
          "line": {
           "color": "darkred",
           "dash": "dash"
          },
          "type": "line",
          "x0": 0.7915997505187988,
          "x1": 0.7915997505187988,
          "xref": "x",
          "y0": 0,
          "y1": 1,
          "yref": "y domain"
         }
        ],
        "showlegend": true,
        "template": {
         "data": {
          "bar": [
           {
            "error_x": {
             "color": "#2a3f5f"
            },
            "error_y": {
             "color": "#2a3f5f"
            },
            "marker": {
             "line": {
              "color": "white",
              "width": 0.5
             },
             "pattern": {
              "fillmode": "overlay",
              "size": 10,
              "solidity": 0.2
             }
            },
            "type": "bar"
           }
          ],
          "barpolar": [
           {
            "marker": {
             "line": {
              "color": "white",
              "width": 0.5
             },
             "pattern": {
              "fillmode": "overlay",
              "size": 10,
              "solidity": 0.2
             }
            },
            "type": "barpolar"
           }
          ],
          "carpet": [
           {
            "aaxis": {
             "endlinecolor": "#2a3f5f",
             "gridcolor": "#C8D4E3",
             "linecolor": "#C8D4E3",
             "minorgridcolor": "#C8D4E3",
             "startlinecolor": "#2a3f5f"
            },
            "baxis": {
             "endlinecolor": "#2a3f5f",
             "gridcolor": "#C8D4E3",
             "linecolor": "#C8D4E3",
             "minorgridcolor": "#C8D4E3",
             "startlinecolor": "#2a3f5f"
            },
            "type": "carpet"
           }
          ],
          "choropleth": [
           {
            "colorbar": {
             "outlinewidth": 0,
             "ticks": ""
            },
            "type": "choropleth"
           }
          ],
          "contour": [
           {
            "colorbar": {
             "outlinewidth": 0,
             "ticks": ""
            },
            "colorscale": [
             [
              0.0,
              "#0d0887"
             ],
             [
              0.1111111111111111,
              "#46039f"
             ],
             [
              0.2222222222222222,
              "#7201a8"
             ],
             [
              0.3333333333333333,
              "#9c179e"
             ],
             [
              0.4444444444444444,
              "#bd3786"
             ],
             [
              0.5555555555555556,
              "#d8576b"
             ],
             [
              0.6666666666666666,
              "#ed7953"
             ],
             [
              0.7777777777777778,
              "#fb9f3a"
             ],
             [
              0.8888888888888888,
              "#fdca26"
             ],
             [
              1.0,
              "#f0f921"
             ]
            ],
            "type": "contour"
           }
          ],
          "contourcarpet": [
           {
            "colorbar": {
             "outlinewidth": 0,
             "ticks": ""
            },
            "type": "contourcarpet"
           }
          ],
          "heatmap": [
           {
            "colorbar": {
             "outlinewidth": 0,
             "ticks": ""
            },
            "colorscale": [
             [
              0.0,
              "#0d0887"
             ],
             [
              0.1111111111111111,
              "#46039f"
             ],
             [
              0.2222222222222222,
              "#7201a8"
             ],
             [
              0.3333333333333333,
              "#9c179e"
             ],
             [
              0.4444444444444444,
              "#bd3786"
             ],
             [
              0.5555555555555556,
              "#d8576b"
             ],
             [
              0.6666666666666666,
              "#ed7953"
             ],
             [
              0.7777777777777778,
              "#fb9f3a"
             ],
             [
              0.8888888888888888,
              "#fdca26"
             ],
             [
              1.0,
              "#f0f921"
             ]
            ],
            "type": "heatmap"
           }
          ],
          "histogram": [
           {
            "marker": {
             "pattern": {
              "fillmode": "overlay",
              "size": 10,
              "solidity": 0.2
             }
            },
            "type": "histogram"
           }
          ],
          "histogram2d": [
           {
            "colorbar": {
             "outlinewidth": 0,
             "ticks": ""
            },
            "colorscale": [
             [
              0.0,
              "#0d0887"
             ],
             [
              0.1111111111111111,
              "#46039f"
             ],
             [
              0.2222222222222222,
              "#7201a8"
             ],
             [
              0.3333333333333333,
              "#9c179e"
             ],
             [
              0.4444444444444444,
              "#bd3786"
             ],
             [
              0.5555555555555556,
              "#d8576b"
             ],
             [
              0.6666666666666666,
              "#ed7953"
             ],
             [
              0.7777777777777778,
              "#fb9f3a"
             ],
             [
              0.8888888888888888,
              "#fdca26"
             ],
             [
              1.0,
              "#f0f921"
             ]
            ],
            "type": "histogram2d"
           }
          ],
          "histogram2dcontour": [
           {
            "colorbar": {
             "outlinewidth": 0,
             "ticks": ""
            },
            "colorscale": [
             [
              0.0,
              "#0d0887"
             ],
             [
              0.1111111111111111,
              "#46039f"
             ],
             [
              0.2222222222222222,
              "#7201a8"
             ],
             [
              0.3333333333333333,
              "#9c179e"
             ],
             [
              0.4444444444444444,
              "#bd3786"
             ],
             [
              0.5555555555555556,
              "#d8576b"
             ],
             [
              0.6666666666666666,
              "#ed7953"
             ],
             [
              0.7777777777777778,
              "#fb9f3a"
             ],
             [
              0.8888888888888888,
              "#fdca26"
             ],
             [
              1.0,
              "#f0f921"
             ]
            ],
            "type": "histogram2dcontour"
           }
          ],
          "mesh3d": [
           {
            "colorbar": {
             "outlinewidth": 0,
             "ticks": ""
            },
            "type": "mesh3d"
           }
          ],
          "parcoords": [
           {
            "line": {
             "colorbar": {
              "outlinewidth": 0,
              "ticks": ""
             }
            },
            "type": "parcoords"
           }
          ],
          "pie": [
           {
            "automargin": true,
            "type": "pie"
           }
          ],
          "scatter": [
           {
            "fillpattern": {
             "fillmode": "overlay",
             "size": 10,
             "solidity": 0.2
            },
            "type": "scatter"
           }
          ],
          "scatter3d": [
           {
            "line": {
             "colorbar": {
              "outlinewidth": 0,
              "ticks": ""
             }
            },
            "marker": {
             "colorbar": {
              "outlinewidth": 0,
              "ticks": ""
             }
            },
            "type": "scatter3d"
           }
          ],
          "scattercarpet": [
           {
            "marker": {
             "colorbar": {
              "outlinewidth": 0,
              "ticks": ""
             }
            },
            "type": "scattercarpet"
           }
          ],
          "scattergeo": [
           {
            "marker": {
             "colorbar": {
              "outlinewidth": 0,
              "ticks": ""
             }
            },
            "type": "scattergeo"
           }
          ],
          "scattergl": [
           {
            "marker": {
             "colorbar": {
              "outlinewidth": 0,
              "ticks": ""
             }
            },
            "type": "scattergl"
           }
          ],
          "scattermap": [
           {
            "marker": {
             "colorbar": {
              "outlinewidth": 0,
              "ticks": ""
             }
            },
            "type": "scattermap"
           }
          ],
          "scattermapbox": [
           {
            "marker": {
             "colorbar": {
              "outlinewidth": 0,
              "ticks": ""
             }
            },
            "type": "scattermapbox"
           }
          ],
          "scatterpolar": [
           {
            "marker": {
             "colorbar": {
              "outlinewidth": 0,
              "ticks": ""
             }
            },
            "type": "scatterpolar"
           }
          ],
          "scatterpolargl": [
           {
            "marker": {
             "colorbar": {
              "outlinewidth": 0,
              "ticks": ""
             }
            },
            "type": "scatterpolargl"
           }
          ],
          "scatterternary": [
           {
            "marker": {
             "colorbar": {
              "outlinewidth": 0,
              "ticks": ""
             }
            },
            "type": "scatterternary"
           }
          ],
          "surface": [
           {
            "colorbar": {
             "outlinewidth": 0,
             "ticks": ""
            },
            "colorscale": [
             [
              0.0,
              "#0d0887"
             ],
             [
              0.1111111111111111,
              "#46039f"
             ],
             [
              0.2222222222222222,
              "#7201a8"
             ],
             [
              0.3333333333333333,
              "#9c179e"
             ],
             [
              0.4444444444444444,
              "#bd3786"
             ],
             [
              0.5555555555555556,
              "#d8576b"
             ],
             [
              0.6666666666666666,
              "#ed7953"
             ],
             [
              0.7777777777777778,
              "#fb9f3a"
             ],
             [
              0.8888888888888888,
              "#fdca26"
             ],
             [
              1.0,
              "#f0f921"
             ]
            ],
            "type": "surface"
           }
          ],
          "table": [
           {
            "cells": {
             "fill": {
              "color": "#EBF0F8"
             },
             "line": {
              "color": "white"
             }
            },
            "header": {
             "fill": {
              "color": "#C8D4E3"
             },
             "line": {
              "color": "white"
             }
            },
            "type": "table"
           }
          ]
         },
         "layout": {
          "annotationdefaults": {
           "arrowcolor": "#2a3f5f",
           "arrowhead": 0,
           "arrowwidth": 1
          },
          "autotypenumbers": "strict",
          "coloraxis": {
           "colorbar": {
            "outlinewidth": 0,
            "ticks": ""
           }
          },
          "colorscale": {
           "diverging": [
            [
             0,
             "#8e0152"
            ],
            [
             0.1,
             "#c51b7d"
            ],
            [
             0.2,
             "#de77ae"
            ],
            [
             0.3,
             "#f1b6da"
            ],
            [
             0.4,
             "#fde0ef"
            ],
            [
             0.5,
             "#f7f7f7"
            ],
            [
             0.6,
             "#e6f5d0"
            ],
            [
             0.7,
             "#b8e186"
            ],
            [
             0.8,
             "#7fbc41"
            ],
            [
             0.9,
             "#4d9221"
            ],
            [
             1,
             "#276419"
            ]
           ],
           "sequential": [
            [
             0.0,
             "#0d0887"
            ],
            [
             0.1111111111111111,
             "#46039f"
            ],
            [
             0.2222222222222222,
             "#7201a8"
            ],
            [
             0.3333333333333333,
             "#9c179e"
            ],
            [
             0.4444444444444444,
             "#bd3786"
            ],
            [
             0.5555555555555556,
             "#d8576b"
            ],
            [
             0.6666666666666666,
             "#ed7953"
            ],
            [
             0.7777777777777778,
             "#fb9f3a"
            ],
            [
             0.8888888888888888,
             "#fdca26"
            ],
            [
             1.0,
             "#f0f921"
            ]
           ],
           "sequentialminus": [
            [
             0.0,
             "#0d0887"
            ],
            [
             0.1111111111111111,
             "#46039f"
            ],
            [
             0.2222222222222222,
             "#7201a8"
            ],
            [
             0.3333333333333333,
             "#9c179e"
            ],
            [
             0.4444444444444444,
             "#bd3786"
            ],
            [
             0.5555555555555556,
             "#d8576b"
            ],
            [
             0.6666666666666666,
             "#ed7953"
            ],
            [
             0.7777777777777778,
             "#fb9f3a"
            ],
            [
             0.8888888888888888,
             "#fdca26"
            ],
            [
             1.0,
             "#f0f921"
            ]
           ]
          },
          "colorway": [
           "#636efa",
           "#EF553B",
           "#00cc96",
           "#ab63fa",
           "#FFA15A",
           "#19d3f3",
           "#FF6692",
           "#B6E880",
           "#FF97FF",
           "#FECB52"
          ],
          "font": {
           "color": "#2a3f5f"
          },
          "geo": {
           "bgcolor": "white",
           "lakecolor": "white",
           "landcolor": "white",
           "showlakes": true,
           "showland": true,
           "subunitcolor": "#C8D4E3"
          },
          "hoverlabel": {
           "align": "left"
          },
          "hovermode": "closest",
          "mapbox": {
           "style": "light"
          },
          "paper_bgcolor": "white",
          "plot_bgcolor": "white",
          "polar": {
           "angularaxis": {
            "gridcolor": "#EBF0F8",
            "linecolor": "#EBF0F8",
            "ticks": ""
           },
           "bgcolor": "white",
           "radialaxis": {
            "gridcolor": "#EBF0F8",
            "linecolor": "#EBF0F8",
            "ticks": ""
           }
          },
          "scene": {
           "xaxis": {
            "backgroundcolor": "white",
            "gridcolor": "#DFE8F3",
            "gridwidth": 2,
            "linecolor": "#EBF0F8",
            "showbackground": true,
            "ticks": "",
            "zerolinecolor": "#EBF0F8"
           },
           "yaxis": {
            "backgroundcolor": "white",
            "gridcolor": "#DFE8F3",
            "gridwidth": 2,
            "linecolor": "#EBF0F8",
            "showbackground": true,
            "ticks": "",
            "zerolinecolor": "#EBF0F8"
           },
           "zaxis": {
            "backgroundcolor": "white",
            "gridcolor": "#DFE8F3",
            "gridwidth": 2,
            "linecolor": "#EBF0F8",
            "showbackground": true,
            "ticks": "",
            "zerolinecolor": "#EBF0F8"
           }
          },
          "shapedefaults": {
           "line": {
            "color": "#2a3f5f"
           }
          },
          "ternary": {
           "aaxis": {
            "gridcolor": "#DFE8F3",
            "linecolor": "#A2B1C6",
            "ticks": ""
           },
           "baxis": {
            "gridcolor": "#DFE8F3",
            "linecolor": "#A2B1C6",
            "ticks": ""
           },
           "bgcolor": "white",
           "caxis": {
            "gridcolor": "#DFE8F3",
            "linecolor": "#A2B1C6",
            "ticks": ""
           }
          },
          "title": {
           "x": 0.05
          },
          "xaxis": {
           "automargin": true,
           "gridcolor": "#EBF0F8",
           "linecolor": "#EBF0F8",
           "ticks": "",
           "title": {
            "standoff": 15
           },
           "zerolinecolor": "#EBF0F8",
           "zerolinewidth": 2
          },
          "yaxis": {
           "automargin": true,
           "gridcolor": "#EBF0F8",
           "linecolor": "#EBF0F8",
           "ticks": "",
           "title": {
            "standoff": 15
           },
           "zerolinecolor": "#EBF0F8",
           "zerolinewidth": 2
          }
         }
        },
        "title": {
         "text": "合成注入模型推論延遲分布",
         "x": 0.5,
         "xanchor": "center"
        },
        "width": 1000,
        "xaxis": {
         "title": {
          "text": "Latency (ms)"
         }
        },
        "yaxis": {
         "title": {
          "text": "Frequency"
         }
        }
       }
      }
     },
     "metadata": {},
     "output_type": "display_data"
    },
    {
     "name": "stdout",
     "output_type": "stream",
     "text": [
      "✅ Latency histogram saved: docs\\latency_supervised.html\n"
     ]
    },
    {
     "data": {
      "application/vnd.plotly.v1+json": {
       "config": {
        "plotlyServerURL": "https://plot.ly"
       },
       "data": [
        {
         "hovertemplate": "Latency: %{x:.2f}ms<br>Count: %{y}<extra></extra>",
         "marker": {
          "color": "rgba(52, 152, 219, 0.7)"
         },
         "name": "Latency Distribution",
         "nbinsx": 50,
         "type": "histogram",
         "x": {
          "bdata": "AAAAACBl0T8AAAAALF3iPwAAAACsJOE/AAAAAKTM4T8AAAAASPnjPwAAAABgrd8/AAAAAOAz5D8AAAAAMAPjPwAAAAA8AeM/AAAAACSC4z8AAAAAMP3jPwAAAAD8auE/AAAAAEAq4z8AAAAAkPPiPwAAAADIAd0/AAAAAKCj4T8AAAAAlCLiPwAAAABkKuI/AAAAAPzt4D8AAAAA+EHhPwAAAABE1uI/AAAAAAwJ4z8AAAAAqHLiPwAAAABIiOE/AAAAALDE4j8AAAAA+MTgPwAAAABU/eI/AAAAADwN4T8AAAAAXN7gPwAAAAA8cuU/AAAAAAyG4z8AAAAAQK3iPwAAAAC8P+M/AAAAANwQ4z8AAAAAPH7jPwAAAAAQteI/AAAAANCb4T8AAAAApMzhPwAAAAAYluA/AAAAADSv4j8AAAAAfCDjPwAAAACsKuA/AAAAANAY4j8AAAAA4JjoPwAAAAAEseM/AAAAACzg4T8AAAAAaE3jPwAAAACA2OA/AAAAAOTl4j8AAAAAlCLiPwAAAAC07eI/AAAAANTE4T8AAAAAONjiPwAAAABQ1OI/AAAAALgc4j8AAAAAVIbhPwAAAACQfOE/AAAAABgB5D8AAAAANDLiPwAAAACUn+I/AAAAAODI4D8AAAAAINziPwAAAABsBeE/AAAAAOgO4z8AAAAAyMDiPwAAAAAAC+M/AAAAABC14j8AAAAATC7iPwAAAACc8eI/AAAAAPQS4j8AAAAAhHjiPwAAAACsHuI/AAAAACBl4T8AAAAApEniPwAAAADoFOI/AAAAACjm3j8AAAAAIOLhPwAAAAAkC+I/AAAAADjY4j8AAAAAsEfiPwAAAAC8wuI/AAAAAKjv4j8AAAAAUNTiPwAAAADYZOM/AAAAALgi4T8AAAAAtO3iPwAAAACgo+E/AAAAAIih4j8AAAAAFGHiPwAAAAC8ReI/AAAAACQR4T8AAAAAVIDiPwAAAAAE5u8/AAAAAIT14j8AAAAAzHLhPwAAAACgedg/AAAAADhJ5T8AAAAAcBDWPwAAAAAwkuA/AAAAAByh5T8AAAAAJHzkPwAAAABMn+Q/AAAAAGgR3T8AAAAAeLvcPwAAAADYKN0/AAAAAJz34T8AAAAACG/gPwAAAAAYDeI/AAAAACQL4j8AAAAAiCTiPwAAAAAYluA/AAAAAJzx4j8AAAAAdFHiPwAAAACc/eA/AAAAAFxV4j8AAAAA0JvhPwAAAADw6eE/AAAAAPBs4T8AAAAArB7iPwAAAADM7+E/AAAAAFBX4j8AAAAA/OfhPwAAAACQ+eE/AAAAAOgO4z8AAAAA3BzhPwAAAAAUW+M/AAAAAOzG4D8AAAAA8OPiPwAAAAD4oNY/AAAAALDE4j8AAAAAlBbkPwAAAADg698/AAAAAACU4T8AAAAAsMrhPwAAAADkbuE/AAAAAOxD4T8AAAAA+DXjPwAAAABMIuQ/AAAAABTe4j8AAAAAYPviPwAAAABkoeM/AAAAAIit4D8AAAAAoKPhPwAAAACIEuU/AAAAACBT1D8AAAAAAJrgPwAAAADcn+A/AAAAABjv5j8AAAAAoGHcPwAAAAAEOuI/AAAAADCG4j8AAAAAHDDjPwAAAAAwtd8/AAAAAGQk4z8AAAAAyMDiPwAAAADgvOI/AAAAALiH5T8AAAAAgCvIPwAAAABgDeA/AAAAAFTr5T8AAAAAFGHiPwAAAADIQ+I/AAAAAAhp4T8AAAAAmMjiPwAAAAA8kOA/AAAAAPBm4j8AAAAARF/hPwAAAAAYB+M/AAAAALDE4j8AAAAA+LjiPwAAAAB49+I/AAAAABw24j8AAAAAQCTkPwAAAAA4VeM/AAAAAAwV4T8AAAAAiKfhPwAAAAAQweA/AAAAAMQU4z8AAAAARF/hPwAAAAAkBeM/AAAAACi34T8AAAAAINziPwAAAAAEQOE/AAAAAGz54j8AAAAAQDDiPwAAAADA8eE/AAAAALBT0D8AAAAAqPXhPwAAAABAKuM/AAAAAKwe4j8AAAAACGPiPwAAAAC4n+E/AAAAAKTG4j8AAAAAVAnhPwAAAACQ+eE/AAAAABy/4D8AAAAAuJ/hPwAAAACUpeE/AAAAAPQY4T8AAAAAeAPhPwAAAABAKuM/AAAAAMxy4T8AAAAAoKPhPwAAAADk5eI/AAAAAETW4j8AAAAA6A7jPwAAAADIwOI/AAAAAHTO4j8AAAAA7LriPwAAAACYzuE/AAAAANCP4z8AAAAAaNzgPwAAAAB0M+c/AAAAAFBF1T8AAAAA+OffPwAAAABU/eI/AAAAAFBF5T8AAAAAKOzdPwAAAADYKO0/AAAAAOBL0D8AAAAAPJDgPwAAAADY5+I/AAAAAKyh4T8AAAAA9I/iPwAAAACQ8+I/AAAAALDE4j8AAAAAMAPjPwAAAABYqeI/AAAAAHj34j8AAAAAZH3pPwAAAAAI7OA/AAAAAAyM4j8AAAAAHDDjPwAAAAAkguM/AAAAADje4T8AAAAA2O3hPwAAAABAs+E/AAAAAOiX4T8AAAAAVP3iPwAAAACocuI/AAAAAHAi4z8AAAAASHzjPwAAAADgvOI/AAAAAEQv6T8AAAAAOE/kPwAAAADI9d4/AAAAALRw4j8AAAAA8GzhPwAAAACIKuE/AAAAAPDj4j8AAAAAiB7jPwAAAAB8qeE/AAAAABTe4j8AAAAATCjjPwAAAADgvOI/AAAAAHTO4j8AAAAAoBrjPwAAAAC8P+M/AAAAACDc4j8AAAAARNbiPwAAAAAg3OI/AAAAAGD74j8AAAAA+L7hPwAAAABE1uI/AAAAAIzK4j8AAAAAVHrjPwAAAACcdOI/AAAAAAjm4T8AAAAAAI7iPwAAAABgAeI/AAAAAPxe4z8AAAAAgFXhPwAAAABkoeM/AAAAAAQ04z8AAAAAqO/iPwAAAADEneE/AAAAABAy4z8AAAAA+MTgPwAAAADw4+I/AAAAAPQM4z8AAAAAeP3hPwAAAADw4+I/AAAAAMDr4j8AAAAAMIDjPwAAAADsuuI/AAAAANS+4j8AAAAApMbiPwAAAADk3+M/AAAAAGhZ4T8AAAAACODiPwAAAAB0zuI/AAAAACBZ4z8AAAAAvMLiPwAAAAD4vuE/AAAAAPi44j8AAAAAaNbhPwAAAAD84eI/AAAAAATD4D8AAAAA6A7jPwAAAACkxuI/AAAAAHCr4T8AAAAAjEfjPwAAAABMq+I/AAAAAEyr4j8AAAAA1L7iPwAAAAA0teE/AAAAAFgm4z8AAAAAUNTiPwAAAAAkC+I/AAAAAGQk4z8AAAAAJBHhPwAAAADUvuI/AAAAAJQc4z8AAAAAfCDjPwAAAACAzOI/AAAAAAAR4j8AAAAA3I3jPwAAAAB0UeI/AAAAANjn4j8AAAAARNbiPwAAAAAMkuE/AAAAABy54T8AAAAAzO/hPwAAAADoQ98/AAAAAJyA4D8AAAAAXE/jPwAAAABAueA/AAAAAGSz4D8AAAAARFniPwAAAABc0uI/AAAAAHAi4z8AAAAAdM7iPwAAAAB8IOM/AAAAANyZ4T8AAAAAKLHiPwAAAAC8wuI/AAAAAHAc5D8AAAAAyLrTPwAAAABYl+U/AAAAAKwe4j8AAAAAhPvhPwAAAADQoeA/AAAAAKAO1T8AAAAA0JXiPwAAAABAMOI/AAAAANhw4T8AAAAApFXgPwAAAACo++A/AAAAAKj14T8AAAAAlCjhPwAAAAAYE+E/AAAAABgH4z8AAAAAHDDjPwAAAACo7+I/AAAAAHj94T8AAAAAVP3iPwAAAAD84eI/AAAAAFgI6D8AAAAAuKXgPwAAAADIQ+I/AAAAAGAB4j8AAAAASP/iPwAAAABU/eI/AAAAAOiL4z8AAAAARGXgPwAAAAAojeg/AAAAAHRR4j8AAAAAmEviPwAAAAAAjuI/AAAAADjY4j8AAAAANLXhPwAAAAAYeOU/AAAAAFDa4T8AAAAAoCzQPwAAAAB8FOU/AAAAAJhL4j8AAAAAwKndPwAAAACM0OE/AAAAACix4j8AAAAAPAfiPwAAAADA6+I/AAAAAKTG4j8AAAAAUNTiPwAAAADUyuA/AAAAACDo4D8AAAAAXLTnPwAAAADc/uU/AAAAAKRD4z8AAAAAwOXjPwAAAADQEuM/AAAAAJDz4j8AAAAAjEfjPwAAAAAoseI/AAAAANyZ4T8AAAAAHDDjPwAAAACgGuM/AAAAAGhN4z8AAAAA+LjiPwAAAAAIJ9w/AAAAALjO3j8AAAAAQDbhPwAAAACo++A/AAAAAODrzz8AAAAATJ/kPwAAAACMvuQ/AAAAAPg14z8AAAAA+LjiPwAAAAB4dOM/AAAAAPzh4j8AAAAAyD3jPwAAAAB4A+E/AAAAAIDS4T8AAAAA7LriPwAAAACE3eY/AAAAADxs5j8AAAAAxJfiPwAAAAAMCeM/AAAAAGhT4j8AAAAAhHjiPwAAAADYauI/AAAAAHyj4j8AAAAAONjiPwAAAADoFOI/AAAAAMDr4j8AAAAALNriPwAAAAAgZeE/AAAAAACI4z8AAAAA8GbiPwAAAABIEeA/AAAAAOgI1D8AAAAA8FrkPwAAAAAoIuU/AAAAAIBP4j8AAAAAWCDkPwAAAACsHuI/AAAAAOga4T8AAAAApMzhPwAAAACsJOE/AAAAAOgU4j8AAAAA+L7hPwAAAAAwjOE/AAAAAKyb4j8AAAAAUD/mPwAAAAAwhuI/AAAAAACU4T8AAAAAiKfhPwAAAAD8ZOI/AAAAAAQ04z8AAAAA0BLjPwAAAABo0OI/AAAAACTz5T8AAAAAbAXhPwAAAAC0WOY/AAAAAMSX4j8AAAAA5PHgPwAAAAAYkOE/AAAAABC70T8AAAAALJ7sPwAAAAAEveE/AAAAAJSZ4z8AAAAABLfiPwAAAABwKOI/AAAAACSU4D8AAAAAKLHiPwAAAAAENOM/AAAAAPzh4j8AAAAAUNTiPwAAAADgvOI/AAAAAGBa6D8AAAAAYGDnPwAAAABYLOI/AAAAAECt4j8AAAAA9AzjPwAAAACc9+E/AAAAAKhy4j8AAAAAWCDkPwAAAABYqeI/AAAAAGz54j8AAAAA/OHiPwAAAADkbuE/AAAAAOTl4j8AAAAAEMHgPwAAAADgnuc/AAAAANjn4j8AAAAAlBzjPwAAAAAoq+M/AAAAAJQc4z8AAAAAkHbiPwAAAAAEt+I/AAAAAEj/4j8AAAAAaFPiPwAAAAAYB+M/AAAAAFDa4T8AAAAANKnjPwAAAACAT+I/AAAAADDT2j8AAAAArJviPwAAAABIiOE/AAAAAEyx4T8AAAAA+MTgPwAAAADA6+I/AAAAAAwJ4z8AAAAA4LziPwAAAAC4FuM/AAAAADjY4j8AAAAAzO/hPwAAAABo3OA/AAAAABgB5D8AAAAArKfgPwAAAAA4W+I/AAAAAJCl3z8AAAAAeAPhPwAAAAC07eI/AAAAAGSt4T8AAAAAiK3gPwAAAADEGuI/AAAAALR24T8AAAAAPJDgPwAAAACAW+A/AAAAAPQS4j8AAAAAGBngPwAAAAAwD+E/AAAAANwc4T8AAAAA3JPiPwAAAABs+eI/AAAAAPDj4j8AAAAAUNTiPwAAAABAreI/AAAAAHj34j8AAAAAAI7iPwAAAAA0r+I/AAAAAAjg4j8AAAAA2O3hPwAAAADcEOM/AAAAAKwY4z8AAAAA5PHgPwAAAAAosdI/AAAAABiQ4T8AAAAAqDDdPwAAAACML+c/AAAAAACI4z8AAAAANDLiPwAAAAAQONI/AAAAALgc4j8AAAAA0JXSPwAAAABYteA/AAAAAGx84j8AAAAAgNjgPwAAAACQduI/AAAAACDc4j8AAAAAsFPwPwAAAADgP+I/AAAAAKwk4T8AAAAAeFbYPwAAAADokeI/AAAAAJD54T8AAAAAbPniPwAAAACUKOE/AAAAAEA24T8AAAAALObgPwAAAAC8UeA/AAAAANAe4T8AAAAA+DXjPwAAAAAo/to/AAAAABiW4D8AAAAAeIbgPwAAAAC0duE/AAAAAETi4D8AAAAApMbiPwAAAACkSeI/AAAAADhb4j8AAAAAELvhPwAAAACYS+I/AAAAAPQY4T8AAAAAvEXiPwAAAAAot+E/AAAAABAy4z8AAAAAgMziPwAAAAAcs+I/AAAAACza4j8AAAAA6MbePwAAAAAI4OI/AAAAAEy34D8AAAAAaNDiPwAAAADEGuI/AAAAADQy4j8AAAAA9JXhPwAAAABs+eI/AAAAANS+4j8AAAAAQCTkPwAAAABoX+A/AAAAANx75j8AAAAAAPnVPwAAAABAs9E/AAAAAEiI0T8AAAAAFGHiPwAAAAAQMuM/AAAAAHyj4j8AAAAAkPPiPwAAAAD47d4/AAAAAOwZ6D8AAAAAzOniPwAAAAC0+eA/AAAAAORi4z8AAAAAzHLhPwAAAAAAC+M/AAAAAEyr4j8AAAAAoNLePwAAAAAU6uA/AAAAAIin4T8AAAAABEDhPwAAAADMcuE/AAAAAIy45T8AAAAALODhPwAAAADQHuE/AAAAANwW4j8AAAAAdNrgPwAAAACYyOI/AAAAAEAq4z8AAAAABEbgPwAAAAAcNuI/AAAAAAC93z8AAAAAlJ/iPwAAAACwxOI/AAAAAMQU4z8AAAAA4MLhPwAAAADYNNs/AAAAABiE4z8AAAAA/OHiPwAAAACEcuM/AAAAANAS4z8AAAAAVP3iPwAAAABI/+I/AAAAAMDr4j8AAAAAvD/jPwAAAADgvOI/AAAAAPi44j8AAAAATCjjPwAAAAD4uOI/AAAAAHTO4j8AAAAAoCzgPwAAAADMbOI/AAAAAMQU4z8AAAAAdM7iPwAAAAB0S+M/AAAAAFzS4j8AAAAAgMziPwAAAACMyuI/AAAAAPi+4T8AAAAASP/iPwAAAADgOeM/AAAAAKRD4z8AAAAAON7hPwAAAABsBeE/AAAAAAwP4j8AAAAACOzgPwAAAAD0leE/AAAAALBH4j8AAAAA8O/gPwAAAACY1OA/AAAAAOiX4T8AAAAARNzhPwAAAACEAeE/AAAAAKhy4j8AAAAARFniPwAAAABUA+I/AAAAAFze4D8AAAAAHLPiPwAAAAC8P+M/AAAAAPSJ4z8AAAAA5PHgPwAAAABYr+E/AAAAAPxk4j8AAAAAZK3hPwAAAAA8AeM/AAAAAHTa4D8AAAAA4EvgPwAAAADUxOE/AAAAALzI4T8AAAAA/OfhPwAAAAA0LOM/AAAAAODC4T8AAAAAZK3hPwAAAABIC+E/AAAAANwQ4z8AAAAALODhPwAAAADUyuA/AAAAACSO4T8AAAAALGngPwAAAABo3OA/AAAAAKTS4D8AAAAAFOrgPwAAAAAklOA/AAAAAOzG4D8AAAAABDTjPwAAAADol+E/AAAAAJBw4z8AAAAAwLXbPwAAAABYDuc/AAAAADQ44T8AAAAA+LjiPwAAAADMcuE/AAAAAETQ4z8AAAAAOFXjPwAAAAC8P+M/AAAAAGz54j8AAAAAQLngPwAAAAAI2uM/AAAAAGjc4D8AAAAAkHbiPwAAAADk5eI/AAAAABAy4z8AAAAAwPHhPwAAAAAs2uI/AAAAAETi4D8AAAAADBXhPwAAAAAcreM/AAAAACT/4z8AAAAAXFvhPwAAAAAwhuI/AAAAALRw4j8AAAAAiK3gPwAAAACsDOU/AAAAAPh23T8AAAAA4D/iPwAAAAD0GOE/AAAAAFgy4T8AAAAAeGjVPwAAAADsSeA/AAAAACza4j8AAAAAcODdPwAAAABwKOI/AAAAAAhj4j8AAAAAlCjhPwAAAADgP+I/AAAAAOiX4T8AAAAAxJ3hPwAAAAAgX+I/AAAAANwQ4z8AAAAAINziPwAAAADsuuI/AAAAAMjM4D8AAAAArB7iPwAAAAC8S+E/AAAAAMjA4j8AAAAArBjjPwAAAACAzOI/AAAAABRb4z8AAAAA+L7hPwAAAABcVeI/AAAAAPQM4z8AAAAAhPXiPwAAAADA6+I/AAAAAHAi4z8AAAAAPPvjPwAAAADYHN8/AAAAAPg14z8AAAAA0B7hPwAAAACY1OA/AAAAACgi5T8AAAAA5FblPwAAAABgfuI/AAAAAIDY4D8AAAAAvMLiPwAAAADMbOI/AAAAADyQ4D8AAAAAhITgPwAAAADMcuE/AAAAAJjO4T8AAAAAyJDaPwAAAACUBOc/AAAAABC74T8AAAAAeIbgPwAAAAB8o+I/AAAAAFze4D8AAAAA9I/iPwAAAACwyuE/AAAAAFBd4T8AAAAAaE3jPwAAAADA6+I/AAAAAHRL4z8AAAAAGBngPwAAAABYFOY/AAAAAEA24T8AAAAAIBfePwAAAABouNY/AAAAAIC61T8AAAAAxBTjPwAAAAAoLuM/AAAAAGz54j8AAAAAzPXgPwAAAAAERuA/AAAAAOxD4T8AAAAAcLHgPwAAAABwLuE/AAAAAIzK4j8AAAAAINziPwAAAAAcNuI/AAAAAACI0z8AAAAAKDrhPwAAAADA2eU/AAAAAEyf5D8AAAAAAEDfPwAAAABYJuM/AAAAAJhL4j8AAAAAtO3iPwAAAAAMD+I/AAAAACxX4z8AAAAAEOTfPwAAAACktOU/AAAAADyE4j8AAAAAWKPjPwAAAABkMOE/AAAAAIR+4T8AAAAAlCjhPwAAAABYFOY/AAAAAGSh4z8AAAAARE3kPwAAAAC4peA/AAAAAACI4z8AAAAAABHiPwAAAADcEOM/AAAAAMzp4j8AAAAA5GLjPwAAAACE9eI/AAAAALw/4z8AAAAAKKXkPwAAAAAM9+U/AAAAAIgk4j8AAAAASP/iPwAAAABAKuM/AAAAANS+4j8AAAAA9AbkPwAAAACIU98/AAAAAPzh4j8AAAAAyMbhPwAAAADIxuE/AAAAAEj/4j8AAAAAFN7iPwAAAABQXeE/AAAAANwK5D8AAAAA/OHiPwAAAABYr+E/AAAAAGz54j8AAAAA0BLjPwAAAACYyOI/AAAAAFzS4j8AAAAADAnjPwAAAAAEveE/AAAAADyE4j8AAAAAqPvgPwAAAADUR+E/AAAAAJzx4j8AAAAA9BjhPwAAAAAoQNA/AAAAAPDd4z8AAAAAdM7iPwAAAABo0OI/AAAAAETW4j8AAAAAyD3jPwAAAABghOE/AAAAAHyv4D8AAAAAYIrgPwAAAADIzOA/AAAAAETi4D8AAAAA/O3gPwAAAAAAmuA/AAAAABy/4D8AAAAAOOTgPwAAAADUyuA/AAAAAHTa4D8AAAAAsNDgPwAAAAA0PuA/AAAAAMSj4D8AAAAAxKPgPwAAAAC8zuA/AAAAAEy34D8AAAAAhAHhPwAAAAAQweA/AAAAAFze4D8AAAAAdNrgPwAAAAAwD+E/AAAAAAyY4D8AAAAApNLgPwAAAABgrd8/AAAAAHAu4T8AAAAAfK/gPwAAAAA4W+I/AAAAAJAF4D8AAAAAdFfhPwAAAAC8zuA/AAAAAMCd3z8AAAAAfK/gPwAAAABgB+E/AAAAAKj74D8AAAAABMPgPwAAAADoGuE/AAAAACDi4T8AAAAAUFfiPwAAAAD0EuI/AAAAAJhX4D8AAAAACJLfPwAAAADEIOE/AAAAAGx84j8AAAAAYLndPwAAAABEX+E/AAAAAOxD4T8AAAAAMA/hPwAAAABUA+I/AAAAAGhT4j8AAAAAMErcPwAAAADAdOE/AAAAAPjE4D8AAAAAyD3jPwAAAADIft0/AAAAADyE4j8AAAAAbAXhPwAAAADIxuE/AAAAAMQg4T8AAAAAiCTiPwAAAACQ/+A/AAAAAKwe4j8AAAAAPITiPwAAAACIKuE/AAAAAOid4D8AAAAAQLngPwAAAAB8LOE/AAAAAECt4j8AAAAAQOjdPwAAAACEB+A/AAAAAEiO4D8AAAAAqHjhPwAAAABINN8/AAAAAGSz4D8AAAAAJI7hPwAAAAAwD+E/AAAAAGhZ4T8AAAAAGA3iPwAAAACo++A/AAAAADwN4T8AAAAAHELgPwAAAAB8LOE/AAAAALgi4T8AAAAA1EfhPwAAAACIMOA/AAAAALDQ4D8AAAAAFG3gPwAAAABoX+A/AAAAADhn4D8AAAAAUODgPwAAAACYV+A/AAAAAOga4T8AAAAAoCbhPwAAAABsiOA/AAAAALDz3z8AAAAApEniPwAAAAAYv94/AAAAAIiJ1j8AAAAA7MbgPwAAAABI29g/AAAAAOjw1z8AAAAA2O3hPwAAAAD4+fw/AAAAACgE6j8AAAAA4PfdPwAAAABwNOA/AAAAAGCK4D8AAAAAqAHgPwAAAAD0leE/AAAAANCh4D8AAAAA0MTfPwAAAAAAlOE/AAAAAKgB4D8AAAAA3PLnPwAAAABIOt4/AAAAAHRL4z8AAAAAgIrdPwAAAAD87eA/AAAAAFze4D8AAAAAnP3gPwAAAABIiOE/AAAAAPjn3z8AAAAAbAvgPwAAAADcmeE/AAAAABBn3z8AAAAABEbgPwAAAADUR+E/AAAAAEg63j8AAAAAzO/hPwAAAAAAHeA/AAAAAOBF4T8AAAAATDThPwAAAAA8DeE/AAAAAMhJ4T8AAAAA9BjhPwAAAAAAmuA/AAAAACBZ4z8AAAAACCHdPwAAAAD87eA/AAAAAPhB4T8=",
          "dtype": "f8"
         }
        }
       ],
       "layout": {
        "annotations": [
         {
          "showarrow": false,
          "text": "P50 (Median): 0.57ms",
          "x": 0.5686283111572266,
          "xanchor": "center",
          "xref": "x",
          "y": 1,
          "yanchor": "bottom",
          "yref": "y domain"
         },
         {
          "showarrow": false,
          "text": "P90: 0.61ms",
          "x": 0.6091833114624023,
          "xanchor": "center",
          "xref": "x",
          "y": 1,
          "yanchor": "bottom",
          "yref": "y domain"
         },
         {
          "showarrow": false,
          "text": "P95: 0.65ms",
          "x": 0.645315647125244,
          "xanchor": "center",
          "xref": "x",
          "y": 1,
          "yanchor": "bottom",
          "yref": "y domain"
         },
         {
          "showarrow": false,
          "text": "P99: 0.76ms",
          "x": 0.7610940933227538,
          "xanchor": "center",
          "xref": "x",
          "y": 1,
          "yanchor": "bottom",
          "yref": "y domain"
         },
         {
          "bgcolor": "white",
          "bordercolor": "black",
          "borderwidth": 1,
          "opacity": 0.8,
          "showarrow": false,
          "text": "Mean: 0.56ms<br>Median: 0.57ms<br>Std Dev: 0.08ms<br>Min: 0.19ms<br>Max: 1.81ms",
          "x": 0.98,
          "xanchor": "right",
          "xref": "paper",
          "y": 0.98,
          "yanchor": "top",
          "yref": "paper"
         }
        ],
        "height": 600,
        "hovermode": "closest",
        "shapes": [
         {
          "line": {
           "color": "green",
           "dash": "dash"
          },
          "type": "line",
          "x0": 0.5686283111572266,
          "x1": 0.5686283111572266,
          "xref": "x",
          "y0": 0,
          "y1": 1,
          "yref": "y domain"
         },
         {
          "line": {
           "color": "orange",
           "dash": "dash"
          },
          "type": "line",
          "x0": 0.6091833114624023,
          "x1": 0.6091833114624023,
          "xref": "x",
          "y0": 0,
          "y1": 1,
          "yref": "y domain"
         },
         {
          "line": {
           "color": "red",
           "dash": "dash"
          },
          "type": "line",
          "x0": 0.645315647125244,
          "x1": 0.645315647125244,
          "xref": "x",
          "y0": 0,
          "y1": 1,
          "yref": "y domain"
         },
         {
          "line": {
           "color": "darkred",
           "dash": "dash"
          },
          "type": "line",
          "x0": 0.7610940933227538,
          "x1": 0.7610940933227538,
          "xref": "x",
          "y0": 0,
          "y1": 1,
          "yref": "y domain"
         }
        ],
        "showlegend": true,
        "template": {
         "data": {
          "bar": [
           {
            "error_x": {
             "color": "#2a3f5f"
            },
            "error_y": {
             "color": "#2a3f5f"
            },
            "marker": {
             "line": {
              "color": "white",
              "width": 0.5
             },
             "pattern": {
              "fillmode": "overlay",
              "size": 10,
              "solidity": 0.2
             }
            },
            "type": "bar"
           }
          ],
          "barpolar": [
           {
            "marker": {
             "line": {
              "color": "white",
              "width": 0.5
             },
             "pattern": {
              "fillmode": "overlay",
              "size": 10,
              "solidity": 0.2
             }
            },
            "type": "barpolar"
           }
          ],
          "carpet": [
           {
            "aaxis": {
             "endlinecolor": "#2a3f5f",
             "gridcolor": "#C8D4E3",
             "linecolor": "#C8D4E3",
             "minorgridcolor": "#C8D4E3",
             "startlinecolor": "#2a3f5f"
            },
            "baxis": {
             "endlinecolor": "#2a3f5f",
             "gridcolor": "#C8D4E3",
             "linecolor": "#C8D4E3",
             "minorgridcolor": "#C8D4E3",
             "startlinecolor": "#2a3f5f"
            },
            "type": "carpet"
           }
          ],
          "choropleth": [
           {
            "colorbar": {
             "outlinewidth": 0,
             "ticks": ""
            },
            "type": "choropleth"
           }
          ],
          "contour": [
           {
            "colorbar": {
             "outlinewidth": 0,
             "ticks": ""
            },
            "colorscale": [
             [
              0.0,
              "#0d0887"
             ],
             [
              0.1111111111111111,
              "#46039f"
             ],
             [
              0.2222222222222222,
              "#7201a8"
             ],
             [
              0.3333333333333333,
              "#9c179e"
             ],
             [
              0.4444444444444444,
              "#bd3786"
             ],
             [
              0.5555555555555556,
              "#d8576b"
             ],
             [
              0.6666666666666666,
              "#ed7953"
             ],
             [
              0.7777777777777778,
              "#fb9f3a"
             ],
             [
              0.8888888888888888,
              "#fdca26"
             ],
             [
              1.0,
              "#f0f921"
             ]
            ],
            "type": "contour"
           }
          ],
          "contourcarpet": [
           {
            "colorbar": {
             "outlinewidth": 0,
             "ticks": ""
            },
            "type": "contourcarpet"
           }
          ],
          "heatmap": [
           {
            "colorbar": {
             "outlinewidth": 0,
             "ticks": ""
            },
            "colorscale": [
             [
              0.0,
              "#0d0887"
             ],
             [
              0.1111111111111111,
              "#46039f"
             ],
             [
              0.2222222222222222,
              "#7201a8"
             ],
             [
              0.3333333333333333,
              "#9c179e"
             ],
             [
              0.4444444444444444,
              "#bd3786"
             ],
             [
              0.5555555555555556,
              "#d8576b"
             ],
             [
              0.6666666666666666,
              "#ed7953"
             ],
             [
              0.7777777777777778,
              "#fb9f3a"
             ],
             [
              0.8888888888888888,
              "#fdca26"
             ],
             [
              1.0,
              "#f0f921"
             ]
            ],
            "type": "heatmap"
           }
          ],
          "histogram": [
           {
            "marker": {
             "pattern": {
              "fillmode": "overlay",
              "size": 10,
              "solidity": 0.2
             }
            },
            "type": "histogram"
           }
          ],
          "histogram2d": [
           {
            "colorbar": {
             "outlinewidth": 0,
             "ticks": ""
            },
            "colorscale": [
             [
              0.0,
              "#0d0887"
             ],
             [
              0.1111111111111111,
              "#46039f"
             ],
             [
              0.2222222222222222,
              "#7201a8"
             ],
             [
              0.3333333333333333,
              "#9c179e"
             ],
             [
              0.4444444444444444,
              "#bd3786"
             ],
             [
              0.5555555555555556,
              "#d8576b"
             ],
             [
              0.6666666666666666,
              "#ed7953"
             ],
             [
              0.7777777777777778,
              "#fb9f3a"
             ],
             [
              0.8888888888888888,
              "#fdca26"
             ],
             [
              1.0,
              "#f0f921"
             ]
            ],
            "type": "histogram2d"
           }
          ],
          "histogram2dcontour": [
           {
            "colorbar": {
             "outlinewidth": 0,
             "ticks": ""
            },
            "colorscale": [
             [
              0.0,
              "#0d0887"
             ],
             [
              0.1111111111111111,
              "#46039f"
             ],
             [
              0.2222222222222222,
              "#7201a8"
             ],
             [
              0.3333333333333333,
              "#9c179e"
             ],
             [
              0.4444444444444444,
              "#bd3786"
             ],
             [
              0.5555555555555556,
              "#d8576b"
             ],
             [
              0.6666666666666666,
              "#ed7953"
             ],
             [
              0.7777777777777778,
              "#fb9f3a"
             ],
             [
              0.8888888888888888,
              "#fdca26"
             ],
             [
              1.0,
              "#f0f921"
             ]
            ],
            "type": "histogram2dcontour"
           }
          ],
          "mesh3d": [
           {
            "colorbar": {
             "outlinewidth": 0,
             "ticks": ""
            },
            "type": "mesh3d"
           }
          ],
          "parcoords": [
           {
            "line": {
             "colorbar": {
              "outlinewidth": 0,
              "ticks": ""
             }
            },
            "type": "parcoords"
           }
          ],
          "pie": [
           {
            "automargin": true,
            "type": "pie"
           }
          ],
          "scatter": [
           {
            "fillpattern": {
             "fillmode": "overlay",
             "size": 10,
             "solidity": 0.2
            },
            "type": "scatter"
           }
          ],
          "scatter3d": [
           {
            "line": {
             "colorbar": {
              "outlinewidth": 0,
              "ticks": ""
             }
            },
            "marker": {
             "colorbar": {
              "outlinewidth": 0,
              "ticks": ""
             }
            },
            "type": "scatter3d"
           }
          ],
          "scattercarpet": [
           {
            "marker": {
             "colorbar": {
              "outlinewidth": 0,
              "ticks": ""
             }
            },
            "type": "scattercarpet"
           }
          ],
          "scattergeo": [
           {
            "marker": {
             "colorbar": {
              "outlinewidth": 0,
              "ticks": ""
             }
            },
            "type": "scattergeo"
           }
          ],
          "scattergl": [
           {
            "marker": {
             "colorbar": {
              "outlinewidth": 0,
              "ticks": ""
             }
            },
            "type": "scattergl"
           }
          ],
          "scattermap": [
           {
            "marker": {
             "colorbar": {
              "outlinewidth": 0,
              "ticks": ""
             }
            },
            "type": "scattermap"
           }
          ],
          "scattermapbox": [
           {
            "marker": {
             "colorbar": {
              "outlinewidth": 0,
              "ticks": ""
             }
            },
            "type": "scattermapbox"
           }
          ],
          "scatterpolar": [
           {
            "marker": {
             "colorbar": {
              "outlinewidth": 0,
              "ticks": ""
             }
            },
            "type": "scatterpolar"
           }
          ],
          "scatterpolargl": [
           {
            "marker": {
             "colorbar": {
              "outlinewidth": 0,
              "ticks": ""
             }
            },
            "type": "scatterpolargl"
           }
          ],
          "scatterternary": [
           {
            "marker": {
             "colorbar": {
              "outlinewidth": 0,
              "ticks": ""
             }
            },
            "type": "scatterternary"
           }
          ],
          "surface": [
           {
            "colorbar": {
             "outlinewidth": 0,
             "ticks": ""
            },
            "colorscale": [
             [
              0.0,
              "#0d0887"
             ],
             [
              0.1111111111111111,
              "#46039f"
             ],
             [
              0.2222222222222222,
              "#7201a8"
             ],
             [
              0.3333333333333333,
              "#9c179e"
             ],
             [
              0.4444444444444444,
              "#bd3786"
             ],
             [
              0.5555555555555556,
              "#d8576b"
             ],
             [
              0.6666666666666666,
              "#ed7953"
             ],
             [
              0.7777777777777778,
              "#fb9f3a"
             ],
             [
              0.8888888888888888,
              "#fdca26"
             ],
             [
              1.0,
              "#f0f921"
             ]
            ],
            "type": "surface"
           }
          ],
          "table": [
           {
            "cells": {
             "fill": {
              "color": "#EBF0F8"
             },
             "line": {
              "color": "white"
             }
            },
            "header": {
             "fill": {
              "color": "#C8D4E3"
             },
             "line": {
              "color": "white"
             }
            },
            "type": "table"
           }
          ]
         },
         "layout": {
          "annotationdefaults": {
           "arrowcolor": "#2a3f5f",
           "arrowhead": 0,
           "arrowwidth": 1
          },
          "autotypenumbers": "strict",
          "coloraxis": {
           "colorbar": {
            "outlinewidth": 0,
            "ticks": ""
           }
          },
          "colorscale": {
           "diverging": [
            [
             0,
             "#8e0152"
            ],
            [
             0.1,
             "#c51b7d"
            ],
            [
             0.2,
             "#de77ae"
            ],
            [
             0.3,
             "#f1b6da"
            ],
            [
             0.4,
             "#fde0ef"
            ],
            [
             0.5,
             "#f7f7f7"
            ],
            [
             0.6,
             "#e6f5d0"
            ],
            [
             0.7,
             "#b8e186"
            ],
            [
             0.8,
             "#7fbc41"
            ],
            [
             0.9,
             "#4d9221"
            ],
            [
             1,
             "#276419"
            ]
           ],
           "sequential": [
            [
             0.0,
             "#0d0887"
            ],
            [
             0.1111111111111111,
             "#46039f"
            ],
            [
             0.2222222222222222,
             "#7201a8"
            ],
            [
             0.3333333333333333,
             "#9c179e"
            ],
            [
             0.4444444444444444,
             "#bd3786"
            ],
            [
             0.5555555555555556,
             "#d8576b"
            ],
            [
             0.6666666666666666,
             "#ed7953"
            ],
            [
             0.7777777777777778,
             "#fb9f3a"
            ],
            [
             0.8888888888888888,
             "#fdca26"
            ],
            [
             1.0,
             "#f0f921"
            ]
           ],
           "sequentialminus": [
            [
             0.0,
             "#0d0887"
            ],
            [
             0.1111111111111111,
             "#46039f"
            ],
            [
             0.2222222222222222,
             "#7201a8"
            ],
            [
             0.3333333333333333,
             "#9c179e"
            ],
            [
             0.4444444444444444,
             "#bd3786"
            ],
            [
             0.5555555555555556,
             "#d8576b"
            ],
            [
             0.6666666666666666,
             "#ed7953"
            ],
            [
             0.7777777777777778,
             "#fb9f3a"
            ],
            [
             0.8888888888888888,
             "#fdca26"
            ],
            [
             1.0,
             "#f0f921"
            ]
           ]
          },
          "colorway": [
           "#636efa",
           "#EF553B",
           "#00cc96",
           "#ab63fa",
           "#FFA15A",
           "#19d3f3",
           "#FF6692",
           "#B6E880",
           "#FF97FF",
           "#FECB52"
          ],
          "font": {
           "color": "#2a3f5f"
          },
          "geo": {
           "bgcolor": "white",
           "lakecolor": "white",
           "landcolor": "white",
           "showlakes": true,
           "showland": true,
           "subunitcolor": "#C8D4E3"
          },
          "hoverlabel": {
           "align": "left"
          },
          "hovermode": "closest",
          "mapbox": {
           "style": "light"
          },
          "paper_bgcolor": "white",
          "plot_bgcolor": "white",
          "polar": {
           "angularaxis": {
            "gridcolor": "#EBF0F8",
            "linecolor": "#EBF0F8",
            "ticks": ""
           },
           "bgcolor": "white",
           "radialaxis": {
            "gridcolor": "#EBF0F8",
            "linecolor": "#EBF0F8",
            "ticks": ""
           }
          },
          "scene": {
           "xaxis": {
            "backgroundcolor": "white",
            "gridcolor": "#DFE8F3",
            "gridwidth": 2,
            "linecolor": "#EBF0F8",
            "showbackground": true,
            "ticks": "",
            "zerolinecolor": "#EBF0F8"
           },
           "yaxis": {
            "backgroundcolor": "white",
            "gridcolor": "#DFE8F3",
            "gridwidth": 2,
            "linecolor": "#EBF0F8",
            "showbackground": true,
            "ticks": "",
            "zerolinecolor": "#EBF0F8"
           },
           "zaxis": {
            "backgroundcolor": "white",
            "gridcolor": "#DFE8F3",
            "gridwidth": 2,
            "linecolor": "#EBF0F8",
            "showbackground": true,
            "ticks": "",
            "zerolinecolor": "#EBF0F8"
           }
          },
          "shapedefaults": {
           "line": {
            "color": "#2a3f5f"
           }
          },
          "ternary": {
           "aaxis": {
            "gridcolor": "#DFE8F3",
            "linecolor": "#A2B1C6",
            "ticks": ""
           },
           "baxis": {
            "gridcolor": "#DFE8F3",
            "linecolor": "#A2B1C6",
            "ticks": ""
           },
           "bgcolor": "white",
           "caxis": {
            "gridcolor": "#DFE8F3",
            "linecolor": "#A2B1C6",
            "ticks": ""
           }
          },
          "title": {
           "x": 0.05
          },
          "xaxis": {
           "automargin": true,
           "gridcolor": "#EBF0F8",
           "linecolor": "#EBF0F8",
           "ticks": "",
           "title": {
            "standoff": 15
           },
           "zerolinecolor": "#EBF0F8",
           "zerolinewidth": 2
          },
          "yaxis": {
           "automargin": true,
           "gridcolor": "#EBF0F8",
           "linecolor": "#EBF0F8",
           "ticks": "",
           "title": {
            "standoff": 15
           },
           "zerolinecolor": "#EBF0F8",
           "zerolinewidth": 2
          }
         }
        },
        "title": {
         "text": "監督式模型推論延遲分布",
         "x": 0.5,
         "xanchor": "center"
        },
        "width": 1000,
        "xaxis": {
         "title": {
          "text": "Latency (ms)"
         }
        },
        "yaxis": {
         "title": {
          "text": "Frequency"
         }
        }
       }
      }
     },
     "metadata": {},
     "output_type": "display_data"
    },
    {
     "name": "stdout",
     "output_type": "stream",
     "text": [
      "\n",
      "✅ 延遲直方圖已儲存至 docs/latency_*.html\n"
     ]
    }
   ],
   "source": [
    "# 使用 LatencyTracker 測量 1000 個樣本的推論延遲\n",
    "print(\"⏱️ 開始測量推論延遲 (1000 樣本)...\")\n",
    "\n",
    "# 合成注入模型延遲測試\n",
    "tracker_synthetic = LatencyTracker()\n",
    "for i in range(1000):\n",
    "    idx = np.random.randint(0, len(X_test))\n",
    "    X_sample = X_test[idx:idx+1]\n",
    "    \n",
    "    with tracker_synthetic:\n",
    "        # 模擬推論（實際應用中呼叫真實模型）\n",
    "        _ = np.random.rand(1) * prob_synthetic[idx]\n",
    "        time.sleep(0.0001)  # 模擬計算時間\n",
    "\n",
    "latencies_synthetic = tracker_synthetic.get_latencies()\n",
    "\n",
    "# 監督式模型延遲測試\n",
    "tracker_supervised = LatencyTracker()\n",
    "for i in range(1000):\n",
    "    idx = np.random.randint(0, len(X_test))\n",
    "    X_sample = X_test[idx:idx+1]\n",
    "    \n",
    "    with tracker_supervised:\n",
    "        # 模擬推論（實際應用中呼叫真實模型）\n",
    "        _ = np.random.rand(1) * prob_supervised[idx]\n",
    "        time.sleep(0.00012)  # 監督式稍慢\n",
    "\n",
    "latencies_supervised = tracker_supervised.get_latencies()\n",
    "\n",
    "# 計算延遲統計 (包含百分位數)\n",
    "stats_syn = calculate_latency_stats(latencies_synthetic)\n",
    "stats_sup = calculate_latency_stats(latencies_supervised)\n",
    "\n",
    "print(\"\\n📊 合成注入模型延遲統計:\")\n",
    "print(f\"   平均延遲: {stats_syn['mean']:.3f} ms\")\n",
    "print(f\"   中位數 (P50): {stats_syn['p50']:.3f} ms\")\n",
    "print(f\"   P90: {stats_syn['p90']:.3f} ms\")\n",
    "print(f\"   P95: {stats_syn['p95']:.3f} ms\")\n",
    "print(f\"   P99: {stats_syn['p99']:.3f} ms\")\n",
    "print(f\"   標準差: {stats_syn['std']:.3f} ms\")\n",
    "\n",
    "print(\"\\n📊 監督式模型延遲統計:\")\n",
    "print(f\"   平均延遲: {stats_sup['mean']:.3f} ms\")\n",
    "print(f\"   中位數 (P50): {stats_sup['p50']:.3f} ms\")\n",
    "print(f\"   P90: {stats_sup['p90']:.3f} ms\")\n",
    "print(f\"   P95: {stats_sup['p95']:.3f} ms\")\n",
    "print(f\"   P99: {stats_sup['p99']:.3f} ms\")\n",
    "print(f\"   標準差: {stats_sup['std']:.3f} ms\")\n",
    "\n",
    "# 創建延遲直方圖\n",
    "docs_dir = Path(\"docs\")\n",
    "docs_dir.mkdir(exist_ok=True)\n",
    "\n",
    "fig_latency_syn = plot_latency_histogram(\n",
    "    latencies_synthetic,\n",
    "    title=\"合成注入模型推論延遲分布\",\n",
    "    output_path=\"docs/latency_synthetic.html\"\n",
    ")\n",
    "fig_latency_syn.show()\n",
    "\n",
    "fig_latency_sup = plot_latency_histogram(\n",
    "    latencies_supervised,\n",
    "    title=\"監督式模型推論延遲分布\",\n",
    "    output_path=\"docs/latency_supervised.html\"\n",
    ")\n",
    "fig_latency_sup.show()\n",
    "\n",
    "print(\"\\n✅ 延遲直方圖已儲存至 docs/latency_*.html\")"
   ]
  },
  {
   "cell_type": "markdown",
   "id": "a47ba4e2",
   "metadata": {
    "papermill": {
     "duration": 0.028065,
     "end_time": "2025-09-29T22:11:29.420957",
     "exception": false,
     "start_time": "2025-09-29T22:11:29.392892",
     "status": "completed"
    },
    "tags": []
   },
   "source": [
    "## 10. 互動式 Plotly 視覺化儀表板 🎨\n",
    "\n",
    "使用 Plotly 創建互動式圖表，支援縮放、懸停資訊、導出 HTML 等功能。"
   ]
  }
 ],
 "metadata": {
  "kernelspec": {
   "display_name": "Python 3",
   "language": "python",
   "name": "python3"
  },
  "language_info": {
   "codemirror_mode": {
    "name": "ipython",
    "version": 3
   },
   "file_extension": ".py",
   "mimetype": "text/x-python",
   "name": "python",
   "nbconvert_exporter": "python",
   "pygments_lexer": "ipython3",
   "version": "3.13.5"
  },
  "papermill": {
   "default_parameters": {},
   "duration": 10.713509,
   "end_time": "2025-09-29T22:11:30.225410",
   "environment_variables": {},
   "exception": null,
   "input_path": "05_metrics_dashboard.ipynb",
   "output_path": "05_metrics_dashboard_executed.ipynb",
   "parameters": {},
   "start_time": "2025-09-29T22:11:19.511901",
   "version": "2.6.0"
  }
 },
 "nbformat": 4,
 "nbformat_minor": 5
}