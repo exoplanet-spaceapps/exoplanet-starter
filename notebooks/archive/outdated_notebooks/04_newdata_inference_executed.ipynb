{
 "cells": [
  {
   "cell_type": "markdown",
   "id": "46576e12",
   "metadata": {
    "papermill": {
     "duration": 0.010157,
     "end_time": "2025-09-29T23:43:00.138504",
     "exception": false,
     "start_time": "2025-09-29T23:43:00.128347",
     "status": "completed"
    },
    "tags": []
   },
   "source": [
    "# 04 · 新資料推論管線（TIC → MAST → BLS/TLS → 機率）\n",
    "\n",
    "## 工作流程\n",
    "1. **單目標推論**：輸入單個 TIC → 下載光曲線 → 預測機率\n",
    "2. **批次處理**：輸入 TIC 列表 → 批次預測 → 排序輸出\n",
    "3. **視覺化**：摺疊光曲線、BLS 功率譜、預測分數\n",
    "4. **GPU 優化**：偵測 L4 GPU 並示範 bfloat16 autocast\n",
    "\n",
    "---"
   ]
  },
  {
   "cell_type": "markdown",
   "id": "7d167043",
   "metadata": {
    "papermill": {
     "duration": 0.008172,
     "end_time": "2025-09-29T23:43:00.153740",
     "exception": false,
     "start_time": "2025-09-29T23:43:00.145568",
     "status": "completed"
    },
    "tags": []
   },
   "source": [
    "## 1. 環境設定與依賴安裝"
   ]
  },
  {
   "cell_type": "code",
   "execution_count": 1,
   "id": "b1971b4f",
   "metadata": {
    "execution": {
     "iopub.execute_input": "2025-09-29T23:43:00.168402Z",
     "iopub.status.busy": "2025-09-29T23:43:00.167790Z",
     "iopub.status.idle": "2025-09-29T23:43:05.702497Z",
     "shell.execute_reply": "2025-09-29T23:43:05.701621Z"
    },
    "papermill": {
     "duration": 5.543415,
     "end_time": "2025-09-29T23:43:05.703677",
     "exception": false,
     "start_time": "2025-09-29T23:43:00.160262",
     "status": "completed"
    },
    "tags": []
   },
   "outputs": [
    {
     "name": "stderr",
     "output_type": "stream",
     "text": [
      "系統找不到指定的檔案。\n"
     ]
    },
    {
     "name": "stdout",
     "output_type": "stream",
     "text": [
      "✅ 套件安裝完成!\n",
      "⚠️ 請現在手動重啟 Runtime: Runtime → Restart runtime\n",
      "   然後繼續執行下一個 cell\n"
     ]
    },
    {
     "name": "stderr",
     "output_type": "stream",
     "text": [
      "ERROR: Invalid requirement: \"'xgboost\": Expected package name at the start of dependency specifier\n",
      "    'xgboost\n",
      "    ^\n"
     ]
    }
   ],
   "source": [
    "# 步驟 1: 安裝套件 (需要手動重啟 Runtime)\n",
    "# ⚠️ 重要: 執行此 cell 後，請手動重啟 Runtime (Runtime → Restart runtime)\n",
    "\n",
    "!pip install -q numpy==1.26.4 pandas astropy scipy'<1.13' matplotlib scikit-learn\n",
    "!pip install -q lightkurve astroquery joblib seaborn\n",
    "!pip install -q 'xgboost>=2.0.0' plotly pyyaml\n",
    "\n",
    "print(\"✅ 套件安裝完成!\")\n",
    "print(\"⚠️ 請現在手動重啟 Runtime: Runtime → Restart runtime\")\n",
    "print(\"   然後繼續執行下一個 cell\")"
   ]
  },
  {
   "cell_type": "code",
   "execution_count": 2,
   "id": "3e87d098",
   "metadata": {
    "execution": {
     "iopub.execute_input": "2025-09-29T23:43:05.714701Z",
     "iopub.status.busy": "2025-09-29T23:43:05.713972Z",
     "iopub.status.idle": "2025-09-29T23:43:05.723092Z",
     "shell.execute_reply": "2025-09-29T23:43:05.721945Z"
    },
    "papermill": {
     "duration": 0.015847,
     "end_time": "2025-09-29T23:43:05.724772",
     "exception": false,
     "start_time": "2025-09-29T23:43:05.708925",
     "status": "completed"
    },
    "tags": []
   },
   "outputs": [
    {
     "name": "stdout",
     "output_type": "stream",
     "text": [
      "Running in: Local environment\n",
      "Project directory: C:\\Users\\thc1006\\Desktop\\dev\\exoplanet-starter\n"
     ]
    }
   ],
   "source": [
    "# Environment Detection\n",
    "import sys\n",
    "import os\n",
    "from pathlib import Path\n",
    "\n",
    "# Detect environment\n",
    "IN_COLAB = 'google.colab' in sys.modules or '/content' in os.getcwd()\n",
    "\n",
    "if IN_COLAB:\n",
    "    print(\"Running in: Google Colab\")\n",
    "    \n",
    "    # Clone repo if needed\n",
    "    project_dir = Path('/content/exoplanet-starter')\n",
    "    if not project_dir.exists():\n",
    "        print(\"Cloning repository...\")\n",
    "        !git clone https://github.com/exoplanet-spaceapps/exoplanet-starter.git\n",
    "        print(\"Repository cloned\")\n",
    "    \n",
    "    # Change to project directory\n",
    "    os.chdir(str(project_dir))\n",
    "    \n",
    "    # Add to Python path\n",
    "    sys.path.insert(0, str(project_dir))\n",
    "    sys.path.insert(0, str(project_dir / 'src'))\n",
    "    sys.path.insert(0, str(project_dir / 'notebooks'))\n",
    "    \n",
    "    print(f\"Working directory: {os.getcwd()}\")\n",
    "    print(f\"Python path configured\")\n",
    "    \n",
    "else:\n",
    "    print(\"Running in: Local environment\")\n",
    "    # Local paths\n",
    "    project_dir = Path.cwd().parent if 'notebooks' in str(Path.cwd()) else Path.cwd()\n",
    "    sys.path.insert(0, str(project_dir / 'src'))\n",
    "    sys.path.insert(0, str(project_dir))\n",
    "\n",
    "print(f\"Project directory: {project_dir}\")"
   ]
  },
  {
   "cell_type": "code",
   "execution_count": 3,
   "id": "031a27b4",
   "metadata": {
    "execution": {
     "iopub.execute_input": "2025-09-29T23:43:05.737254Z",
     "iopub.status.busy": "2025-09-29T23:43:05.736918Z",
     "iopub.status.idle": "2025-09-29T23:43:05.844154Z",
     "shell.execute_reply": "2025-09-29T23:43:05.842952Z"
    },
    "papermill": {
     "duration": 0.1157,
     "end_time": "2025-09-29T23:43:05.845733",
     "exception": false,
     "start_time": "2025-09-29T23:43:05.730033",
     "status": "completed"
    },
    "tags": []
   },
   "outputs": [
    {
     "name": "stdout",
     "output_type": "stream",
     "text": [
      "NumPy 版本: 2.3.1\n",
      "Python 版本: 3.13.5 (tags/v3.13.5:6cb20a2, Jun 11 2025, 16:15:46) [MSC v.1943 64 bit (AMD64)]\n",
      "⚠️ NumPy 2.0+ 檢測到！某些套件可能不相容\n",
      "   繼續執行，但如遇到錯誤請考慮降級至 NumPy 1.26.4\n",
      "💻 在本地環境執行\n",
      "\n",
      "✅ 環境設定完成！可以繼續執行後續 cells\n"
     ]
    }
   ],
   "source": [
    "# 步驟 2: 驗證環境 (Runtime 重啟後執行)\n",
    "import numpy as np\n",
    "import sys\n",
    "import warnings\n",
    "warnings.filterwarnings('ignore')\n",
    "\n",
    "# 檢查 NumPy 版本\n",
    "print(f\"NumPy 版本: {np.__version__}\")\n",
    "print(f\"Python 版本: {sys.version}\")\n",
    "\n",
    "# ⚠️ NumPy 2.0+ compatibility: Continue with warning instead of failing\n",
    "if np.__version__.startswith('2.'):\n",
    "    print(\"⚠️ NumPy 2.0+ 檢測到！某些套件可能不相容\")\n",
    "    print(\"   繼續執行，但如遇到錯誤請考慮降級至 NumPy 1.26.4\")\n",
    "else:\n",
    "    print(\"✅ NumPy 版本正確 (< 2.0)\")\n",
    "    \n",
    "# 檢查是否在 Colab 環境\n",
    "IN_COLAB = 'google.colab' in sys.modules\n",
    "\n",
    "if IN_COLAB:\n",
    "    print(\"📍 在 Google Colab 環境執行\")\n",
    "    # Clone repository if needed\n",
    "    import os\n",
    "    if not os.path.exists('/content/exoplanet-starter'):\n",
    "        !git clone https://github.com/exoplanet-spaceapps/exoplanet-starter.git /content/exoplanet-starter\n",
    "        os.chdir('/content/exoplanet-starter')\n",
    "    sys.path.append('/content/exoplanet-starter')\n",
    "else:\n",
    "    print(\"💻 在本地環境執行\")\n",
    "    import os\n",
    "    # Handle Windows paths properly\n",
    "    if '__file__' in globals():\n",
    "        parent_dir = os.path.dirname(os.path.dirname(os.path.abspath(__file__)))\n",
    "    else:\n",
    "        parent_dir = os.path.dirname(os.getcwd()) if 'notebooks' in os.getcwd() else os.getcwd()\n",
    "    sys.path.append(parent_dir)\n",
    "\n",
    "print(\"\\n✅ 環境設定完成！可以繼續執行後續 cells\")"
   ]
  },
  {
   "cell_type": "markdown",
   "id": "84ed1c54",
   "metadata": {
    "papermill": {
     "duration": 0.010702,
     "end_time": "2025-09-29T23:43:05.863470",
     "exception": false,
     "start_time": "2025-09-29T23:43:05.852768",
     "status": "completed"
    },
    "tags": []
   },
   "source": [
    "## 2. GPU 偵測與優化設定"
   ]
  },
  {
   "cell_type": "code",
   "execution_count": 4,
   "id": "2a065451",
   "metadata": {
    "execution": {
     "iopub.execute_input": "2025-09-29T23:43:05.887040Z",
     "iopub.status.busy": "2025-09-29T23:43:05.886333Z",
     "iopub.status.idle": "2025-09-29T23:43:08.427467Z",
     "shell.execute_reply": "2025-09-29T23:43:08.426943Z"
    },
    "papermill": {
     "duration": 2.552742,
     "end_time": "2025-09-29T23:43:08.428376",
     "exception": false,
     "start_time": "2025-09-29T23:43:05.875634",
     "status": "completed"
    },
    "tags": []
   },
   "outputs": [
    {
     "name": "stdout",
     "output_type": "stream",
     "text": [
      "🖥️ GPU 偵測結果:\n",
      "   型號: NVIDIA GeForce RTX 3050 Laptop GPU\n",
      "   記憶體: 4.00 GB\n",
      "   CUDA 運算能力: 8.6\n",
      "\n",
      "============================================================\n"
     ]
    }
   ],
   "source": [
    "# GPU 偵測與優化設定\n",
    "gpu_info = {\n",
    "    'available': False,\n",
    "    'device_name': None,\n",
    "    'is_l4': False,\n",
    "    'supports_bfloat16': False\n",
    "}\n",
    "\n",
    "try:\n",
    "    import torch\n",
    "    \n",
    "    if torch.cuda.is_available():\n",
    "        gpu_info['available'] = True\n",
    "        gpu_info['device_name'] = torch.cuda.get_device_name(0)\n",
    "        gpu_props = torch.cuda.get_device_properties(0)\n",
    "        \n",
    "        print(f\"🖥️ GPU 偵測結果:\")\n",
    "        print(f\"   型號: {gpu_info['device_name']}\")\n",
    "        print(f\"   記憶體: {gpu_props.total_memory / 1024**3:.2f} GB\")\n",
    "        print(f\"   CUDA 運算能力: {gpu_props.major}.{gpu_props.minor}\")\n",
    "        \n",
    "        # 檢查是否為 L4 GPU\n",
    "        if 'L4' in gpu_info['device_name']:\n",
    "            gpu_info['is_l4'] = True\n",
    "            gpu_info['supports_bfloat16'] = True\n",
    "            print(\"\\n💡 偵測到 NVIDIA L4 GPU！\")\n",
    "            print(\"   • 支援高效能 BF16 推論\")\n",
    "            print(\"   • 建議使用 autocast 進行加速\")\n",
    "        \n",
    "        # 檢查 bfloat16 支援\n",
    "        if hasattr(torch.cuda, 'is_bf16_supported'):\n",
    "            gpu_info['supports_bfloat16'] = torch.cuda.is_bf16_supported()\n",
    "            \n",
    "    else:\n",
    "        print(\"⚠️ 未偵測到 CUDA GPU\")\n",
    "        \n",
    "except ImportError:\n",
    "    print(\"⚠️ PyTorch 未安裝，無法使用 GPU 加速\")\n",
    "    # 嘗試使用 nvidia-smi\n",
    "    try:\n",
    "        result = subprocess.run(\n",
    "            ['nvidia-smi', '--query-gpu=name,memory.total', '--format=csv,noheader'],\n",
    "            capture_output=True, text=True, check=False\n",
    "        )\n",
    "        if result.returncode == 0:\n",
    "            gpu_name, gpu_memory = result.stdout.strip().split(', ')\n",
    "            print(f\"\\n🖥️ 通過 nvidia-smi 偵測到 GPU:\")\n",
    "            print(f\"   型號: {gpu_name}\")\n",
    "            print(f\"   記憶體: {gpu_memory}\")\n",
    "            if 'L4' in gpu_name:\n",
    "                gpu_info['is_l4'] = True\n",
    "                print(\"   💡 L4 GPU 支援 BF16 加速\")\n",
    "    except:\n",
    "        print(\"   將使用 CPU 進行推論\")\n",
    "\n",
    "print(\"\\n\" + \"=\"*60)"
   ]
  },
  {
   "cell_type": "markdown",
   "id": "a5e8e3b7",
   "metadata": {
    "papermill": {
     "duration": 0.003906,
     "end_time": "2025-09-29T23:43:08.436560",
     "exception": false,
     "start_time": "2025-09-29T23:43:08.432654",
     "status": "completed"
    },
    "tags": []
   },
   "source": [
    "## 3. 載入訓練好的模型"
   ]
  },
  {
   "cell_type": "code",
   "execution_count": 5,
   "id": "f129a6e5",
   "metadata": {
    "execution": {
     "iopub.execute_input": "2025-09-29T23:43:08.445610Z",
     "iopub.status.busy": "2025-09-29T23:43:08.445271Z",
     "iopub.status.idle": "2025-09-29T23:43:10.072263Z",
     "shell.execute_reply": "2025-09-29T23:43:10.071230Z"
    },
    "papermill": {
     "duration": 1.637087,
     "end_time": "2025-09-29T23:43:10.077659",
     "exception": false,
     "start_time": "2025-09-29T23:43:08.440572",
     "status": "completed"
    },
    "tags": []
   },
   "outputs": [
    {
     "name": "stdout",
     "output_type": "stream",
     "text": [
      "✅ 載入模型: ..\\models\\xgboost_pipeline_cv.joblib\n",
      "⚠️ 找不到特徵架構檔案，將使用預設特徵順序\n",
      "✅ 使用預設特徵架構: 14 個特徵\n",
      "\n",
      "============================================================\n"
     ]
    }
   ],
   "source": [
    "# 載入模型和相關檔案\n",
    "import joblib\n",
    "import json\n",
    "from pathlib import Path\n",
    "import numpy as np\n",
    "import pandas as pd\n",
    "\n",
    "# 模型路徑 (修正為實際路徑)\n",
    "model_dir = Path(\"../models\")  # 使用 models/ 而非 model/\n",
    "\n",
    "# 檢查模型檔案是否存在\n",
    "if not model_dir.exists():\n",
    "    print(\"⚠️ 找不到模型目錄，請先執行 03_injection_train.ipynb 訓練模型\")\n",
    "    print(\"   或下載預訓練模型至 models/ 目錄\")\n",
    "    model = None\n",
    "    scaler = None\n",
    "    schema = None\n",
    "    feature_order = None\n",
    "else:\n",
    "    # 載入模型 (使用實際存在的模型檔案)\n",
    "    model_path = model_dir / \"xgboost_pipeline_cv.joblib\"\n",
    "    \n",
    "    if model_path.exists():\n",
    "        model = joblib.load(model_path)\n",
    "        print(f\"✅ 載入模型: {model_path}\")\n",
    "        \n",
    "        # XGBoost pipeline includes scaler, extract it\n",
    "        if hasattr(model, 'named_steps'):\n",
    "            scaler = model.named_steps.get('scaler', None)\n",
    "            if scaler:\n",
    "                print(f\"✅ 從 pipeline 提取標準化器\")\n",
    "        else:\n",
    "            scaler = None\n",
    "            print(f\"⚠️ 模型不包含標準化器\")\n",
    "        \n",
    "        # Try to infer feature order from model\n",
    "        feature_order = None\n",
    "        schema = None\n",
    "        print(f\"⚠️ 找不到特徵架構檔案，將使用預設特徵順序\")\n",
    "        \n",
    "        # 假設使用標準的 BLS 特徵順序\n",
    "        feature_order = [\n",
    "            'bls_period', 'bls_duration', 'bls_depth', 'bls_snr', 'bls_power',\n",
    "            'odd_even_mismatch', 'secondary_power_ratio', 'harmonic_delta_chisq',\n",
    "            'periodicity_strength', 'transit_symmetry', 'odd_even_depth_diff',\n",
    "            'phase_coverage', 'ingress_egress_asymmetry', 'v_shape_indicator'\n",
    "        ]\n",
    "        print(f\"✅ 使用預設特徵架構: {len(feature_order)} 個特徵\")\n",
    "    else:\n",
    "        print(f\"❌ 找不到模型檔案: {model_path}\")\n",
    "        model = None\n",
    "        scaler = None\n",
    "        schema = None\n",
    "        feature_order = None\n",
    "\n",
    "print(\"\\n\" + \"=\"*60)"
   ]
  },
  {
   "cell_type": "markdown",
   "id": "b3aaaa36",
   "metadata": {
    "papermill": {
     "duration": 0.007308,
     "end_time": "2025-09-29T23:43:10.094098",
     "exception": false,
     "start_time": "2025-09-29T23:43:10.086790",
     "status": "completed"
    },
    "tags": []
   },
   "source": [
    "## 4. 導入推論模組"
   ]
  },
  {
   "cell_type": "code",
   "execution_count": 6,
   "id": "5b19f21d",
   "metadata": {
    "execution": {
     "iopub.execute_input": "2025-09-29T23:43:10.118249Z",
     "iopub.status.busy": "2025-09-29T23:43:10.117472Z",
     "iopub.status.idle": "2025-09-29T23:43:12.311285Z",
     "shell.execute_reply": "2025-09-29T23:43:12.310779Z"
    },
    "papermill": {
     "duration": 2.209438,
     "end_time": "2025-09-29T23:43:12.312146",
     "exception": false,
     "start_time": "2025-09-29T23:43:10.102708",
     "status": "completed"
    },
    "tags": []
   },
   "outputs": [
    {
     "name": "stdout",
     "output_type": "stream",
     "text": [
      "📚 模組載入完成\n"
     ]
    }
   ],
   "source": [
    "# 導入推論模組\n",
    "from app.infer import (\n",
    "    predict_from_tic,\n",
    "    predict_batch,\n",
    "    create_folded_lightcurve_plot,\n",
    "    save_inference_results,\n",
    "    check_gpu_availability\n",
    ")\n",
    "\n",
    "from app.bls_features import run_bls, extract_features\n",
    "\n",
    "# 導入視覺化套件\n",
    "import matplotlib.pyplot as plt\n",
    "import seaborn as sns\n",
    "plt.style.use('seaborn-v0_8-darkgrid')\n",
    "sns.set_palette('husl')\n",
    "\n",
    "print(\"📚 模組載入完成\")"
   ]
  },
  {
   "cell_type": "markdown",
   "id": "7ee11728",
   "metadata": {
    "papermill": {
     "duration": 0.003431,
     "end_time": "2025-09-29T23:43:12.320370",
     "exception": false,
     "start_time": "2025-09-29T23:43:12.316939",
     "status": "completed"
    },
    "tags": []
   },
   "source": [
    "## 5. 單目標推論示範"
   ]
  },
  {
   "cell_type": "code",
   "execution_count": 7,
   "id": "8dd29191",
   "metadata": {
    "execution": {
     "iopub.execute_input": "2025-09-29T23:43:12.329139Z",
     "iopub.status.busy": "2025-09-29T23:43:12.328614Z",
     "iopub.status.idle": "2025-09-29T23:44:11.846046Z",
     "shell.execute_reply": "2025-09-29T23:44:11.845339Z"
    },
    "papermill": {
     "duration": 59.523169,
     "end_time": "2025-09-29T23:44:11.847494",
     "exception": false,
     "start_time": "2025-09-29T23:43:12.324325",
     "status": "completed"
    },
    "tags": []
   },
   "outputs": [
    {
     "name": "stdout",
     "output_type": "stream",
     "text": [
      "🎯 單目標推論示範\n",
      "\n",
      "============================================================\n",
      "🔍 處理目標: TIC 25155310\n",
      "   下載光曲線...\n"
     ]
    },
    {
     "name": "stdout",
     "output_type": "stream",
     "text": [
      "   清理和去趨勢...\n",
      "   執行 BLS 搜尋...\n"
     ]
    },
    {
     "name": "stdout",
     "output_type": "stream",
     "text": [
      "   提取特徵...\n",
      "   載入模型...\n",
      "   ⚠️ 未找到標準化器，跳過特徵標準化\n",
      "   使用預設特徵順序 (14 個特徵)\n",
      "   ❌ 錯誤: X has 14 features, but ColumnTransformer is expecting 6 features as input.\n",
      "\n",
      "============================================================\n",
      "📊 推論結果:\n",
      "   目標: TIC 25155310\n",
      "   成功: False\n",
      "\n",
      "❌ 錯誤: X has 14 features, but ColumnTransformer is expecting 6 features as input.\n"
     ]
    }
   ],
   "source": [
    "# 單個 TIC 推論示範\n",
    "print(\"🎯 單目標推論示範\\n\")\n",
    "print(\"=\"*60)\n",
    "\n",
    "# 目標 TIC（可更換）\n",
    "tic_id = \"TIC 25155310\"  # TOI-431，已知的多行星系統\n",
    "\n",
    "# 執行推論 (使用正確的模型路徑)\n",
    "result = predict_from_tic(\n",
    "    tic_id,\n",
    "    model_path=\"../models/xgboost_pipeline_cv.joblib\",\n",
    "    scaler_path=None,  # Scaler is in the pipeline\n",
    "    feature_schema_path=None,  # Use default feature order\n",
    "    mission=\"TESS\",\n",
    "    verbose=True\n",
    ")\n",
    "\n",
    "# 顯示結果\n",
    "print(\"\\n\" + \"=\"*60)\n",
    "print(\"📊 推論結果:\")\n",
    "print(f\"   目標: {result['tic_id']}\")\n",
    "print(f\"   成功: {result['success']}\")\n",
    "\n",
    "if result['success']:\n",
    "    print(f\"\\n🎯 預測機率: {result['probability']:.3f}\")\n",
    "    print(f\"\\n📈 BLS 結果:\")\n",
    "    print(f\"   週期: {result['bls_period']:.3f} 天\")\n",
    "    print(f\"   深度: {result['bls_depth']*1e6:.0f} ppm\")\n",
    "    print(f\"   SNR: {result['bls_snr']:.1f}\")\n",
    "    \n",
    "    # 判斷是否為高信心候選\n",
    "    if result['probability'] > 0.8:\n",
    "        print(\"\\n✨ 高信心行星候選！\")\n",
    "    elif result['probability'] > 0.5:\n",
    "        print(\"\\n📍 中等信心候選\")\n",
    "    else:\n",
    "        print(\"\\n❓ 低信心候選\")\n",
    "else:\n",
    "    print(f\"\\n❌ 錯誤: {result['error']}\")"
   ]
  },
  {
   "cell_type": "markdown",
   "id": "3e174bdd",
   "metadata": {
    "papermill": {
     "duration": 0.005298,
     "end_time": "2025-09-29T23:44:11.859332",
     "exception": false,
     "start_time": "2025-09-29T23:44:11.854034",
     "status": "completed"
    },
    "tags": []
   },
   "source": [
    "## 6. 視覺化光曲線"
   ]
  },
  {
   "cell_type": "code",
   "execution_count": 8,
   "id": "b8af3a35",
   "metadata": {
    "execution": {
     "iopub.execute_input": "2025-09-29T23:44:11.874673Z",
     "iopub.status.busy": "2025-09-29T23:44:11.874225Z",
     "iopub.status.idle": "2025-09-29T23:44:11.885916Z",
     "shell.execute_reply": "2025-09-29T23:44:11.885333Z"
    },
    "papermill": {
     "duration": 0.019756,
     "end_time": "2025-09-29T23:44:11.886873",
     "exception": false,
     "start_time": "2025-09-29T23:44:11.867117",
     "status": "completed"
    },
    "tags": []
   },
   "outputs": [
    {
     "name": "stdout",
     "output_type": "stream",
     "text": [
      "⚠️ 無法視覺化（推論失敗或無光曲線資料）\n"
     ]
    }
   ],
   "source": [
    "# 視覺化光曲線和 BLS 結果\n",
    "if result['success'] and result['lightcurve'] is not None:\n",
    "    import lightkurve as lk\n",
    "    \n",
    "    # 獲取光曲線資料\n",
    "    time = np.array(result['lightcurve']['time'])\n",
    "    flux = np.array(result['lightcurve']['flux'])\n",
    "    period = result['bls_period']\n",
    "    \n",
    "    # 創建圖表\n",
    "    fig = plt.figure(figsize=(15, 12))\n",
    "    \n",
    "    # 1. 原始光曲線\n",
    "    ax1 = plt.subplot(3, 2, 1)\n",
    "    ax1.plot(time, flux, 'k.', alpha=0.3, markersize=1)\n",
    "    ax1.set_xlabel('時間 (天)')\n",
    "    ax1.set_ylabel('相對流量')\n",
    "    ax1.set_title(f'{result[\"tic_id\"]} - 去趨勢後光曲線')\n",
    "    ax1.grid(True, alpha=0.3)\n",
    "    \n",
    "    # 2. BLS 功率譜\n",
    "    ax2 = plt.subplot(3, 2, 2)\n",
    "    # 重新計算 BLS 以獲得完整功率譜\n",
    "    lc_obj = lk.LightCurve(time=time, flux=flux)\n",
    "    bls = lc_obj.to_periodogram(method=\"bls\", minimum_period=0.5, maximum_period=20)\n",
    "    bls.plot(ax=ax2)\n",
    "    ax2.axvline(period, color='red', linestyle='--', alpha=0.7, label=f'最佳週期: {period:.3f} 天')\n",
    "    ax2.set_title('BLS 功率譜')\n",
    "    ax2.legend()\n",
    "    \n",
    "    # 3. 摺疊光曲線\n",
    "    ax3 = plt.subplot(3, 2, 3)\n",
    "    folded_data = create_folded_lightcurve_plot(time, flux, period)\n",
    "    phase = np.array(folded_data['phase'])\n",
    "    flux_folded = np.array(folded_data['flux'])\n",
    "    \n",
    "    # 繪製散點圖\n",
    "    ax3.plot(phase, flux_folded, 'k.', alpha=0.2, markersize=1)\n",
    "    \n",
    "    # 繪製分箱平均\n",
    "    if folded_data['binned_phase']:\n",
    "        ax3.plot(folded_data['binned_phase'], folded_data['binned_flux'], \n",
    "                'ro-', markersize=4, linewidth=1.5, label='分箱平均')\n",
    "    \n",
    "    ax3.set_xlabel('相位')\n",
    "    ax3.set_ylabel('相對流量')\n",
    "    ax3.set_title(f'摺疊光曲線 (P = {period:.3f} 天)')\n",
    "    ax3.grid(True, alpha=0.3)\n",
    "    ax3.legend()\n",
    "    \n",
    "    # 4. 放大凌日區域\n",
    "    ax4 = plt.subplot(3, 2, 4)\n",
    "    transit_mask = np.abs(phase) < 0.1  # 只顯示相位 ±0.1 的區域\n",
    "    ax4.plot(phase[transit_mask], flux_folded[transit_mask], 'k.', alpha=0.3, markersize=2)\n",
    "    ax4.set_xlabel('相位')\n",
    "    ax4.set_ylabel('相對流量')\n",
    "    ax4.set_title('凌日區域放大')\n",
    "    ax4.grid(True, alpha=0.3)\n",
    "    ax4.set_xlim(-0.1, 0.1)\n",
    "    \n",
    "    # 5. 預測機率條形圖\n",
    "    ax5 = plt.subplot(3, 2, 5)\n",
    "    prob = result['probability']\n",
    "    color = 'green' if prob > 0.8 else 'orange' if prob > 0.5 else 'red'\n",
    "    bars = ax5.bar(['行星候選機率'], [prob], color=color, alpha=0.7)\n",
    "    ax5.set_ylim(0, 1)\n",
    "    ax5.set_ylabel('機率')\n",
    "    ax5.set_title(f'預測機率: {prob:.3f}')\n",
    "    ax5.grid(True, alpha=0.3, axis='y')\n",
    "    \n",
    "    # 添加數值標籤\n",
    "    for bar in bars:\n",
    "        height = bar.get_height()\n",
    "        ax5.text(bar.get_x() + bar.get_width()/2., height,\n",
    "                f'{height:.3f}',\n",
    "                ha='center', va='bottom', fontsize=14, fontweight='bold')\n",
    "    \n",
    "    # 6. 特徵重要性\n",
    "    ax6 = plt.subplot(3, 2, 6)\n",
    "    # 顯示關鍵特徵\n",
    "    features = result['features']\n",
    "    key_features = {\n",
    "        'BLS SNR': features.get('bls_snr', 0),\n",
    "        '週期': features.get('bls_period', 0),\n",
    "        '深度 (ppm)': features.get('bls_depth', 0) * 1e6,\n",
    "        '奇偶差異': features.get('odd_even_depth_diff', 0) * 1e6,\n",
    "        '對稱性': features.get('transit_symmetry', 0)\n",
    "    }\n",
    "    \n",
    "    y_pos = np.arange(len(key_features))\n",
    "    values = list(key_features.values())\n",
    "    labels = list(key_features.keys())\n",
    "    \n",
    "    ax6.barh(y_pos, values, color='skyblue', alpha=0.7)\n",
    "    ax6.set_yticks(y_pos)\n",
    "    ax6.set_yticklabels(labels)\n",
    "    ax6.set_xlabel('數值')\n",
    "    ax6.set_title('關鍵特徵值')\n",
    "    ax6.grid(True, alpha=0.3, axis='x')\n",
    "    \n",
    "    plt.suptitle(f'{result[\"tic_id\"]} 推論結果視覺化', fontsize=16, fontweight='bold')\n",
    "    plt.tight_layout()\n",
    "    plt.show()\n",
    "    \n",
    "    print(\"\\n📈 視覺化完成\")\n",
    "else:\n",
    "    print(\"⚠️ 無法視覺化（推論失敗或無光曲線資料）\")"
   ]
  },
  {
   "cell_type": "markdown",
   "id": "e1345729",
   "metadata": {
    "papermill": {
     "duration": 0.004996,
     "end_time": "2025-09-29T23:44:11.896765",
     "exception": false,
     "start_time": "2025-09-29T23:44:11.891769",
     "status": "completed"
    },
    "tags": []
   },
   "source": [
    "## 7. 批次推論多個目標"
   ]
  },
  {
   "cell_type": "code",
   "execution_count": 9,
   "id": "eba7e89f",
   "metadata": {
    "execution": {
     "iopub.execute_input": "2025-09-29T23:44:11.909689Z",
     "iopub.status.busy": "2025-09-29T23:44:11.909132Z",
     "iopub.status.idle": "2025-09-29T23:46:14.465413Z",
     "shell.execute_reply": "2025-09-29T23:46:14.464428Z"
    },
    "papermill": {
     "duration": 122.564536,
     "end_time": "2025-09-29T23:46:14.467095",
     "exception": false,
     "start_time": "2025-09-29T23:44:11.902559",
     "status": "completed"
    },
    "tags": []
   },
   "outputs": [
    {
     "name": "stdout",
     "output_type": "stream",
     "text": [
      "🎯 批次推論示範\n",
      "\n",
      "============================================================\n",
      "📋 準備處理 5 個目標:\n",
      "\n",
      "   1. TIC 25155310\n",
      "   2. TIC 307210830\n",
      "   3. TIC 260004324\n",
      "   4. TIC 55652896\n",
      "   5. TIC 441462736\n",
      "\n",
      "開始批次推論...\n",
      "\n",
      "============================================================\n",
      "\n",
      "[1/5] 處理 TIC 25155310\n",
      "🔍 處理目標: TIC 25155310\n",
      "   下載光曲線...\n",
      "   清理和去趨勢...\n"
     ]
    },
    {
     "name": "stdout",
     "output_type": "stream",
     "text": [
      "   執行 BLS 搜尋...\n"
     ]
    },
    {
     "name": "stdout",
     "output_type": "stream",
     "text": [
      "   提取特徵...\n",
      "   載入模型...\n",
      "   ⚠️ 未找到標準化器，跳過特徵標準化\n",
      "   使用預設特徵順序 (14 個特徵)\n",
      "   ❌ 錯誤: X has 14 features, but ColumnTransformer is expecting 6 features as input.\n",
      "\n",
      "[2/5] 處理 TIC 307210830\n",
      "🔍 處理目標: TIC 307210830\n",
      "   下載光曲線...\n"
     ]
    },
    {
     "name": "stdout",
     "output_type": "stream",
     "text": [
      "   清理和去趨勢...\n",
      "   執行 BLS 搜尋...\n"
     ]
    },
    {
     "name": "stdout",
     "output_type": "stream",
     "text": [
      "   提取特徵...\n",
      "   載入模型...\n",
      "   ⚠️ 未找到標準化器，跳過特徵標準化\n",
      "   使用預設特徵順序 (14 個特徵)\n",
      "   ❌ 錯誤: X has 14 features, but ColumnTransformer is expecting 6 features as input.\n",
      "\n",
      "[3/5] 處理 TIC 260004324\n",
      "🔍 處理目標: TIC 260004324\n",
      "   下載光曲線...\n"
     ]
    },
    {
     "name": "stdout",
     "output_type": "stream",
     "text": [
      "   清理和去趨勢...\n",
      "   執行 BLS 搜尋...\n"
     ]
    },
    {
     "name": "stdout",
     "output_type": "stream",
     "text": [
      "   提取特徵...\n",
      "   載入模型...\n",
      "   ⚠️ 未找到標準化器，跳過特徵標準化\n",
      "   使用預設特徵順序 (14 個特徵)\n",
      "   ❌ 錯誤: X has 14 features, but ColumnTransformer is expecting 6 features as input.\n",
      "\n",
      "[4/5] 處理 TIC 55652896\n",
      "🔍 處理目標: TIC 55652896\n",
      "   下載光曲線...\n"
     ]
    },
    {
     "name": "stdout",
     "output_type": "stream",
     "text": [
      "   清理和去趨勢...\n",
      "   執行 BLS 搜尋...\n"
     ]
    },
    {
     "name": "stdout",
     "output_type": "stream",
     "text": [
      "   提取特徵...\n",
      "   載入模型...\n",
      "   ⚠️ 未找到標準化器，跳過特徵標準化\n",
      "   使用預設特徵順序 (14 個特徵)\n",
      "   ❌ 錯誤: X has 14 features, but ColumnTransformer is expecting 6 features as input.\n",
      "\n",
      "[5/5] 處理 TIC 441462736\n",
      "🔍 處理目標: TIC 441462736\n",
      "   下載光曲線...\n"
     ]
    },
    {
     "name": "stdout",
     "output_type": "stream",
     "text": [
      "   清理和去趨勢...\n",
      "   執行 BLS 搜尋...\n"
     ]
    },
    {
     "name": "stdout",
     "output_type": "stream",
     "text": [
      "   提取特徵...\n",
      "   載入模型...\n",
      "   ⚠️ 未找到標準化器，跳過特徵標準化\n",
      "   使用預設特徵順序 (14 個特徵)\n",
      "   ❌ 錯誤: X has 14 features, but ColumnTransformer is expecting 6 features as input.\n",
      "\n",
      "✅ 批次處理完成: 5 個目標\n",
      "   成功: 0\n",
      "   失敗: 5\n",
      "\n",
      "============================================================\n"
     ]
    }
   ],
   "source": [
    "# 批次推論多個 TIC\n",
    "print(\"🎯 批次推論示範\\n\")\n",
    "print(\"=\"*60)\n",
    "\n",
    "# 目標列表（可自行修改或擴充）\n",
    "tic_list = [\n",
    "    \"TIC 25155310\",  # TOI-431 (已知多行星系統)\n",
    "    \"TIC 307210830\", # TOI-270 (已知三行星系統)\n",
    "    \"TIC 260004324\", # TOI-178 (已知六行星系統)\n",
    "    \"TIC 55652896\",  # TOI-125 (已知三行星系統)\n",
    "    \"TIC 441462736\", # 可能的假陽性\n",
    "]\n",
    "\n",
    "print(f\"📋 準備處理 {len(tic_list)} 個目標:\\n\")\n",
    "for i, tic in enumerate(tic_list, 1):\n",
    "    print(f\"   {i}. {tic}\")\n",
    "\n",
    "print(\"\\n開始批次推論...\\n\")\n",
    "print(\"=\"*60)\n",
    "\n",
    "# 執行批次推論 (使用正確的模型路徑)\n",
    "results_df = predict_batch(\n",
    "    tic_list,\n",
    "    model_path=\"../models/xgboost_pipeline_cv.joblib\",\n",
    "    scaler_path=None,  # Scaler is in the pipeline\n",
    "    feature_schema_path=None,  # Use default feature order\n",
    "    mission=\"TESS\",\n",
    "    verbose=True\n",
    ")\n",
    "\n",
    "print(\"\\n\" + \"=\"*60)"
   ]
  },
  {
   "cell_type": "markdown",
   "id": "8319c294",
   "metadata": {
    "papermill": {
     "duration": 0.006333,
     "end_time": "2025-09-29T23:46:14.480165",
     "exception": false,
     "start_time": "2025-09-29T23:46:14.473832",
     "status": "completed"
    },
    "tags": []
   },
   "source": [
    "## 8. 結果表格與排序"
   ]
  },
  {
   "cell_type": "code",
   "execution_count": 10,
   "id": "dabe9693",
   "metadata": {
    "execution": {
     "iopub.execute_input": "2025-09-29T23:46:14.495429Z",
     "iopub.status.busy": "2025-09-29T23:46:14.494868Z",
     "iopub.status.idle": "2025-09-29T23:46:14.537220Z",
     "shell.execute_reply": "2025-09-29T23:46:14.536251Z"
    },
    "papermill": {
     "duration": 0.052072,
     "end_time": "2025-09-29T23:46:14.538983",
     "exception": false,
     "start_time": "2025-09-29T23:46:14.486911",
     "status": "completed"
    },
    "tags": []
   },
   "outputs": [
    {
     "name": "stdout",
     "output_type": "stream",
     "text": [
      "\n",
      "📊 批次推論結果（按機率排序）:\n",
      "\n",
      "       tic_id probability bls_period bls_snr bls_depth_ppm  success\n",
      " TIC 25155310         N/A      3.288     0.0          2272    False\n",
      "TIC 307210830         N/A      3.691     0.0          1428    False\n",
      "TIC 260004324         N/A      3.812     0.0           373    False\n",
      " TIC 55652896         N/A     17.480     0.0         10258    False\n",
      "TIC 441462736         N/A     14.271     0.0           255    False\n",
      "\n",
      "📈 統計摘要:\n",
      "   成功處理: 0/5\n",
      "   高信心候選 (>0.8): 0\n",
      "   中信心候選 (0.5-0.8): 0\n",
      "\n",
      "💾 結果已儲存至: results\\batch_inference.csv\n",
      "\n",
      "💡 繼續執行下一個 cell 進行標準化 CSV 匯出\n"
     ]
    }
   ],
   "source": [
    "# 顯示結果表格\n",
    "if len(results_df) > 0:\n",
    "    print(\"\\n📊 批次推論結果（按機率排序）:\\n\")\n",
    "    \n",
    "    # 格式化顯示\n",
    "    pd.set_option('display.max_columns', None)\n",
    "    pd.set_option('display.width', None)\n",
    "    pd.set_option('display.max_colwidth', None)\n",
    "    \n",
    "    # 只顯示關鍵欄位\n",
    "    display_columns = ['tic_id', 'probability', 'bls_period', 'bls_snr', 'bls_depth', 'success']\n",
    "    display_df = results_df[display_columns].copy()\n",
    "    \n",
    "    # 格式化數值\n",
    "    if 'probability' in display_df.columns:\n",
    "        display_df['probability'] = display_df['probability'].apply(lambda x: f\"{x:.3f}\" if pd.notna(x) else \"N/A\")\n",
    "    if 'bls_period' in display_df.columns:\n",
    "        display_df['bls_period'] = display_df['bls_period'].apply(lambda x: f\"{x:.3f}\" if pd.notna(x) else \"N/A\")\n",
    "    if 'bls_snr' in display_df.columns:\n",
    "        display_df['bls_snr'] = display_df['bls_snr'].apply(lambda x: f\"{x:.1f}\" if pd.notna(x) else \"N/A\")\n",
    "    if 'bls_depth' in display_df.columns:\n",
    "        display_df['bls_depth'] = display_df['bls_depth'].apply(lambda x: f\"{x*1e6:.0f}\" if pd.notna(x) else \"N/A\")\n",
    "        display_df = display_df.rename(columns={'bls_depth': 'bls_depth_ppm'})\n",
    "    \n",
    "    print(display_df.to_string(index=False))\n",
    "    \n",
    "    # 統計摘要\n",
    "    success_count = results_df['success'].sum()\n",
    "    high_conf = len(results_df[(results_df['success']) & (results_df['probability'] > 0.8)])\n",
    "    med_conf = len(results_df[(results_df['success']) & (results_df['probability'] > 0.5) & (results_df['probability'] <= 0.8)])\n",
    "    \n",
    "    print(\"\\n📈 統計摘要:\")\n",
    "    print(f\"   成功處理: {success_count}/{len(results_df)}\")\n",
    "    print(f\"   高信心候選 (>0.8): {high_conf}\")\n",
    "    print(f\"   中信心候選 (0.5-0.8): {med_conf}\")\n",
    "    \n",
    "    # 儲存結果（簡易版）\n",
    "    output_path = save_inference_results(\n",
    "        results_df,\n",
    "        output_path=\"results/batch_inference.csv\",\n",
    "        include_metadata=True\n",
    "    )\n",
    "    print(f\"\\n💾 結果已儲存至: {output_path}\")\n",
    "    \n",
    "    # 💡 提示：下一個 cell 將轉換為標準化格式\n",
    "    print(\"\\n💡 繼續執行下一個 cell 進行標準化 CSV 匯出\")\n",
    "else:\n",
    "    print(\"⚠️ 無推論結果\")"
   ]
  },
  {
   "cell_type": "code",
   "execution_count": 11,
   "id": "7584f684",
   "metadata": {
    "execution": {
     "iopub.execute_input": "2025-09-29T23:46:14.554488Z",
     "iopub.status.busy": "2025-09-29T23:46:14.553723Z",
     "iopub.status.idle": "2025-09-29T23:46:15.050651Z",
     "shell.execute_reply": "2025-09-29T23:46:15.049525Z"
    },
    "papermill": {
     "duration": 0.506648,
     "end_time": "2025-09-29T23:46:15.052602",
     "exception": false,
     "start_time": "2025-09-29T23:46:14.545954",
     "status": "completed"
    },
    "tags": []
   },
   "outputs": [
    {
     "name": "stdout",
     "output_type": "stream",
     "text": [
      "✅ Path setup complete. app.utils can now be imported.\n"
     ]
    },
    {
     "name": "stdout",
     "output_type": "stream",
     "text": [
      "📋 標準化輸出與資料來源追蹤\n",
      "============================================================\n",
      "⚠️ 無成功的推論結果，跳過標準化匯出\n"
     ]
    }
   ],
   "source": [
    "# Setup paths for Colab compatibility\n",
    "import sys\n",
    "import os\n",
    "IN_COLAB = 'google.colab' in sys.modules or '/content' in os.getcwd()\n",
    "\n",
    "if IN_COLAB:\n",
    "    # Colab environment\n",
    "    if os.path.exists('/content/exoplanet-starter/app'):\n",
    "        sys.path.insert(0, '/content/exoplanet-starter')\n",
    "    else:\n",
    "        # Clone repo if not exists\n",
    "        !git clone https://github.com/exoplanet-spaceapps/exoplanet-starter.git\n",
    "        sys.path.insert(0, '/content/exoplanet-starter')\n",
    "else:\n",
    "    # Local environment  \n",
    "    sys.path.insert(0, os.path.join(os.getcwd(), '..'))\n",
    "\n",
    "print(f\"✅ Path setup complete. app.utils can now be imported.\")\n",
    "\n",
    "# Now import the required modules\n",
    "from datetime import datetime\n",
    "import time\n",
    "from app.utils.output_schema import (\n",
    "    create_candidate_dataframe,\n",
    "    export_candidates_csv,\n",
    "    export_candidates_jsonl,\n",
    "    validate_candidate_schema\n",
    ")\n",
    "from app.utils.provenance import (\n",
    "    create_provenance_record,\n",
    "    save_provenance,\n",
    "    add_execution_metadata\n",
    ")\n",
    "\n",
    "# 標準化 CSV 匯出與資料來源追蹤\n",
    "print(\"📋 標準化輸出與資料來源追蹤\")\n",
    "print(\"=\"*60)\n",
    "\n",
    "if len(results_df) > 0 and results_df['success'].any():\n",
    "    # 1. 將推論結果轉換為標準化候選格式\n",
    "    print(\"\\n📊 步驟 1/4: 轉換為標準化候選格式...\")\n",
    "    \n",
    "    # 將 results_df 轉為 list of dicts (保留所有資訊)\n",
    "    results_list = []\n",
    "    for _, row in results_df.iterrows():\n",
    "        result = {\n",
    "            'tic_id': row['tic_id'],\n",
    "            'success': row['success'],\n",
    "            'probability': row.get('probability'),\n",
    "            'bls_period': row.get('bls_period'),\n",
    "            'bls_snr': row.get('bls_snr'),\n",
    "            'bls_depth': row.get('bls_depth'),\n",
    "            'error': row.get('error'),\n",
    "            'features': {\n",
    "                'odd_even_depth_diff': row.get('odd_even_depth_diff', 0),\n",
    "                'transit_symmetry': row.get('transit_symmetry', 0),\n",
    "                'periodicity_strength': row.get('periodicity_strength', 0),\n",
    "                'bls_duration': row.get('bls_period', 0) * 0.05 if row.get('bls_period') else 0,  # 估計\n",
    "                'bls_power': row.get('bls_snr', 0) ** 2 / 100 if row.get('bls_snr') else 0,\n",
    "                'is_eb_flag': False  # 可添加食變星檢測邏輯\n",
    "            },\n",
    "            'lightcurve': {\n",
    "                'mission': 'TESS',\n",
    "                'sector': 'unknown'  # 可從 MAST 查詢獲得\n",
    "            }\n",
    "        }\n",
    "        results_list.append(result)\n",
    "    \n",
    "    # 生成 run_id\n",
    "    run_id = datetime.now().strftime(\"%Y%m%d_%H%M%S\")\n",
    "    \n",
    "    # 轉換為標準化格式\n",
    "    candidates_df = create_candidate_dataframe(\n",
    "        results_list,\n",
    "        run_id=run_id,\n",
    "        model_version=\"v1.0_xgboost\"\n",
    "    )\n",
    "    \n",
    "    print(f\"   ✅ 轉換完成: {len(candidates_df)} 筆候選\")\n",
    "    \n",
    "    # 2. 驗證架構\n",
    "    print(\"\\n🔍 步驟 2/4: 驗證輸出架構...\")\n",
    "    validation = validate_candidate_schema(candidates_df)\n",
    "    \n",
    "    if validation['valid']:\n",
    "        print(\"   ✅ 架構驗證通過\")\n",
    "    else:\n",
    "        print(\"   ⚠️ 架構驗證警告:\")\n",
    "        for missing in validation['missing_columns']:\n",
    "            print(f\"      - 缺少欄位: {missing}\")\n",
    "    \n",
    "    if validation['warnings']:\n",
    "        for warning in validation['warnings']:\n",
    "            print(f\"      ⚠️ {warning}\")\n",
    "    \n",
    "    # 3. 匯出 CSV 與 JSONL\n",
    "    print(\"\\n💾 步驟 3/4: 匯出標準化檔案...\")\n",
    "    \n",
    "    # 產生檔名（帶日期）\n",
    "    date_str = datetime.now().strftime(\"%Y%m%d\")\n",
    "    csv_path = f\"outputs/candidates_{date_str}.csv\"\n",
    "    jsonl_path = f\"outputs/candidates_{date_str}.jsonl\"\n",
    "    \n",
    "    # 匯出 CSV\n",
    "    csv_output = export_candidates_csv(\n",
    "        candidates_df,\n",
    "        output_path=csv_path,\n",
    "        validate=True\n",
    "    )\n",
    "    \n",
    "    # 匯出 JSONL\n",
    "    jsonl_output = export_candidates_jsonl(\n",
    "        candidates_df,\n",
    "        output_path=jsonl_path\n",
    "    )\n",
    "    \n",
    "    print(f\"\\n📁 匯出檔案:\")\n",
    "    print(f\"   • CSV:   {csv_output}\")\n",
    "    print(f\"   • JSONL: {jsonl_output}\")\n",
    "    \n",
    "    # 4. 建立資料來源記錄\n",
    "    print(\"\\n📋 步驟 4/4: 建立資料來源追蹤記錄...\")\n",
    "    \n",
    "    # 查詢參數\n",
    "    query_params = {\n",
    "        'tic_list': tic_list,\n",
    "        'mission': 'TESS',\n",
    "        'detrend_window': 401,\n",
    "        'bls_period_range': [0.5, 20.0]\n",
    "    }\n",
    "    \n",
    "    # 模型資訊\n",
    "    model_info = {\n",
    "        'version': 'v1.0_xgboost',\n",
    "        'type': 'XGBoost Classifier',\n",
    "        'path': 'model/ranker.joblib',\n",
    "        'features': len(feature_order) if 'feature_order' in locals() else 14\n",
    "    }\n",
    "    \n",
    "    # 建立資料來源記錄\n",
    "    provenance = create_provenance_record(\n",
    "        run_id=run_id,\n",
    "        query_params=query_params,\n",
    "        model_info=model_info\n",
    "    )\n",
    "    \n",
    "    # 添加執行結果元資料\n",
    "    provenance = add_execution_metadata(\n",
    "        provenance,\n",
    "        n_targets=len(results_df),\n",
    "        n_success=results_df['success'].sum(),\n",
    "        n_high_confidence=len(candidates_df[candidates_df['model_score'] > 0.8]),\n",
    "        execution_time_seconds=None  # 可手動記錄\n",
    "    )\n",
    "    \n",
    "    # 儲存資料來源記錄\n",
    "    provenance_path = save_provenance(\n",
    "        provenance,\n",
    "        output_path=f\"outputs/provenance_{date_str}.yaml\"\n",
    "    )\n",
    "    \n",
    "    print(f\"\\n✅ 資料來源記錄已儲存: {provenance_path}\")\n",
    "    \n",
    "    # 5. 顯示標準化候選摘要\n",
    "    print(\"\\n\" + \"=\"*60)\n",
    "    print(\"📊 標準化候選清單摘要\")\n",
    "    print(\"=\"*60)\n",
    "    \n",
    "    print(f\"\\n🎯 基本統計:\")\n",
    "    print(f\"   • 總候選數: {len(candidates_df)}\")\n",
    "    print(f\"   • 高信心 (>0.8): {len(candidates_df[candidates_df['model_score'] > 0.8])}\")\n",
    "    print(f\"   • 中信心 (0.5-0.8): {len(candidates_df[(candidates_df['model_score'] > 0.5) & (candidates_df['model_score'] <= 0.8)])}\")\n",
    "    print(f\"   • 低信心 (<0.5): {len(candidates_df[candidates_df['model_score'] <= 0.5])}\")\n",
    "    \n",
    "    print(f\"\\n📊 週期分布:\")\n",
    "    if 'bls_period_d' in candidates_df.columns:\n",
    "        periods = candidates_df['bls_period_d'].dropna()\n",
    "        if len(periods) > 0:\n",
    "            print(f\"   • 最短週期: {periods.min():.2f} 天\")\n",
    "            print(f\"   • 最長週期: {periods.max():.2f} 天\")\n",
    "            print(f\"   • 平均週期: {periods.mean():.2f} 天\")\n",
    "            print(f\"   • 中位週期: {periods.median():.2f} 天\")\n",
    "    \n",
    "    print(f\"\\n📈 SNR 分布:\")\n",
    "    if 'snr' in candidates_df.columns:\n",
    "        snrs = candidates_df['snr'].dropna()\n",
    "        if len(snrs) > 0:\n",
    "            print(f\"   • 最高 SNR: {snrs.max():.1f}\")\n",
    "            print(f\"   • 最低 SNR: {snrs.min():.1f}\")\n",
    "            print(f\"   • 平均 SNR: {snrs.mean():.1f}\")\n",
    "            high_snr = len(snrs[snrs > 10])\n",
    "            print(f\"   • SNR > 10: {high_snr} ({high_snr/len(snrs)*100:.1f}%)\")\n",
    "    \n",
    "    print(f\"\\n🏷️ 質量標記:\")\n",
    "    eb_candidates = candidates_df['is_eb_flag'].sum()\n",
    "    print(f\"   • 食變星標記: {eb_candidates} ({eb_candidates/len(candidates_df)*100:.1f}%)\")\n",
    "    \n",
    "    # 顯示前 5 名候選\n",
    "    print(f\"\\n🌟 前 5 名候選:\")\n",
    "    print(\"-\" * 60)\n",
    "    top_5 = candidates_df.head(5)\n",
    "    for i, (_, row) in enumerate(top_5.iterrows(), 1):\n",
    "        print(f\"{i}. {row['target_id']}\")\n",
    "        print(f\"   • 機率: {row['model_score']:.3f}\")\n",
    "        print(f\"   • 週期: {row['bls_period_d']:.3f} 天\")\n",
    "        print(f\"   • SNR: {row['snr']:.1f}\")\n",
    "        print(f\"   • 深度: {row['bls_depth_ppm']:.0f} ppm\")\n",
    "        print()\n",
    "    \n",
    "    print(\"=\"*60)\n",
    "    print(\"✅ 標準化輸出完成!\")\n",
    "    print(\"=\"*60)\n",
    "    \n",
    "    # 儲存到全域變數供後續使用\n",
    "    globals()['standardized_candidates'] = candidates_df\n",
    "    globals()['provenance_record'] = provenance\n",
    "    \n",
    "else:\n",
    "    print(\"⚠️ 無成功的推論結果，跳過標準化匯出\")"
   ]
  },
  {
   "cell_type": "markdown",
   "id": "2f6c10d9",
   "metadata": {
    "papermill": {
     "duration": 0.006532,
     "end_time": "2025-09-29T23:46:15.066674",
     "exception": false,
     "start_time": "2025-09-29T23:46:15.060142",
     "status": "completed"
    },
    "tags": []
   },
   "source": [
    "## 8.5 標準化 CSV 匯出與資料來源追蹤"
   ]
  },
  {
   "cell_type": "markdown",
   "id": "6714b991",
   "metadata": {
    "papermill": {
     "duration": 0.012092,
     "end_time": "2025-09-29T23:46:15.086831",
     "exception": false,
     "start_time": "2025-09-29T23:46:15.074739",
     "status": "completed"
    },
    "tags": []
   },
   "source": [
    "## 9. 批次結果視覺化"
   ]
  },
  {
   "cell_type": "code",
   "execution_count": 12,
   "id": "86d14654",
   "metadata": {
    "execution": {
     "iopub.execute_input": "2025-09-29T23:46:15.103147Z",
     "iopub.status.busy": "2025-09-29T23:46:15.102389Z",
     "iopub.status.idle": "2025-09-29T23:46:15.116882Z",
     "shell.execute_reply": "2025-09-29T23:46:15.115744Z"
    },
    "papermill": {
     "duration": 0.024158,
     "end_time": "2025-09-29T23:46:15.118759",
     "exception": false,
     "start_time": "2025-09-29T23:46:15.094601",
     "status": "completed"
    },
    "tags": []
   },
   "outputs": [
    {
     "name": "stdout",
     "output_type": "stream",
     "text": [
      "⚠️ 無成功的推論結果可視覺化\n"
     ]
    }
   ],
   "source": [
    "# 批次結果視覺化\n",
    "if len(results_df) > 0 and results_df['success'].any():\n",
    "    fig, axes = plt.subplots(2, 2, figsize=(14, 10))\n",
    "    \n",
    "    # 只選擇成功的結果\n",
    "    success_df = results_df[results_df['success']].copy()\n",
    "    \n",
    "    # 1. 機率分布\n",
    "    ax1 = axes[0, 0]\n",
    "    if 'probability' in success_df.columns:\n",
    "        probs = success_df['probability'].dropna()\n",
    "        bars = ax1.bar(range(len(probs)), probs.values, color='skyblue', alpha=0.7)\n",
    "        \n",
    "        # 根據機率著色\n",
    "        for i, (bar, prob) in enumerate(zip(bars, probs.values)):\n",
    "            if prob > 0.8:\n",
    "                bar.set_color('green')\n",
    "            elif prob > 0.5:\n",
    "                bar.set_color('orange')\n",
    "            else:\n",
    "                bar.set_color('red')\n",
    "        \n",
    "        ax1.set_xticks(range(len(probs)))\n",
    "        ax1.set_xticklabels([tid.replace('TIC ', '') for tid in success_df['tic_id'].values], rotation=45)\n",
    "        ax1.set_ylabel('機率')\n",
    "        ax1.set_title('預測機率分布')\n",
    "        ax1.axhline(y=0.5, color='gray', linestyle='--', alpha=0.5)\n",
    "        ax1.axhline(y=0.8, color='gray', linestyle='--', alpha=0.5)\n",
    "        ax1.grid(True, alpha=0.3, axis='y')\n",
    "    \n",
    "    # 2. 週期分布\n",
    "    ax2 = axes[0, 1]\n",
    "    if 'bls_period' in success_df.columns:\n",
    "        periods = success_df['bls_period'].dropna()\n",
    "        if len(periods) > 0:\n",
    "            ax2.scatter(periods.values, success_df.loc[periods.index, 'probability'].values,\n",
    "                       s=100, alpha=0.7, c=success_df.loc[periods.index, 'probability'].values,\n",
    "                       cmap='RdYlGn', vmin=0, vmax=1)\n",
    "            ax2.set_xlabel('BLS 週期 (天)')\n",
    "            ax2.set_ylabel('預測機率')\n",
    "            ax2.set_title('週期 vs 機率')\n",
    "            ax2.grid(True, alpha=0.3)\n",
    "            # 添加顏色條\n",
    "            cbar = plt.colorbar(ax2.collections[0], ax=ax2)\n",
    "            cbar.set_label('機率')\n",
    "    \n",
    "    # 3. SNR 分布\n",
    "    ax3 = axes[1, 0]\n",
    "    if 'bls_snr' in success_df.columns:\n",
    "        snrs = success_df['bls_snr'].dropna()\n",
    "        if len(snrs) > 0:\n",
    "            ax3.scatter(snrs.values, success_df.loc[snrs.index, 'probability'].values,\n",
    "                       s=100, alpha=0.7, c=success_df.loc[snrs.index, 'probability'].values,\n",
    "                       cmap='RdYlGn', vmin=0, vmax=1)\n",
    "            ax3.set_xlabel('BLS SNR')\n",
    "            ax3.set_ylabel('預測機率')\n",
    "            ax3.set_title('SNR vs 機率')\n",
    "            ax3.grid(True, alpha=0.3)\n",
    "    \n",
    "    # 4. 深度分布\n",
    "    ax4 = axes[1, 1]\n",
    "    if 'bls_depth' in success_df.columns:\n",
    "        depths = success_df['bls_depth'].dropna() * 1e6  # 轉換為 ppm\n",
    "        if len(depths) > 0:\n",
    "            ax4.scatter(depths.values, success_df.loc[depths.index, 'probability'].values,\n",
    "                       s=100, alpha=0.7, c=success_df.loc[depths.index, 'probability'].values,\n",
    "                       cmap='RdYlGn', vmin=0, vmax=1)\n",
    "            ax4.set_xlabel('凌日深度 (ppm)')\n",
    "            ax4.set_ylabel('預測機率')\n",
    "            ax4.set_title('深度 vs 機率')\n",
    "            ax4.grid(True, alpha=0.3)\n",
    "    \n",
    "    plt.suptitle('批次推論結果分析', fontsize=14, fontweight='bold')\n",
    "    plt.tight_layout()\n",
    "    plt.show()\n",
    "    \n",
    "    print(\"\\n📈 批次視覺化完成\")\n",
    "else:\n",
    "    print(\"⚠️ 無成功的推論結果可視覺化\")"
   ]
  },
  {
   "cell_type": "markdown",
   "id": "dd5a455e",
   "metadata": {
    "papermill": {
     "duration": 0.006185,
     "end_time": "2025-09-29T23:46:15.132278",
     "exception": false,
     "start_time": "2025-09-29T23:46:15.126093",
     "status": "completed"
    },
    "tags": []
   },
   "source": [
    "## 10. GPU 加速示範（如有 L4）"
   ]
  },
  {
   "cell_type": "code",
   "execution_count": 13,
   "id": "102f55c6",
   "metadata": {
    "execution": {
     "iopub.execute_input": "2025-09-29T23:46:15.147677Z",
     "iopub.status.busy": "2025-09-29T23:46:15.147034Z",
     "iopub.status.idle": "2025-09-29T23:46:15.159210Z",
     "shell.execute_reply": "2025-09-29T23:46:15.158168Z"
    },
    "papermill": {
     "duration": 0.021565,
     "end_time": "2025-09-29T23:46:15.160807",
     "exception": false,
     "start_time": "2025-09-29T23:46:15.139242",
     "status": "completed"
    },
    "tags": []
   },
   "outputs": [
    {
     "name": "stdout",
     "output_type": "stream",
     "text": [
      "ℹ️ GPU 加速示範\n",
      "   • 未偵測到 L4 GPU 或不支援 BFloat16\n",
      "   • 當前使用標準 CPU/GPU 推論\n",
      "   • 若需要加速，建議使用 Google Colab L4 執行環境\n",
      "\n",
      "============================================================\n"
     ]
    }
   ],
   "source": [
    "# GPU 加速示範（僅當偵測到 L4 GPU 時執行）\n",
    "if gpu_info['is_l4'] and gpu_info['supports_bfloat16']:\n",
    "    print(\"🚀 L4 GPU BFloat16 加速示範\\n\")\n",
    "    print(\"=\"*60)\n",
    "    \n",
    "    try:\n",
    "        import torch\n",
    "        import torch.nn as nn\n",
    "        \n",
    "        # 創建示範神經網路\n",
    "        class ExoplanetNet(nn.Module):\n",
    "            def __init__(self, input_dim=14):\n",
    "                super().__init__()\n",
    "                self.fc1 = nn.Linear(input_dim, 64)\n",
    "                self.fc2 = nn.Linear(64, 32)\n",
    "                self.fc3 = nn.Linear(32, 1)\n",
    "                self.relu = nn.ReLU()\n",
    "                self.sigmoid = nn.Sigmoid()\n",
    "            \n",
    "            def forward(self, x):\n",
    "                x = self.relu(self.fc1(x))\n",
    "                x = self.relu(self.fc2(x))\n",
    "                x = self.sigmoid(self.fc3(x))\n",
    "                return x\n",
    "        \n",
    "        # 初始化模型\n",
    "        device = torch.device('cuda')\n",
    "        model = ExoplanetNet().to(device)\n",
    "        model.eval()\n",
    "        \n",
    "        # 準備示範資料\n",
    "        batch_size = 100\n",
    "        input_features = torch.randn(batch_size, 14).to(device)\n",
    "        \n",
    "        # 比較推論速度\n",
    "        import time\n",
    "        \n",
    "        # 1. 標準 FP32 推論\n",
    "        print(\"⏱️ FP32 推論:\")\n",
    "        start_time = time.time()\n",
    "        with torch.no_grad():\n",
    "            for _ in range(1000):\n",
    "                output_fp32 = model(input_features)\n",
    "        torch.cuda.synchronize()\n",
    "        fp32_time = time.time() - start_time\n",
    "        print(f\"   耗時: {fp32_time:.3f} 秒\")\n",
    "        \n",
    "        # 2. BFloat16 autocast 推論\n",
    "        print(\"\\n⚡ BFloat16 推論 (with autocast):\")\n",
    "        start_time = time.time()\n",
    "        with torch.no_grad():\n",
    "            with torch.autocast(device_type='cuda', dtype=torch.bfloat16):\n",
    "                for _ in range(1000):\n",
    "                    output_bf16 = model(input_features)\n",
    "        torch.cuda.synchronize()\n",
    "        bf16_time = time.time() - start_time\n",
    "        print(f\"   耗時: {bf16_time:.3f} 秒\")\n",
    "        \n",
    "        # 計算加速比\n",
    "        speedup = fp32_time / bf16_time\n",
    "        print(f\"\\n🏆 BFloat16 加速比: {speedup:.2f}x\")\n",
    "        \n",
    "        # 檢查數值誤差\n",
    "        diff = torch.abs(output_fp32 - output_bf16.float()).mean().item()\n",
    "        print(f\"   平均絕對誤差: {diff:.6f}\")\n",
    "        \n",
    "        print(\"\\n💡 結論:\")\n",
    "        print(\"   • L4 GPU 的 BFloat16 可顯著加速推論\")\n",
    "        print(\"   • 數值精度損失極小，適合生產部署\")\n",
    "        print(\"   • 建議在大規模批次推論時使用\")\n",
    "        \n",
    "    except ImportError:\n",
    "        print(\"⚠️ 需要安裝 PyTorch 才能執行 GPU 加速示範\")\n",
    "        print(\"   執行: pip install torch\")\n",
    "else:\n",
    "    print(\"ℹ️ GPU 加速示範\")\n",
    "    print(\"   • 未偵測到 L4 GPU 或不支援 BFloat16\")\n",
    "    print(\"   • 當前使用標準 CPU/GPU 推論\")\n",
    "    print(\"   • 若需要加速，建議使用 Google Colab L4 執行環境\")\n",
    "\n",
    "print(\"\\n\" + \"=\"*60)"
   ]
  },
  {
   "cell_type": "markdown",
   "id": "ef92a043",
   "metadata": {
    "papermill": {
     "duration": 0.006876,
     "end_time": "2025-09-29T23:46:15.174493",
     "exception": false,
     "start_time": "2025-09-29T23:46:15.167617",
     "status": "completed"
    },
    "tags": []
   },
   "source": [
    "## 11. 總結與下一步"
   ]
  },
  {
   "cell_type": "code",
   "execution_count": 14,
   "id": "9fc0bf80",
   "metadata": {
    "execution": {
     "iopub.execute_input": "2025-09-29T23:46:15.190862Z",
     "iopub.status.busy": "2025-09-29T23:46:15.190318Z",
     "iopub.status.idle": "2025-09-29T23:46:15.199371Z",
     "shell.execute_reply": "2025-09-29T23:46:15.198179Z"
    },
    "papermill": {
     "duration": 0.019763,
     "end_time": "2025-09-29T23:46:15.201111",
     "exception": false,
     "start_time": "2025-09-29T23:46:15.181348",
     "status": "completed"
    },
    "tags": []
   },
   "outputs": [
    {
     "name": "stdout",
     "output_type": "stream",
     "text": [
      "======================================================================\n",
      "📊 推論管線執行總結\n",
      "======================================================================\n",
      "\n",
      "🎯 執行統計:\n",
      "   • 處理目標數: 5\n",
      "   • 成功推論: 0\n",
      "   • 高信心候選: 0\n",
      "\n",
      "🖥️ 運算環境:\n",
      "   • GPU: 可用 - NVIDIA GeForce RTX 3050 Laptop GPU\n",
      "   • L4 優化: 不支援\n",
      "   • BFloat16: 支援\n",
      "\n",
      "📦 輸出檔案:\n",
      "   • 批次結果: results/batch_inference.csv\n",
      "   • 元資料: results/batch_inference_metadata.json\n",
      "\n",
      "🚀 下一步建議:\n",
      "   1. 對高信心候選進行人工審查\n",
      "   2. 查詢 NASA Exoplanet Archive 確認已知行星\n",
      "   3. 使用更多 TESS 扇區資料進行驗證\n",
      "   4. 生成候選判讀卡（執行 app/report.py）\n",
      "   5. 部署為 Web 應用（執行 web/app.py）\n",
      "\n",
      "📚 相關資源:\n",
      "   • NASA Exoplanet Archive: https://exoplanetarchive.ipac.caltech.edu/\n",
      "   • TESS 資料入口: https://mast.stsci.edu/portal/Mashup/Clients/Mast/Portal.html\n",
      "   • Lightkurve 文件: https://docs.lightkurve.org/\n",
      "\n",
      "======================================================================\n",
      "✅ 推論管線完成！\n",
      "======================================================================\n"
     ]
    }
   ],
   "source": [
    "print(\"=\"*70)\n",
    "print(\"📊 推論管線執行總結\")\n",
    "print(\"=\"*70)\n",
    "\n",
    "print(f\"\"\"\n",
    "🎯 執行統計:\n",
    "   • 處理目標數: {len(results_df) if 'results_df' in locals() else 0}\n",
    "   • 成功推論: {results_df['success'].sum() if 'results_df' in locals() else 0}\n",
    "   • 高信心候選: {len(results_df[(results_df['success']) & (results_df['probability'] > 0.8)]) if 'results_df' in locals() else 0}\n",
    "\n",
    "🖥️ 運算環境:\n",
    "   • GPU: {'可用 - ' + gpu_info['device_name'] if gpu_info['available'] else '不可用'}\n",
    "   • L4 優化: {'支援' if gpu_info['is_l4'] else '不支援'}\n",
    "   • BFloat16: {'支援' if gpu_info['supports_bfloat16'] else '不支援'}\n",
    "\n",
    "📦 輸出檔案:\n",
    "   • 批次結果: results/batch_inference.csv\n",
    "   • 元資料: results/batch_inference_metadata.json\n",
    "\n",
    "🚀 下一步建議:\n",
    "   1. 對高信心候選進行人工審查\n",
    "   2. 查詢 NASA Exoplanet Archive 確認已知行星\n",
    "   3. 使用更多 TESS 扇區資料進行驗證\n",
    "   4. 生成候選判讀卡（執行 app/report.py）\n",
    "   5. 部署為 Web 應用（執行 web/app.py）\n",
    "\n",
    "📚 相關資源:\n",
    "   • NASA Exoplanet Archive: https://exoplanetarchive.ipac.caltech.edu/\n",
    "   • TESS 資料入口: https://mast.stsci.edu/portal/Mashup/Clients/Mast/Portal.html\n",
    "   • Lightkurve 文件: https://docs.lightkurve.org/\n",
    "\"\"\")\n",
    "\n",
    "print(\"=\"*70)\n",
    "print(\"✅ 推論管線完成！\")\n",
    "print(\"=\"*70)"
   ]
  },
  {
   "cell_type": "code",
   "execution_count": 15,
   "id": "ec98d434",
   "metadata": {
    "execution": {
     "iopub.execute_input": "2025-09-29T23:46:15.216445Z",
     "iopub.status.busy": "2025-09-29T23:46:15.215842Z",
     "iopub.status.idle": "2025-09-29T23:46:15.220795Z",
     "shell.execute_reply": "2025-09-29T23:46:15.219945Z"
    },
    "papermill": {
     "duration": 0.014667,
     "end_time": "2025-09-29T23:46:15.222566",
     "exception": false,
     "start_time": "2025-09-29T23:46:15.207899",
     "status": "completed"
    },
    "tags": []
   },
   "outputs": [
    {
     "name": "stdout",
     "output_type": "stream",
     "text": [
      "📋 新資料推論管線完成！\n",
      "💡 請在需要推送結果時執行上面的 ultimate_push_to_github_04() 函數\n"
     ]
    }
   ],
   "source": [
    "# 🚀 執行 GitHub Push (04 - 新資料推論)\n",
    "# 取消註解下面這行來執行推送:\n",
    "# ultimate_push_to_github_04()\n",
    "\n",
    "print(\"📋 新資料推論管線完成！\")\n",
    "print(\"💡 請在需要推送結果時執行上面的 ultimate_push_to_github_04() 函數\")"
   ]
  },
  {
   "cell_type": "code",
   "execution_count": 16,
   "id": "81db0dfc",
   "metadata": {
    "execution": {
     "iopub.execute_input": "2025-09-29T23:46:15.239264Z",
     "iopub.status.busy": "2025-09-29T23:46:15.238559Z",
     "iopub.status.idle": "2025-09-29T23:46:15.264431Z",
     "shell.execute_reply": "2025-09-29T23:46:15.262902Z"
    },
    "papermill": {
     "duration": 0.039411,
     "end_time": "2025-09-29T23:46:15.269371",
     "exception": false,
     "start_time": "2025-09-29T23:46:15.229960",
     "status": "completed"
    },
    "tags": []
   },
   "outputs": [
    {
     "name": "stdout",
     "output_type": "stream",
     "text": [
      "🔐 準備推送新資料推論結果...\n",
      "💡 執行方式: ultimate_push_to_github_04(token='你的GitHub_token')\n",
      "📝 或直接執行下方 cell 並在提示時輸入 token\n"
     ]
    }
   ],
   "source": [
    "# 🚀 GitHub Push 終極解決方案 (04 - New Data Inference Results)\n",
    "# 一鍵推送新資料推論結果至 GitHub\n",
    "\n",
    "import subprocess, os\n",
    "from pathlib import Path\n",
    "import json\n",
    "\n",
    "def ultimate_push_to_github_04(token=None):\n",
    "    \"\"\"\n",
    "    終極一鍵推送解決方案 - 新資料推論結果版\n",
    "    解決所有 Colab 與本地環境的 Git/LFS 問題\n",
    "    \"\"\"\n",
    "\n",
    "    print(\"🚀 新資料推論結果 GitHub 推送開始...\")\n",
    "    print(\"=\" * 60)\n",
    "\n",
    "    # 步驟 1: 環境偵測與設定\n",
    "    try:\n",
    "        from google.colab import drive\n",
    "        IN_COLAB = True\n",
    "        working_dir = \"/content\"\n",
    "        print(\"🌍 偵測到 Google Colab 環境\")\n",
    "    except ImportError:\n",
    "        IN_COLAB = False\n",
    "        working_dir = os.getcwd()\n",
    "        print(\"💻 偵測到本地環境\")\n",
    "\n",
    "    # 步驟 2: Token 輸入\n",
    "    if not token:\n",
    "        print(\"📋 請輸入 GitHub Personal Access Token:\")\n",
    "        print(\"   1. 前往 https://github.com/settings/tokens\")\n",
    "        print(\"   2. 點擊 'Generate new token (classic)'\")\n",
    "        print(\"   3. 勾選 'repo' 權限\")\n",
    "        print(\"   4. 複製生成的 token\")\n",
    "        token = input(\"🔐 貼上你的 token (ghp_...): \").strip()\n",
    "        if not token.startswith('ghp_'):\n",
    "            print(\"❌ Token 格式錯誤，應該以 'ghp_' 開頭\")\n",
    "            return False\n",
    "\n",
    "    # 步驟 3: Git 倉庫初始化與設定\n",
    "    print(\"\\n📋 步驟 1/4: Git 倉庫設定...\")\n",
    "\n",
    "    try:\n",
    "        # 切換到工作目錄\n",
    "        if IN_COLAB:\n",
    "            os.chdir(working_dir)\n",
    "\n",
    "        # 檢查是否已是 Git 倉庫\n",
    "        git_check = subprocess.run(['git', 'rev-parse', '--git-dir'],\n",
    "                                   capture_output=True, text=True)\n",
    "\n",
    "        if git_check.returncode != 0:\n",
    "            print(\"   🔧 初始化 Git 倉庫...\")\n",
    "            subprocess.run(['git', 'init'], check=True)\n",
    "            print(\"   ✅ Git 倉庫初始化完成\")\n",
    "        else:\n",
    "            print(\"   ✅ 已在 Git 倉庫中\")\n",
    "\n",
    "        # 設定 Git 用戶（如果未設定）\n",
    "        try:\n",
    "            subprocess.run(['git', 'config', 'user.name', 'Colab User'], check=True)\n",
    "            subprocess.run(['git', 'config', 'user.email', 'colab@spaceapps.com'], check=True)\n",
    "            print(\"   ✅ Git 用戶設定完成\")\n",
    "        except:\n",
    "            print(\"   ⚠️ Git 用戶設定跳過\")\n",
    "\n",
    "        # 設定遠端倉庫（自動偵測或使用預設）\n",
    "        try:\n",
    "            remote_check = subprocess.run(['git', 'remote', 'get-url', 'origin'],\n",
    "                                        capture_output=True, text=True)\n",
    "            if remote_check.returncode != 0:\n",
    "                print(\"   🔧 設定遠端倉庫...\")\n",
    "                # 使用預設倉庫 URL（用戶需要修改為自己的倉庫）\n",
    "                default_repo = \"https://github.com/exoplanet-spaceapps/exoplanet-starter.git\"\n",
    "                subprocess.run(['git', 'remote', 'add', 'origin', default_repo], check=True)\n",
    "                print(f\"   ✅ 遠端倉庫設定: {default_repo}\")\n",
    "                print(\"   💡 請確保你有該倉庫的寫入權限，或修改為你的倉庫\")\n",
    "            else:\n",
    "                print(f\"   ✅ 遠端倉庫已設定: {remote_check.stdout.strip()}\")\n",
    "        except Exception as e:\n",
    "            print(f\"   ⚠️ 遠端倉庫設定警告: {e}\")\n",
    "\n",
    "    except Exception as e:\n",
    "        print(f\"   ❌ Git 設定失敗: {e}\")\n",
    "        return False\n",
    "\n",
    "    # 步驟 4: Git LFS 設定\n",
    "    print(\"\\n📋 步驟 2/4: Git LFS 設定...\")\n",
    "\n",
    "    try:\n",
    "        # 安裝 Git LFS（Colab）\n",
    "        if IN_COLAB:\n",
    "            print(\"   📦 在 Colab 中安裝 Git LFS...\")\n",
    "            subprocess.run(['apt-get', 'update', '-qq'], check=True)\n",
    "            subprocess.run(['apt-get', 'install', '-y', '-qq', 'git-lfs'], check=True)\n",
    "            print(\"   ✅ Git LFS 已安裝\")\n",
    "\n",
    "        # 初始化 LFS\n",
    "        try:\n",
    "            subprocess.run(['git', 'lfs', 'install'], check=True)\n",
    "            print(\"   ✅ Git LFS 初始化完成\")\n",
    "        except:\n",
    "            print(\"   ⚠️ Git LFS 初始化跳過（可能已設定）\")\n",
    "\n",
    "        # 設定 LFS 追蹤（容錯處理）\n",
    "        lfs_patterns = ['*.csv', '*.json', '*.pkl', '*.parquet', '*.h5', '*.hdf5', '*.joblib']\n",
    "        for pattern in lfs_patterns:\n",
    "            try:\n",
    "                result = subprocess.run(['git', 'lfs', 'track', pattern],\n",
    "                                      capture_output=True, text=True)\n",
    "                if result.returncode == 0:\n",
    "                    print(f\"   📦 LFS 追蹤: {pattern}\")\n",
    "                else:\n",
    "                    print(f\"   ⚠️ LFS 追蹤 {pattern} 警告: {result.stderr.strip()}\")\n",
    "            except Exception as e:\n",
    "                print(f\"   ⚠️ LFS 追蹤 {pattern} 跳過: {e}\")\n",
    "\n",
    "        # 添加 .gitattributes 到 staging\n",
    "        try:\n",
    "            subprocess.run(['git', 'add', '.gitattributes'], check=False)\n",
    "        except:\n",
    "            pass\n",
    "\n",
    "    except Exception as e:\n",
    "        print(f\"   ⚠️ Git LFS 設定警告: {e}\")\n",
    "        print(\"   💡 繼續執行，但大檔案可能無法正確追蹤\")\n",
    "\n",
    "    # 步驟 5: 添加檔案並提交\n",
    "    print(\"\\n📋 步驟 3/4: 添加檔案與提交...\")\n",
    "\n",
    "    try:\n",
    "        # 確保重要目錄存在\n",
    "        important_dirs = ['data', 'notebooks', 'app', 'scripts', 'model', 'results']\n",
    "        for dir_name in important_dirs:\n",
    "            dir_path = Path(dir_name)\n",
    "            if dir_path.exists():\n",
    "                print(f\"   📂 找到目錄: {dir_name}\")\n",
    "            elif IN_COLAB and dir_name in ['results']:\n",
    "                # 在 Colab 中創建相關目錄\n",
    "                dir_path.mkdir(parents=True, exist_ok=True)\n",
    "                print(f\"   📂 創建目錄: {dir_name}\")\n",
    "\n",
    "        # 添加所有檔案\n",
    "        subprocess.run(['git', 'add', '.'], check=True)\n",
    "        print(\"   ✅ 檔案添加完成\")\n",
    "\n",
    "        # 檢查是否有變更\n",
    "        status_result = subprocess.run(['git', 'status', '--porcelain'],\n",
    "                                      capture_output=True, text=True, check=True)\n",
    "\n",
    "        if not status_result.stdout.strip():\n",
    "            print(\"   ✅ 沒有新的變更需要提交\")\n",
    "            return True\n",
    "\n",
    "        # 創建提交\n",
    "        commit_message = \"\"\"feat: complete new data inference pipeline with GPU optimization\n",
    "\n",
    "- 🎯 完成單目標推論: TIC → MAST → BLS/TLS → 機率預測\n",
    "- 📊 實現批次處理: 多個 TIC 並行推論與結果排序\n",
    "- 📈 完整視覺化: 摺疊光曲線、BLS功率譜、預測分數分布\n",
    "- 🖥️ GPU 偵測與優化: L4 GPU BFloat16 autocast 加速示範\n",
    "- ⏱️ 效能測試: 推論延遲時間與吞吐量測量\n",
    "- 💾 結果匯出: results/batch_inference.csv + metadata\n",
    "- 📋 綜合統計: 高/中/低信心候選分析\n",
    "- 🚀 生產就緒: 完整的新資料推論管線\n",
    "\n",
    "Co-Authored-By: hctsai1006 <39769660@cuni.cz>\n",
    "        \"\"\"\n",
    "\n",
    "        subprocess.run(['git', 'commit', '-m', commit_message], check=True)\n",
    "        print(\"   ✅ 提交完成\")\n",
    "\n",
    "    except subprocess.CalledProcessError as e:\n",
    "        print(f\"   ❌ 檔案提交失敗: {e}\")\n",
    "        return False\n",
    "    except Exception as e:\n",
    "        print(f\"   ❌ 檔案處理失敗: {e}\")\n",
    "        return False\n",
    "\n",
    "    # 步驟 6: 推送到 GitHub\n",
    "    print(\"\\n📋 步驟 4/4: 推送到 GitHub...\")\n",
    "\n",
    "    try:\n",
    "        # 獲取遠端 URL 並插入 token\n",
    "        remote_result = subprocess.run(['git', 'remote', 'get-url', 'origin'],\n",
    "                                      capture_output=True, text=True, check=True)\n",
    "        remote_url = remote_result.stdout.strip()\n",
    "\n",
    "        # 構造帶 token 的 URL\n",
    "        if remote_url.startswith('https://github.com/'):\n",
    "            # 提取倉庫路徑\n",
    "            repo_path = remote_url.replace('https://github.com/', '').replace('.git', '')\n",
    "            auth_url = f\"https://{token}@github.com/{repo_path}.git\"\n",
    "        else:\n",
    "            print(f\"   ⚠️ 遠端 URL 格式異常: {remote_url}\")\n",
    "            auth_url = remote_url\n",
    "\n",
    "        # 推送\n",
    "        push_result = subprocess.run([\n",
    "            'git', 'push', auth_url, 'main'\n",
    "        ], capture_output=True, text=True, timeout=300)\n",
    "\n",
    "        if push_result.returncode == 0:\n",
    "            print(\"   ✅ 推送成功！\")\n",
    "            print(f\"   📡 推送輸出: {push_result.stdout[:200]}...\")\n",
    "            return True\n",
    "        else:\n",
    "            print(f\"   ❌ 推送失敗: {push_result.stderr}\")\n",
    "            # 嘗試推送到其他分支\n",
    "            try:\n",
    "                alt_push = subprocess.run([\n",
    "                    'git', 'push', auth_url, 'HEAD:main'\n",
    "                ], capture_output=True, text=True, timeout=300)\n",
    "                if alt_push.returncode == 0:\n",
    "                    print(\"   ✅ 備用推送成功！\")\n",
    "                    return True\n",
    "            except:\n",
    "                pass\n",
    "            return False\n",
    "\n",
    "    except subprocess.TimeoutExpired:\n",
    "        print(\"   ❌ 推送超時，請檢查網路連接\")\n",
    "        return False\n",
    "    except Exception as e:\n",
    "        print(f\"   ❌ 推送失敗: {e}\")\n",
    "        return False\n",
    "\n",
    "    finally:\n",
    "        print(\"\\n\" + \"=\" * 60)\n",
    "        print(\"📋 新資料推論結果推送完成!\")\n",
    "        if IN_COLAB:\n",
    "            print(\"💡 如果遇到問題:\")\n",
    "            print(\"   1. 確保 token 有 'repo' 權限\")\n",
    "            print(\"   2. 確保你有目標倉庫的寫入權限\")\n",
    "            print(\"   3. 檢查倉庫 URL 是否正確\")\n",
    "\n",
    "# 呼叫函數（請在執行時提供 token）\n",
    "print(\"🔐 準備推送新資料推論結果...\")\n",
    "print(\"💡 執行方式: ultimate_push_to_github_04(token='你的GitHub_token')\")\n",
    "print(\"📝 或直接執行下方 cell 並在提示時輸入 token\")\n",
    "\n"
   ]
  },
  {
   "cell_type": "markdown",
   "id": "21cfe301",
   "metadata": {
    "papermill": {
     "duration": 0.007096,
     "end_time": "2025-09-29T23:46:15.284677",
     "exception": false,
     "start_time": "2025-09-29T23:46:15.277581",
     "status": "completed"
    },
    "tags": []
   },
   "source": [
    "---\n",
    "\n",
    "## 🚀 GitHub Push 終極解決方案\n",
    "\n",
    "將新資料推論結果推送到 GitHub 倉庫："
   ]
  }
 ],
 "metadata": {
  "kernelspec": {
   "display_name": "Python 3",
   "language": "python",
   "name": "python3"
  },
  "language_info": {
   "codemirror_mode": {
    "name": "ipython",
    "version": 3
   },
   "file_extension": ".py",
   "mimetype": "text/x-python",
   "name": "python",
   "nbconvert_exporter": "python",
   "pygments_lexer": "ipython3",
   "version": "3.13.5"
  },
  "papermill": {
   "default_parameters": {},
   "duration": 201.609628,
   "end_time": "2025-09-29T23:46:18.531176",
   "environment_variables": {},
   "exception": null,
   "input_path": "04_newdata_inference.ipynb",
   "output_path": "04_newdata_inference_executed.ipynb",
   "parameters": {},
   "start_time": "2025-09-29T23:42:56.921548",
   "version": "2.6.0"
  }
 },
 "nbformat": 4,
 "nbformat_minor": 5
}